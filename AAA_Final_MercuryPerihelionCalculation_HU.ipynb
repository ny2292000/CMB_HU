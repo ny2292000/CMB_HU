{
 "cells": [
  {
   "cell_type": "code",
   "execution_count": 12,
   "id": "6376ff04",
   "metadata": {
    "scrolled": true
   },
   "outputs": [
    {
     "name": "stdout",
     "output_type": "stream",
     "text": [
      "dr/dt= GM*e*k*sin(theta/sigma)/(h*sigma)\n",
      "dr/dtheta = e*h**2*k*sin(theta/sigma)/(GM*sigma*(e*k*cos(theta/sigma) + 1)**2)\n",
      "d^2r/dtheta^2 = 2*e**2*h**2*k**2*sin(theta/sigma)**2/(GM*sigma**2*(e*k*cos(theta/sigma) + 1)**3) + e*h**2*k*cos(theta/sigma)/(GM*sigma**2*(e*k*cos(theta/sigma) + 1)**2)\n",
      "domega/dtheta = -2*GM**2*e*k*(e*k*cos(theta/sigma) + 1)*sin(theta/sigma)/(h**3*sigma)\n",
      "d^2r/dt^2 = GM**3*e*k*(e*k*cos(theta/sigma) + 1)**2*cos(theta/sigma)/(h**4*sigma**2)\n",
      "d^2theta/dt^2 = -2*GM**4*e*k*(e*k*cos(theta/sigma) + 1)**3*sin(theta/sigma)/(h**6*sigma)\n"
     ]
    }
   ],
   "source": [
    "from sympy import symbols, cos, sin, diff, Function, simplify\n",
    "\n",
    "# Define symbols\n",
    "theta = symbols('theta')\n",
    "k, e, h, GM, sigma = symbols('k e h GM sigma')\n",
    "\n",
    "# Define r(theta)\n",
    "r = (h ** 2 / GM) / (1 + k * e * cos(theta / sigma))\n",
    "\n",
    "# Calculate dr/dtheta\n",
    "dr_dtheta = diff(r, theta)\n",
    "\n",
    "# Define omega(theta) = dtheta/dt\n",
    "omega = h / r**2\n",
    "\n",
    "# Calculate d^2r/dtheta^2\n",
    "d2r_dtheta2 = diff(dr_dtheta, theta)\n",
    "\n",
    "# Calculate domega/dtheta\n",
    "domega_dtheta = diff(omega, theta)\n",
    "\n",
    "dr_dt = diff(r,theta)*omega\n",
    "# Calculate d^2r/dt^2 using chain rule\n",
    "d2r_dt2 = simplify(d2r_dtheta2 * omega**2 + dr_dtheta * domega_dtheta * omega)\n",
    "\n",
    "# Calculate d^2theta/dt^2\n",
    "# Differentiate omega(theta)\n",
    "d2theta_dt2 = simplify(domega_dtheta * omega)\n",
    "\n",
    "# Display the results\n",
    "print(f\"dr/dt= {dr_dt}\")\n",
    "print(f\"dr/dtheta = {dr_dtheta}\")\n",
    "print(f\"d^2r/dtheta^2 = {d2r_dtheta2}\")\n",
    "print(f\"domega/dtheta = {domega_dtheta}\")\n",
    "print(f\"d^2r/dt^2 = {d2r_dt2}\")\n",
    "print(f\"d^2theta/dt^2 = {d2theta_dt2}\")\n"
   ]
  },
  {
   "cell_type": "code",
   "execution_count": 13,
   "id": "aa90ecd0-bfb3-4f2d-b5be-44f4227ed2d3",
   "metadata": {
    "tags": []
   },
   "outputs": [],
   "source": [
    "import numpy as np\n",
    "from scipy.optimize import minimize\n",
    "from scipy.integrate import quad\n",
    "import matplotlib.pyplot as plt\n",
    "from astropy import constants as cc, units as uu\n",
    "\n",
    "# Constants\n",
    "G = cc.G  # gravitational constant in m^3 kg^-1 s^-2\n",
    "M = cc.M_sun  # mass of the Sun in kg\n",
    "c = cc.c.si.value  # speed of light in m/s\n",
    "GM = (G*M).si.value  # gravitational parameter for the Sun in m^3/s^2\n",
    "\n",
    "# Constants for Mercury\n",
    "a_mercury = 57.909e9 * uu.m  # Semi-major axis of Mercury's orbit in meters\n",
    "e = e_mercury = 0.205630  # Eccentricity of Mercury's orbit\n",
    "# Specific angular momentum (h) for Mercury\n",
    "# h = sqrt(G * M * a * (1 - e^2))\n",
    "# h_mercury = ((cc.G * cc.M_sun * a_mercury * (1 - e_mercury**2))**0.5).decompose()\n",
    "# h = h_mercury.to(uu.m**2 / uu.s).value  # Convert to m^2/s for consistency with previous units used\n",
    "\n",
    "# Calculate specific angular momentum for Mercury\n",
    "h = (np.sqrt(GM * a_mercury * (1 - e**2))).si.value"
   ]
  },
  {
   "cell_type": "code",
   "execution_count": 21,
   "id": "3e3a9098-57b6-479c-b388-488e76527e9a",
   "metadata": {},
   "outputs": [
    {
     "name": "stdout",
     "output_type": "stream",
     "text": [
      "Optimized sigma: 1.000000086118687\n",
      "Optimized sigma: 0.20562995620278152\n",
      "HU Mercury Perihelion Precession Rate\n",
      "46.3244161209141\n"
     ]
    }
   ],
   "source": [
    "def r_derivatives(theta, h, e, GM, x):\n",
    "    sigma = x[0]\n",
    "    k = x[1]\n",
    "    # Expression for r, r_dot, and r_double_dot\n",
    "    r = (h ** 2 / GM) / (1 + k * e * np.cos(theta / sigma))\n",
    "    theta_dot = h / r ** 2\n",
    "    dr_dt= GM*e*np.sin(theta/sigma)/(h*sigma)\n",
    "    dr_dtheta = e*h**2*np.sin(theta/sigma)/(GM*sigma*(e*np.cos(theta/sigma) + 1)**2)\n",
    "    d2r_dtheta_2 = 2*e**2*h**2**2*np.sin(theta/sigma)**2/(GM*sigma**2*(e*np.cos(theta/sigma) + 1)**3) + e*h**2*np.cos(theta/sigma)/(GM*sigma**2*(e*np.cos(theta/sigma) + 1)**2)\n",
    "    domega_dtheta = -2*GM**2*e*(e*np.cos(theta/sigma) + 1)*np.sin(theta/sigma)/(h**3*sigma)\n",
    "    d2r_dt2 = GM**3*e*(e*np.cos(theta/sigma) + 1)**2*np.cos(theta/sigma)/(h**4*sigma**2)\n",
    "    d2theta_dt2 = -2*GM**4*e*(e*np.cos(theta/sigma) + 1)**3*np.sin(theta/sigma)/(h**6*sigma)\n",
    "    return r, dr_dt, d2r_dt2, theta_dot\n",
    "\n",
    "\n",
    "def newtonian_grav_accel(GM, r):\n",
    "    a_theoretical = -GM / r**2\n",
    "    return a_theoretical\n",
    "\n",
    "def new_grav_accel(GM, r, r_dot, theta_dot):\n",
    "    v = np.sqrt(r_dot**2 + r**2 * theta_dot**2)\n",
    "    gamma_v = 1 / np.sqrt(1 - v**2 / c**2)\n",
    "    B = (1 + (gamma_v - 1) * (r_dot / v)**2)\n",
    "    a_theoretical = -GM / gamma_v / r**2 / B\n",
    "    return a_theoretical\n",
    "\n",
    "def error_functionHU(x):\n",
    "    def integrand(theta):\n",
    "        r, r_dot, r_double_dot,theta_dot = r_derivatives(theta, h, e, GM, x)\n",
    "        a_theoretical = new_grav_accel(GM, r, r_dot, theta_dot)\n",
    "        a_numerical = r_double_dot - r * theta_dot ** 2  # Assuming r_double_dot is defined to calculate \\ddot{r}\n",
    "        return (a_theoretical - a_numerical)**2\n",
    "\n",
    "    sigma = x[0]\n",
    "    integral_error, _ = quad(integrand, 0, 2*np.pi/sigma, epsabs=1e-14, epsrel=1e-14)\n",
    "    return 100*integral_error\n",
    "\n",
    "def error_functionNewton(x):\n",
    "    def integrand(theta):\n",
    "        r, r_dot, r_double_dot,theta_dot = r_derivatives(theta, h, e, GM, x)\n",
    "        a_theoretical = newtonian_grav_accel(GM, r)\n",
    "        a_numerical = r_double_dot - r * theta_dot ** 2  # Assuming r_double_dot is defined to calculate \\ddot{r}\n",
    "        return (a_theoretical - a_numerical)**2\n",
    "\n",
    "    sigma = x[0]\n",
    "    integral_error, _ = quad(integrand, 0, 2*np.pi/sigma, epsabs=1e-14, epsrel=1e-14)\n",
    "    return 100*integral_error\n",
    "\n",
    "def calculatePrecession(errorf):\n",
    "    # Initial guess for sigma\n",
    "    initial_x = [0.9, 1.0]\n",
    "    result = minimize(errorf, initial_x, method='Nelder-Mead', tol=1E-14)\n",
    "    optimized_sigma = result.x[0]# The optimized value for sigma\n",
    "    optimized_eccentricity = result.x[1]*e\n",
    "    print(\"Optimized sigma:\", optimized_sigma)\n",
    "    print(\"Optimized sigma:\", optimized_eccentricity)\n",
    "    # Constants\n",
    "    orbital_period_days = 88  # Orbital period of Mercury in days\n",
    "    days_per_year = 365.25  # Average number of days per year, accounting for leap years\n",
    "    years_per_century = 100  # Number of years in a century\n",
    "\n",
    "\n",
    "    # Calculate the number of orbits Mercury completes in a century\n",
    "    orbits_per_century = (days_per_year / orbital_period_days) * years_per_century\n",
    "    # Calculate the precession per orbit in radians\n",
    "    precession_per_orbit_radians = 2 * np.pi * (optimized_sigma - 1)\n",
    "\n",
    "    # Convert precession per orbit to arcseconds\n",
    "    precession_per_orbit_arcseconds = np.degrees(precession_per_orbit_radians) * 3600\n",
    "\n",
    "    # Total precession in arcseconds per century\n",
    "    print(\"HU Mercury Perihelion Precession Rate\")\n",
    "    total_precession_arcseconds_per_century = precession_per_orbit_arcseconds * orbits_per_century\n",
    "    print(total_precession_arcseconds_per_century)\n",
    "\n",
    "    \n",
    "calculatePrecession(error_functionHU)"
   ]
  },
  {
   "cell_type": "code",
   "execution_count": 22,
   "id": "b5b3ed8e",
   "metadata": {},
   "outputs": [
    {
     "name": "stdout",
     "output_type": "stream",
     "text": [
      "Optimized sigma: 0.9999999999999998\n",
      "Optimized sigma: 0.2056299999999999\n",
      "HU Mercury Perihelion Precession Rate\n",
      "-1.194408208701506e-07\n"
     ]
    }
   ],
   "source": [
    "calculatePrecession(error_functionNewton)"
   ]
  },
  {
   "cell_type": "markdown",
   "id": "adf15311",
   "metadata": {},
   "source": [
    "# FRAME DRAGGING CONTRIBUTION FROM SUN"
   ]
  },
  {
   "cell_type": "code",
   "execution_count": 15,
   "id": "f05e7107-18a7-42ae-a226-8f3ffa84c32a",
   "metadata": {},
   "outputs": [
    {
     "name": "stdout",
     "output_type": "stream",
     "text": [
      "Lense-Thirring precession of Mercury's perihelion due to the Sun's rotation: 0.000000000135 arcseconds per century\n"
     ]
    }
   ],
   "source": [
    "import numpy as np\n",
    "\n",
    "def lense_thirring_precession(G, J, c, a, e):\n",
    "    \"\"\"\n",
    "    Calculate the Lense-Thirring precession for Mercury due to the Sun's rotation.\n",
    "\n",
    "    Parameters:\n",
    "    G (float): Gravitational constant (m^3 kg^-1 s^-2)\n",
    "    J (float): Angular momentum of the Sun (kg m^2 s^-1)\n",
    "    c (float): Speed of light (m/s)\n",
    "    a (float): Semi-major axis of Mercury's orbit (m)\n",
    "    e (float): Eccentricity of Mercury's orbit\n",
    "\n",
    "    Returns:\n",
    "    float: Lense-Thirring precession in arcseconds per century\n",
    "    \"\"\"\n",
    "    # Calculate the Lense-Thirring precession in radians per revolution\n",
    "    delta_phi_LT_rad = (2 * G * J) / (c**2 * a**3 * (1 - e**2)**(3/2))\n",
    "    \n",
    "    # Convert radians per revolution to arcseconds per revolution\n",
    "    delta_phi_LT_arcsec = delta_phi_LT_rad * (360 * 3600) / (2 * np.pi)\n",
    "    \n",
    "    # Convert arcseconds per revolution to arcseconds per century\n",
    "    # Mercury completes about 415 revolutions per century\n",
    "    revolutions_per_century = 415\n",
    "    delta_phi_LT_arcsec_per_century = delta_phi_LT_arcsec * revolutions_per_century\n",
    "    \n",
    "    return delta_phi_LT_arcsec_per_century\n",
    "\n",
    "# Constants\n",
    "G = 6.67430e-11  # gravitational constant in m^3 kg^-1 s^-2\n",
    "c = 299792458    # speed of light in m/s\n",
    "a = 57.91e9      # semi-major axis of Mercury's orbit in meters (57.91 million km)\n",
    "e = 0.205630     # eccentricity of Mercury's orbit\n",
    "\n",
    "# Angular momentum of the Sun, approximated as J = I * omega\n",
    "# I for the Sun (moment of inertia) ~ 0.070 (I/MR^2) * M * R^2\n",
    "# M = 1.989e30 kg (mass of the Sun), R = 696.34e6 m (radius of the Sun)\n",
    "# omega = 2.865e-6 rad/s (angular velocity of the Sun, 25-day period at the equator)\n",
    "M_sun = 1.989e30  # mass of the Sun in kg\n",
    "R_sun = 696.34e6  # radius of the Sun in meters\n",
    "omega_sun = 2.865e-6  # angular velocity of the Sun in rad/s\n",
    "I_sun = 0.070 * M_sun * R_sun**2  # moment of inertia of the Sun\n",
    "\n",
    "J_sun = I_sun * omega_sun  # angular momentum of the Sun\n",
    "\n",
    "# Calculate Lense-Thirring Precession\n",
    "delta_phi_LT = lense_thirring_precession(G, J_sun, c, a, e)\n",
    "print(f\"Lense-Thirring precession of Mercury's perihelion due to the Sun's rotation: {delta_phi_LT:.12f} arcseconds per century\")\n"
   ]
  },
  {
   "cell_type": "markdown",
   "id": "9ea6b5fb",
   "metadata": {},
   "source": [
    "# Black Hole"
   ]
  },
  {
   "cell_type": "code",
   "execution_count": 16,
   "id": "fc838f68",
   "metadata": {},
   "outputs": [
    {
     "name": "stdout",
     "output_type": "stream",
     "text": [
      "Lense-Thirring precession at Mercury's orbit due to a 1 billion solar mass black hole: 56.654090 rotations per year\n"
     ]
    }
   ],
   "source": [
    "import numpy as np\n",
    "\n",
    "# Constants\n",
    "G = 6.67430e-11  # gravitational constant, m^3 kg^-1 s^-2\n",
    "c = 299792458    # speed of light, m/s\n",
    "a = 57.91e9      # semi-major axis of Mercury's orbit, m\n",
    "e = 0.205630     # eccentricity of Mercury's orbit\n",
    "\n",
    "# Black hole parameters\n",
    "M_bh = 1e9 * 1.989e30  # mass of the black hole, kg (1 billion solar masses)\n",
    "R_s = 2 * G * M_bh / c**2  # Schwarzschild radius of the black hole, m\n",
    "\n",
    "# Estimating the black hole's angular velocity\n",
    "# Assuming it rotates once per its own 'day', which we'll assume is 1000 seconds for calculation\n",
    "# This is a purely hypothetical and illustrative assumption\n",
    "T_bh = 1000  # rotational period of the black hole, seconds\n",
    "omega_bh = 2 * np.pi / T_bh  # angular velocity, rad/s\n",
    "\n",
    "# Black hole's angular momentum (J = I * omega)\n",
    "# Using the simple formula for angular momentum of a rotating sphere, J = 2/5 M R^2 omega\n",
    "# This is not precise for black holes but gives us a ballpark figure for illustrative purposes\n",
    "I_bh = (2/5) * M_bh * R_s**2  # moment of inertia of the black hole\n",
    "J_bh = I_bh * omega_bh  # angular momentum of the black hole\n",
    "\n",
    "# Lense-Thirring Precession calculation\n",
    "delta_phi_LT_rad = (2 * G * J_bh) / (c**2 * a**3 * (1 - e**2)**(1.5))\n",
    "delta_phi_LT_sec = delta_phi_LT_rad * (360) / (2 * np.pi)  # convert radians to seconds\n",
    "delta_phi_LT_rotations = delta_phi_LT_rad /(2 * np.pi)  # convert radians to seconds\n",
    "\n",
    "delta_phi_LT_arcsec = delta_phi_LT_rad * (360 * 3600) / (2 * np.pi)  # convert radians to arcseconds\n",
    "revolutions_per_century = 415  # Mercury completes approximately 415 revolutions per century\n",
    "delta_phi_LT_arcsec_per_century = delta_phi_LT_arcsec * revolutions_per_century  # total precession per century\n",
    "\n",
    "print(f\"Lense-Thirring precession at Mercury's orbit due to a 1 billion solar mass black hole: {delta_phi_LT_rotations:.6f} rotations per year\")\n"
   ]
  },
  {
   "cell_type": "code",
   "execution_count": null,
   "id": "4da5d74b",
   "metadata": {},
   "outputs": [],
   "source": []
  },
  {
   "cell_type": "code",
   "execution_count": null,
   "id": "209fa931",
   "metadata": {},
   "outputs": [],
   "source": []
  }
 ],
 "metadata": {
  "kernelspec": {
   "display_name": "Python [conda env:Cosmos3020]",
   "language": "python",
   "name": "conda-env-Cosmos3020-py"
  },
  "language_info": {
   "codemirror_mode": {
    "name": "ipython",
    "version": 3
   },
   "file_extension": ".py",
   "mimetype": "text/x-python",
   "name": "python",
   "nbconvert_exporter": "python",
   "pygments_lexer": "ipython3",
   "version": "3.11.8"
  }
 },
 "nbformat": 4,
 "nbformat_minor": 5
}
