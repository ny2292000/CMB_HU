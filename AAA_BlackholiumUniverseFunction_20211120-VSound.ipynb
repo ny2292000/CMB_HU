{
 "cells": [
  {
   "cell_type": "markdown",
   "metadata": {},
   "source": [
    "\n",
    "\n",
    "<h1>The segment below is related to the Baryonic Acoustic Oscillations. I wanted to see how my theory would deal with that. This is work in progress</h1>\n",
    "\n",
    "<br>\n",
    "<br>"
   ]
  },
  {
   "cell_type": "markdown",
   "metadata": {},
   "source": [
    "Current Density is related to the speed of light by Energy Conservation:\n",
    "\n",
    "$$ \\rho=\\frac{c^2}{0.776 *G *2 \\pi^2R_0^2} $$"
   ]
  },
  {
   "cell_type": "markdown",
   "metadata": {},
   "source": [
    "# Calculation of the energy available for the Many-Bangs"
   ]
  },
  {
   "cell_type": "markdown",
   "metadata": {},
   "source": [
    "$$ volume(n, \\phi) = \\frac{ 2*\\pi^{(\\frac{n-1}{2})}*\\int_{0}^{\\pi}{sin(x)^{(n - 2)}dx}}{\\Gamma(\\frac{n-1}{2})}R^3 $$\n",
    "\n",
    "#  I will consider the volume of the Visible Universe only (1 radian as opposed to pi radians)"
   ]
  },
  {
   "cell_type": "markdown",
   "metadata": {},
   "source": [
    "$$ \\frac{{P\\left( {n,{\\text{ }}x} \\right)}}{{{n_0}{\\text{ }}{T_0}{\\text{ }}}}{\\text{ }} = {\\text{ }}\\frac{x}{{{T_0}}}\\left( {Mp +Me - Mn} \\right){\\left( {\\frac{n}{{{n_0}}}} \\right)^2} + \\frac{2}{5}[{x^{5/3}} + {\\text{ }}{(1 - x)^{5/3}}]{(\\frac{{2n}}{{{n_0}}})^{2/3}} - [(2\\alpha  - 4{\\alpha _L})x(1 - x){\\text{ }} + {\\alpha _L}]{\\left( {\\frac{n}{{{n_0}}}} \\right)^2} + {\\text{ }}\\gamma [(2\\eta  - 4{\\eta _L})x(1 - x){\\text{ }} + {\\eta _L}]{(\\frac{n}{{{n_0}}})^{\\gamma  + 1}} $$\n",
    "\n",
    "$$ \\frac{{\\varepsilon (n,x)}}{{{n T_0}}} = \\frac{1}{{{T_0}}}\\left( {Mn(1-x) + x(Mp+Me) } \\right)\\frac{n}{{{n_0}}} + \\frac{3}{5}[{x^{5/3}} + {\\text{ }}{(1 - x)^{5/3}}]{(\\frac{{2n}}{{{n_0}}})^{2/3}} - [(2\\alpha  - 4{\\alpha _L})x(1 - x){\\text{ }} + {\\alpha _L}]\\frac{n}{{{n_0}}} + {\\text{ }}[(2\\eta  - 4{\\eta _L})x(1 - x){\\text{ }} + {\\eta _L}]{(\\frac{n}{{{n_0}}})^\\gamma } $$\n",
    "\n",
    "\n",
    "\n",
    "$$ {T_0}{\\text{ }} = {\\text{ }}{\\left( {\\frac{{3{\\pi ^{\\text{2}}}{n_0}}}{2}} \\right)^{\\frac{2}{3}}}\\frac{{{\\hbar ^2}}}{{2m}} $$"
   ]
  },
  {
   "cell_type": "code",
   "execution_count": 1,
   "metadata": {},
   "outputs": [],
   "source": [
    "# !pip install git+https://github.com/scls19fr/pandas-helper-calc\n",
    "# values for y = n/n0\n",
    "# due to the velocity of sound\n",
    "import numpy as np\n",
    "y_vs = np.logspace(-3,3,100)\n",
    "# due to the decay of neutronium (proton fraction)\n",
    "y_protonfraction = np.logspace(-4,-8,100)\n",
    "# due to general pressure and density decay\n"
   ]
  },
  {
   "cell_type": "code",
   "execution_count": 2,
   "metadata": {
    "pycharm": {
     "is_executing": false
    }
   },
   "outputs": [],
   "source": [
    "%matplotlib inline\n",
    "# !pip install git+https://github.com/scls19fr/pandas-helper-calc\n",
    "import matplotlib.pyplot as plt\n",
    "import scipy as sp\n",
    "from scipy.fftpack import fft\n",
    "from parameters import *\n",
    "from astropy import constants as cc, units as uu\n",
    "from lib1 import *\n",
    "from lib2 import *\n",
    "pd.set_option('display.float_format', lambda x: '%.3e' % x)\n",
    "from PyAstronomy import *\n",
    "import itertools\n",
    "from kneed import KneeLocator\n",
    "from pandas.plotting._matplotlib.style import get_standard_colors\n",
    "# Processing Sound Speed on Neutronium.  Data from article was dependent upon energy density MeV/fm3 \n",
    "# as opposed to seconds.\n",
    "# https://arxiv.org/pdf/1303.4662.pdf\n",
    "\n",
    "# print(\"[\")\n",
    "# for xx in vssquared:\n",
    "#     y0=xx[0]*(uu.MeV/uu.fm**3)/mn/n0\n",
    "#     t,y,r=whatTimeRadius(y0)\n",
    "#     print(\"[\",t,\",\", np.sqrt(xx[1]),\"],\")\n",
    "# print(\"]\")\n",
    "today=4.428e+17\n",
    "defaultsize=[6,4]\n",
    "cols = 10\n",
    "colors = get_standard_colors(num_colors=cols)"
   ]
  },
  {
   "cell_type": "code",
   "execution_count": 3,
   "metadata": {},
   "outputs": [
    {
     "name": "stdout",
     "output_type": "stream",
     "text": [
      "6.361862935613103 4.715230561512334 1.1795526990793055 1.7839467697253235 2.493860421288052 71.64729172270036 0.43429495397 939.5654205203889 938.2720881604905 0.5109989499961642\n"
     ]
    }
   ],
   "source": [
    "K=236.0*uu.MeV\n",
    "B=16.0*uu.MeV\n",
    "L=50.0*uu.MeV\n",
    "S=32.0*uu.MeV\n",
    "MP= (cc.m_p*cc.c**2).to(\"MeV\")\n",
    "MN= (cc.m_n*cc.c**2).to(\"MeV\")\n",
    "ME= (cc.m_e*cc.c**2).to(\"MeV\")\n",
    "pi= np.pi\n",
    "numberofhydrogenpercell=1\n",
    "n0=0.43429495397/uu.fm**3*numberofhydrogenpercell\n",
    "hydrogenatom=cc.m_p+cc.m_e\n",
    "T0=((3*np.pi**2*n0/2)**(2/3)*cc.hbar**2/(2*cc.m_n)).to(\"MeV\")\n",
    "hydrogenatomwavelength = (cc.h/(hydrogenatom*cc.c)).si\n",
    "hydrogenatomwavelength, T0, K, B, L,S,MP, MN, ME\n",
    "x0 = ((((mn - mp) / cc.hbar / cc.c / (3 * np.pi ** 2 * 0.5 * n0) ** (1 / 3))).si) ** 3\n",
    "\n",
    "\n",
    "alpha = ( -2*(5*B*K - 3*(4*B - K)*T0)/(5*(9*B - K)*T0 + 3*T0**2)  ).value\n",
    "eta = ( -18/5*(25*B**2 + 10*B*T0 + T0**2)/(5*(9*B - K)*T0 + 3*T0**2) ).value\n",
    "gamma = ( 1/9*(5*K + 6*T0)/(5*B + T0) ).value\n",
    "alpha_L = ( 1/6*(3*T0*alpha - 3*T0*eta + 6*T0*eta_L - 6*S + 2*T0)/T0 ).value\n",
    "eta_L = ( 1/18*(9*T0*eta*gamma - 9*T0*alpha + 18*T0*alpha_L + 6*L - 4*T0)/(T0*gamma) ).value\n",
    "print(alpha, eta, gamma,eta_L,alpha_L, T0.value, n0.value, MN.value, MP.value, ME.value)"
   ]
  },
  {
   "cell_type": "code",
   "execution_count": 4,
   "metadata": {},
   "outputs": [],
   "source": [
    "# n0=0.16*d_units\n",
    "# gamma= 4/3  # 4/3 is actually the gamma of the gas phase\n",
    "# alpha= 5.87\n",
    "# eta=3.81\n",
    "# alpha_L= 1.2\n",
    "# eta_L= 0.65"
   ]
  },
  {
   "cell_type": "code",
   "execution_count": 5,
   "metadata": {},
   "outputs": [
    {
     "ename": "NameError",
     "evalue": "name 'vs_pd' is not defined",
     "output_type": "error",
     "traceback": [
      "\u001b[0;31m---------------------------------------------------------------------------\u001b[0m",
      "\u001b[0;31mNameError\u001b[0m                                 Traceback (most recent call last)",
      "\u001b[0;32m/tmp/ipykernel_64622/2682291821.py\u001b[0m in \u001b[0;36m<module>\u001b[0;34m\u001b[0m\n\u001b[0;32m----> 1\u001b[0;31m \u001b[0mmyU\u001b[0m\u001b[0;34m=\u001b[0m\u001b[0mUniverse\u001b[0m\u001b[0;34m(\u001b[0m\u001b[0meta\u001b[0m\u001b[0;34m,\u001b[0m \u001b[0malpha\u001b[0m\u001b[0;34m,\u001b[0m \u001b[0malpha_L\u001b[0m\u001b[0;34m,\u001b[0m \u001b[0meta_L\u001b[0m\u001b[0;34m,\u001b[0m \u001b[0mT0\u001b[0m\u001b[0;34m,\u001b[0m \u001b[0mgamma\u001b[0m\u001b[0;34m,\u001b[0m \u001b[0mn0\u001b[0m\u001b[0;34m,\u001b[0m\u001b[0mvs_pd\u001b[0m\u001b[0;34m)\u001b[0m\u001b[0;34m\u001b[0m\u001b[0;34m\u001b[0m\u001b[0m\n\u001b[0m\u001b[1;32m      2\u001b[0m \u001b[0mmyU\u001b[0m\u001b[0;34m.\u001b[0m\u001b[0mfind_k0\u001b[0m\u001b[0;34m(\u001b[0m\u001b[0;34m[\u001b[0m\u001b[0;36m2.26414986e+01\u001b[0m\u001b[0;34m,\u001b[0m \u001b[0;36m1.32226173e-02\u001b[0m\u001b[0;34m,\u001b[0m \u001b[0;36m1.55251641e-03\u001b[0m\u001b[0;34m]\u001b[0m\u001b[0;34m)\u001b[0m\u001b[0;34m\u001b[0m\u001b[0;34m\u001b[0m\u001b[0m\n\u001b[1;32m      3\u001b[0m \u001b[0mmyU\u001b[0m\u001b[0;34m.\u001b[0m\u001b[0mgetEnergyPressure\u001b[0m\u001b[0;34m(\u001b[0m\u001b[0;34m)\u001b[0m\u001b[0;34m\u001b[0m\u001b[0;34m\u001b[0m\u001b[0m\n\u001b[1;32m      4\u001b[0m \u001b[0mmyU\u001b[0m\u001b[0;34m.\u001b[0m\u001b[0mdf\u001b[0m\u001b[0;34m[\u001b[0m\u001b[0;34m\"TemperatureDensity\"\u001b[0m\u001b[0;34m]\u001b[0m\u001b[0;34m=\u001b[0m \u001b[0mmyU\u001b[0m\u001b[0;34m.\u001b[0m\u001b[0mdf\u001b[0m\u001b[0;34m.\u001b[0m\u001b[0mTemperature\u001b[0m\u001b[0;34m*\u001b[0m\u001b[0mmyU\u001b[0m\u001b[0;34m.\u001b[0m\u001b[0mdf\u001b[0m\u001b[0;34m.\u001b[0m\u001b[0mDensity\u001b[0m\u001b[0;34m\u001b[0m\u001b[0;34m\u001b[0m\u001b[0m\n",
      "\u001b[0;31mNameError\u001b[0m: name 'vs_pd' is not defined"
     ]
    }
   ],
   "source": [
    "myU=Universe(eta, alpha, alpha_L, eta_L, T0, gamma, n0,vs_pd)\n",
    "myU.find_k0([2.26414986e+01, 1.32226173e-02, 1.55251641e-03])\n",
    "myU.getEnergyPressure()\n",
    "myU.df[\"TemperatureDensity\"]= myU.df.Temperature*myU.df.Density"
   ]
  },
  {
   "cell_type": "code",
   "execution_count": null,
   "metadata": {},
   "outputs": [],
   "source": [
    "# Find Gamma Consistent with TransparencyTime, z, densityAtTransparency\n",
    "gammaT, z, TransparencyRadius, TransparencyTime, densityAtTransparency, T_at_Transparency=findGammaT(0.5)"
   ]
  },
  {
   "cell_type": "code",
   "execution_count": null,
   "metadata": {
    "pycharm": {
     "is_executing": false
    }
   },
   "outputs": [],
   "source": [
    "myU.createReport(cosmologicalangle=2, filename=\"./ObservableUniverse.xls\")"
   ]
  },
  {
   "cell_type": "code",
   "execution_count": null,
   "metadata": {},
   "outputs": [],
   "source": [
    "myU.createReport(cosmologicalangle=2*np.pi, filename=\"./HypersphericalUniverse.xls\")"
   ]
  },
  {
   "cell_type": "markdown",
   "metadata": {},
   "source": [
    "# PLOTS"
   ]
  },
  {
   "cell_type": "code",
   "execution_count": null,
   "metadata": {},
   "outputs": [],
   "source": [
    "# Plot 1\n",
    "tmin=1E0\n",
    "tmax=today\n",
    "dmin = 1E-27\n",
    "dmax = 1E20\n",
    "\n",
    "colors = get_standard_colors(num_colors=10)\n",
    "\n",
    "plt.rcParams['figure.figsize'] = defaultsize\n",
    "plt.rcParams['figure.figsize'] = defaultsize\n",
    "plt.rcParams['figure.dpi'] = 80\n",
    "plt.rcParams['savefig.dpi'] = 300\n",
    "plt.rcParams['font.size'] = 14\n",
    "plt.rcParams['legend.fontsize'] = 'medium'\n",
    "plt.rcParams['figure.titlesize'] = 'medium'\n",
    "\n",
    "t_post_bigbang=myU.y_Seq.loc[\"densityPostBigBang\",\"t\"]\n",
    "trans=myU.df\n",
    "x=trans.t\n",
    "y=[myU.getgamma(x)  for x in trans.Density]\n",
    "data = zip(x,y)\n",
    "myd=pd.DataFrame(data, columns=[\"t\",\"Gamma\"])\n",
    "\n",
    "ax=myd.plot(x=\"t\",y=\"Gamma\", logx=True)\n",
    "ax.set_title(\"Universe Adiabatic Gamma\")\n",
    "ax.set_xlabel(\"Time(s)\")\n",
    "ax.set_ylabel(\"Gamma\")\n",
    "ax.set_xlim(None,today)\n",
    "\n",
    "##########################################################\n",
    "# x coordinates for the lines\n",
    "x_Seq=myU.y_Seq.iloc[1:-1:]\n",
    "xcoords = x_Seq.t\n",
    "xnames = [x.replace(\"density\",\"\").replace(\"At\",\"\") for x in x_Seq.index]\n",
    "# colors for the lines\n",
    "for xc,c, name in zip(xcoords,colors, xnames):\n",
    "    if tmin<=xc:\n",
    "        ax.axvline(x=xc, label=name, c=c)\n",
    "lgd=ax.legend(loc='center left', bbox_to_anchor=(1, 0.5))\n",
    "##########################################################\n",
    "\n",
    "\n",
    "plt.savefig(imgAddress + \"GammaProfile.png\", bbox_extra_artists=(lgd,), bbox_inches='tight')"
   ]
  },
  {
   "cell_type": "code",
   "execution_count": null,
   "metadata": {},
   "outputs": [],
   "source": [
    "# Plot 7\n",
    "spacing=.4\n",
    "cols=['Energy','TemperatureDensity', 'Proton_Fraction']\n",
    "data =myU.df.copy()\n",
    "data.index = data.t\n",
    "\n",
    "\n",
    "# First axis\n",
    "ax = data.loc[:, cols[0]].plot(label=cols[0], color=colors[0],logx=True, logy=True )\n",
    "ax.set_ylabel(ylabel=cols[0])\n",
    "ax.set_ylim(0,1200)\n",
    "ax.set_xlim(tmin,tmax)\n",
    "lines, labels = ax.get_legend_handles_labels()\n",
    "\n",
    "for xc,c, name in zip(xcoords,colors, xnames):\n",
    "    if (tmin <= xc):\n",
    "        ax.axvline(x=xc, label=name, c=c)\n",
    "\n",
    "\n",
    "\n",
    "for n in range(1, len(cols)):\n",
    "    # Multiple y-axes\n",
    "    ax_new = ax.twinx()\n",
    "    ax_new.spines['right'].set_position(('axes', 1 + spacing * (n - 1)))\n",
    "    data.loc[:, cols[n]].plot(ax=ax_new, label=cols[n], color=colors[n % len(colors)], logx=True, logy=True)\n",
    "    ax_new.set_ylabel(ylabel=cols[n], rotation=270, labelpad=15)\n",
    "\n",
    "    # Proper legend position\n",
    "    line, label = ax_new.get_legend_handles_labels()\n",
    "    lines += line\n",
    "    labels += label\n",
    "\n",
    "ax.set_ylabel(\"Energy ($MeV/fm^3$)\")\n",
    "ax.set_xlabel(\"Time (s)\")    \n",
    "    \n",
    "# ax.legend(lines, labels, loc=4)\n",
    "lgd=ax.legend(loc='center left', bbox_to_anchor=(1.6, 0.5))\n",
    "\n",
    "for tl in ax.get_yticklabels():\n",
    "    tl.set_color('m')"
   ]
  },
  {
   "cell_type": "code",
   "execution_count": null,
   "metadata": {
    "pycharm": {
     "is_executing": false
    }
   },
   "outputs": [],
   "source": [
    "# Plot 8\n",
    "\n",
    "ax=myU.df.plot(x=\"t\", y=\"Energy\", logx=True, logy=True)\n",
    "ax.set_xlim(1E-4,today)\n",
    "# ax.set_ylim(None,1E6)\n",
    "ax.set_title(\"Big Bang Energy Profile\")\n",
    "ax.set_xlabel(\"Time(s)\")\n",
    "ax.set_ylabel(\"Energy ($MeV/fm^3$)\")\n",
    "\n",
    "\n",
    "ax1=plt.twinx(ax)\n",
    "myU.df.plot(x=\"t\", y=\"Density\", ax=ax1, color=\"r\",logx=True, logy=True, legend=False)\n",
    "ax1.set_ylabel(\"Density ($kg/m^3$)\", rotation=270, labelpad=20)\n",
    "ax.axvline(label=\"Density\", c=\"r\")\n",
    "##########################################################\n",
    "# x coordinates for the lines\n",
    "x_Seq=myU.y_Seq.iloc[1:-1:]\n",
    "xcoords = x_Seq.t\n",
    "xnames = [x.replace(\"density\",\"\").replace(\"At\",\"\") for x in x_Seq.index]\n",
    "# colors for the lines\n",
    "\n",
    "for xc,c, name in zip(xcoords,colors, xnames):\n",
    "    ax.axvline(x=xc, label=name, c=c)\n",
    "lgd=ax.legend(loc='center left', bbox_to_anchor=(1.2, 0.5))\n",
    "##########################################################\n",
    "\n",
    "\n",
    "plt.grid(True)\n",
    "plt.savefig(imgAddress + \"EnergyProfile.png\", bbox_extra_artists=(lgd,), bbox_inches='tight')"
   ]
  },
  {
   "cell_type": "code",
   "execution_count": null,
   "metadata": {},
   "outputs": [],
   "source": [
    "def plot_multi(data, cols=None, spacing=.1, **kwargs):\n",
    "\n",
    "    from pandas.plotting._matplotlib.style import get_standard_colors\n",
    "\n",
    "    # Get default color style from pandas - can be changed to any other color list\n",
    "    if cols is None: cols = data.columns\n",
    "    if len(cols) == 0: return\n",
    "    colors = get_standard_colors(num_colors=len(cols))\n",
    "\n",
    "    # First axis\n",
    "    ax = data.loc[:, cols[0]].plot(label=cols[0], color=colors[0], **kwargs)\n",
    "    ax.set_ylabel(ylabel=cols[0])\n",
    "    lines, labels = ax.get_legend_handles_labels()\n",
    "\n",
    "    for n in range(1, len(cols)):\n",
    "        # Multiple y-axes\n",
    "        ax_new = ax.twinx()\n",
    "        ax_new.spines['right'].set_position(('axes', 1 + spacing * (n - 1)))\n",
    "        data.loc[:, cols[n]].plot(ax=ax_new, label=cols[n], color=colors[n % len(colors)], **kwargs)\n",
    "        ax_new.set_ylabel(ylabel=cols[n])\n",
    "        \n",
    "        # Proper legend position\n",
    "        line, label = ax_new.get_legend_handles_labels()\n",
    "        lines += line\n",
    "        labels += label\n",
    "\n",
    "    ax.legend(lines, labels, loc=0)\n",
    "    return ax\n"
   ]
  },
  {
   "cell_type": "code",
   "execution_count": null,
   "metadata": {},
   "outputs": [],
   "source": [
    "from astropy import constants, units\n",
    "\n",
    "\n",
    "\n",
    "mp=(cc.m_p*cc.c**2).to(\"MeV\")\n",
    "mn=(cc.m_n*cc.c**2).to(\"MeV\")\n",
    "me=(cc.m_e*cc.c**2).to(\"MeV\")\n",
    "m_neutrino=0.086E-6*uu.MeV\n",
    "m_hydrogen=cc.m_p+cc.m_e\n",
    "deBroglieLambda= (cc.h/(m_hydrogen*cc.c)).si\n",
    "\n",
    "dneutron=cc.m_n/(2*deBroglieLambda)**3\n",
    "dneutronMev_fm3=(dneutron*cc.c**2).to('MeV/fm**3')"
   ]
  },
  {
   "cell_type": "code",
   "execution_count": null,
   "metadata": {
    "pycharm": {
     "is_executing": false
    }
   },
   "outputs": [],
   "source": [
    "plt.rcParams['figure.figsize'] = defaultsize\n",
    "plt.rcParams['figure.dpi'] = 80\n",
    "plt.rcParams['savefig.dpi'] = 300\n",
    "plt.rcParams['font.size'] = 14\n",
    "plt.rcParams['legend.fontsize'] = 'medium'\n",
    "plt.rcParams['figure.titlesize'] = 'medium'\n",
    "\n",
    "ax=myU.df.plot(x=\"t\", y=\"Pressure\", logx=True, logy=True)\n",
    "ax.set_xlim(1E-2,today)\n",
    "ax.set_ylim(None,1E41)\n",
    "ax.set_title(\"Big Bang Pressure Profile\")\n",
    "ax.set_xlabel(\"Time(s)\")\n",
    "ax.set_ylabel(\"Pressure (N/m2)\")\n",
    "ax1=plt.twinx(ax)\n",
    "\n",
    "\n",
    "##########################################################\n",
    "# x coordinates for the lines\n",
    "x_Seq=myU.y_Seq.iloc[1:-1:]\n",
    "xcoords = x_Seq.t\n",
    "xnames = [x.replace(\"density\",\"\").replace(\"At\",\"\") for x in x_Seq.index]\n",
    "# colors for the lines\n",
    "ax.axvline(label=\"Density\", c=\"r\")\n",
    "for xc,c, name in zip(xcoords,colors, xnames):\n",
    "    ax.axvline(x=xc, label=name, c=c)\n",
    "lgd=ax.legend(loc='center left', bbox_to_anchor=(1.20, 0.5))\n",
    "##########################################################\n",
    "\n",
    "    \n",
    "myU.df.plot(x=\"t\", y=\"Density\", logx=True, logy=True, ax=ax1, color=\"r\", legend=False)\n",
    "\n",
    "ax1.set_ylabel(\"Density (Kg/m3)\",color=\"r\")\n",
    "\n",
    "# colors for the lines\n",
    "ax1.set_ylabel(\"Density (Kg/m3)\", rotation=270,labelpad=15)\n",
    "for tl in ax1.get_yticklabels():\n",
    "    tl.set_color('r')\n",
    "plt.grid(axis='y')\n",
    "plt.savefig(imgAddress + \"PressureProfile.png\", bbox_extra_artists=(lgd,), bbox_inches='tight')"
   ]
  },
  {
   "cell_type": "code",
   "execution_count": null,
   "metadata": {
    "pycharm": {
     "is_executing": false
    }
   },
   "outputs": [],
   "source": [
    "plt.rcParams['figure.figsize'] = defaultsize\n",
    "plt.rcParams['figure.dpi'] = 80\n",
    "plt.rcParams['savefig.dpi'] = 300\n",
    "plt.rcParams['font.size'] = 14\n",
    "plt.rcParams['legend.fontsize'] = 'medium'\n",
    "plt.rcParams['figure.titlesize'] = 'medium'\n",
    "\n",
    "ax=myU.df.plot(x=\"t\", y=\"Energy\", logx=True, logy=True)\n",
    "ax.set_xlim(1E-4,1E16)\n",
    "ax.set_ylim(None,1.2E3)\n",
    "ax.set_title(\"Big Bang Energy Profile\")\n",
    "ax.set_xlabel(\"Time(s)\")\n",
    "ax.set_ylabel(\"Energy ($MeV/fm^3$)\")\n",
    "\n",
    "ax1=plt.twinx(ax)\n",
    "myU.df.plot(x=\"t\", y=\"Density\", logx=True, logy=True, ax=ax1, color=\"r\",legend=False)\n",
    "\n",
    "# colors for the lines\n",
    "ax1.set_ylabel(\"Density (Kg/m3)\", color=\"r\", rotation=270,labelpad=15)\n",
    "##########################################################\n",
    "# x coordinates for the lines\n",
    "x_Seq=myU.y_Seq.iloc[1:-1:]\n",
    "xcoords = x_Seq.t\n",
    "xnames = [x.replace(\"density\",\"\").replace(\"At\",\"\") for x in x_Seq.index]\n",
    "# colors for the lines\n",
    "ax.axvline(label=\"Density\", c=\"r\")\n",
    "for xc,c, name in zip(xcoords,colors, xnames):\n",
    "    ax.axvline(x=xc, label=name, c=c)\n",
    "lgd=ax.legend(loc='center left', bbox_to_anchor=(1.25, 0.5))\n",
    "##########################################################\n",
    "\n",
    "\n",
    "plt.savefig(imgAddress + \"UniverseEnergyProfile.png\", bbox_extra_artists=(lgd,), bbox_inches='tight')"
   ]
  },
  {
   "cell_type": "code",
   "execution_count": null,
   "metadata": {
    "pycharm": {
     "is_executing": false
    }
   },
   "outputs": [],
   "source": [
    "plt.rcParams['figure.figsize'] = defaultsize\n",
    "plt.rcParams['figure.dpi'] = 80\n",
    "plt.rcParams['savefig.dpi'] = 300\n",
    "plt.rcParams['font.size'] = 14\n",
    "plt.rcParams['legend.fontsize'] = 'medium'\n",
    "plt.rcParams['figure.titlesize'] = 'medium'\n",
    "\n",
    "\n",
    "ax=myU.df.plot(x=\"t\", y= \"VSound\",logx=True, color=\"b\", legend=False)\n",
    "\n",
    "ax.set_xlim(1E2,1E6)\n",
    "ax.set_ylim(0,1.1)\n",
    "\n",
    "ax.set_xlabel(\"Time (seconds)\")\n",
    "ax.set_ylabel(\"Sound_Velocity (Vs/c)\")\n",
    "ax.grid(True)\n",
    "\n",
    "\n",
    "\n",
    "##########################################################\n",
    "# x coordinates for the lines\n",
    "x_Seq=myU.y_Seq.iloc[1:-1:]\n",
    "xcoords = x_Seq.t\n",
    "xnames = [x.replace(\"density\",\"\").replace(\"At\",\"\") for x in x_Seq.index]\n",
    "# colors for the lines\n",
    "ax.axvline(label=\"Proton_Fraction\", c=\"r\")\n",
    "for xc,c, name in zip(xcoords[0:5],colors[0:5], xnames[0:5]):\n",
    "    ax.axvline(x=xc, label=name, c=c)\n",
    "lgd=ax.legend(loc='center left', bbox_to_anchor=(1.15, 0.5))\n",
    "##########################################################\n",
    "\n",
    "\n",
    "\n",
    "ax2=plt.twinx(ax)    \n",
    "myU.df.plot(x=\"t\", y=\"Proton_Fraction\", ax=ax2,logx=True, color=\"r\", legend=False)\n",
    "ax2.set_ylim(0,1.1)\n",
    "ax2.set_ylabel(\"Proton_Fraction\",color=\"r\", rotation=270, labelpad=15)\n",
    "ax2.set_xlim(1E2,1E6)\n",
    "\n",
    "for tl in ax2.get_yticklabels():\n",
    "    tl.set_color('r')\n",
    "\n",
    "\n",
    "plt.savefig(imgAddress + \"NeutroniumSpeedOfSoundVersusDecay.png\", bbox_extra_artists=(lgd,), bbox_inches='tight')\n"
   ]
  },
  {
   "cell_type": "code",
   "execution_count": null,
   "metadata": {
    "pycharm": {
     "is_executing": false
    }
   },
   "outputs": [],
   "source": [
    "plt.rcParams['figure.figsize'] = defaultsize\n",
    "plt.rcParams['figure.dpi'] = 80\n",
    "plt.rcParams['savefig.dpi'] = 300\n",
    "plt.rcParams['font.size'] = 14\n",
    "plt.rcParams['legend.fontsize'] = 'medium'\n",
    "plt.rcParams['figure.titlesize'] = 'medium'\n",
    "\n",
    "\n",
    "ax=myU.df.plot(x=\"t\", y= \"VSound\",logx=True, color=\"b\")\n",
    "\n",
    "ax.set_xlim(1E0,1E4)\n",
    "ax.set_ylim(0,1.1)\n",
    "\n",
    "ax.set_xlabel(\"Time (seconds)\")\n",
    "ax.set_ylabel(\"Sound_Velocity (Vs/c)\")\n",
    "ax.legend(loc=\"center\")\n",
    "\n",
    "\n",
    "##########################################################\n",
    "# x coordinates for the lines\n",
    "x_Seq=myU.y_Seq.iloc[1:-1:]\n",
    "xcoords = x_Seq.t\n",
    "xnames = [x.replace(\"density\",\"\").replace(\"At\",\"\") for x in x_Seq.index]\n",
    "# colors for the lines\n",
    "ax.axvline(label=\"Density\", c=\"r\")\n",
    "for xc,c, name in zip(xcoords[0:3],colors[0:3], xnames[0:3]):\n",
    "    ax.axvline(x=xc, label=name, c=c)\n",
    "lgd=ax.legend(loc='center left', bbox_to_anchor=(1.2, 0.5))\n",
    "##########################################################\n",
    "\n",
    "ax2=plt.twinx(ax)    \n",
    "myU.df[\"n*n0\"]= [(x*n0).to(\"1/fm**3\").value for x in myU.df.y]\n",
    "myU.df.plot(x=\"t\", y=\"n*n0\", ax=ax2,logx=True,logy=False, color=\"r\", legend=False)\n",
    "ax2.set_ylim(0,1.5)\n",
    "ax2.set_ylabel(\"Density ($neutrons/fm^3$)\",color=\"r\", rotation=270, labelpad=25)\n",
    "ax2.set_xlim(1E0,1E4)\n",
    "\n",
    "for tl in ax2.get_yticklabels():\n",
    "    tl.set_color('r')\n",
    "\n",
    "plt.savefig(imgAddress + \"NeutroniumSpeedOfSound.png\", bbox_extra_artists=(lgd,), bbox_inches='tight')"
   ]
  },
  {
   "cell_type": "markdown",
   "metadata": {},
   "source": [
    "# Creation of CMB Spherical Distribution"
   ]
  },
  {
   "cell_type": "markdown",
   "metadata": {},
   "source": [
    "$$ z=cos(\\phi) $$\n",
    "$$ y=sin(\\phi)sin(\\theta)  $$\n",
    "$$ x=sin(\\phi)cos(\\theta)  $$"
   ]
  },
  {
   "cell_type": "code",
   "execution_count": null,
   "metadata": {},
   "outputs": [],
   "source": [
    "x0=myU.x_Seq.loc[\"Neutronium\",\"Time (s)\"]\n",
    "x1=myU.x_Seq.loc[\"PreFreezing\",\"Time (s)\"]\n",
    "x2=myU.x_Seq.loc[\"Freezing\",\"Time (s)\"]\n",
    "xSound=myU.xSound\n",
    "phase0=PhaseVS(x0,x2,myU.xSound)\n",
    "print(phase0, 2*np.pi/phase0)"
   ]
  },
  {
   "cell_type": "code",
   "execution_count": null,
   "metadata": {},
   "outputs": [],
   "source": [
    "# Locating PreBang and PostBang times, densities\n",
    "\n",
    "data = myU.df.copy()\n",
    "data.index = data.t\n",
    "# x = data.y.values\n",
    "# y =  myU.df.Proton_Fraction.values\n",
    "df = findprotonfraction(eta, alpha, alpha_L, eta_L, T0, gammaT, n0)\n",
    "df.index = np.arange(len(df))\n",
    "ax = df.plot(x=\"y\", y=\"x\", logx=True, title=\"Proton Fraction\", legend=False)\n",
    "ax.set_xlabel('Density $\\\\frac{1}{fm^3}$')\n",
    "ax.set_ylabel('Proton Fraction')\n",
    "ax.set_ylim(0,1)"
   ]
  },
  {
   "cell_type": "code",
   "execution_count": null,
   "metadata": {},
   "outputs": [],
   "source": []
  },
  {
   "cell_type": "code",
   "execution_count": null,
   "metadata": {},
   "outputs": [],
   "source": []
  },
  {
   "cell_type": "code",
   "execution_count": null,
   "metadata": {},
   "outputs": [],
   "source": [
    "x = df.x\n",
    "y = df.y\n",
    "\n",
    "idx = []\n",
    "prior_slope = float(y[1] - y[0]) / (x[1] - x[0])\n",
    "for n in range(2, len(x)):  # Start from 3rd pair of points.\n",
    "    slope = float(y[n] - y[n - 1]) / (x[n] - x[n - 1])\n",
    "    if np.abs(slope-prior_slope) > 0.0000001:\n",
    "        idx.append(n)\n",
    "    prior_slope = slope\n",
    "\n",
    "a=idx[0]-1\n",
    "b=idx[1]\n",
    "\n",
    "import matplotlib.pyplot as plt\n",
    "fig,ax = plt.subplots(1)\n",
    "\n",
    "ax.set_ylim([0,1])\n",
    "ax.set_xlim([x[a],x[b]])\n",
    "ax.plot(x[a:b],y[a:b])\n",
    "ax.set_ylabel(\"Proton Fraction\")\n",
    "ax.set_xlabel(\"Time (s)\")\n",
    "plt.show()\n",
    "print(\"Beginning Density {:e}, Ending Density {:e} in 1/fm**3\".format(x[a],x[b]) )\n",
    "# Numbers in Hours : Beginning time 119, Ending Time 181, Duration 62 in hours\n",
    "# print(\"Beginning time {:e}, Ending Time {:e}, Duration {:e} in hours\".format(int(x[a]/3600),int(x[b]/3600), int((x[b]-x[a])/3600)))\n",
    "print(len(idx))"
   ]
  },
  {
   "cell_type": "markdown",
   "metadata": {},
   "source": [
    "# Locating PreFreezing and PostFreezomg times, densities\n",
    "\n"
   ]
  },
  {
   "cell_type": "code",
   "execution_count": null,
   "metadata": {},
   "outputs": [],
   "source": [
    "def plotvs(vs_function, title):\n",
    "    import matplotlib.pyplot as plt\n",
    "    x = np.logspace(-5,5,1000)\n",
    "    y = np.array([vs(xx,vs_function()).n() for xx in x])\n",
    "    y = y/y[-1]/3\n",
    "    x = np.array( [xx*939.5654205203889 for xx in x])\n",
    "    fig, ax = plt.subplots()\n",
    "    plt.figure(figsize=(17,9))\n",
    "    ax.plot(x,y)\n",
    "    ax.set_title(\"$V_s^2$ X Density\")\n",
    "    ax.set_ylabel(\"$V_s^2$\")\n",
    "    ax.set_xlabel('Density $MeV/fm^3$')\n",
    "    ax.set_title(str(title))\n",
    "    ax.set_xlim(1E0,1e6)\n",
    "    ax.set_ylim(0,np.max(y))\n",
    "    ax.set_xscale('log')\n",
    "    # ax.set_yscale('log')\n",
    "    plt.show()"
   ]
  },
  {
   "cell_type": "code",
   "execution_count": null,
   "metadata": {},
   "outputs": [],
   "source": [
    "df.plot(x=\"y\", y=\"x\", logx=True)"
   ]
  },
  {
   "cell_type": "code",
   "execution_count": null,
   "metadata": {},
   "outputs": [],
   "source": [
    "# alpha = 6.361862935613103\n",
    "# eta = 4.715230561512334\n",
    "# gamma = 1.1795526990793055\n",
    "# eta_L = 1.7218097292135377\n",
    "# alpha_L = 2.420566507439575\n",
    "# T0 = 71.64729172270036*40* uu.MeV\n",
    "# n0 = 0.43429495397* 1/uu.fm**3\n",
    "# MN = 939.5654205203889 * uu.MeV\n",
    "# MP = 938.2720881604905 * uu.MeV\n",
    "# ME = 0.510998 * uu.MeV"
   ]
  },
  {
   "cell_type": "code",
   "execution_count": null,
   "metadata": {},
   "outputs": [],
   "source": [
    "def vs(y,x):\n",
    "    return 1/3*((15*(2*(eta - 2*eta_L)*(x - 1)*x - eta_L)*T0*(gamma - 1)*gamma*y**(gamma - 2)/n0 + 2*2**(2/3)*(x**(5/3) + (-x + 1)**(5/3))*T0/(n0*y**(4/3)))*n0**2*y**2 + 6*(5*(2*(eta - 2*eta_L)*(x - 1)*x - eta_L)*T0*gamma*y**(gamma - 1)/n0 - 2*2**(2/3)*(x**(5/3) + (-x + 1)**(5/3))*T0/(n0*y**(1/3)) - 5*(2*(alpha - 2*alpha_L)*(x - 1)*x - alpha_L)*T0/n0)*n0**2*y)/((5*(2*(eta - 2*eta_L)*(x - 1)*x - eta_L)*T0*gamma*y**(gamma - 1) - 2*2**(2/3)*(x**(5/3) + (-x + 1)**(5/3))*T0/y**(1/3) - 5*(2*(alpha - 2*alpha_L)*(x - 1)*x - alpha_L)*T0)*n0*y - (3*2**(2/3)*(x**(5/3) + (-x + 1)**(5/3))*T0*y**(2/3) + 5*(2*(alpha - 2*alpha_L)*(x - 1)*x - alpha_L)*T0*y - 5*(2*(eta - 2*eta_L)*(x - 1)*x - eta_L)*T0*y**gamma - 5*MN*(x - 1) + 5*(ME + MP)*x)*n0)\n",
    "\n",
    "\n",
    "vs(1e1,0)"
   ]
  },
  {
   "cell_type": "code",
   "execution_count": null,
   "metadata": {},
   "outputs": [],
   "source": [
    "xbar=0.01\n",
    "\n",
    "x = np.logspace(-3,5,10000)\n",
    "y = vs(x,xbar)\n",
    "y = y/y[-1]/3\n",
    "x = np.array( [xx*939.5654205203889 for xx in x])\n",
    "fig, ax = plt.subplots()\n",
    "plt.figure(figsize=(17,9))\n",
    "ax.plot(x,y)\n",
    "ax.set_title(\"Sound Velocity Variance\")\n",
    "ax.set_ylabel(\"$V_s^2$\")\n",
    "ax.set_xlabel('Density $MeV/fm^3$')\n",
    "ax.set_xlim(1E2,1e6)\n",
    "ax.set_ylim(0,np.max(y))\n",
    "ax.set_xscale('log')\n",
    "plt.show()"
   ]
  },
  {
   "cell_type": "code",
   "execution_count": null,
   "metadata": {},
   "outputs": [],
   "source": [
    "x = np.logspace(-3,3,100)\n",
    "y = vs(x,xbar)\n",
    "# y = y/y[-1]/3\n",
    "y = y/y.max()/3\n",
    "fig, ax = plt.subplots()\n",
    "plt.figure(figsize=(17,9))\n",
    "ax.plot(x,y)\n",
    "ax.set_title(\"Sound Velocity Variance\")\n",
    "ax.set_ylabel(\"$V_s^2$\")\n",
    "ax.set_xlabel('Density $Neutron/fm^3$')\n",
    "ax.set_xlim(1E-1,1E3)\n",
    "ax.set_ylim(0,np.max(y))\n",
    "ax.set_xscale('log')\n",
    "plt.show()"
   ]
  },
  {
   "cell_type": "code",
   "execution_count": null,
   "metadata": {},
   "outputs": [],
   "source": [
    "# From the plot one can define the pre-freezing at density = 200 "
   ]
  },
  {
   "cell_type": "code",
   "execution_count": null,
   "metadata": {},
   "outputs": [],
   "source": [
    "idx = []\n",
    "xxx= np.log(x)\n",
    "yyy=y\n",
    "prior_slope = float((yyy[1] - yyy[0]) /(xxx[1] - xxx[0]))\n",
    "slopeDF={}\n",
    "for n in range(2, len(x)):  # Start from 3rd pair of points.\n",
    "    xx = xxx[n-1]\n",
    "    slope = float((yyy[n] - yyy[n - 1]) /(xxx[n] - xxx[n - 1]) )\n",
    "    accel = float((slope-prior_slope) / (xxx[n] - xxx[n - 1]) )\n",
    "    slopeDF[n-1] = (float(x[n-1]),float(yyy[n-1]), slope, accel)\n",
    "\n",
    "\n",
    "df = pd.DataFrame.from_dict(slopeDF, orient=\"index\")\n",
    "df.columns=[\"y\", \"Vs\", \"slope\", \"acceleration\"]\n",
    "df.index = np.arange(len(df))\n",
    "df[\"EnergyDensity\"] = df.y* MN.value/400\n",
    "ax = df.plot(x=\"EnergyDensity\", y=\"Vs\", logx=True , ylim=[0,None],xlim=(1E-1,300))\n",
    "\n",
    "idxmin = np.max( df[df.Vs<0.01].index)-1\n",
    "idxmax = df.Vs.idxmax()-1\n",
    "idx = [idxmin, idxmax]\n",
    "for i, j in enumerate(idx):\n",
    "    ax.axvline(x=x[j], label=\"first\", c=colors[i])"
   ]
  }
 ],
 "metadata": {
  "anaconda-cloud": {},
  "kernelspec": {
   "display_name": "Python 3 (ipykernel)",
   "language": "python",
   "name": "python3"
  },
  "language_info": {
   "codemirror_mode": {
    "name": "ipython",
    "version": 3
   },
   "file_extension": ".py",
   "mimetype": "text/x-python",
   "name": "python",
   "nbconvert_exporter": "python",
   "pygments_lexer": "ipython3",
   "version": "3.9.7"
  },
  "pycharm": {
   "stem_cell": {
    "cell_type": "raw",
    "metadata": {
     "collapsed": false
    },
    "source": []
   }
  }
 },
 "nbformat": 4,
 "nbformat_minor": 4
}
