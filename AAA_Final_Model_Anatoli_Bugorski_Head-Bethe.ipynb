{
 "cells": [
  {
   "cell_type": "code",
   "execution_count": 1,
   "id": "d4931730",
   "metadata": {},
   "outputs": [
    {
     "name": "stdout",
     "output_type": "stream",
     "text": [
      "Total Energy Deposited over 10.00 cm in 3.00 s s: 3.96e+25 J\n",
      "Initial Momentum of a single proton: 4.06e-17 kg m / s\n",
      "Final Momentum of a single proton after passing through 10.00 cm cm: 0.00e+00 kg m / s\n",
      "Momentum Transfer per proton: 4.06e-17 kg m / s\n",
      "Total Momentum Transfer over 3.0 s seconds: 7.60e-04 kg m / s\n"
     ]
    }
   ],
   "source": [
    "import numpy as np\n",
    "from scipy.integrate import quad\n",
    "from astropy import units as u\n",
    "from astropy.constants import e, m_e, m_p, c, N_A\n",
    "\n",
    "# Constants and initial parameters\n",
    "E_0 = 76e9 * u.eV  # Initial energy in eV (76 GeV for U-70 Synchrotron protons)\n",
    "L = 10 * u.cm  # Thickness of the material in cm (e.g., water or tissue)\n",
    "I = 1e-6 * u.A  # Estimated current in Amperes (1 microampere)\n",
    "T = 3 * u.s  # Estimated exposure time\n",
    "\n",
    "# Material properties for water (H2O)\n",
    "Z_eff = 7.42  # Effective atomic number for water\n",
    "A_eff = 18.015 * u.g / u.mol  # Molar mass of water in g/mol\n",
    "\n",
    "# Define mean excitation potential (I) for water (approximate value)\n",
    "I_water = (75 * u.eV).to(u.J)  # Mean excitation potential in Joules\n",
    "\n",
    "# Define the constant k (in MeV cm^2/g), converted to SI units\n",
    "k = (0.307075 * u.MeV * u.cm**2 / u.g).to(u.J * u.m**2 / u.kg)  # Conversion to SI units\n",
    "\n",
    "# Convert A_eff to kg for use in the equation by dividing by Avogadro's number to get mass per atom\n",
    "A_eff_per_atom = (A_eff / N_A).to(u.kg)\n",
    "\n",
    "# Function for the Bethe-Bloch energy loss per unit distance (dE/dx) in SI units\n",
    "def bethe_bloch(E, Z, A, I):\n",
    "    # Convert E to Joules for consistency\n",
    "    E = E.to(u.J)\n",
    "    gamma = E / (m_p * c**2)  # Lorentz factor\n",
    "    beta = np.sqrt(1 - (1 / gamma)**2)  # Velocity factor\n",
    "    \n",
    "    # Bethe-Bloch formula in SI units\n",
    "    dE_dx = k * (Z / A) * (1 / beta**2) * (\n",
    "        np.log((2 * m_e * c**2 * beta**2 * gamma**2 / I).decompose()) - beta**2\n",
    "    )\n",
    "    \n",
    "    # Result in units of J/m\n",
    "    return dE_dx\n",
    "\n",
    "# Integrate the Bethe-Bloch energy loss over the material thickness L for a single proton\n",
    "def total_energy_loss(E_0, L, Z, A, I):\n",
    "    # Integrate over x from 0 to L\n",
    "    energy_loss, _ = quad(lambda x: bethe_bloch(E_0, Z, A, I).value, 0, L.to(u.m).value)\n",
    "    return energy_loss * u.J  # Result in Joules\n",
    "\n",
    "# Calculate total energy deposited in the material over L for a single proton\n",
    "E_deposit_per_proton = total_energy_loss(E_0, L, Z_eff, A_eff_per_atom, I_water)\n",
    "\n",
    "# Calculate final energy after passing through material for one proton\n",
    "E_final_single_proton = max(E_0.to(u.J) - E_deposit_per_proton, 0 * u.J)  # Ensure non-negative energy\n",
    "\n",
    "# Relativistic calculation of velocity from energy\n",
    "def relativistic_velocity(E):\n",
    "    gamma = E / (m_p * c**2)\n",
    "    beta = np.sqrt(1 - 1 / gamma**2)\n",
    "    return (beta * c).to(u.m / u.s)\n",
    "\n",
    "# Relativistic calculation of momentum from energy\n",
    "def relativistic_momentum(E):\n",
    "    return np.sqrt((E / c)**2 - (m_p * c)**2).to(u.kg * u.m / u.s)\n",
    "\n",
    "# Initial and final velocities\n",
    "v_0 = relativistic_velocity(E_0.to(u.J))  # Initial velocity (relativistic)\n",
    "v_final = relativistic_velocity(E_final_single_proton) if E_final_single_proton > 0 * u.J else 0 * u.m / u.s  # Final velocity\n",
    "\n",
    "# Initial and final momenta\n",
    "p_0 = relativistic_momentum(E_0.to(u.J))  # Initial momentum\n",
    "p_final = relativistic_momentum(E_final_single_proton) if E_final_single_proton > 0 * u.J else 0 * u.kg * u.m / u.s  # Final momentum\n",
    "\n",
    "# Momentum transfer per proton\n",
    "delta_p_per_proton = p_0 - p_final\n",
    "\n",
    "# Calculate number of protons per second\n",
    "protons_per_second = (I / e.si).si  # Result in protons per second\n",
    "\n",
    "# Total momentum transfer and energy deposition over time T\n",
    "total_energy_deposit = E_deposit_per_proton * protons_per_second * T  # Total energy in Joules\n",
    "total_momentum_transfer = delta_p_per_proton * protons_per_second * T  # Total momentum transfer in kg*m/s\n",
    "\n",
    "# Results\n",
    "print(f\"Total Energy Deposited over {L:.2f} in {T:.2f} s: {total_energy_deposit:.2e}\")\n",
    "print(f\"Initial Momentum of a single proton: {p_0:.2e}\")\n",
    "print(f\"Final Momentum of a single proton after passing through {L:.2f} cm: {p_final:.2e}\")\n",
    "print(f\"Momentum Transfer per proton: {delta_p_per_proton:.2e}\")\n",
    "print(f\"Total Momentum Transfer over {T} seconds: {total_momentum_transfer:.2e}\")\n"
   ]
  },
  {
   "cell_type": "code",
   "execution_count": 2,
   "id": "795f8087",
   "metadata": {},
   "outputs": [
    {
     "data": {
      "text/latex": [
       "$2.1125428 \\times 10^{12} \\; \\mathrm{J}$"
      ],
      "text/plain": [
       "<Quantity 2.11254282e+12 J>"
      ]
     },
     "execution_count": 2,
     "metadata": {},
     "output_type": "execute_result"
    }
   ],
   "source": [
    "E_deposit_per_proton"
   ]
  },
  {
   "cell_type": "code",
   "execution_count": 3,
   "id": "0cb99d90",
   "metadata": {},
   "outputs": [],
   "source": [
    "E_deposit_per_proton = total_energy_loss(E_0, L, Z_eff, A_eff_per_atom, I_water)"
   ]
  },
  {
   "cell_type": "code",
   "execution_count": null,
   "id": "d48afce8",
   "metadata": {},
   "outputs": [],
   "source": []
  }
 ],
 "metadata": {
  "kernelspec": {
   "display_name": "Python [conda env:Cosmos3020]",
   "language": "python",
   "name": "conda-env-Cosmos3020-py"
  },
  "language_info": {
   "codemirror_mode": {
    "name": "ipython",
    "version": 3
   },
   "file_extension": ".py",
   "mimetype": "text/x-python",
   "name": "python",
   "nbconvert_exporter": "python",
   "pygments_lexer": "ipython3",
   "version": "3.11.9"
  }
 },
 "nbformat": 4,
 "nbformat_minor": 5
}
