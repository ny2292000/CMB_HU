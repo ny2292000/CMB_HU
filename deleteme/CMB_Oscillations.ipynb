{
 "cells": [
  {
   "cell_type": "code",
   "execution_count": 1,
   "metadata": {},
   "outputs": [
    {
     "name": "stdout",
     "output_type": "stream",
     "text": [
      "14.43448806721477 lyr\n"
     ]
    }
   ],
   "source": [
    "%matplotlib inline\n",
    "import matplotlib\n",
    "import math\n",
    "import pandas as pd\n",
    "import numpy as np\n",
    "import matplotlib.pyplot as plt\n",
    "from scipy.optimize import fsolve, curve_fit\n",
    "from scipy.stats import chisquare\n",
    "from astropy.cosmology import Planck15\n",
    "from astropy import constants, units\n",
    "import parameters\n",
    "\n",
    "DefaultSize=[10,6]\n",
    "font = {'family': 'serif',\n",
    "        'color':  'black',\n",
    "        'weight': 'normal',\n",
    "        'size': 14,\n",
    "        }\n",
    "axis_font = {'name':'Arial', 'size':'18'}\n",
    "\n",
    "title_font = {'name':'Arial', 'size':'18'}\n",
    "\n",
    "def d_planck15(z):\n",
    "    R0 = (cc.c)/(Planck15.H0)\n",
    "    d_L = (Planck15.luminosity_distance(z))/R0.to(uu.Mpc)\n",
    "#     plt.plot(z, d_L)\n",
    "    R0=R0.to(uu.lyr)/1e9\n",
    "    return R0,d_L\n",
    "z = np.arange(0.0,1.5,0.01)\n",
    "R0_GLY,d_L=d_planck15(z)\n",
    "R0_GLY_CMB=R0_GLY\n",
    "print(R0_GLY)\n",
    "HubbleGRData=pd.DataFrame()\n",
    "HubbleGRData['z']=z\n",
    "HubbleGRData['d']=d_L\n",
    "\n",
    "# http://astronomy.swin.edu.au/cosmos/D/Distance+Modulus\n",
    "\n",
    "\n",
    "SCPData = pd.ExcelFile(parameters.supernovaAddress + 'SCPUnionData.xlsx').parse('Sheet2')\n",
    "angle=math.pi/4"
   ]
  },
  {
   "cell_type": "markdown",
   "metadata": {},
   "source": [
    "# Below is the application of the theory to the usd Wil Supernova (z=1.917)"
   ]
  },
  {
   "cell_type": "code",
   "execution_count": 2,
   "metadata": {},
   "outputs": [],
   "source": [
    "# Cosmological Angle\n",
    "def alpha(z):\n",
    "    return [math.pi/4 - math.asin(1/math.sqrt(2)/(1+x)) for x in z]\n",
    "# 4D Radius of the Universe\n",
    "def RofT(z):\n",
    "    a = alpha(z)\n",
    "    return [math.cos(x) - math.sin(x) for x in a]\n",
    "# Distance to the Epoch\n",
    "def DistanceOfT(z):\n",
    "    d= 13.58\n",
    "    return [(1-x)*d for x in RofT(z)]"
   ]
  },
  {
   "cell_type": "code",
   "execution_count": 3,
   "metadata": {},
   "outputs": [],
   "source": [
    "soundspeed=cc.c/np.sqrt(3)"
   ]
  },
  {
   "cell_type": "code",
   "execution_count": 4,
   "metadata": {},
   "outputs": [
    {
     "data": {
      "text/latex": [
       "$1.7308526 \\times 10^{8} \\; \\mathrm{\\frac{m}{s}}$"
      ],
      "text/plain": [
       "<Quantity 1.73085256e+08 m / s>"
      ]
     },
     "execution_count": 4,
     "metadata": {},
     "output_type": "execute_result"
    }
   ],
   "source": [
    "soundspeed"
   ]
  },
  {
   "cell_type": "code",
   "execution_count": 5,
   "metadata": {},
   "outputs": [
    {
     "data": {
      "text/plain": [
       "(0.0006662225183210468, 1)"
      ]
     },
     "execution_count": 5,
     "metadata": {},
     "output_type": "execute_result"
    }
   ],
   "source": [
    "z=1500\n",
    "R0=1\n",
    "R_transparency=1-DistanceOfT([z])[0]/DistanceOfT([np.inf])[0]\n",
    "R_transparency,R0"
   ]
  },
  {
   "cell_type": "code",
   "execution_count": 6,
   "metadata": {},
   "outputs": [
    {
     "data": {
      "text/latex": [
       "$2.3738717 \\times 10^{20} \\; \\mathrm{\\frac{kg}{m^{3}}}$"
      ],
      "text/plain": [
       "<Quantity 2.37387167e+20 kg / m3>"
      ]
     },
     "execution_count": 6,
     "metadata": {},
     "output_type": "execute_result"
    }
   ],
   "source": [
    "# This is the Black Hole density where Fundamental Dilators are 0.19 femtometer apart\n",
    "# 8 x 1/8 of a FD per cell\n",
    "dbh=1.6737236e-27/(0.191753e-15)**3*uu.kg/(uu.m)**3\n",
    "# dbh=2.3738717E20*uu.kg/(uu.m)**3\n",
    "dbh"
   ]
  },
  {
   "cell_type": "code",
   "execution_count": 7,
   "metadata": {},
   "outputs": [
    {
     "data": {
      "text/latex": [
       "$7.7487204 \\times 10^{18} \\; \\mathrm{\\frac{kg}{m^{3}}}$"
      ],
      "text/plain": [
       "<Quantity 7.74872037e+18 kg / m3>"
      ]
     },
     "execution_count": 7,
     "metadata": {},
     "output_type": "execute_result"
    }
   ],
   "source": [
    "# This is the Neutron Star density where Fundamental Dilators are 0.6 femtometer apart\n",
    "# 8 * 1/8 a FD per cell\n",
    "dneutron=1.6737236e-27/(0.6e-15)**3*uu.kg/(uu.m)**3\n",
    "# dneutron=7.7487204e17*uu.kg/(uu.m)**3\n",
    "dneutron"
   ]
  },
  {
   "cell_type": "code",
   "execution_count": 8,
   "metadata": {},
   "outputs": [
    {
     "data": {
      "text/latex": [
       "$9.47 \\times 10^{-27} \\; \\mathrm{\\frac{kg}{m^{3}}}$"
      ],
      "text/plain": [
       "<Quantity 9.47e-27 kg / m3>"
      ]
     },
     "execution_count": 8,
     "metadata": {},
     "output_type": "execute_result"
    }
   ],
   "source": [
    "# Density Parameter, Omega\n",
    "# hyperphysics.phy-astr.gsu.edu/hbase/Astro/denpar.html\n",
    "# indicating that the universe is very close to critical density or Ω =1. \n",
    "# Critical density is calculated to be. ρc,0 = 9.47 x 10-27 kg/m. \n",
    "# Of this critical density, ordinary matter (baryonic matter) is thought to make up only about 4%.\n",
    "\n",
    "criticalDensity=9.47E-27*uu.kg/(uu.m)**3\n",
    "criticalDensity"
   ]
  },
  {
   "cell_type": "code",
   "execution_count": 9,
   "metadata": {},
   "outputs": [
    {
     "data": {
      "text/plain": [
       "(<Quantity 2.50672827e+46>, <Quantity 1.9e-13 mm>, <Quantity 2.92663853e+15>)"
      ]
     },
     "execution_count": 9,
     "metadata": {},
     "output_type": "execute_result"
    }
   ],
   "source": [
    "nlayers=1\n",
    "initialthickness = 0.19e-15*uu.m\n",
    "thickness = nlayers*initialthickness\n",
    "Dilution=dbh/(criticalDensity*nlayers)\n",
    "Expansion=Dilution**(1/3)\n",
    "Dilution,thickness.to(uu.mm),Expansion"
   ]
  },
  {
   "cell_type": "markdown",
   "metadata": {},
   "source": [
    "# density at recombination"
   ]
  },
  {
   "cell_type": "code",
   "execution_count": 10,
   "metadata": {},
   "outputs": [
    {
     "name": "stdout",
     "output_type": "stream",
     "text": [
      "146.3313201033698 s 43869026.136174046 km\n"
     ]
    }
   ],
   "source": [
    "TimeOfUniverse=13.58*1E9*365*24*3600*uu.s\n",
    "TimeOfBigBang = TimeOfUniverse/Expansion\n",
    "InitialRadius=cc.c*TimeOfBigBang\n",
    "InitialRadius.to(uu.km)\n",
    "print(TimeOfBigBang, InitialRadius.to(uu.km))"
   ]
  },
  {
   "cell_type": "code",
   "execution_count": 11,
   "metadata": {},
   "outputs": [
    {
     "data": {
      "text/plain": [
       "285315709526951.0"
      ]
     },
     "execution_count": 11,
     "metadata": {},
     "output_type": "execute_result"
    }
   ],
   "source": [
    "timeofdilation=R_transparency*13.58E9*365*24*3600\n",
    "timeofdilation"
   ]
  },
  {
   "cell_type": "code",
   "execution_count": 12,
   "metadata": {},
   "outputs": [
    {
     "data": {
      "text/plain": [
       "1.3676499386599973e-37"
      ]
     },
     "execution_count": 12,
     "metadata": {},
     "output_type": "execute_result"
    }
   ],
   "source": [
    "dilution=(timeofdilation/147)**(-3)\n",
    "dilution"
   ]
  },
  {
   "cell_type": "code",
   "execution_count": 13,
   "metadata": {},
   "outputs": [
    {
     "data": {
      "text/latex": [
       "$3.2466254 \\times 10^{-17} \\; \\mathrm{\\frac{kg}{m^{3}}}$"
      ],
      "text/plain": [
       "<Quantity 3.24662545e-17 kg / m3>"
      ]
     },
     "execution_count": 13,
     "metadata": {},
     "output_type": "execute_result"
    }
   ],
   "source": [
    "density_rec=dbh*dilution\n",
    "density_rec"
   ]
  },
  {
   "cell_type": "code",
   "execution_count": null,
   "metadata": {},
   "outputs": [],
   "source": []
  }
 ],
 "metadata": {
  "anaconda-cloud": {},
  "kernelspec": {
   "display_name": "Python 3",
   "language": "python",
   "name": "python3"
  },
  "language_info": {
   "codemirror_mode": {
    "name": "ipython",
    "version": 3
   },
   "file_extension": ".py",
   "mimetype": "text/x-python",
   "name": "python",
   "nbconvert_exporter": "python",
   "pygments_lexer": "ipython3",
   "version": "3.7.5"
  }
 },
 "nbformat": 4,
 "nbformat_minor": 1
}
