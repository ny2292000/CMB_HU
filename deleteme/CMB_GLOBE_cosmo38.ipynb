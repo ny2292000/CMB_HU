{
 "cells": [
  {
   "cell_type": "code",
   "execution_count": 1,
   "metadata": {},
   "outputs": [
    {
     "ename": "PythonQtError",
     "evalue": "No Qt bindings could be found",
     "output_type": "error",
     "traceback": [
      "\u001b[0;31m---------------------------------------------------------------------------\u001b[0m",
      "\u001b[0;31mModuleNotFoundError\u001b[0m                       Traceback (most recent call last)",
      "\u001b[0;32m~/anaconda3/envs/cosmo38/lib/python3.8/site-packages/qtpy/__init__.py\u001b[0m in \u001b[0;36m<module>\u001b[0;34m\u001b[0m\n\u001b[1;32m    203\u001b[0m     \u001b[0;32mtry\u001b[0m\u001b[0;34m:\u001b[0m\u001b[0;34m\u001b[0m\u001b[0;34m\u001b[0m\u001b[0m\n\u001b[0;32m--> 204\u001b[0;31m         \u001b[0;32mfrom\u001b[0m \u001b[0mPySide\u001b[0m \u001b[0;32mimport\u001b[0m \u001b[0m__version__\u001b[0m \u001b[0;32mas\u001b[0m \u001b[0mPYSIDE_VERSION\u001b[0m  \u001b[0;31m# analysis:ignore\u001b[0m\u001b[0;34m\u001b[0m\u001b[0;34m\u001b[0m\u001b[0m\n\u001b[0m\u001b[1;32m    205\u001b[0m         \u001b[0;32mfrom\u001b[0m \u001b[0mPySide\u001b[0m\u001b[0;34m.\u001b[0m\u001b[0mQtCore\u001b[0m \u001b[0;32mimport\u001b[0m \u001b[0m__version__\u001b[0m \u001b[0;32mas\u001b[0m \u001b[0mQT_VERSION\u001b[0m  \u001b[0;31m# analysis:ignore\u001b[0m\u001b[0;34m\u001b[0m\u001b[0;34m\u001b[0m\u001b[0m\n",
      "\u001b[0;32m~/anaconda3/envs/cosmo38/lib/python3.8/site-packages/shiboken2/files.dir/shibokensupport/__feature__.py\u001b[0m in \u001b[0;36m_import\u001b[0;34m(name, *args, **kwargs)\u001b[0m\n\u001b[1;32m    145\u001b[0m     \u001b[0mpyside_feature_dict\u001b[0m\u001b[0;34m[\u001b[0m\u001b[0mimporting_module\u001b[0m\u001b[0;34m]\u001b[0m \u001b[0;34m=\u001b[0m \u001b[0mflag\u001b[0m\u001b[0;34m\u001b[0m\u001b[0;34m\u001b[0m\u001b[0m\n\u001b[0;32m--> 146\u001b[0;31m     \u001b[0;32mreturn\u001b[0m \u001b[0moriginal_import\u001b[0m\u001b[0;34m(\u001b[0m\u001b[0mname\u001b[0m\u001b[0;34m,\u001b[0m \u001b[0;34m*\u001b[0m\u001b[0margs\u001b[0m\u001b[0;34m,\u001b[0m \u001b[0;34m**\u001b[0m\u001b[0mkwargs\u001b[0m\u001b[0;34m)\u001b[0m\u001b[0;34m\u001b[0m\u001b[0;34m\u001b[0m\u001b[0m\n\u001b[0m\u001b[1;32m    147\u001b[0m \u001b[0;34m\u001b[0m\u001b[0m\n",
      "\u001b[0;31mModuleNotFoundError\u001b[0m: No module named 'PySide'",
      "\nDuring handling of the above exception, another exception occurred:\n",
      "\u001b[0;31mPythonQtError\u001b[0m                             Traceback (most recent call last)",
      "\u001b[0;32m<ipython-input-1-5a9738ac9549>\u001b[0m in \u001b[0;36m<module>\u001b[0;34m\u001b[0m\n\u001b[1;32m      3\u001b[0m \u001b[0;32mimport\u001b[0m \u001b[0mpandas\u001b[0m \u001b[0;32mas\u001b[0m \u001b[0mpd\u001b[0m\u001b[0;34m\u001b[0m\u001b[0;34m\u001b[0m\u001b[0m\n\u001b[1;32m      4\u001b[0m \u001b[0;32mfrom\u001b[0m \u001b[0mglue\u001b[0m\u001b[0;34m.\u001b[0m\u001b[0mcore\u001b[0m \u001b[0;32mimport\u001b[0m \u001b[0mData\u001b[0m\u001b[0;34m,\u001b[0m \u001b[0mDataCollection\u001b[0m\u001b[0;34m\u001b[0m\u001b[0;34m\u001b[0m\u001b[0m\n\u001b[0;32m----> 5\u001b[0;31m \u001b[0;32mfrom\u001b[0m \u001b[0mglue\u001b[0m\u001b[0;34m.\u001b[0m\u001b[0mapp\u001b[0m\u001b[0;34m.\u001b[0m\u001b[0mqt\u001b[0m\u001b[0;34m.\u001b[0m\u001b[0mapplication\u001b[0m \u001b[0;32mimport\u001b[0m \u001b[0mGlueApplication\u001b[0m\u001b[0;34m\u001b[0m\u001b[0;34m\u001b[0m\u001b[0m\n\u001b[0m\u001b[1;32m      6\u001b[0m \u001b[0;32mfrom\u001b[0m \u001b[0mglue\u001b[0m\u001b[0;34m.\u001b[0m\u001b[0mviewers\u001b[0m\u001b[0;34m.\u001b[0m\u001b[0mscatter\u001b[0m\u001b[0;34m.\u001b[0m\u001b[0mqt\u001b[0m \u001b[0;32mimport\u001b[0m \u001b[0mScatterViewer\u001b[0m\u001b[0;34m\u001b[0m\u001b[0;34m\u001b[0m\u001b[0m\n\u001b[1;32m      7\u001b[0m \u001b[0;32mfrom\u001b[0m \u001b[0mglue\u001b[0m \u001b[0;32mimport\u001b[0m \u001b[0mqglue\u001b[0m\u001b[0;34m\u001b[0m\u001b[0;34m\u001b[0m\u001b[0m\n",
      "\u001b[0;32m~/anaconda3/envs/cosmo38/lib/python3.8/site-packages/glue/app/qt/__init__.py\u001b[0m in \u001b[0;36m<module>\u001b[0;34m\u001b[0m\n\u001b[1;32m      1\u001b[0m \u001b[0;32mfrom\u001b[0m \u001b[0m__future__\u001b[0m \u001b[0;32mimport\u001b[0m \u001b[0mabsolute_import\u001b[0m\u001b[0;34m,\u001b[0m \u001b[0mdivision\u001b[0m\u001b[0;34m,\u001b[0m \u001b[0mprint_function\u001b[0m\u001b[0;34m\u001b[0m\u001b[0;34m\u001b[0m\u001b[0m\n\u001b[1;32m      2\u001b[0m \u001b[0;34m\u001b[0m\u001b[0m\n\u001b[0;32m----> 3\u001b[0;31m \u001b[0;32mfrom\u001b[0m \u001b[0;34m.\u001b[0m\u001b[0mapplication\u001b[0m \u001b[0;32mimport\u001b[0m \u001b[0mGlueApplication\u001b[0m  \u001b[0;31m# noqa\u001b[0m\u001b[0;34m\u001b[0m\u001b[0;34m\u001b[0m\u001b[0m\n\u001b[0m\u001b[1;32m      4\u001b[0m \u001b[0;32mfrom\u001b[0m \u001b[0;34m.\u001b[0m \u001b[0;32mimport\u001b[0m \u001b[0mkeyboard_shortcuts\u001b[0m  \u001b[0;31m# noqa\u001b[0m\u001b[0;34m\u001b[0m\u001b[0;34m\u001b[0m\u001b[0m\n",
      "\u001b[0;32m~/anaconda3/envs/cosmo38/lib/python3.8/site-packages/glue/app/qt/application.py\u001b[0m in \u001b[0;36m<module>\u001b[0;34m\u001b[0m\n\u001b[1;32m      9\u001b[0m \u001b[0;32mimport\u001b[0m \u001b[0mwebbrowser\u001b[0m\u001b[0;34m\u001b[0m\u001b[0;34m\u001b[0m\u001b[0m\n\u001b[1;32m     10\u001b[0m \u001b[0;34m\u001b[0m\u001b[0m\n\u001b[0;32m---> 11\u001b[0;31m \u001b[0;32mfrom\u001b[0m \u001b[0mqtpy\u001b[0m \u001b[0;32mimport\u001b[0m \u001b[0mQtCore\u001b[0m\u001b[0;34m,\u001b[0m \u001b[0mQtWidgets\u001b[0m\u001b[0;34m,\u001b[0m \u001b[0mQtGui\u001b[0m\u001b[0;34m,\u001b[0m \u001b[0mcompat\u001b[0m\u001b[0;34m\u001b[0m\u001b[0;34m\u001b[0m\u001b[0m\n\u001b[0m\u001b[1;32m     12\u001b[0m \u001b[0;32mfrom\u001b[0m \u001b[0mqtpy\u001b[0m\u001b[0;34m.\u001b[0m\u001b[0mQtCore\u001b[0m \u001b[0;32mimport\u001b[0m \u001b[0mQt\u001b[0m\u001b[0;34m\u001b[0m\u001b[0;34m\u001b[0m\u001b[0m\n\u001b[1;32m     13\u001b[0m \u001b[0;34m\u001b[0m\u001b[0m\n",
      "\u001b[0;32m~/anaconda3/envs/cosmo38/lib/python3.8/site-packages/qtpy/__init__.py\u001b[0m in \u001b[0;36m<module>\u001b[0;34m\u001b[0m\n\u001b[1;32m    208\u001b[0m         \u001b[0mPYSIDE\u001b[0m \u001b[0;34m=\u001b[0m \u001b[0;32mTrue\u001b[0m\u001b[0;34m\u001b[0m\u001b[0;34m\u001b[0m\u001b[0m\n\u001b[1;32m    209\u001b[0m     \u001b[0;32mexcept\u001b[0m \u001b[0mImportError\u001b[0m\u001b[0;34m:\u001b[0m\u001b[0;34m\u001b[0m\u001b[0;34m\u001b[0m\u001b[0m\n\u001b[0;32m--> 210\u001b[0;31m         \u001b[0;32mraise\u001b[0m \u001b[0mPythonQtError\u001b[0m\u001b[0;34m(\u001b[0m\u001b[0;34m'No Qt bindings could be found'\u001b[0m\u001b[0;34m)\u001b[0m\u001b[0;34m\u001b[0m\u001b[0;34m\u001b[0m\u001b[0m\n\u001b[0m\u001b[1;32m    211\u001b[0m \u001b[0;34m\u001b[0m\u001b[0m\n\u001b[1;32m    212\u001b[0m \u001b[0;31m# If a correct API name is passed to QT_API and it could not be found,\u001b[0m\u001b[0;34m\u001b[0m\u001b[0;34m\u001b[0m\u001b[0;34m\u001b[0m\u001b[0m\n",
      "\u001b[0;31mPythonQtError\u001b[0m: No Qt bindings could be found"
     ]
    }
   ],
   "source": [
    "import setuptools\n",
    "import numpy as np\n",
    "import pandas as pd\n",
    "from glue.core import Data, DataCollection\n",
    "from glue.app.qt.application import GlueApplication\n",
    "from glue.viewers.scatter.qt import ScatterViewer\n",
    "from glue import qglue\n",
    "\n",
    "# create some data\n",
    "cmbdata= pd.read_csv(\"./UniverseMap/map3D.txt\")\n",
    "cmbdata.columns=[\"ind\",\"x\",\"y\",\"z\",\"density\"]\n",
    "cmbdata_index=cmbdata.ind.unique()\n",
    "np.savetxt(\"cmbdata_index.txt\", cmbdata_index, delimiter=\",\")"
   ]
  },
  {
   "cell_type": "code",
   "execution_count": 5,
   "metadata": {},
   "outputs": [
    {
     "name": "stdout",
     "output_type": "stream",
     "text": [
      "QtPy==1.9.0\r\n"
     ]
    }
   ],
   "source": [
    "!pip freeze | grep -i qtpy"
   ]
  },
  {
   "cell_type": "code",
   "execution_count": 1,
   "metadata": {},
   "outputs": [
    {
     "name": "stdout",
     "output_type": "stream",
     "text": [
      "Collecting git+https://github.com/glue-viz/glue-jupyter.git\n",
      "  Cloning https://github.com/glue-viz/glue-jupyter.git to /tmp/pip-req-build-zld2of7v\n",
      "  Installing build dependencies ... \u001b[?25ldone\n",
      "\u001b[?25h  Getting requirements to build wheel ... \u001b[?25ldone\n",
      "\u001b[?25h    Preparing wheel metadata ... \u001b[?25ldone\n",
      "\u001b[?25hCollecting bqplot>=0.12.17\n",
      "  Downloading bqplot-0.12.17-py2.py3-none-any.whl (4.7 MB)\n",
      "\u001b[K     |████████████████████████████████| 4.7 MB 2.3 MB/s eta 0:00:01\n",
      "\u001b[?25hRequirement already satisfied: scikit-image in /home/mp74207/anaconda3/envs/cosmo38/lib/python3.8/site-packages (from glue-jupyter==0.2.dev173+g8867d82) (0.17.2)\n",
      "Collecting ipywidgets>=7.4.0\n",
      "  Using cached ipywidgets-7.5.1-py2.py3-none-any.whl (121 kB)\n",
      "Collecting bqplot-image-gl>=1.0.0\n",
      "  Downloading bqplot_image_gl-1.0.0-py2.py3-none-any.whl (3.1 MB)\n",
      "\u001b[K     |████████████████████████████████| 3.1 MB 36.1 MB/s eta 0:00:01\n",
      "\u001b[?25hRequirement already satisfied: glue-core@ git+https://github.com/glue-viz/glue from git+https://github.com/glue-viz/glue in /home/mp74207/anaconda3/envs/cosmo38/lib/python3.8/site-packages (from glue-jupyter==0.2.dev173+g8867d82) (0.15.6)\n",
      "Requirement already satisfied: notebook>=4.0 in /home/mp74207/anaconda3/envs/cosmo38/lib/python3.8/site-packages (from glue-jupyter==0.2.dev173+g8867d82) (6.1.1)\n",
      "Collecting ipyvuetify<2,>=1.2.0\n",
      "  Downloading ipyvuetify-1.5.1-py2.py3-none-any.whl (6.6 MB)\n",
      "\u001b[K     |████████████████████████████████| 6.6 MB 32.6 MB/s eta 0:00:01\n",
      "\u001b[?25hRequirement already satisfied: glue-vispy-viewers>=0.12 in /home/mp74207/anaconda3/envs/cosmo38/lib/python3.8/site-packages (from glue-jupyter==0.2.dev173+g8867d82) (0.12.2)\n",
      "Collecting ipyvolume>=0.5.0\n",
      "  Downloading ipyvolume-0.5.2-py2.py3-none-any.whl (2.9 MB)\n",
      "\u001b[K     |████████████████████████████████| 2.9 MB 38.2 MB/s eta 0:00:01\n",
      "\u001b[?25hCollecting ipympl>=0.3.0\n",
      "  Downloading ipympl-0.5.8-py2.py3-none-any.whl (2.0 MB)\n",
      "\u001b[K     |████████████████████████████████| 2.0 MB 36.4 MB/s eta 0:00:01\n",
      "\u001b[?25hCollecting ipyvue<2,>=1.2.0\n",
      "  Downloading ipyvue-1.4.0-py2.py3-none-any.whl (2.5 MB)\n",
      "\u001b[K     |████████████████████████████████| 2.5 MB 41.6 MB/s eta 0:00:01\n",
      "\u001b[?25hCollecting traittypes>=0.0.6\n",
      "  Downloading traittypes-0.2.1-py2.py3-none-any.whl (8.6 kB)\n",
      "Requirement already satisfied: pandas in /home/mp74207/anaconda3/envs/cosmo38/lib/python3.8/site-packages (from bqplot>=0.12.17->glue-jupyter==0.2.dev173+g8867d82) (1.1.2)\n",
      "Requirement already satisfied: traitlets>=4.3.0 in /home/mp74207/anaconda3/envs/cosmo38/lib/python3.8/site-packages (from bqplot>=0.12.17->glue-jupyter==0.2.dev173+g8867d82) (5.0.4)\n",
      "Requirement already satisfied: numpy>=1.10.4 in /home/mp74207/anaconda3/envs/cosmo38/lib/python3.8/site-packages (from bqplot>=0.12.17->glue-jupyter==0.2.dev173+g8867d82) (1.19.2)\n",
      "Requirement already satisfied: scipy>=1.0.1 in /home/mp74207/anaconda3/envs/cosmo38/lib/python3.8/site-packages (from scikit-image->glue-jupyter==0.2.dev173+g8867d82) (1.5.2)\n",
      "Requirement already satisfied: matplotlib!=3.0.0,>=2.0.0 in /home/mp74207/anaconda3/envs/cosmo38/lib/python3.8/site-packages (from scikit-image->glue-jupyter==0.2.dev173+g8867d82) (3.3.2)\n",
      "Requirement already satisfied: networkx>=2.0 in /home/mp74207/anaconda3/envs/cosmo38/lib/python3.8/site-packages (from scikit-image->glue-jupyter==0.2.dev173+g8867d82) (2.5)\n",
      "Requirement already satisfied: pillow!=7.1.0,!=7.1.1,>=4.3.0 in /home/mp74207/anaconda3/envs/cosmo38/lib/python3.8/site-packages (from scikit-image->glue-jupyter==0.2.dev173+g8867d82) (7.2.0)\n",
      "Requirement already satisfied: imageio>=2.3.0 in /home/mp74207/anaconda3/envs/cosmo38/lib/python3.8/site-packages (from scikit-image->glue-jupyter==0.2.dev173+g8867d82) (2.9.0)\n",
      "Requirement already satisfied: tifffile>=2019.7.26 in /home/mp74207/anaconda3/envs/cosmo38/lib/python3.8/site-packages (from scikit-image->glue-jupyter==0.2.dev173+g8867d82) (2020.9.3)\n",
      "Requirement already satisfied: PyWavelets>=1.1.1 in /home/mp74207/anaconda3/envs/cosmo38/lib/python3.8/site-packages (from scikit-image->glue-jupyter==0.2.dev173+g8867d82) (1.1.1)\n",
      "Requirement already satisfied: nbformat>=4.2.0 in /home/mp74207/anaconda3/envs/cosmo38/lib/python3.8/site-packages (from ipywidgets>=7.4.0->glue-jupyter==0.2.dev173+g8867d82) (5.0.7)\n",
      "Collecting widgetsnbextension~=3.5.0\n",
      "  Using cached widgetsnbextension-3.5.1-py2.py3-none-any.whl (2.2 MB)\n",
      "Requirement already satisfied: ipython>=4.0.0; python_version >= \"3.3\" in /home/mp74207/anaconda3/envs/cosmo38/lib/python3.8/site-packages (from ipywidgets>=7.4.0->glue-jupyter==0.2.dev173+g8867d82) (7.18.1)\n",
      "Requirement already satisfied: ipykernel>=4.5.1 in /home/mp74207/anaconda3/envs/cosmo38/lib/python3.8/site-packages (from ipywidgets>=7.4.0->glue-jupyter==0.2.dev173+g8867d82) (5.3.4)\n",
      "Requirement already satisfied: setuptools>=1.0 in /home/mp74207/anaconda3/envs/cosmo38/lib/python3.8/site-packages (from glue-core@ git+https://github.com/glue-viz/glue->glue-jupyter==0.2.dev173+g8867d82) (49.6.0.post20200814)\n",
      "Requirement already satisfied: astropy>=2.0 in /home/mp74207/anaconda3/envs/cosmo38/lib/python3.8/site-packages (from glue-core@ git+https://github.com/glue-viz/glue->glue-jupyter==0.2.dev173+g8867d82) (4.0.1.post1)\n",
      "Requirement already satisfied: h5py>=2.4 in /home/mp74207/anaconda3/envs/cosmo38/lib/python3.8/site-packages (from glue-core@ git+https://github.com/glue-viz/glue->glue-jupyter==0.2.dev173+g8867d82) (2.10.0)\n",
      "Requirement already satisfied: bottleneck>=1.2 in /home/mp74207/anaconda3/envs/cosmo38/lib/python3.8/site-packages (from glue-core@ git+https://github.com/glue-viz/glue->glue-jupyter==0.2.dev173+g8867d82) (1.3.2)\n",
      "Requirement already satisfied: mpl-scatter-density>=0.5 in /home/mp74207/anaconda3/envs/cosmo38/lib/python3.8/site-packages (from glue-core@ git+https://github.com/glue-viz/glue->glue-jupyter==0.2.dev173+g8867d82) (0.7)\n",
      "Requirement already satisfied: qtconsole in /home/mp74207/anaconda3/envs/cosmo38/lib/python3.8/site-packages (from glue-core@ git+https://github.com/glue-viz/glue->glue-jupyter==0.2.dev173+g8867d82) (4.7.7)\n",
      "Requirement already satisfied: qtpy>=1.2 in /home/mp74207/anaconda3/envs/cosmo38/lib/python3.8/site-packages (from glue-core@ git+https://github.com/glue-viz/glue->glue-jupyter==0.2.dev173+g8867d82) (1.9.0)\n",
      "Requirement already satisfied: dill>=0.2 in /home/mp74207/anaconda3/envs/cosmo38/lib/python3.8/site-packages (from glue-core@ git+https://github.com/glue-viz/glue->glue-jupyter==0.2.dev173+g8867d82) (0.3.2)\n",
      "Requirement already satisfied: xlrd>=1.0 in /home/mp74207/anaconda3/envs/cosmo38/lib/python3.8/site-packages (from glue-core@ git+https://github.com/glue-viz/glue->glue-jupyter==0.2.dev173+g8867d82) (1.2.0)\n",
      "Requirement already satisfied: prometheus-client in /home/mp74207/anaconda3/envs/cosmo38/lib/python3.8/site-packages (from notebook>=4.0->glue-jupyter==0.2.dev173+g8867d82) (0.8.0)\n",
      "Requirement already satisfied: tornado>=5.0 in /home/mp74207/anaconda3/envs/cosmo38/lib/python3.8/site-packages (from notebook>=4.0->glue-jupyter==0.2.dev173+g8867d82) (6.0.4)\n",
      "Requirement already satisfied: jupyter-core>=4.6.1 in /home/mp74207/anaconda3/envs/cosmo38/lib/python3.8/site-packages (from notebook>=4.0->glue-jupyter==0.2.dev173+g8867d82) (4.6.3)\n",
      "Requirement already satisfied: Send2Trash in /home/mp74207/anaconda3/envs/cosmo38/lib/python3.8/site-packages (from notebook>=4.0->glue-jupyter==0.2.dev173+g8867d82) (1.5.0)\n",
      "Requirement already satisfied: nbconvert in /home/mp74207/anaconda3/envs/cosmo38/lib/python3.8/site-packages (from notebook>=4.0->glue-jupyter==0.2.dev173+g8867d82) (6.0.3)\n",
      "Requirement already satisfied: pyzmq>=17 in /home/mp74207/anaconda3/envs/cosmo38/lib/python3.8/site-packages (from notebook>=4.0->glue-jupyter==0.2.dev173+g8867d82) (19.0.2)\n",
      "Requirement already satisfied: jupyter-client>=5.3.4 in /home/mp74207/anaconda3/envs/cosmo38/lib/python3.8/site-packages (from notebook>=4.0->glue-jupyter==0.2.dev173+g8867d82) (6.1.7)\n",
      "Requirement already satisfied: terminado>=0.8.3 in /home/mp74207/anaconda3/envs/cosmo38/lib/python3.8/site-packages (from notebook>=4.0->glue-jupyter==0.2.dev173+g8867d82) (0.8.3)\n",
      "Requirement already satisfied: ipython-genutils in /home/mp74207/anaconda3/envs/cosmo38/lib/python3.8/site-packages (from notebook>=4.0->glue-jupyter==0.2.dev173+g8867d82) (0.2.0)\n",
      "Requirement already satisfied: jinja2 in /home/mp74207/anaconda3/envs/cosmo38/lib/python3.8/site-packages (from notebook>=4.0->glue-jupyter==0.2.dev173+g8867d82) (2.9.6)\n",
      "Requirement already satisfied: argon2-cffi in /home/mp74207/anaconda3/envs/cosmo38/lib/python3.8/site-packages (from notebook>=4.0->glue-jupyter==0.2.dev173+g8867d82) (20.1.0)\n",
      "Requirement already satisfied: pyopengl in /home/mp74207/anaconda3/envs/cosmo38/lib/python3.8/site-packages (from glue-vispy-viewers>=0.12->glue-jupyter==0.2.dev173+g8867d82) (3.1.5)\n"
     ]
    },
    {
     "name": "stdout",
     "output_type": "stream",
     "text": [
      "Collecting ipywebrtc\n",
      "  Downloading ipywebrtc-0.5.0-py2.py3-none-any.whl (1.1 MB)\n",
      "\u001b[K     |████████████████████████████████| 1.1 MB 44.0 MB/s eta 0:00:01\n",
      "\u001b[?25hRequirement already satisfied: requests in /home/mp74207/anaconda3/envs/cosmo38/lib/python3.8/site-packages (from ipyvolume>=0.5.0->glue-jupyter==0.2.dev173+g8867d82) (2.24.0)\n",
      "Collecting pythreejs>=1.0.0\n",
      "  Downloading pythreejs-2.2.0-py2.py3-none-any.whl (4.4 MB)\n",
      "\u001b[K     |████████████████████████████████| 4.4 MB 38.8 MB/s eta 0:00:01\n",
      "\u001b[?25hRequirement already satisfied: python-dateutil>=2.7.3 in /home/mp74207/anaconda3/envs/cosmo38/lib/python3.8/site-packages (from pandas->bqplot>=0.12.17->glue-jupyter==0.2.dev173+g8867d82) (2.8.1)\n",
      "Requirement already satisfied: pytz>=2017.2 in /home/mp74207/anaconda3/envs/cosmo38/lib/python3.8/site-packages (from pandas->bqplot>=0.12.17->glue-jupyter==0.2.dev173+g8867d82) (2020.1)\n",
      "Requirement already satisfied: cycler>=0.10 in /home/mp74207/anaconda3/envs/cosmo38/lib/python3.8/site-packages (from matplotlib!=3.0.0,>=2.0.0->scikit-image->glue-jupyter==0.2.dev173+g8867d82) (0.10.0)\n",
      "Requirement already satisfied: kiwisolver>=1.0.1 in /home/mp74207/anaconda3/envs/cosmo38/lib/python3.8/site-packages (from matplotlib!=3.0.0,>=2.0.0->scikit-image->glue-jupyter==0.2.dev173+g8867d82) (1.2.0)\n",
      "Requirement already satisfied: pyparsing!=2.0.4,!=2.1.2,!=2.1.6,>=2.0.3 in /home/mp74207/anaconda3/envs/cosmo38/lib/python3.8/site-packages (from matplotlib!=3.0.0,>=2.0.0->scikit-image->glue-jupyter==0.2.dev173+g8867d82) (2.4.7)\n",
      "Requirement already satisfied: certifi>=2020.06.20 in /home/mp74207/anaconda3/envs/cosmo38/lib/python3.8/site-packages (from matplotlib!=3.0.0,>=2.0.0->scikit-image->glue-jupyter==0.2.dev173+g8867d82) (2020.6.20)\n",
      "Requirement already satisfied: decorator>=4.3.0 in /home/mp74207/anaconda3/envs/cosmo38/lib/python3.8/site-packages (from networkx>=2.0->scikit-image->glue-jupyter==0.2.dev173+g8867d82) (4.4.2)\n",
      "Requirement already satisfied: jsonschema!=2.5.0,>=2.4 in /home/mp74207/anaconda3/envs/cosmo38/lib/python3.8/site-packages (from nbformat>=4.2.0->ipywidgets>=7.4.0->glue-jupyter==0.2.dev173+g8867d82) (3.2.0)\n",
      "Requirement already satisfied: pexpect>4.3; sys_platform != \"win32\" in /home/mp74207/anaconda3/envs/cosmo38/lib/python3.8/site-packages (from ipython>=4.0.0; python_version >= \"3.3\"->ipywidgets>=7.4.0->glue-jupyter==0.2.dev173+g8867d82) (4.8.0)\n",
      "Requirement already satisfied: pickleshare in /home/mp74207/anaconda3/envs/cosmo38/lib/python3.8/site-packages (from ipython>=4.0.0; python_version >= \"3.3\"->ipywidgets>=7.4.0->glue-jupyter==0.2.dev173+g8867d82) (0.7.5)\n",
      "Requirement already satisfied: pygments in /home/mp74207/anaconda3/envs/cosmo38/lib/python3.8/site-packages (from ipython>=4.0.0; python_version >= \"3.3\"->ipywidgets>=7.4.0->glue-jupyter==0.2.dev173+g8867d82) (2.7.0)\n",
      "Requirement already satisfied: jedi>=0.10 in /home/mp74207/anaconda3/envs/cosmo38/lib/python3.8/site-packages (from ipython>=4.0.0; python_version >= \"3.3\"->ipywidgets>=7.4.0->glue-jupyter==0.2.dev173+g8867d82) (0.17.1)\n",
      "Requirement already satisfied: backcall in /home/mp74207/anaconda3/envs/cosmo38/lib/python3.8/site-packages (from ipython>=4.0.0; python_version >= \"3.3\"->ipywidgets>=7.4.0->glue-jupyter==0.2.dev173+g8867d82) (0.2.0)\n",
      "Requirement already satisfied: prompt-toolkit!=3.0.0,!=3.0.1,<3.1.0,>=2.0.0 in /home/mp74207/anaconda3/envs/cosmo38/lib/python3.8/site-packages (from ipython>=4.0.0; python_version >= \"3.3\"->ipywidgets>=7.4.0->glue-jupyter==0.2.dev173+g8867d82) (3.0.7)\n",
      "Requirement already satisfied: six in /home/mp74207/anaconda3/envs/cosmo38/lib/python3.8/site-packages (from h5py>=2.4->glue-core@ git+https://github.com/glue-viz/glue->glue-jupyter==0.2.dev173+g8867d82) (1.15.0)\n",
      "Requirement already satisfied: fast-histogram>=0.3 in /home/mp74207/anaconda3/envs/cosmo38/lib/python3.8/site-packages (from mpl-scatter-density>=0.5->glue-core@ git+https://github.com/glue-viz/glue->glue-jupyter==0.2.dev173+g8867d82) (0.7)\n",
      "Requirement already satisfied: mistune<2,>=0.8.1 in /home/mp74207/anaconda3/envs/cosmo38/lib/python3.8/site-packages (from nbconvert->notebook>=4.0->glue-jupyter==0.2.dev173+g8867d82) (0.8.4)\n",
      "Requirement already satisfied: nbclient<0.6.0,>=0.5.0 in /home/mp74207/anaconda3/envs/cosmo38/lib/python3.8/site-packages (from nbconvert->notebook>=4.0->glue-jupyter==0.2.dev173+g8867d82) (0.5.0)\n",
      "Requirement already satisfied: jupyterlab-pygments in /home/mp74207/anaconda3/envs/cosmo38/lib/python3.8/site-packages (from nbconvert->notebook>=4.0->glue-jupyter==0.2.dev173+g8867d82) (0.1.1)\n",
      "Requirement already satisfied: entrypoints>=0.2.2 in /home/mp74207/anaconda3/envs/cosmo38/lib/python3.8/site-packages (from nbconvert->notebook>=4.0->glue-jupyter==0.2.dev173+g8867d82) (0.3)\n",
      "Requirement already satisfied: bleach in /home/mp74207/anaconda3/envs/cosmo38/lib/python3.8/site-packages (from nbconvert->notebook>=4.0->glue-jupyter==0.2.dev173+g8867d82) (3.2.0)\n",
      "Requirement already satisfied: testpath in /home/mp74207/anaconda3/envs/cosmo38/lib/python3.8/site-packages (from nbconvert->notebook>=4.0->glue-jupyter==0.2.dev173+g8867d82) (0.4.4)\n",
      "Requirement already satisfied: pandocfilters>=1.4.1 in /home/mp74207/anaconda3/envs/cosmo38/lib/python3.8/site-packages (from nbconvert->notebook>=4.0->glue-jupyter==0.2.dev173+g8867d82) (1.4.2)\n",
      "Requirement already satisfied: defusedxml in /home/mp74207/anaconda3/envs/cosmo38/lib/python3.8/site-packages (from nbconvert->notebook>=4.0->glue-jupyter==0.2.dev173+g8867d82) (0.6.0)\n",
      "Requirement already satisfied: MarkupSafe>=0.23 in /home/mp74207/anaconda3/envs/cosmo38/lib/python3.8/site-packages (from jinja2->notebook>=4.0->glue-jupyter==0.2.dev173+g8867d82) (1.1.1)\n",
      "Requirement already satisfied: cffi>=1.0.0 in /home/mp74207/anaconda3/envs/cosmo38/lib/python3.8/site-packages (from argon2-cffi->notebook>=4.0->glue-jupyter==0.2.dev173+g8867d82) (1.14.2)\n",
      "Requirement already satisfied: chardet<4,>=3.0.2 in /home/mp74207/anaconda3/envs/cosmo38/lib/python3.8/site-packages (from requests->ipyvolume>=0.5.0->glue-jupyter==0.2.dev173+g8867d82) (3.0.4)\n",
      "Requirement already satisfied: idna<3,>=2.5 in /home/mp74207/anaconda3/envs/cosmo38/lib/python3.8/site-packages (from requests->ipyvolume>=0.5.0->glue-jupyter==0.2.dev173+g8867d82) (2.10)\n",
      "Requirement already satisfied: urllib3!=1.25.0,!=1.25.1,<1.26,>=1.21.1 in /home/mp74207/anaconda3/envs/cosmo38/lib/python3.8/site-packages (from requests->ipyvolume>=0.5.0->glue-jupyter==0.2.dev173+g8867d82) (1.25.10)\n",
      "Collecting ipydatawidgets>=1.1.1\n",
      "  Downloading ipydatawidgets-4.0.1-py2.py3-none-any.whl (250 kB)\n",
      "\u001b[K     |████████████████████████████████| 250 kB 31.7 MB/s eta 0:00:01\n",
      "\u001b[?25hRequirement already satisfied: attrs>=17.4.0 in /home/mp74207/anaconda3/envs/cosmo38/lib/python3.8/site-packages (from jsonschema!=2.5.0,>=2.4->nbformat>=4.2.0->ipywidgets>=7.4.0->glue-jupyter==0.2.dev173+g8867d82) (20.2.0)\n",
      "Requirement already satisfied: pyrsistent>=0.14.0 in /home/mp74207/anaconda3/envs/cosmo38/lib/python3.8/site-packages (from jsonschema!=2.5.0,>=2.4->nbformat>=4.2.0->ipywidgets>=7.4.0->glue-jupyter==0.2.dev173+g8867d82) (0.17.3)\n",
      "Requirement already satisfied: ptyprocess>=0.5 in /home/mp74207/anaconda3/envs/cosmo38/lib/python3.8/site-packages (from pexpect>4.3; sys_platform != \"win32\"->ipython>=4.0.0; python_version >= \"3.3\"->ipywidgets>=7.4.0->glue-jupyter==0.2.dev173+g8867d82) (0.6.0)\n",
      "Requirement already satisfied: parso<0.8.0,>=0.7.0 in /home/mp74207/anaconda3/envs/cosmo38/lib/python3.8/site-packages (from jedi>=0.10->ipython>=4.0.0; python_version >= \"3.3\"->ipywidgets>=7.4.0->glue-jupyter==0.2.dev173+g8867d82) (0.7.0)\n",
      "Requirement already satisfied: wcwidth in /home/mp74207/anaconda3/envs/cosmo38/lib/python3.8/site-packages (from prompt-toolkit!=3.0.0,!=3.0.1,<3.1.0,>=2.0.0->ipython>=4.0.0; python_version >= \"3.3\"->ipywidgets>=7.4.0->glue-jupyter==0.2.dev173+g8867d82) (0.2.5)\n",
      "Requirement already satisfied: async-generator in /home/mp74207/anaconda3/envs/cosmo38/lib/python3.8/site-packages (from nbclient<0.6.0,>=0.5.0->nbconvert->notebook>=4.0->glue-jupyter==0.2.dev173+g8867d82) (1.10)\n",
      "Requirement already satisfied: nest-asyncio in /home/mp74207/anaconda3/envs/cosmo38/lib/python3.8/site-packages (from nbclient<0.6.0,>=0.5.0->nbconvert->notebook>=4.0->glue-jupyter==0.2.dev173+g8867d82) (1.4.0)\n",
      "Requirement already satisfied: packaging in /home/mp74207/anaconda3/envs/cosmo38/lib/python3.8/site-packages (from bleach->nbconvert->notebook>=4.0->glue-jupyter==0.2.dev173+g8867d82) (20.4)\n",
      "Requirement already satisfied: webencodings in /home/mp74207/anaconda3/envs/cosmo38/lib/python3.8/site-packages (from bleach->nbconvert->notebook>=4.0->glue-jupyter==0.2.dev173+g8867d82) (0.5.1)\n",
      "Requirement already satisfied: pycparser in /home/mp74207/anaconda3/envs/cosmo38/lib/python3.8/site-packages (from cffi>=1.0.0->argon2-cffi->notebook>=4.0->glue-jupyter==0.2.dev173+g8867d82) (2.20)\n",
      "Building wheels for collected packages: glue-jupyter\n"
     ]
    },
    {
     "name": "stdout",
     "output_type": "stream",
     "text": [
      "  Building wheel for glue-jupyter (PEP 517) ... \u001b[?25ldone\n",
      "\u001b[?25h  Created wheel for glue-jupyter: filename=glue_jupyter-0.2.dev173+g8867d82-py3-none-any.whl size=103234 sha256=a474a99481b430588ebfb1d8dc8ed6f08d71d3c02195720898a6f3c641d8c053\n",
      "  Stored in directory: /tmp/pip-ephem-wheel-cache-xbgwl5vc/wheels/9d/78/b9/d51c60d53ea802d8c58a8d3b5ae188919273c7f09213511455\n",
      "Successfully built glue-jupyter\n",
      "Installing collected packages: traittypes, widgetsnbextension, ipywidgets, bqplot, bqplot-image-gl, ipyvue, ipyvuetify, ipywebrtc, ipydatawidgets, pythreejs, ipyvolume, ipympl, glue-jupyter\n",
      "Successfully installed bqplot-0.12.17 bqplot-image-gl-1.0.0 glue-jupyter-0.2.dev173+g8867d82 ipydatawidgets-4.0.1 ipympl-0.5.8 ipyvolume-0.5.2 ipyvue-1.4.0 ipyvuetify-1.5.1 ipywebrtc-0.5.0 ipywidgets-7.5.1 pythreejs-2.2.0 traittypes-0.2.1 widgetsnbextension-3.5.1\n"
     ]
    }
   ],
   "source": [
    "!pip install git+https://github.com/glue-viz/glue-jupyter.git"
   ]
  },
  {
   "cell_type": "code",
   "execution_count": 6,
   "metadata": {},
   "outputs": [
    {
     "name": "stdout",
     "output_type": "stream",
     "text": [
      "Requirement already up-to-date: qtpy in /home/mp74207/anaconda3/envs/cosmo38/lib/python3.8/site-packages (1.9.0)\r\n"
     ]
    }
   ],
   "source": [
    "!pip install qtpy --upgrade\n"
   ]
  },
  {
   "cell_type": "code",
   "execution_count": 8,
   "metadata": {},
   "outputs": [
    {
     "name": "stdout",
     "output_type": "stream",
     "text": [
      "Collecting package metadata (current_repodata.json): done\n",
      "Solving environment: failed with initial frozen solve. Retrying with flexible solve.\n",
      "Collecting package metadata (repodata.json): done\n",
      "Solving environment: failed with initial frozen solve. Retrying with flexible solve.\n",
      "\n",
      "PackagesNotFoundError: The following packages are not available from current channels:\n",
      "\n",
      "  - python==3.4\n",
      "\n",
      "Current channels:\n",
      "\n",
      "  - https://conda.anaconda.org/conda-forge/linux-64\n",
      "  - https://conda.anaconda.org/conda-forge/noarch\n",
      "  - https://repo.anaconda.com/pkgs/main/linux-64\n",
      "  - https://repo.anaconda.com/pkgs/main/noarch\n",
      "  - https://repo.anaconda.com/pkgs/r/linux-64\n",
      "  - https://repo.anaconda.com/pkgs/r/noarch\n",
      "\n",
      "To search for alternate channels that may provide the conda package you're\n",
      "looking for, navigate to\n",
      "\n",
      "    https://anaconda.org\n",
      "\n",
      "and use the search bar at the top of the page.\n",
      "\n",
      "\n"
     ]
    }
   ],
   "source": [
    "!conda install python==3.4"
   ]
  },
  {
   "cell_type": "code",
   "execution_count": null,
   "metadata": {},
   "outputs": [],
   "source": []
  }
 ],
 "metadata": {
  "kernelspec": {
   "display_name": "Python [conda env:cosmo38]",
   "language": "python",
   "name": "conda-env-cosmo38-py"
  },
  "language_info": {
   "codemirror_mode": {
    "name": "ipython",
    "version": 3
   },
   "file_extension": ".py",
   "mimetype": "text/x-python",
   "name": "python",
   "nbconvert_exporter": "python",
   "pygments_lexer": "ipython3",
   "version": "3.8.5"
  }
 },
 "nbformat": 4,
 "nbformat_minor": 4
}
