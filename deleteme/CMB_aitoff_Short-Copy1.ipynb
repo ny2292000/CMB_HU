{
 "cells": [
  {
   "cell_type": "code",
   "execution_count": 1,
   "metadata": {},
   "outputs": [
    {
     "name": "stdout",
     "output_type": "stream",
     "text": [
      "NSIDE = 1024\n",
      "ORDERING = NESTED in fits file\n",
      "INDXSCHM = IMPLICIT\n"
     ]
    },
    {
     "name": "stderr",
     "output_type": "stream",
     "text": [
      "/home/mp74207/anaconda3/envs/Cosmo36/lib/python3.6/site-packages/healpy/fitsfunc.py:403: UserWarning: No INDXSCHM keyword in header file : assume IMPLICIT\n",
      "  warnings.warn(\"No INDXSCHM keyword in header file : \" \"assume {}\".format(schm))\n"
     ]
    },
    {
     "name": "stdout",
     "output_type": "stream",
     "text": [
      "Ordering converted to RING\n"
     ]
    },
    {
     "ename": "ModuleNotFoundError",
     "evalue": "No module named 'camb'",
     "output_type": "error",
     "traceback": [
      "\u001b[0;31m---------------------------------------------------------------------------\u001b[0m",
      "\u001b[0;31mModuleNotFoundError\u001b[0m                       Traceback (most recent call last)",
      "\u001b[0;32m<ipython-input-1-47755428d6c8>\u001b[0m in \u001b[0;36m<module>\u001b[0;34m\u001b[0m\n\u001b[1;32m     13\u001b[0m \u001b[0;32mfrom\u001b[0m \u001b[0mscipy\u001b[0m\u001b[0;34m.\u001b[0m\u001b[0mstats\u001b[0m \u001b[0;32mimport\u001b[0m \u001b[0mnorm\u001b[0m\u001b[0;34m\u001b[0m\u001b[0;34m\u001b[0m\u001b[0m\n\u001b[1;32m     14\u001b[0m \u001b[0;32mimport\u001b[0m \u001b[0mmatplotlib\u001b[0m\u001b[0;34m.\u001b[0m\u001b[0mmlab\u001b[0m \u001b[0;32mas\u001b[0m \u001b[0mmlab\u001b[0m\u001b[0;34m\u001b[0m\u001b[0;34m\u001b[0m\u001b[0m\n\u001b[0;32m---> 15\u001b[0;31m \u001b[0;32mimport\u001b[0m \u001b[0mcamb\u001b[0m\u001b[0;34m\u001b[0m\u001b[0;34m\u001b[0m\u001b[0m\n\u001b[0m\u001b[1;32m     16\u001b[0m \u001b[0;32mfrom\u001b[0m \u001b[0mlib3\u001b[0m \u001b[0;32mimport\u001b[0m \u001b[0;34m*\u001b[0m\u001b[0;34m\u001b[0m\u001b[0;34m\u001b[0m\u001b[0m\n\u001b[1;32m     17\u001b[0m \u001b[0;32mimport\u001b[0m \u001b[0mhealpy\u001b[0m \u001b[0;32mas\u001b[0m \u001b[0mhp\u001b[0m\u001b[0;34m\u001b[0m\u001b[0;34m\u001b[0m\u001b[0m\n",
      "\u001b[0;31mModuleNotFoundError\u001b[0m: No module named 'camb'"
     ]
    }
   ],
   "source": [
    "%matplotlib inline\n",
    "import matplotlib.pyplot as plt\n",
    "import pandas as pd\n",
    "import numpy as np\n",
    "from parameters import *\n",
    "import scipy as sci\n",
    "import scipy.special as sp\n",
    "import matplotlib\n",
    "from mpl_toolkits.mplot3d import Axes3D\n",
    "from matplotlib import cm, colors\n",
    "from scipy import integrate\n",
    "from matplotlib.colors import ListedColormap, LinearSegmentedColormap\n",
    "from scipy.stats import norm\n",
    "import matplotlib.mlab as mlab\n",
    "import camb\n",
    "from lib3 import *\n",
    "import healpy as hp\n",
    "\n",
    "# Before you start plotting data lets create a nice cmap\n",
    "cmap = cm.RdBu_r\n",
    "cmap.set_under(\"w\")\n",
    "cmapseismic = cm.seismic\n",
    "cmapseismic.set_under(\"w\")"
   ]
  },
  {
   "cell_type": "code",
   "execution_count": null,
   "metadata": {},
   "outputs": [],
   "source": [
    "# planck_IQU_SMICA= hp.read_map(\"./Data SupernovaLBLgov/COM_CMB_IQU-smica-nosz_2048_R3.00_full.fits\")\n",
    "# planck_IQU_SMICA= hp.read_map(\"./Data SupernovaLBLgov/COM_CMB_IQU-smica_2048_R3.00_full.fits\")\n",
    "planck_IQU_COM= hp.fitsfunc.read_map(\"./Data SupernovaLBLgov/COM_CMB_IQU-commander_2048_R3.00_full.fits\", dtype=float)\n",
    "planck_IQU_NILC= hp.fitsfunc.read_map(\"./Data SupernovaLBLgov/COM_CMB_IQU-nilc_2048_R3.00_full.fits\", dtype=float)\n",
    "planck_IQU_SMICA= hp.fitsfunc.read_map(\"./Data SupernovaLBLgov/COM_CMB_IQU-smica_1024_R2.02_full.fits\", dtype=float)\n",
    "planck_theory_cl = np.loadtxt(\"./Data SupernovaLBLgov/COM_PowerSpect_CMB-base-plikHM-TTTEEE-lowl-lowE-lensing-minimum-theory_R3.01.txt\")"
   ]
  },
  {
   "cell_type": "code",
   "execution_count": null,
   "metadata": {},
   "outputs": [],
   "source": [
    "fig = plt.figure(1)\n",
    "hp.mollview(planck_IQU_SMICA, min=-0.0003, max=+0.0003,title=\"Planck Temperature Map\", fig=1, unit=\"K\", cmap=cm.RdBu_r)\n",
    "hp.graticule()"
   ]
  },
  {
   "cell_type": "code",
   "execution_count": null,
   "metadata": {},
   "outputs": [],
   "source": [
    "\n",
    "\n",
    "(mu, sigma) = norm.fit(planck_IQU_SMICA)\n",
    "fig, ax = plt.subplots()\n",
    "n, bins, patch = plt.hist(planck_IQU_SMICA, 600, density=1, facecolor=\"r\", alpha=0.25)\n",
    "y = norm.pdf(bins, mu,sigma)\n",
    "plt.plot(bins,y)\n",
    "plt.xlim(-0.0005,0.0005)\n",
    "plt.xlabel(\"Temperature/K\")\n",
    "plt.ylabel(\"Frequency\")\n",
    "plt.title(r\"Histogram of $12-N_{side}^2$ pixels from the Planck SMICA Map \", y=1.08)\n",
    "plt.show()"
   ]
  },
  {
   "cell_type": "code",
   "execution_count": null,
   "metadata": {},
   "outputs": [],
   "source": [
    "cp=camb.model.CAMBparams()\n",
    "TO=2.725\n",
    "H0=69\n",
    "cp.set_cosmology(TCMB=TO, H0=H0)\n",
    "cp.set_for_lmax(2600)\n",
    "cp.InitPower.set_params()"
   ]
  },
  {
   "cell_type": "code",
   "execution_count": null,
   "metadata": {},
   "outputs": [],
   "source": [
    "cp.validate()"
   ]
  },
  {
   "cell_type": "code",
   "execution_count": 2,
   "metadata": {},
   "outputs": [
    {
     "ename": "NameError",
     "evalue": "name 'camb' is not defined",
     "output_type": "error",
     "traceback": [
      "\u001b[0;31m---------------------------------------------------------------------------\u001b[0m",
      "\u001b[0;31mNameError\u001b[0m                                 Traceback (most recent call last)",
      "\u001b[0;32m<ipython-input-2-abe35036aad2>\u001b[0m in \u001b[0;36m<module>\u001b[0;34m\u001b[0m\n\u001b[0;32m----> 1\u001b[0;31m \u001b[0mresults\u001b[0m \u001b[0;34m=\u001b[0m \u001b[0mcamb\u001b[0m\u001b[0;34m.\u001b[0m\u001b[0mget_results\u001b[0m\u001b[0;34m(\u001b[0m\u001b[0mcp\u001b[0m\u001b[0;34m)\u001b[0m\u001b[0;34m\u001b[0m\u001b[0;34m\u001b[0m\u001b[0m\n\u001b[0m\u001b[1;32m      2\u001b[0m \u001b[0mpowers\u001b[0m \u001b[0;34m=\u001b[0m \u001b[0mresults\u001b[0m\u001b[0;34m.\u001b[0m\u001b[0mget_cmb_power_spectra\u001b[0m\u001b[0;34m(\u001b[0m\u001b[0;34m)\u001b[0m\u001b[0;34m\u001b[0m\u001b[0;34m\u001b[0m\u001b[0m\n\u001b[1;32m      3\u001b[0m \u001b[0;32mfor\u001b[0m \u001b[0mname\u001b[0m \u001b[0;32min\u001b[0m \u001b[0mpowers\u001b[0m\u001b[0;34m:\u001b[0m \u001b[0mprint\u001b[0m\u001b[0;34m(\u001b[0m\u001b[0mname\u001b[0m\u001b[0;34m)\u001b[0m\u001b[0;34m\u001b[0m\u001b[0;34m\u001b[0m\u001b[0m\n",
      "\u001b[0;31mNameError\u001b[0m: name 'camb' is not defined"
     ]
    }
   ],
   "source": [
    "results = camb.get_results(cp)\n",
    "powers = results.get_cmb_power_spectra()\n",
    "for name in powers: print(name)"
   ]
  },
  {
   "cell_type": "code",
   "execution_count": 3,
   "metadata": {},
   "outputs": [
    {
     "ename": "NameError",
     "evalue": "name 'powers' is not defined",
     "output_type": "error",
     "traceback": [
      "\u001b[0;31m---------------------------------------------------------------------------\u001b[0m",
      "\u001b[0;31mNameError\u001b[0m                                 Traceback (most recent call last)",
      "\u001b[0;32m<ipython-input-3-d80cd419cabf>\u001b[0m in \u001b[0;36m<module>\u001b[0;34m\u001b[0m\n\u001b[0;32m----> 1\u001b[0;31m \u001b[0mtotCL\u001b[0m\u001b[0;34m=\u001b[0m\u001b[0mpowers\u001b[0m\u001b[0;34m[\u001b[0m\u001b[0;34m'total'\u001b[0m\u001b[0;34m]\u001b[0m\u001b[0;34m\u001b[0m\u001b[0;34m\u001b[0m\u001b[0m\n\u001b[0m\u001b[1;32m      2\u001b[0m \u001b[0mtOeq\u001b[0m\u001b[0;34m=\u001b[0m \u001b[0mTO\u001b[0m\u001b[0;34m**\u001b[0m\u001b[0;36m2\u001b[0m\u001b[0;34m\u001b[0m\u001b[0;34m\u001b[0m\u001b[0m\n\u001b[1;32m      3\u001b[0m \u001b[0mtotCL\u001b[0m\u001b[0;34m=\u001b[0m\u001b[0mtOeq\u001b[0m\u001b[0;34m*\u001b[0m\u001b[0mtotCL\u001b[0m\u001b[0;34m\u001b[0m\u001b[0;34m\u001b[0m\u001b[0m\n\u001b[1;32m      4\u001b[0m \u001b[0mtotCL\u001b[0m\u001b[0;34m=\u001b[0m\u001b[0mtotCL\u001b[0m\u001b[0;34m*\u001b[0m\u001b[0;36m1E12\u001b[0m\u001b[0;34m\u001b[0m\u001b[0;34m\u001b[0m\u001b[0m\n\u001b[1;32m      5\u001b[0m \u001b[0mprint\u001b[0m\u001b[0;34m(\u001b[0m\u001b[0mtotCL\u001b[0m\u001b[0;34m.\u001b[0m\u001b[0mshape\u001b[0m\u001b[0;34m)\u001b[0m\u001b[0;34m\u001b[0m\u001b[0;34m\u001b[0m\u001b[0m\n",
      "\u001b[0;31mNameError\u001b[0m: name 'powers' is not defined"
     ]
    }
   ],
   "source": [
    "totCL=powers['total']\n",
    "tOeq= TO**2\n",
    "totCL=tOeq*totCL\n",
    "totCL=totCL*1E12\n",
    "print(totCL.shape)\n"
   ]
  },
  {
   "cell_type": "code",
   "execution_count": 4,
   "metadata": {},
   "outputs": [
    {
     "ename": "NameError",
     "evalue": "name 'totCL' is not defined",
     "output_type": "error",
     "traceback": [
      "\u001b[0;31m---------------------------------------------------------------------------\u001b[0m",
      "\u001b[0;31mNameError\u001b[0m                                 Traceback (most recent call last)",
      "\u001b[0;32m<ipython-input-4-999465d7dc28>\u001b[0m in \u001b[0;36m<module>\u001b[0;34m\u001b[0m\n\u001b[1;32m      1\u001b[0m \u001b[0mplt\u001b[0m\u001b[0;34m.\u001b[0m\u001b[0mrcParams\u001b[0m\u001b[0;34m.\u001b[0m\u001b[0mupdate\u001b[0m\u001b[0;34m(\u001b[0m\u001b[0;34m{\u001b[0m\u001b[0;34m'font.size'\u001b[0m\u001b[0;34m:\u001b[0m\u001b[0;36m14\u001b[0m\u001b[0;34m}\u001b[0m\u001b[0;34m)\u001b[0m\u001b[0;34m\u001b[0m\u001b[0;34m\u001b[0m\u001b[0m\n\u001b[0;32m----> 2\u001b[0;31m \u001b[0mls\u001b[0m \u001b[0;34m=\u001b[0m \u001b[0mnp\u001b[0m\u001b[0;34m.\u001b[0m\u001b[0marange\u001b[0m\u001b[0;34m(\u001b[0m\u001b[0mtotCL\u001b[0m\u001b[0;34m.\u001b[0m\u001b[0mshape\u001b[0m\u001b[0;34m[\u001b[0m\u001b[0;36m0\u001b[0m\u001b[0;34m]\u001b[0m\u001b[0;34m)\u001b[0m\u001b[0;34m\u001b[0m\u001b[0;34m\u001b[0m\u001b[0m\n\u001b[0m\u001b[1;32m      3\u001b[0m \u001b[0mfig\u001b[0m\u001b[0;34m,\u001b[0m \u001b[0max\u001b[0m \u001b[0;34m=\u001b[0m \u001b[0mplt\u001b[0m\u001b[0;34m.\u001b[0m\u001b[0msubplots\u001b[0m\u001b[0;34m(\u001b[0m\u001b[0;36m3\u001b[0m\u001b[0;34m,\u001b[0m\u001b[0;36m1\u001b[0m\u001b[0;34m,\u001b[0m \u001b[0mfigsize\u001b[0m\u001b[0;34m=\u001b[0m\u001b[0;34m[\u001b[0m\u001b[0;36m12\u001b[0m\u001b[0;34m,\u001b[0m\u001b[0;36m20\u001b[0m\u001b[0;34m]\u001b[0m\u001b[0;34m)\u001b[0m\u001b[0;34m\u001b[0m\u001b[0;34m\u001b[0m\u001b[0m\n\u001b[1;32m      4\u001b[0m \u001b[0max\u001b[0m\u001b[0;34m[\u001b[0m\u001b[0;36m0\u001b[0m\u001b[0;34m]\u001b[0m\u001b[0;34m.\u001b[0m\u001b[0mset_xlabel\u001b[0m\u001b[0;34m(\u001b[0m\u001b[0;34m'$l$'\u001b[0m\u001b[0;34m)\u001b[0m\u001b[0;34m\u001b[0m\u001b[0;34m\u001b[0m\u001b[0m\n\u001b[1;32m      5\u001b[0m \u001b[0max\u001b[0m\u001b[0;34m[\u001b[0m\u001b[0;36m0\u001b[0m\u001b[0;34m]\u001b[0m\u001b[0;34m.\u001b[0m\u001b[0mset_ylabel\u001b[0m\u001b[0;34m(\u001b[0m\u001b[0;34m'$l(l+1)C_l/2$'\u001b[0m\u001b[0;34m)\u001b[0m\u001b[0;34m\u001b[0m\u001b[0;34m\u001b[0m\u001b[0m\n",
      "\u001b[0;31mNameError\u001b[0m: name 'totCL' is not defined"
     ]
    }
   ],
   "source": [
    "plt.rcParams.update({'font.size':14})\n",
    "ls = np.arange(totCL.shape[0])\n",
    "fig, ax = plt.subplots(3,1, figsize=[12,20])\n",
    "ax[0].set_xlabel('$l$')\n",
    "ax[0].set_ylabel('$l(l+1)C_l/2$')\n",
    "ax[0].plot(planck_theory_cl[:,0],planck_theory_cl[:,1], \"-r\", label=\"Planck Best Fit\")\n",
    "ax[0].plot(ls,totCL[:,0], \"-k\", label=\"CAMB test\")\n",
    "ax[0].set_xscale(\"log\")\n",
    "ax[0].set_yscale(\"log\")\n",
    "ax[0].legend(loc=\"lower left\")\n",
    "ax[0].set_title(\"$TT$\")\n",
    "\n",
    "ax[1].plot(ls,totCL[:,1], \"-k\")\n",
    "ax[1].set_xlabel('$l$')\n",
    "ax[1].set_ylabel('$l(l+1)C_l/2$')\n",
    "ax[1].set_xscale(\"log\")\n",
    "ax[1].set_yscale(\"log\")\n",
    "ax[1].set_title(\"$EE$\")\n",
    "\n",
    "ax[2].plot(ls,totCL[:,3], \"-k\")\n",
    "ax[2].set_xlabel('$l$')\n",
    "ax[2].set_ylabel('$l(l+1)C_l/2$')\n",
    "ax[2].set_xscale(\"log\")\n",
    "ax[2].set_title(\"$TE$\")\n",
    "\n",
    "for ax0 in ax.reshape(-1):ax0.set_xlim(2.2500)"
   ]
  },
  {
   "cell_type": "code",
   "execution_count": 5,
   "metadata": {},
   "outputs": [
    {
     "ename": "NameError",
     "evalue": "name 'theta' is not defined",
     "output_type": "error",
     "traceback": [
      "\u001b[0;31m---------------------------------------------------------------------------\u001b[0m",
      "\u001b[0;31mNameError\u001b[0m                                 Traceback (most recent call last)",
      "\u001b[0;32m<ipython-input-5-369a653cd273>\u001b[0m in \u001b[0;36m<module>\u001b[0;34m\u001b[0m\n\u001b[1;32m      1\u001b[0m \u001b[0ml\u001b[0m\u001b[0;34m=\u001b[0m\u001b[0;36m0\u001b[0m\u001b[0;34m;\u001b[0m \u001b[0mm\u001b[0m\u001b[0;34m=\u001b[0m\u001b[0;36m0\u001b[0m\u001b[0;34m\u001b[0m\u001b[0;34m\u001b[0m\u001b[0m\n\u001b[0;32m----> 2\u001b[0;31m \u001b[0mfcolors\u001b[0m \u001b[0;34m=\u001b[0m \u001b[0msp\u001b[0m\u001b[0;34m.\u001b[0m\u001b[0msph_harm\u001b[0m\u001b[0;34m(\u001b[0m\u001b[0mm\u001b[0m\u001b[0;34m,\u001b[0m\u001b[0ml\u001b[0m\u001b[0;34m,\u001b[0m \u001b[0mtheta\u001b[0m\u001b[0;34m,\u001b[0m \u001b[0mphi\u001b[0m\u001b[0;34m)\u001b[0m\u001b[0;34m.\u001b[0m\u001b[0mreal\u001b[0m\u001b[0;34m\u001b[0m\u001b[0;34m\u001b[0m\u001b[0m\n\u001b[0m\u001b[1;32m      3\u001b[0m \u001b[0mplot_harmonics\u001b[0m\u001b[0;34m(\u001b[0m\u001b[0mfcolors\u001b[0m\u001b[0;34m,\u001b[0m \u001b[0mx\u001b[0m\u001b[0;34m,\u001b[0m \u001b[0my\u001b[0m\u001b[0;34m,\u001b[0m \u001b[0mz\u001b[0m\u001b[0;34m)\u001b[0m\u001b[0;34m\u001b[0m\u001b[0;34m\u001b[0m\u001b[0m\n",
      "\u001b[0;31mNameError\u001b[0m: name 'theta' is not defined"
     ]
    }
   ],
   "source": [
    "l=0; m=0\n",
    "fcolors = sp.sph_harm(m,l, theta, phi).real\n",
    "plot_harmonics(fcolors, x, y, z)"
   ]
  },
  {
   "cell_type": "code",
   "execution_count": null,
   "metadata": {},
   "outputs": [],
   "source": []
  },
  {
   "cell_type": "code",
   "execution_count": null,
   "metadata": {},
   "outputs": [],
   "source": [
    "plot_l(2)"
   ]
  },
  {
   "cell_type": "code",
   "execution_count": null,
   "metadata": {},
   "outputs": [],
   "source": [
    "plot_l(3)"
   ]
  },
  {
   "cell_type": "code",
   "execution_count": null,
   "metadata": {},
   "outputs": [],
   "source": [
    "plot_l(4)"
   ]
  },
  {
   "cell_type": "code",
   "execution_count": null,
   "metadata": {},
   "outputs": [],
   "source": [
    "ls= np.arange(1024)\n",
    "beam_arcmin = 30.0\n",
    "fig, ax = plt.subplots(1,1, figsize=[10,10])\n",
    "ax.plot(ls, B_l(beam_arcmin, ls), color=\"k\")\n",
    "ax.set_xlabel(r'$\\ell$')\n",
    "ax.set_ylabel(r'$B_\\ell(\\theta_s)$')\n",
    "ax.set_title(r\"Beam Window Function for $\\theta_{FWHM}$ of 30'\" )"
   ]
  },
  {
   "cell_type": "code",
   "execution_count": null,
   "metadata": {},
   "outputs": [],
   "source": [
    "white_noise = np.ma.asarray(np.random.normal(0,0.0001, 12*1024**2))"
   ]
  },
  {
   "cell_type": "code",
   "execution_count": null,
   "metadata": {},
   "outputs": [],
   "source": [
    "fig = plt.figure()\n",
    "hp.mollview(white_noise, min=-0.0005, max=0.0005, title=\"White Noise Map\", fig=1, unit=r'Temperature/K', cmap=cmap)"
   ]
  },
  {
   "cell_type": "code",
   "execution_count": null,
   "metadata": {},
   "outputs": [],
   "source": [
    "plt.hist(white_noise, bins=np.arange(-0.0005,0.0005, 0.00002), color='b', alpha=0.2 )\n",
    "plt.xlim(-0.0005, 0.0005)\n",
    "plt.xlabel(\"temperature/K\")\n",
    "plt.ylabel('Frequency')\n",
    "plt.title(\"Histogram of $12N_(side)^2$ random sampels from a normal (Gaussian) distribution \")"
   ]
  },
  {
   "cell_type": "code",
   "execution_count": null,
   "metadata": {},
   "outputs": [],
   "source": []
  },
  {
   "cell_type": "code",
   "execution_count": null,
   "metadata": {},
   "outputs": [],
   "source": [
    "\n",
    "(mu,sigma) = norm.fit(planck_IQU_SMICA)\n",
    "n, bins, patches = plt.hist(planck_IQU_SMICA, 600, density=1, facecolor='r', alpha=0.25)\n",
    "y = norm.pdf(bins, mu, sigma)\n",
    "l=plt.plot(bins, y, 'r--', linewidth= 2)\n",
    "plt.xlim(-0.0004,0.0004)\n",
    "n, bins, patches = plt.hist(white_noise, 600, density=1, facecolor='b', alpha=0.25)"
   ]
  },
  {
   "cell_type": "code",
   "execution_count": null,
   "metadata": {},
   "outputs": [],
   "source": [
    "fig = plt.figure(1, figsize=[12,12])\n",
    "hp.mollview(planck_IQU_SMICA, min=-0.0004, max=+0.0004,title=\"Planck Temperature Map\", fig=1, unit=\"K\", cmap=cm.RdBu_r)"
   ]
  },
  {
   "cell_type": "code",
   "execution_count": null,
   "metadata": {},
   "outputs": [],
   "source": [
    "cl_SMICA = hp.anafast(planck_IQU_SMICA, lmax=1024)\n",
    "cl_COM = hp.anafast(planck_IQU_COM, lmax=1024)\n",
    "cl_NILC = hp.anafast(planck_IQU_NILC, lmax=1024)\n",
    "ell = np.arange(len(cl_SMICA))"
   ]
  },
  {
   "cell_type": "code",
   "execution_count": null,
   "metadata": {},
   "outputs": [],
   "source": [
    "pl = hp.sphtfunc.pixwin(1024)"
   ]
  },
  {
   "cell_type": "code",
   "execution_count": null,
   "metadata": {},
   "outputs": [],
   "source": [
    "# Deconvolve the beam and the pixel window function\n",
    "dl_SMICA = cl_SMICA/(B_l(10.0, ell)**2*pl[0:1025]**2)\n",
    "dl_COM = cl_COM/(B_l(10.0, ell)**2*pl[0:1025]**2)\n",
    "dl_NILC = cl_NILC/(B_l(10.0, ell)**2*pl[0:1025]**2)\n",
    "\n",
    "dl_SMICA = (ell*(ell+1)* dl_SMICA/(2*math.pi))/1E-12\n",
    "dl_COM = (ell*(ell+1)* dl_COM/(2*math.pi))/1E-12\n",
    "dl_NILC = (ell*(ell+1)* dl_NILC/(2*math.pi))/1E-12"
   ]
  },
  {
   "cell_type": "code",
   "execution_count": null,
   "metadata": {},
   "outputs": [],
   "source": [
    "cl_white = hp.anafast(white_noise, lmax=1024)\n",
    "dl_white = (ell*(ell+1)* cl_white/(2*math.pi))/1E-12"
   ]
  },
  {
   "cell_type": "code",
   "execution_count": null,
   "metadata": {},
   "outputs": [],
   "source": [
    "fig = plt.figure(figsize=[12,12])\n",
    "ax = fig.add_subplot(111)\n",
    "ax.scatter(ell, dl_SMICA,\n",
    "          s=4, c='black', lw=0, label = \"SMICA\")\n",
    "ax.scatter(ell, dl_COM,\n",
    "          s=4, c='blue', lw=0, label = \"COM\")\n",
    "ax.scatter(ell, dl_NILC,\n",
    "          s=4, c='green', lw=0, label = \"NILC\")\n",
    "ax.scatter(ell, dl_white,\n",
    "          s=4, c='grey', lw=0, label = \"White Noise\")\n",
    "ax.set_xlabel(\"$ell(ell+1)C_ell/2\\pi \\, \\,(\\mu K^2)$\")\n",
    "\n",
    "ax.plot(planck_theory_cl[:,0], planck_theory_cl[:,1], '-r', label=\"Theory\")\n",
    "\n",
    "ax.set_ylabel('$\\ell$')\n",
    "ax.set_title(\"Angular Power Spectra\")\n",
    "ax.legend(loc=\"upper right\")\n",
    "# ax.set_yscale(\"log\")\n",
    "ax.set_xlim(2,1024)\n",
    "ax.set_ylim(2,7000)\n",
    "ax.grid()"
   ]
  },
  {
   "cell_type": "code",
   "execution_count": null,
   "metadata": {},
   "outputs": [],
   "source": []
  },
  {
   "cell_type": "code",
   "execution_count": null,
   "metadata": {},
   "outputs": [],
   "source": []
  },
  {
   "cell_type": "code",
   "execution_count": null,
   "metadata": {},
   "outputs": [],
   "source": [
    "\n",
    "# Number of sample points\n",
    "N = 1000\n",
    "a1=1.8\n",
    "a2=3.5\n",
    "a3=-0.6\n",
    "phase0=0.25\n",
    "nx=120\n",
    "ny=100\n",
    "nz=140\n",
    "\n",
    "from numba import jit\n",
    "\n",
    "@jit(forceobj=True)\n",
    "def createSphere(a1,a2,a3,N,nx,ny,nz,phase0):\n",
    "    def PhaseX(phase0, x, n, a1):\n",
    "        a = 0\n",
    "        x= x*2/np.pi-a1\n",
    "        for j in range(1, n):\n",
    "            i = j + 180\n",
    "            a += np.cos(i * x) * np.sin(i * phase0) #* filter(i, 4, 0.15)\n",
    "        return a / n\n",
    "    \n",
    "    def PhaseXi(phase0, x, i, a1):\n",
    "        x=x*2/np.pi -a1\n",
    "        a = np.cos(i * x) * np.sin(i * phase0) #* filter(i, 4, 0.15)\n",
    "        return a \n",
    "    \n",
    "    def filter(i, n, b=0.0001):\n",
    "        if n == 0:\n",
    "            return i / (100 + i)\n",
    "        if n == 1:\n",
    "            return 1\n",
    "        if n == 2:\n",
    "            return np.exp(-b * (i - 100) ** 2)\n",
    "        if n == 3:\n",
    "            return np.sin(b * i) ** 2 / i ** 2\n",
    "        if n == 4:\n",
    "            return np.exp(-b * i)\n",
    "        \n",
    "    def getstuff(dec, ra, a1,a2,a3,N,nx,ny,nz,phase0, allstuff=False):\n",
    "        z=np.sin(dec)\n",
    "        y=np.cos(dec)*np.sin(ra)\n",
    "        z=np.cos(dec)*np.cos(ra)\n",
    "        radius= x**2+y**2+z**2\n",
    "        \n",
    "        DensityX=DensityY=DensityZ=0.0\n",
    "        \n",
    "        for i in range(nx):\n",
    "            DensityX += PhaseXi(phase0,x, i, a3)\n",
    "        for i in range(ny):\n",
    "            DensityY += PhaseXi(phase0,y, i, a2)\n",
    "        for i in range(nz):\n",
    "            DensityZ += PhaseXi(phase0,z, i, a1)\n",
    "            \n",
    "        density= DensityX * DensityY * DensityZ\n",
    "            \n",
    "        if allstuff:\n",
    "            return x,y,z,radius,DensityX,DensityY,DensityZ,density\n",
    "        else:\n",
    "            return density\n",
    "\n",
    "\n",
    "    # sample spacing\n",
    "    dec = np.linspace(-np.pi/2,np.pi/2, N)\n",
    "    ra= np.linspace(-np.pi,np.pi,N)\n",
    "    df = pd.DataFrame(columns=[\"dec\", \"ra\"]) \n",
    "    a = np.meshgrid(dec,ra)\n",
    "    df.dec = a[0].T.reshape(N*N)\n",
    "    df.ra = a[1].T.reshape(N*N)\n",
    "    df[\"z\"]= np.sin(df.dec)\n",
    "    a=np.sqrt(1-df.z*df.z)\n",
    "    df[\"y\"]= a* np.sin(df.ra)\n",
    "    df[\"x\"] = a * np.cos(df.ra)\n",
    "    df[\"radius\"]= df.x**2+df.y**2+df.z**2\n",
    "    df[\"DensityZ\"]= PhaseX(phase0,df.z, nz, a1)\n",
    "    df[\"DensityY\"]= PhaseX(phase0,df.y, ny, a2)\n",
    "    df[\"DensityX\"]= PhaseX(phase0,df.x, nx, a3)\n",
    "    df[\"density\"]= df.DensityX * df.DensityY * df.DensityZ\n",
    "    return df[[\"x\",\"y\",\"z\", \"density\"]], df[[\"dec\",\"ra\",\"density\"]], df\n",
    "\n",
    "# dfxyz, dfthetaphi, df = createSphere(a1,a2,a3,N,nx,ny,nz,phase0)\n",
    "    \n"
   ]
  },
  {
   "cell_type": "code",
   "execution_count": null,
   "metadata": {},
   "outputs": [],
   "source": [
    "\n",
    "fig = plt.figure(figsize=(12, 8))\n",
    "fig.add_subplot(111, projection='aitoff')\n",
    "ra= dfthetaphi.ra\n",
    "dec = dfthetaphi.dec\n",
    "color_map = plt.cm.Spectral_r\n",
    "image = plt.hexbin(ra, dec,dfthetaphi.density*1e14, cmap=color_map,\n",
    "                   gridsize=500, mincnt=1, bins=\"log\")\n",
    "\n",
    "plt.xlabel('R.A.')\n",
    "plt.ylabel('Decl.')\n",
    "plt.grid(True)\n",
    "plt.colorbar(image, spacing='uniform', extend='max')\n",
    "plt.savefig(imgAddress + \"G_Decay{}_{}_{}_{}_{}_{}_{}.png\".format(a1,a2,a3,N,nx,ny,nz), dpi=300)\n",
    "plt.show()"
   ]
  },
  {
   "cell_type": "code",
   "execution_count": null,
   "metadata": {},
   "outputs": [],
   "source": [
    "def PhaseX(phase0, x, n, a1):\n",
    "    a = 0\n",
    "    x=(x-a1)*2/np.pi\n",
    "    for j in range(1, n):\n",
    "        i = j + 180\n",
    "        a += np.cos(i * x) * np.sin(i * phase0) * filter(i, 4, 0.15)\n",
    "    return a / n\n",
    "\n",
    "def filter(i, n, b=0.0001):\n",
    "    if n == 0:\n",
    "        return i / (100 + i)\n",
    "    if n == 1:\n",
    "        return 1\n",
    "    if n == 2:\n",
    "        return np.exp(-b * (i - 100) ** 2)\n",
    "    if n == 3:\n",
    "        return np.sin(b * i) ** 2 / i ** 2\n",
    "    if n == 4:\n",
    "        return np.exp(-b * i)\n",
    "\n",
    "    \n",
    "\n",
    "    \n",
    "\n",
    "    \n",
    "N = 1000\n",
    "a1=4\n",
    "a2=2.5\n",
    "a3=1.33\n",
    "n=15\n",
    "phase0=0.25\n",
    "\n",
    "\n",
    "    \n",
    "x=np.linspace(-np.pi,np.pi, N)\n",
    "y= PhaseX(phase0, x, n, a1)\n",
    "plt.scatter(x=x, y=y, marker=\".\")\n",
    "plt.xlim(-1,1)\n",
    "plt.ylim(-1E-12,1E-12)\n",
    "plt.show()"
   ]
  },
  {
   "cell_type": "code",
   "execution_count": null,
   "metadata": {},
   "outputs": [],
   "source": [
    "y= PhaseX(phase0, x, n, a2)\n",
    "plt.scatter(x=x, y=y, marker=\".\")\n",
    "plt.xlim(-1,1)\n",
    "plt.ylim(-1E-12,1E-12)\n",
    "plt.show()"
   ]
  },
  {
   "cell_type": "code",
   "execution_count": null,
   "metadata": {},
   "outputs": [],
   "source": [
    "y= PhaseX(phase0, x, n, a3)\n",
    "plt.scatter(x=x, y=y, marker=\".\")\n",
    "plt.xlim(-1,1)\n",
    "plt.ylim(-1E-12,1E-12)\n",
    "plt.show()"
   ]
  },
  {
   "cell_type": "code",
   "execution_count": null,
   "metadata": {},
   "outputs": [],
   "source": [
    "def dotprod(f,g):\n",
    "    #Scipy does not directly integrates complex functions.\n",
    "    #You have to break them down into two integrals of the real and imaginary part\n",
    "    integrand_r = lambda theta, phi: np.real(f(theta, phi) * np.conj(g(theta, phi)) * np.sin(theta))\n",
    "    integrand_i = lambda theta, phi: np.imag(f(theta, phi) * np.conj(g(theta, phi)) * np.sin(theta))\n",
    "    rr = integrate.dblquad(integrand_r, 0, 2 * np.pi,lambda theta: 0, lambda theta: np.pi)[0]\n",
    "    ri = integrate.dblquad(integrand_i, 0, 2 * np.pi,lambda theta: 0, lambda theta: np.pi)[0]\n",
    "    if np.allclose(rr,0):\n",
    "        rr = 0\n",
    "    if np.allclose(ri,0):\n",
    "        ri=0\n",
    "    return rr + ri*1j"
   ]
  },
  {
   "cell_type": "code",
   "execution_count": null,
   "metadata": {},
   "outputs": [],
   "source": [
    "# We check the orthogonality of the spherical harmonics:\n",
    "# Si (l,m) =! (l',m') the inner product must be zero\n",
    "Y = lambda l, m, theta, phi: sp.sph_harm(m, l, phi, theta)\n",
    "f = lambda theta, phi: Y(4,3,theta, phi) \n",
    "g = lambda theta, phi: Y(4,2,theta, phi) \n",
    "dotprod(f,g)"
   ]
  },
  {
   "cell_type": "code",
   "execution_count": null,
   "metadata": {},
   "outputs": [],
   "source": [
    "# And, if (l,m) = (l',m') the inner product is one.\n",
    "f = lambda theta, phi: Y(4,3,theta, phi) \n",
    "g = lambda theta, phi: Y(4,3,theta, phi) \n",
    "dotprod(f,g)"
   ]
  },
  {
   "cell_type": "code",
   "execution_count": null,
   "metadata": {},
   "outputs": [],
   "source": [
    "from astropy.io import fits\n",
    "\n",
    "def read_nobs_pyfits(filename):\n",
    "    with fits.open(filename, memmap=True) as hdul:\n",
    "        data = (hdul[1].data)\n",
    "        return np.shape(data)[0], hdul[1].columns.names\n",
    "    \n",
    "nObs, cols = read_nobs_pyfits(gal)"
   ]
  }
 ],
 "metadata": {
  "kernelspec": {
   "display_name": "Python 3",
   "language": "python",
   "name": "python3"
  },
  "language_info": {
   "codemirror_mode": {
    "name": "ipython",
    "version": 3
   },
   "file_extension": ".py",
   "mimetype": "text/x-python",
   "name": "python",
   "nbconvert_exporter": "python",
   "pygments_lexer": "ipython3",
   "version": "3.6.10"
  }
 },
 "nbformat": 4,
 "nbformat_minor": 4
}
