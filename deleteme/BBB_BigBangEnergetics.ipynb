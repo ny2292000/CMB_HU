{
 "cells": [
  {
   "cell_type": "code",
   "execution_count": 1,
   "metadata": {},
   "outputs": [],
   "source": [
    "import astropy.units as units\n",
    "import astropy.constants as constants\n",
    "from parameters import *\n"
   ]
  },
  {
   "cell_type": "code",
   "execution_count": 2,
   "metadata": {},
   "outputs": [
    {
     "name": "stdout",
     "output_type": "stream",
     "text": [
      "/home/mp74207/anaconda3/envs/Cosmo38/bin/python\r\n"
     ]
    }
   ],
   "source": [
    "!which python"
   ]
  },
  {
   "cell_type": "markdown",
   "metadata": {},
   "source": [
    "# Calculation of the energy available for the Many-Bangs"
   ]
  },
  {
   "cell_type": "markdown",
   "metadata": {},
   "source": [
    "$$ volume(n, \\phi) = \\frac{ 2*\\pi^{(\\frac{n-1}{2})}*\\int_{0}^{\\pi}{sin(x)^{(n - 2)}dx}}{\\Gamma(\\frac{n-1}{2})}R^3 $$\n",
    "\n",
    "#  I will consider the volume of the Whole Universe  (pi radians)"
   ]
  },
  {
   "cell_type": "code",
   "execution_count": 3,
   "metadata": {},
   "outputs": [],
   "source": [
    "from scipy.special import gamma\n",
    "import scipy.integrate as integrate\n",
    "\n",
    "def volumeCalc(n,phi,r):\n",
    "    return 2*np.pi**((n-1)/2)*r**3/gamma((n-1)/2)*integrate.quad(lambda x: np.sin(x)**int(n-2), 0,phi)[0]"
   ]
  },
  {
   "cell_type": "code",
   "execution_count": 4,
   "metadata": {},
   "outputs": [
    {
     "data": {
      "text/plain": [
       "('Number of Supernovae of 1E51 Ergs= 1.3608765647763477e+25',\n",
       " <Quantity 0.0408138>,\n",
       " <Quantity 8.49392343e+81 MeV>,\n",
       " <Quantity 1.8505669e+34 N / m2>)"
      ]
     },
     "execution_count": 4,
     "metadata": {},
     "output_type": "execute_result"
    }
   ],
   "source": [
    "densityBigBang=300*uu.MeV/uu.fm**3\n",
    "BigBangDilution=(dbhMev_fm3/densityBigBang)**(1/3)\n",
    "BigBangRadius=BigBangDilution*BlackholiumRadiusinLightSeconds\n",
    "BigBangTime=(((BigBangDilution-1)*BlackholiumRadiusinLightSeconds)/cc.c).to(\"s\")\n",
    "BigBangRadius, BigBangTime\n",
    "\n",
    "# I will consider the volume of the Visible Universe only (1 radian as opposed to pi radians)\n",
    "\n",
    "#Universe Volume\n",
    "# volume(4,1 radian)= 3.426543192*r**3\n",
    "volume= volumeCalc(n=4,phi=np.pi,r=dbh_radius).to('m**3')\n",
    "\n",
    "# Unit cell volume 0.19 femtometer side\n",
    "cell = 4/3*np.pi*(0.19e-15*uu.m)**3\n",
    "# Number of Neutrons  = 2.5e+79\n",
    "NumberOfNeutrons=volume/cell\n",
    "MassOfVisibleUniverse=NumberOfNeutrons*cc.m_n\n",
    "\n",
    "# Energy available\n",
    "energyPerNeutron= 0.78254809*uu.MeV\n",
    "Energy= NumberOfNeutrons*energyPerNeutron # 4.5E78MeV = 7.2E65 Joules\n",
    "EnergyPerSupernova=1E51*uu.erg\n",
    "velocityAvg= np.sqrt(2*Energy.to(uu.joule)/MassOfVisibleUniverse) # 0.04081379 c\n",
    "BigBangVolume=(3.426543192*BigBangRadius**3).to('m**3')\n",
    "densityBigBang=(MassOfVisibleUniverse/BigBangVolume).si\n",
    "BigBang=Energy.to('erg')/EnergyPerSupernova\n",
    "\"Number of Supernovae of 1E51 Ergs= {}\".format(BigBang) , (velocityAvg/cc.c).si, Energy.to(\"MeV\"), (Energy.si/BigBangVolume).si"
   ]
  },
  {
   "cell_type": "markdown",
   "metadata": {},
   "source": [
    "## So the Big Bang was like 4.2E22 Supernovae explosions of 1E51 Ergs each\n",
    "# Total Energy 2.5E79 Joules or 5.66E31 Joules/m^3"
   ]
  },
  {
   "cell_type": "code",
   "execution_count": 5,
   "metadata": {},
   "outputs": [
    {
     "data": {
      "text/plain": [
       "(<Quantity 2.5489292e-06>, <Quantity 0.00083288>)"
      ]
     },
     "execution_count": 5,
     "metadata": {},
     "output_type": "execute_result"
    }
   ],
   "source": [
    "# Mass converted into energy per meter\n",
    "m0=(5.66341716E31*uu.J/cc.c**2).si\n",
    "# total mass in a meter\n",
    "m1=densityBigBang*uu.m**3\n",
    "# Fraction of the total mass into energy\n",
    "fractionToEnergy=m0/m1\n",
    "fractionToEnergy, (energyPerNeutron/(cc.m_n*cc.c**2)).si"
   ]
  },
  {
   "cell_type": "code",
   "execution_count": 6,
   "metadata": {},
   "outputs": [
    {
     "name": "stdout",
     "output_type": "stream",
     "text": [
      "/home/mp74207/anaconda3/envs/Cosmo38/bin/pip\r\n"
     ]
    }
   ],
   "source": [
    "!which pip"
   ]
  },
  {
   "cell_type": "code",
   "execution_count": 7,
   "metadata": {},
   "outputs": [],
   "source": [
    "import healpy as hp"
   ]
  },
  {
   "cell_type": "code",
   "execution_count": 8,
   "metadata": {},
   "outputs": [
    {
     "name": "stdout",
     "output_type": "stream",
     "text": [
      "/home/mp74207/anaconda3/envs/Cosmo38/bin/python\r\n"
     ]
    }
   ],
   "source": [
    "!which python\n"
   ]
  },
  {
   "cell_type": "code",
   "execution_count": null,
   "metadata": {},
   "outputs": [],
   "source": []
  }
 ],
 "metadata": {
  "anaconda-cloud": {},
  "kernelspec": {
   "display_name": "Python [conda env:Cosmo38] *",
   "language": "python",
   "name": "conda-env-Cosmo38-py"
  },
  "language_info": {
   "codemirror_mode": {
    "name": "ipython",
    "version": 3
   },
   "file_extension": ".py",
   "mimetype": "text/x-python",
   "name": "python",
   "nbconvert_exporter": "python",
   "pygments_lexer": "ipython3",
   "version": "3.8.11"
  }
 },
 "nbformat": 4,
 "nbformat_minor": 1
}
