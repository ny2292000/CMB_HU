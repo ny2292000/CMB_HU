{
 "cells": [
  {
   "cell_type": "code",
   "execution_count": null,
   "id": "b34fc179-959a-4a58-84ce-fecacd7412c9",
   "metadata": {},
   "outputs": [],
   "source": [
    "import nbformat\n",
    "from nbconvert.preprocessors import ClearOutputPreprocessor\n",
    "from nbformat import write\n",
    "import os\n",
    "\n",
    "# Specify the directory containing the notebooks\n",
    "notebooks_directory = '/mnt/Dropbox/Dropbox/AAA_Papers_2022_Folder/AAA_CMB_HU_latest_to_git'\n",
    "\n",
    "# Process each notebook in the directory\n",
    "for notebook_filename in os.listdir(notebooks_directory):\n",
    "    # Only process .ipynb files\n",
    "    if notebook_filename.endswith('.ipynb'):\n",
    "        notebook_path = os.path.join(notebooks_directory, notebook_filename)\n",
    "        \n",
    "        # Read the notebook\n",
    "        with open(notebook_path, 'r', encoding='utf-8') as f:\n",
    "            notebook = nbformat.read(f, as_version=4)\n",
    "\n",
    "        # Clear the output using ClearOutputPreprocessor\n",
    "        clear_output = ClearOutputPreprocessor()\n",
    "        clear_output.preprocess(notebook, {})\n",
    "\n",
    "        # Write the cleared notebook back\n",
    "        with open(notebook_path, 'w', encoding='utf-8') as f:\n",
    "            write(notebook, f)\n",
    "\n",
    "        print(f\"Cleared outputs for {notebook_filename}\")\n"
   ]
  },
  {
   "cell_type": "code",
   "execution_count": null,
   "id": "a45a64d4-4182-46eb-b5e6-4d4d26212aba",
   "metadata": {},
   "outputs": [],
   "source": []
  }
 ],
 "metadata": {
  "kernelspec": {
   "display_name": "Python [conda env:Cosmos3020]",
   "language": "python",
   "name": "conda-env-Cosmos3020-py"
  },
  "language_info": {
   "codemirror_mode": {
    "name": "ipython",
    "version": 3
   },
   "file_extension": ".py",
   "mimetype": "text/x-python",
   "name": "python",
   "nbconvert_exporter": "python",
   "pygments_lexer": "ipython3",
   "version": "3.11.9"
  }
 },
 "nbformat": 4,
 "nbformat_minor": 5
}
