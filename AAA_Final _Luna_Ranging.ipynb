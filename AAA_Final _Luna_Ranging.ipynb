{
 "cells": [
  {
   "cell_type": "markdown",
   "id": "f5db1b80-f818-4db6-9b62-fed7d88424be",
   "metadata": {},
   "source": [
    "# The first question to ask is: WHAT IS THE PROBLEM?\n",
    "## The problem at hand is the evaluation of the Moon's Receding Motion due to variations of G, Tidal Locking, Processes, Interactions with the Sun, Gas Giants, and Relativistic Effects."
   ]
  },
  {
   "cell_type": "code",
   "execution_count": null,
   "id": "dcd541bb",
   "metadata": {},
   "outputs": [],
   "source": [
    "import numpy as np\n",
    "G = 6.67430e-11  # Gravitational constant (m^3/kg/s^2)\n",
    "# Earth properties\n",
    "M_Earth = 5.972e24  # Mass of Earth (kg)\n",
    "R_Earth = 6.371e6  # Mean radius of Earth (m)\n",
    "I_Earth_over_M_Earth_R2 = 0.3307  # Earth's moment of inertia factor\n",
    "Omega_Earth = 7.2921e-5  # Earth's rotational velocity (rad/s)\n",
    "\n",
    "# Moon properties\n",
    "M_Moon = 7.342e22  # Mass of Moon (kg)\n",
    "R_Moon = 1.737e6  # Mean radius of Moon (m)\n",
    "I_Moon_over_M_Moon_R2 = 0.3929  # Moon's moment of inertia factor\n",
    "Omega_Moon = 2.661699e-6  # Moon's rotational velocity (rad/s) \n",
    "            # (assumed equal to its orbital motion due to tidal locking)\n",
    "    \n",
    "# Moon orbit properties\n",
    "a = 3.844e8  # Earth-Moon semi-major axis (m)\n",
    "n = np.sqrt(G * M_Earth / a**3)  # Mean motion of the Moon (rad/s)\n",
    "\n",
    "\n",
    "# Compute correct moments of inertia (I = C * M * R^2)\n",
    "I_Earth = I_Earth_over_M_Earth_R2 * M_Earth * (R_Earth ** 2)  # Earth's moment of inertia\n",
    "I_Moon = I_Moon_over_M_Moon_R2 * M_Moon * (R_Moon ** 2)  # Moon's moment of inertia\n",
    "\n",
    "# Compute angular momenta\n",
    "L_orb = M_Moon * (a ** 2) * n  # Orbital angular momentum of the Earth-Moon system\n",
    "L_spin_Moon = I_Moon * Omega_Moon  # Spin angular momentum of the Moon\n",
    "L_spin_Earth = I_Earth * Omega_Earth  # Spin angular momentum of the Earth\n",
    "\n",
    "# Compute the ratios of spin angular momenta to orbital angular momentum\n",
    "L_spin_Earth_over_L_orb = L_spin_Earth / L_orb  # Ratio for Earth\n",
    "L_spin_Moon_over_L_orb = I_Moon_over_M_Moon_R2 * (R_Moon / a) ** 2  # Ratio for Moon (using corrected formula)\n",
    "\n",
    "\n",
    "r_dot_over_r=1.0E-10\n",
    "n_dot_over_n=-1.5E-10\n",
    "aa = 2*r_dot_over_r+n_dot_over_n\n",
    "G_dot_over_G=-1/14.04E9\n",
    "Omega_Earth = 7.2921e-5 #rad/s\n",
    "Omega_dot_century = 1.7E-3\n",
    "number_days_century = 100*365.2425\n",
    "Omega_dot_over_Omega_Earth = Omega_dot_century/number_days_century\n",
    "aa, Omega_dot_over_Omega_Earth,L_spin_Earth_over_L_orb, G_dot_over_G"
   ]
  },
  {
   "cell_type": "code",
   "execution_count": null,
   "id": "117638c9",
   "metadata": {},
   "outputs": [],
   "source": [
    "delta_I_over_I = G_dot_over_G/(aa*L_spin_Earth_over_L_orb + Omega_dot_over_Omega_Earth)\n",
    "delta_I_over_I"
   ]
  },
  {
   "cell_type": "code",
   "execution_count": null,
   "id": "ca33503e",
   "metadata": {},
   "outputs": [],
   "source": [
    "L_spin_Moon_over_L_orb"
   ]
  },
  {
   "cell_type": "code",
   "execution_count": null,
   "id": "306ca54c",
   "metadata": {},
   "outputs": [],
   "source": []
  },
  {
   "cell_type": "code",
   "execution_count": null,
   "id": "c8eecb5a",
   "metadata": {},
   "outputs": [],
   "source": []
  }
 ],
 "metadata": {
  "kernelspec": {
   "display_name": "Python [conda env:Cosmos3020]",
   "language": "python",
   "name": "conda-env-Cosmos3020-py"
  },
  "language_info": {
   "codemirror_mode": {
    "name": "ipython",
    "version": 3
   },
   "file_extension": ".py",
   "mimetype": "text/x-python",
   "name": "python",
   "nbconvert_exporter": "python",
   "pygments_lexer": "ipython3",
   "version": "3.10.13"
  }
 },
 "nbformat": 4,
 "nbformat_minor": 5
}
