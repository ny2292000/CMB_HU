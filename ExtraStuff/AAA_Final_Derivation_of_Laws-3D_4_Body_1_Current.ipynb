{
 "cells": [
  {
   "cell_type": "code",
   "execution_count": 1,
   "id": "7d3b2a11-490e-49e2-a8dc-31733fa131b8",
   "metadata": {},
   "outputs": [
    {
     "data": {
      "text/latex": [
       "$\\displaystyle \\frac{N P_{2 hat} m_{0} \\left(- c^{2} + v_{1}^{2}\\right)}{P_{2} \\alpha \\lambda_{1}^{3} \\pi} r_{hat}^{T} \\left(\\left(\\gamma_{v2} - 1\\right) V_{2 hat} V_{2 hat}^{T} + One\\right) r_{hat} \\left(\\frac{1}{2 P_{2} \\alpha \\lambda_{1} \\pi} \\left(- R_{0} R_{0 hat}^{T} + \\frac{R_{0} v_{1}}{c} V_{1 hat}^{T}\\right) \\left(\\left(\\gamma_{v2} - 1\\right) V_{2 hat} V_{2 hat}^{T} + One\\right) \\left(- R_{0} R_{0 hat} + \\frac{R_{0} v_{1}}{c} V_{1 hat}\\right)\\right)^{-2} \\left(\\frac{8 R_{0}^{2} \\pi^{2} v_{1}^{2}}{P_{1}^{2} c^{2} \\lambda_{1}^{2}} V_{1 hat}^{T} \\left(\\left(\\gamma_{v1} - 1\\right) V_{1 hat} V_{1 hat}^{T} + One^{T}\\right) V_{1 hat} r_{hat}^{T} \\left(\\left(\\gamma_{v1} - 1\\right) V_{1 hat} V_{1 hat}^{T} + One\\right) r_{hat}\\right)^{-1}$"
      ],
      "text/plain": [
       "(N*P2_hat*m_0*(-c**2 + v1**2)/(P2*alpha*lambda1**3*pi))*r_hat.T*((gamma_v2 - 1)*V2_hat*V2_hat.T + One)*r_hat*((1/(2*P2*alpha*lambda1*pi))*((-R0)*R0_hat.T + (R0*v1/c)*V1_hat.T)*((gamma_v2 - 1)*V2_hat*V2_hat.T + One)*((-R0)*R0_hat + (R0*v1/c)*V1_hat))**(-2)*((8*R0**2*pi**2*v1**2/(P1**2*c**2*lambda1**2))*V1_hat.T*((gamma_v1 - 1)*V1_hat*V1_hat.T + One.T)*V1_hat*r_hat.T*((gamma_v1 - 1)*V1_hat*V1_hat.T + One)*r_hat)**(-1)"
      ]
     },
     "execution_count": 1,
     "metadata": {},
     "output_type": "execute_result"
    }
   ],
   "source": [
    "import sympy as sp\n",
    "\n",
    "\n",
    "def cleanForce(Force):\n",
    "    Force_latex = sp.latex(Force)\n",
    "    Force_latex = Force_latex.replace(\"V_{1 hat}\", \"\\hat{V}_1\")\n",
    "    Force_latex = Force_latex.replace(\"V_{2 hat}\", \"\\hat{V}_2\")\n",
    "    Force_latex = Force_latex.replace(\"R_{0 hat}\", \"\\hat{R}_0\")\n",
    "    Force_latex = Force_latex.replace(\"r_{hat}\", \"\\hat{r}\")\n",
    "    # Force_latex = Force_latex.replace(\"+ 0 \\hat{r}\", \"\")\n",
    "    Force_latex = Force_latex.replace(\"^{T}\", \"\")\n",
    "    print(Force_latex)\n",
    "\n",
    "\n",
    "# Define symbols\n",
    "pi, m_0, x, Q, lambda1, R0, c, N, v1, v2, gamma_v1, gamma_v2, P1, P2, delta, R_4D, P1_hat, P2_hat, G0, kg, h  = sp.symbols(\n",
    "    'pi m_0 x Q lambda1 R0 c N v1 v2 gamma_v1 gamma_v2 P1 P2  delta R_4D P1_hat P2_hat G0 kg h', \n",
    "    real=True, positive=True)\n",
    "alpha = sp.symbols('alpha', real=True, positive=True)\n",
    "\n",
    "# Define MatrixSymbols for arbitrary unit vectors\n",
    "V1_hat = sp.MatrixSymbol('V1_hat', 3, 1)  # 3x1 Matrix Symbol for Unit vector along V1\n",
    "V2_hat = sp.MatrixSymbol('V2_hat', 3, 1)  # 3x1 Matrix Symbol for Unit vector along V2\n",
    "R0_hat = sp.MatrixSymbol('R0_hat', 3, 1)  # 3x1 Matrix Symbol for Unit vector along R0\n",
    "r_hat = sp.MatrixSymbol('r_hat', 3, 1)    # 3x1 Matrix Symbol for general unit vector for position adjustments\n",
    "\n",
    "# Identity matrix for space dimension\n",
    "One = sp.MatrixSymbol('One', 3, 3) # Correct usage of Identity Matrix\n",
    "\n",
    "# Velocity vectors\n",
    "V1 = v1 * V1_hat\n",
    "V2 = v2 * V2_hat\n",
    "R0_vect = R0 * R0_hat\n",
    "\n",
    "# Position vectors\n",
    "r1 = V1 * R0 / c + x * r_hat\n",
    "r2 = V1 * R0 / c - R0_vect + x * r_hat\n",
    "\n",
    "# Projection matrices and Lorentz transformation matrices\n",
    "# 1+(GAMMA-1)P = (1-P) + GAMMA*P\n",
    "# P IS THE PROJECTOR TO THE V1 AND V2 DIRECTIONS \n",
    "\n",
    "M1 = One + (gamma_v1 - 1) * V1 * V1.T / (v1**2)\n",
    "M2 = One + (gamma_v2 - 1) * V2 * V2.T / (v2**2)\n",
    "\n",
    "# Wave vectors\n",
    "k1 = (2 * pi / lambda1) * r1.T* M1  / P1\n",
    "k2 = (2 * pi / lambda1) * r2.T * M2 / P2\n",
    "\n",
    "# P1 is the modulus of r1 or |r1| or |v1 R0/c|\n",
    "# P2 is the modulus of r2 or |r2| or R0*sqrt (v1**2/c**2 + 1 - 2 dr/dt)\n",
    "\n",
    "# Fields definitions\n",
    "k1path = ( k1 * r1 )\n",
    "Phi1 = sp.cos(k1path)\n",
    "first_derivative = sp.diff(k1path, x)\n",
    "second_derivative = sp.diff(first_derivative, x)\n",
    "# Took the second derivative to extract the coefficient of x\n",
    "k1path_diff = second_derivative\n",
    "k1path=k1path.subs(x,0)\n",
    "# Derivatives - Here we used diff(cos(k.x) = -ksin(kx) = -k**2x\n",
    "Phi1_diff = k1path.T*k1path_diff\n",
    "k2path = ( k2 * r2 )\n",
    "k2path =Q * k2path/(2*pi)\n",
    "k2path_diff = sp.diff(k2path,x,2)\n",
    "Phi2 = N / (1 + k2path[0].subs(x,0))\n",
    "# Derivatives\n",
    "Phi2_diff = -N *k2path_diff / (k2path.subs(x,0))**2 \n",
    "# Display results\n",
    "dr1dr = P2_hat\n",
    "x_result = Phi2_diff/Phi1_diff\n",
    "Force_EM = m_0*c**2*(1-v1**2/c**2)*x_result/lambda1**2\n",
    "Force_EM = Force_EM.subs(Q, 1/(2*pi*alpha))\n",
    "Force_EM = Force_EM.subs(x,0).simplify()*dr1dr\n",
    "Force_EM"
   ]
  },
  {
   "cell_type": "code",
   "execution_count": 2,
   "id": "57dfe79f-ec1a-4681-ab13-5fb1433247fa",
   "metadata": {},
   "outputs": [
    {
     "data": {
      "text/latex": [
       "$\\displaystyle \\frac{N P_{2 hat} m_{0} \\left(- c^{2} + v_{1}^{2}\\right)}{P_{2} \\alpha \\lambda_{1}^{3} \\pi} r_{hat}^{T} \\left(\\left(\\gamma_{v2} - 1\\right) V_{2 hat} V_{2 hat}^{T} + One\\right) r_{hat} \\left(\\frac{1}{2 P_{2} \\alpha \\lambda_{1} \\pi} \\left(- R_{0} R_{0 hat}^{T} + \\frac{R_{0} v_{1}}{c} V_{1 hat}^{T}\\right) \\left(\\left(\\gamma_{v2} - 1\\right) V_{2 hat} V_{2 hat}^{T} + One\\right) \\left(- R_{0} R_{0 hat} + \\frac{R_{0} v_{1}}{c} V_{1 hat}\\right)\\right)^{-2} \\left(\\frac{8 R_{0}^{2} \\pi^{2} v_{1}^{2}}{P_{1}^{2} c^{2} \\lambda_{1}^{2}} V_{1 hat}^{T} \\left(0 V_{1 hat} V_{1 hat}^{T} + One^{T}\\right) V_{1 hat} r_{hat}^{T} \\left(One + 0 V_{1 hat} V_{1 hat}^{T}\\right) r_{hat}\\right)^{-1}$"
      ],
      "text/plain": [
       "(N*P2_hat*m_0*(-c**2 + v1**2)/(P2*alpha*lambda1**3*pi))*r_hat.T*((gamma_v2 - 1)*V2_hat*V2_hat.T + One)*r_hat*((1/(2*P2*alpha*lambda1*pi))*((-R0)*R0_hat.T + (R0*v1/c)*V1_hat.T)*((gamma_v2 - 1)*V2_hat*V2_hat.T + One)*((-R0)*R0_hat + (R0*v1/c)*V1_hat))**(-2)*((8*R0**2*pi**2*v1**2/(P1**2*c**2*lambda1**2))*V1_hat.T*(0*V1_hat*V1_hat.T + One.T)*V1_hat*r_hat.T*(One + 0*V1_hat*V1_hat.T)*r_hat)**(-1)"
      ]
     },
     "execution_count": 2,
     "metadata": {},
     "output_type": "execute_result"
    }
   ],
   "source": [
    "# Calculate Electric Field 1\n",
    "# Substitute v1 = 0 into the derived Force_EM expression\n",
    "Force_EM_v1_0 = Force_EM.subs(gamma_v1, 1)\n",
    "\n",
    "\n",
    "Force_EM_v1_0"
   ]
  },
  {
   "cell_type": "code",
   "execution_count": 3,
   "id": "7816bede-b886-47bb-b0b6-4c0f28523e52",
   "metadata": {},
   "outputs": [
    {
     "name": "stdout",
     "output_type": "stream",
     "text": [
      "(N*P2_hat*m_0*(-c**2 + v1**2)/(P2*alpha*lambda1**3*pi))*r_hat.T*((gamma_v2 - 1)*V2_hat*V2_hat.T + One)*r_hat*((1/(2*P2*alpha*lambda1*pi))*((-R0)*R0_hat.T + (R0*v1/c)*V1_hat.T)*((gamma_v2 - 1)*V2_hat*V2_hat.T + One)*((-R0)*R0_hat + (R0*v1/c)*V1_hat))**(-2)*((8*R0**2*pi**2*v1**2/(P1**2*c**2*lambda1**2))*V1_hat.T*(0*V1_hat*V1_hat.T + One.T)*V1_hat*r_hat.T*(One + 0*V1_hat*V1_hat.T)*r_hat)**(-1)\n"
     ]
    }
   ],
   "source": [
    "print(Force_EM_v1_0)"
   ]
  },
  {
   "cell_type": "code",
   "execution_count": 4,
   "id": "b9ef4260-1fe4-47a7-a9eb-f22e1d0efbda",
   "metadata": {},
   "outputs": [
    {
     "name": "stdout",
     "output_type": "stream",
     "text": [
      "\\frac{N P_{2 hat} m_{0} \\left(- c^{2} + v_{1}^{2}\\right)}{P_{2} \\alpha \\lambda_{1}^{3} \\pi} \\hat{r} \\left(\\left(\\gamma_{v2} - 1\\right) \\hat{V}_2 \\hat{V}_2 + One\\right) \\hat{r} \\left(\\frac{1}{2 P_{2} \\alpha \\lambda_{1} \\pi} \\left(- R_{0} \\hat{R}_0 + \\frac{R_{0} v_{1}}{c} \\hat{V}_1\\right) \\left(\\left(\\gamma_{v2} - 1\\right) \\hat{V}_2 \\hat{V}_2 + One\\right) \\left(- R_{0} \\hat{R}_0 + \\frac{R_{0} v_{1}}{c} \\hat{V}_1\\right)\\right)^{-2} \\left(\\frac{8 R_{0}^{2} \\pi^{2} v_{1}^{2}}{P_{1}^{2} c^{2} \\lambda_{1}^{2}} \\hat{V}_1 \\left(0 \\hat{V}_1 \\hat{V}_1 + One\\right) \\hat{V}_1 \\hat{r} \\left(One + 0 \\hat{V}_1 \\hat{V}_1\\right) \\hat{r}\\right)^{-1}\n"
     ]
    }
   ],
   "source": [
    "cleanForce(Force_EM_v1_0)"
   ]
  },
  {
   "cell_type": "code",
   "execution_count": 5,
   "id": "2245c583-ad06-4857-a3fe-eb6e78cdcc76",
   "metadata": {},
   "outputs": [
    {
     "data": {
      "text/latex": [
       "$\\displaystyle \\frac{N P_{2 hat} m_{0} \\left(- c^{2} + v_{1}^{2}\\right)}{P_{2} \\alpha \\lambda_{1}^{3} \\pi} r_{hat}^{T} \\left(One + 0 V_{2 hat} V_{2 hat}^{T}\\right) r_{hat} \\left(\\frac{1}{2 P_{2} \\alpha \\lambda_{1} \\pi} \\left(- R_{0} R_{0 hat}^{T} + \\frac{R_{0} v_{1}}{c} V_{1 hat}^{T}\\right) \\left(One + 0 V_{2 hat} V_{2 hat}^{T}\\right) \\left(- R_{0} R_{0 hat} + \\frac{R_{0} v_{1}}{c} V_{1 hat}\\right)\\right)^{-2} \\left(\\frac{8 R_{0}^{2} \\pi^{2} v_{1}^{2}}{P_{1}^{2} c^{2} \\lambda_{1}^{2}} V_{1 hat}^{T} \\left(\\left(\\gamma_{v1} - 1\\right) V_{1 hat} V_{1 hat}^{T} + One^{T}\\right) V_{1 hat} r_{hat}^{T} \\left(\\left(\\gamma_{v1} - 1\\right) V_{1 hat} V_{1 hat}^{T} + One\\right) r_{hat}\\right)^{-1}$"
      ],
      "text/plain": [
       "(N*P2_hat*m_0*(-c**2 + v1**2)/(P2*alpha*lambda1**3*pi))*r_hat.T*(One + 0*V2_hat*V2_hat.T)*r_hat*((1/(2*P2*alpha*lambda1*pi))*((-R0)*R0_hat.T + (R0*v1/c)*V1_hat.T)*(One + 0*V2_hat*V2_hat.T)*((-R0)*R0_hat + (R0*v1/c)*V1_hat))**(-2)*((8*R0**2*pi**2*v1**2/(P1**2*c**2*lambda1**2))*V1_hat.T*((gamma_v1 - 1)*V1_hat*V1_hat.T + One.T)*V1_hat*r_hat.T*((gamma_v1 - 1)*V1_hat*V1_hat.T + One)*r_hat)**(-1)"
      ]
     },
     "execution_count": 5,
     "metadata": {},
     "output_type": "execute_result"
    }
   ],
   "source": [
    "# Calculate Electric Field 1\n",
    "# Substitute v2 = 0 into the derived Force_EM expression\n",
    "Force_EM_v2_0 = Force_EM.subs(gamma_v2, 1)\n",
    "\n",
    "# Simplify the resulting expression\n",
    "# Force_EM_v1_0_simplified = Force_EM_v1_0.simplify()\n",
    "\n",
    "Force_EM_v2_0\n"
   ]
  },
  {
   "cell_type": "code",
   "execution_count": 6,
   "id": "cd2e034a-98f7-458b-b0b4-9afa6a92138c",
   "metadata": {},
   "outputs": [
    {
     "name": "stdout",
     "output_type": "stream",
     "text": [
      "\\frac{N P_{2 hat} m_{0} \\left(- c^{2} + v_{1}^{2}\\right)}{P_{2} \\alpha \\lambda_{1}^{3} \\pi} \\hat{r} \\left(One + 0 \\hat{V}_2 \\hat{V}_2\\right) \\hat{r} \\left(\\frac{1}{2 P_{2} \\alpha \\lambda_{1} \\pi} \\left(- R_{0} \\hat{R}_0 + \\frac{R_{0} v_{1}}{c} \\hat{V}_1\\right) \\left(One + 0 \\hat{V}_2 \\hat{V}_2\\right) \\left(- R_{0} \\hat{R}_0 + \\frac{R_{0} v_{1}}{c} \\hat{V}_1\\right)\\right)^{-2} \\left(\\frac{8 R_{0}^{2} \\pi^{2} v_{1}^{2}}{P_{1}^{2} c^{2} \\lambda_{1}^{2}} \\hat{V}_1 \\left(\\left(\\gamma_{v1} - 1\\right) \\hat{V}_1 \\hat{V}_1 + One\\right) \\hat{V}_1 \\hat{r} \\left(\\left(\\gamma_{v1} - 1\\right) \\hat{V}_1 \\hat{V}_1 + One\\right) \\hat{r}\\right)^{-1}\n"
     ]
    }
   ],
   "source": [
    "cleanForce(Force_EM_v2_0)"
   ]
  },
  {
   "cell_type": "code",
   "execution_count": null,
   "id": "3884b64c-cbf3-48d1-bd52-d52083bf7c4c",
   "metadata": {},
   "outputs": [],
   "source": []
  },
  {
   "cell_type": "code",
   "execution_count": null,
   "id": "eaa97453-d70b-4309-81dc-424776940498",
   "metadata": {},
   "outputs": [],
   "source": []
  },
  {
   "cell_type": "code",
   "execution_count": 7,
   "id": "3f488e4e-3e41-444a-8588-79392efad25a",
   "metadata": {},
   "outputs": [
    {
     "ename": "NameError",
     "evalue": "name 'V' is not defined",
     "output_type": "error",
     "traceback": [
      "\u001b[0;31m---------------------------------------------------------------------------\u001b[0m",
      "\u001b[0;31mNameError\u001b[0m                                 Traceback (most recent call last)",
      "Cell \u001b[0;32mIn[7], line 13\u001b[0m\n\u001b[1;32m     10\u001b[0m R0_vec \u001b[38;5;241m=\u001b[39m sp\u001b[38;5;241m.\u001b[39mMatrixSymbol(\u001b[38;5;124m'\u001b[39m\u001b[38;5;124mR0_vec\u001b[39m\u001b[38;5;124m'\u001b[39m, \u001b[38;5;241m3\u001b[39m, \u001b[38;5;241m1\u001b[39m)            \u001b[38;5;66;03m# R0 vector\u001b[39;00m\n\u001b[1;32m     12\u001b[0m \u001b[38;5;66;03m# Dot product of V_vec and R0_vec\u001b[39;00m\n\u001b[0;32m---> 13\u001b[0m V \u001b[38;5;241m=\u001b[39m sp\u001b[38;5;241m.\u001b[39mMatrix(V)\u001b[38;5;241m.\u001b[39mdot(sp\u001b[38;5;241m.\u001b[39mMatrix(R0))\n\u001b[1;32m     15\u001b[0m \u001b[38;5;66;03m# Calculate delta\u001b[39;00m\n\u001b[1;32m     16\u001b[0m Delta \u001b[38;5;241m=\u001b[39m (V_dot_R0 \u001b[38;5;241m/\u001b[39m c) \u001b[38;5;241m+\u001b[39m (R0 \u001b[38;5;241m*\u001b[39m V\u001b[38;5;241m*\u001b[39m\u001b[38;5;241m*\u001b[39m\u001b[38;5;241m2\u001b[39m \u001b[38;5;241m/\u001b[39m (\u001b[38;5;241m2\u001b[39m \u001b[38;5;241m*\u001b[39m c\u001b[38;5;241m*\u001b[39m\u001b[38;5;241m*\u001b[39m\u001b[38;5;241m2\u001b[39m))\n",
      "\u001b[0;31mNameError\u001b[0m: name 'V' is not defined"
     ]
    }
   ],
   "source": [
    "import sympy as sp\n",
    "\n",
    "# Define symbols\n",
    "v = sp.Symbol('v', real=True, positive=True)        # Magnitude of velocity vector\n",
    "R0 = sp.Symbol('R0', real=True, positive=True)      # Magnitude of R0 vector\n",
    "c = sp.Symbol('c', real=True, positive=True)        # Speed of light\n",
    "\n",
    "# Define vector quantities\n",
    "V_vec = sp.MatrixSymbol('V_vec', 3, 1)              # Velocity vector\n",
    "R0_vec = sp.MatrixSymbol('R0_vec', 3, 1)            # R0 vector\n",
    "\n",
    "# Dot product of V_vec and R0_vec\n",
    "V = sp.Matrix(V).dot(sp.Matrix(R0))\n",
    "\n",
    "# Calculate delta\n",
    "Delta = (V_dot_R0 / c) + (R0 * V**2 / (2 * c**2))\n",
    "\n",
    "# Simplify (optional)\n",
    "Delta_simplified = sp.simplify(Delta)\n",
    "\n",
    "# Print result\n",
    "print(\"Delta:\", Delta_simplified)\n"
   ]
  },
  {
   "cell_type": "code",
   "execution_count": null,
   "id": "0a989971-7988-4c56-acda-af581411a330",
   "metadata": {},
   "outputs": [],
   "source": [
    "cleanForce(Delta_simplified)"
   ]
  },
  {
   "cell_type": "code",
   "execution_count": null,
   "id": "47d97050-dde6-4637-a563-32b568a814ad",
   "metadata": {},
   "outputs": [],
   "source": []
  },
  {
   "cell_type": "code",
   "execution_count": 8,
   "id": "d3826426-01ec-44ac-a0cf-90e64f9fd7ef",
   "metadata": {},
   "outputs": [
    {
     "name": "stdout",
     "output_type": "stream",
     "text": [
      "First equation (E_1):\n",
      "       ⎛                              -1.5                      -1.5⎞\n",
      "  q₂   ⎜    ⎛       T         ⎞ ⎛ T  ⎞             T      ⎛ T  ⎞    ⎟\n",
      "──────⋅⎝γ_V⋅⎝-R⋅Vₕₐₜ ⋅Vₕₐₜ + R⎠⋅⎝R ⋅R⎠     + R⋅Vₕₐₜ ⋅Vₕₐₜ⋅⎝R ⋅R⎠    ⎠\n",
      "4⋅π⋅ε₀                                                               \n",
      "\n",
      "Second equation (E_2):\n",
      "   ⎛     2⎞                                \n",
      "   ⎜    v ⎟                                \n",
      "q₂⋅⎜1 - ──⎟                            -3/2\n",
      "   ⎜     2⎟      ⎛            2       ⎞    \n",
      "   ⎝    c ⎠      ⎜ ⎛1  T     ⎞     T  ⎟    \n",
      "───────────⋅Rₕₐₜ⋅⎜-⎜─⋅R ⋅Vₕₐₜ⎟  + R ⋅R⎟    \n",
      "  4⋅π⋅ε₀         ⎝ ⎝c        ⎠        ⎠    \n"
     ]
    }
   ],
   "source": [
    "import sympy as sp\n",
    "\n",
    "# Define symbolic variables\n",
    "q2, epsilon_0, c, v, gamma_V, V = sp.symbols('q2 epsilon_0 c v gamma_V V', real=True, positive=True)\n",
    "\n",
    "\n",
    "V_hat = sp.MatrixSymbol('V_hat', 3, 1)  # 3x1 Matrix Symbol for Unit vector along V\n",
    "R_hat = sp.MatrixSymbol('R_hat', 3, 1)  # 3x1 Matrix Symbol for Unit vector along R0\n",
    "R = sp.MatrixSymbol('R', 3, 1)  # 3x1 Matrix Symbol for vector along R\n",
    "V = sp.MatrixSymbol('V', 3, 1)  # 3x1 Matrix Symbol for ector along V\n",
    "\n",
    "\n",
    "# Decompose R into parallel and perpendicular components\n",
    "R_parallel = (R * V_hat.T) * V_hat\n",
    "R_perpendicular = R - R_parallel\n",
    "\n",
    "# First equation: electric field\n",
    "E_1 = (q2 / (4 * sp.pi * epsilon_0)) * (\n",
    "    gamma_V * R_perpendicular / (R.T * R)**(3/2) + R_parallel / (R.T * R)**(3/2)\n",
    ")\n",
    "\n",
    "# Simplify E_1\n",
    "E_1_simplified = sp.simplify(E_1)\n",
    "\n",
    "# Transition to second equation\n",
    "# Define the final expression for the electric field\n",
    "E_2 = (q2 / (4 * sp.pi * epsilon_0)) * (\n",
    "    R_hat * (1 - v**2 / c**2) / \n",
    "    sp.sqrt((R.T * R) - ((R.T * V_hat) / c)**2)**3\n",
    ")\n",
    "\n",
    "# Print the results\n",
    "print(\"First equation (E_1):\")\n",
    "sp.pprint(E_1_simplified)\n",
    "\n",
    "print(\"\\nSecond equation (E_2):\")\n",
    "sp.pprint(E_2)\n"
   ]
  },
  {
   "cell_type": "code",
   "execution_count": 9,
   "id": "5c571c73-24ea-41dc-80ef-4e349103ffd3",
   "metadata": {},
   "outputs": [
    {
     "name": "stdout",
     "output_type": "stream",
     "text": [
      "\\frac{q_{2}}{4 \\pi \\epsilon_{0}} \\left(\\gamma_{V} \\left(R - R V_{hat} V_{hat}\\right) \\left(R R\\right)^{-1.5} + R V_{hat} V_{hat} \\left(R R\\right)^{-1.5}\\right)\n"
     ]
    }
   ],
   "source": [
    "cleanForce(E_1)"
   ]
  },
  {
   "cell_type": "code",
   "execution_count": 10,
   "id": "e403e480-55af-45b4-a371-33ce74e24959",
   "metadata": {},
   "outputs": [
    {
     "name": "stdout",
     "output_type": "stream",
     "text": [
      "\\frac{q_{2} \\left(1 - \\frac{v^{2}}{c^{2}}\\right)}{4 \\pi \\epsilon_{0}} R_{hat} \\left(- \\left(\\frac{1}{c} R V_{hat}\\right)^{2} + R R\\right)^{- \\frac{3}{2}}\n"
     ]
    }
   ],
   "source": [
    "cleanForce(E_2)"
   ]
  },
  {
   "cell_type": "code",
   "execution_count": 11,
   "id": "a78b2b95-0346-4dee-9792-d91c53db195a",
   "metadata": {},
   "outputs": [
    {
     "name": "stdout",
     "output_type": "stream",
     "text": [
      "\\frac{q_{2}}{4 \\pi \\epsilon_{0}} \\left(\\gamma_{V} \\left(R - R V_{hat} V_{hat}\\right) \\left(R R\\right)^{-1.5} + R V_{hat} V_{hat} \\left(R R\\right)^{-1.5}\\right) + \\frac{q_{2} \\left(c^{2} - v^{2}\\right)}{4 \\pi c^{2} \\epsilon_{0}} R_{hat} \\left(- \\left(\\frac{1}{c} R V_{hat}\\right)^{2} + R R\\right)^{- \\frac{3}{2}}\n"
     ]
    }
   ],
   "source": [
    "EE = sp.simplify(E_1 + E_2)\n",
    "cleanForce(EE)"
   ]
  },
  {
   "cell_type": "code",
   "execution_count": null,
   "id": "e3566106-c4b7-40a0-a548-96e95652fa61",
   "metadata": {},
   "outputs": [],
   "source": []
  },
  {
   "cell_type": "code",
   "execution_count": null,
   "id": "a204dc0a-bc49-4351-b656-bcc792179579",
   "metadata": {},
   "outputs": [],
   "source": []
  },
  {
   "cell_type": "code",
   "execution_count": null,
   "id": "9a5b6e7c-1e03-49ac-8a0e-55d4564b97ef",
   "metadata": {},
   "outputs": [],
   "source": [
    "import sympy as sp\n",
    "# Define symbols for relativistic transformations\n",
    "ct = sp.Symbol('ct', real=True)  # Time multiplied by speed of light\n",
    "gamma = sp.Function('gamma')(V, c)  # Lorentz factor as a function of velocity V and speed of light c\n",
    "\n",
    "# Define the metric tensor for Minkowski spacetime\n",
    "g = sp.Matrix([[-1, 0, 0, 0],\n",
    "                [0, 1, 0, 0],\n",
    "                [0, 0, 1, 0],\n",
    "                [0, 0, 0, 1]])\n",
    "\n",
    "# Define the electromagnetic field tensor F_mu_nu\n",
    "F = sp.Matrix([[0, -sp.Symbol('E_x'), -sp.Symbol('E_y'), -sp.Symbol('E_z')],\n",
    "               [sp.Symbol('E_x'), 0, -sp.Symbol('B_z'), sp.Symbol('B_y')],\n",
    "               [sp.Symbol('E_y'), sp.Symbol('B_z'), 0, -sp.Symbol('B_x')],\n",
    "               [sp.Symbol('E_z'), -sp.Symbol('B_y'), sp.Symbol('B_x'), 0]])\n",
    "\n",
    "# Define the Lorentz transformation matrix for boosts in the x-direction\n",
    "L = sp.Matrix([[gamma, -gamma * V / c, 0, 0],\n",
    "               [-gamma * V / c, gamma, 0, 0],\n",
    "               [0, 0, 1, 0],\n",
    "               [0, 0, 0, 1]])\n",
    "\n",
    "# Perform the Lorentz transformation of the field tensor F_prime = L * F * L.T\n",
    "F_prime = L * F * L.T\n",
    "\n",
    "# Simplify the transformed tensor\n",
    "F_prime_simplified = sp.simplify(F_prime)\n",
    "\n",
    "# Display the results\n",
    "print(\"Electromagnetic field tensor F:\")\n",
    "sp.pprint(F)\n",
    "print(\"\\nLorentz transformation matrix L:\")\n",
    "sp.pprint(L)\n",
    "print(\"\\nTransformed electromagnetic field tensor F_prime:\")\n",
    "sp.pprint(F_prime_simplified)\n"
   ]
  },
  {
   "cell_type": "code",
   "execution_count": null,
   "id": "69516126-ab7c-407c-a34e-5e5344d92fad",
   "metadata": {},
   "outputs": [],
   "source": []
  },
  {
   "cell_type": "code",
   "execution_count": null,
   "id": "fa6afa7d-e049-427d-81d3-53a9440845cf",
   "metadata": {},
   "outputs": [],
   "source": [
    "import sympy as sp\n",
    "\n",
    "# Define symbolic variables\n",
    "q2, epsilon_0, c, v_rel = sp.symbols('q2 epsilon_0 c v_rel', real=True, positive=True)\n",
    "R = sp.MatrixSymbol('R', 3, 1)  # Position vector R (3x1 matrix)\n",
    "v_rel_vect = sp.MatrixSymbol('v_rel_vect', 3, 1)  # Relative velocity vector (3x1 matrix)\n",
    "\n",
    "# Define magnitudes\n",
    "R_magnitude = sp.sqrt(R.T * R)[0]\n",
    "v_rel_magnitude = sp.sqrt(v_rel_vect.T * v_rel_vect)[0]\n",
    "\n",
    "# Gamma factor for relative velocity\n",
    "gamma_rel = 1 / sp.sqrt(1 - v_rel_magnitude**2 / c**2)\n",
    "\n",
    "# Components of R: parallel and perpendicular\n",
    "R_parallel = (R.T * v_rel_vect)[0] / v_rel_magnitude**2 * v_rel_vect\n",
    "R_perpendicular = R - R_parallel\n",
    "\n",
    "# First equation: electric field\n",
    "E_1 = (q2 / (4 * sp.pi * epsilon_0)) * (\n",
    "    gamma_rel * R_perpendicular / R_magnitude**3 + R_parallel / R_magnitude**3\n",
    ")\n",
    "\n",
    "# Simplify E_1\n",
    "E_1_simplified = sp.simplify(E_1)\n",
    "\n",
    "# Transition step: substitute R_parallel and R_perpendicular into the combined form\n",
    "R_dot_v_rel = (R.T * v_rel_vect)[0]\n",
    "E_transition = (q2 / (4 * sp.pi * epsilon_0)) * (\n",
    "    R * (1 - v_rel_magnitude**2 / c**2) / R_magnitude**3 + (1 - gamma_rel) * R_dot_v_rel / (v_rel_magnitude**2 * R_magnitude**3) * v_rel_vect\n",
    ")\n",
    "\n",
    "# Simplify transition step\n",
    "E_transition_simplified = sp.simplify(E_transition)\n",
    "\n",
    "# Final equation: electric field\n",
    "E_2 = (q2 / (4 * sp.pi * epsilon_0)) * (\n",
    "    R * (1 - v_rel_magnitude**2 / c**2) / \n",
    "    sp.sqrt(R_magnitude**2 - ((R.T * v_rel_vect)[0] / c)**2)**3\n",
    ")\n",
    "\n",
    "# Print the results\n",
    "print(\"First equation (E_1):\")\n",
    "sp.pprint(E_1_simplified)\n",
    "\n",
    "print(\"\\nTransition step:\")\n",
    "sp.pprint(E_transition_simplified)\n",
    "\n",
    "print(\"\\nFinal equation (E_2):\")\n",
    "sp.pprint(E_2)\n"
   ]
  },
  {
   "cell_type": "code",
   "execution_count": null,
   "id": "80423237-1a6c-4676-a5e1-69e60649268a",
   "metadata": {},
   "outputs": [],
   "source": [
    "E_transition_simplified"
   ]
  }
 ],
 "metadata": {
  "kernelspec": {
   "display_name": "Python [conda env:Cosmos3020]",
   "language": "python",
   "name": "conda-env-Cosmos3020-py"
  },
  "language_info": {
   "codemirror_mode": {
    "name": "ipython",
    "version": 3
   },
   "file_extension": ".py",
   "mimetype": "text/x-python",
   "name": "python",
   "nbconvert_exporter": "python",
   "pygments_lexer": "ipython3",
   "version": "3.11.9"
  }
 },
 "nbformat": 4,
 "nbformat_minor": 5
}
