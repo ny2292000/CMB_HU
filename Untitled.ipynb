{
 "cells": [
  {
   "cell_type": "code",
   "execution_count": 2,
   "id": "4ff38073-75d3-4da2-8efb-50ecc4689042",
   "metadata": {},
   "outputs": [
    {
     "data": {
      "text/latex": [
       "$\\displaystyle \\frac{2 \\pi}{P_{1} \\lambda_{1}} \\left(\\frac{R_{0} v_{1}}{c} V_{1 hat}^{T} + 0 r_{hat}^{T}\\right) \\left(\\left(\\gamma_{v1} - 1\\right) V_{1 hat} V_{1 hat}^{T} + One\\right) \\left(\\frac{R_{0} v_{1}}{c} V_{1 hat} + 0 r_{hat}\\right)$"
      ],
      "text/plain": [
       "(2*pi/(P1*lambda1))*((R0*v1/c)*V1_hat.T + 0*r_hat.T)*((gamma_v1 - 1)*V1_hat*V1_hat.T + One)*((R0*v1/c)*V1_hat + 0*r_hat)"
      ]
     },
     "execution_count": 2,
     "metadata": {},
     "output_type": "execute_result"
    }
   ],
   "source": [
    "import sympy as sp\n",
    "\n",
    "# Define symbols\n",
    "pi, m_0, x, Q, lambda1, R0, c, N, v1, v2, gamma_v1, gamma_v2, P1, P2 = sp.symbols(\n",
    "    'pi m_0 x Q lambda1 R0 c N v1 v2 gamma_v1 gamma_v2 P1 P2', real=True, positive=True)\n",
    "alpha = sp.symbols('alpha', real=True, positive=True)\n",
    "\n",
    "# Define MatrixSymbols for arbitrary unit vectors\n",
    "V1_hat = sp.MatrixSymbol('V1_hat', 3, 1)  # 3x1 Matrix Symbol for Unit vector along V1\n",
    "V2_hat = sp.MatrixSymbol('V2_hat', 3, 1)  # 3x1 Matrix Symbol for Unit vector along V2\n",
    "R0_hat = sp.MatrixSymbol('R0_hat', 3, 1)  # 3x1 Matrix Symbol for Unit vector along R0\n",
    "r_hat = sp.MatrixSymbol('r_hat', 3, 1)    # 3x1 Matrix Symbol for general unit vector for position adjustments\n",
    "\n",
    "# Identity matrix for space dimension\n",
    "One = sp.MatrixSymbol('One', 3, 3) # Correct usage of Identity Matrix\n",
    "\n",
    "# Velocity vectors\n",
    "V1 = v1 * V1_hat\n",
    "V2 = v2 * V2_hat\n",
    "R0_vect = R0 * R0_hat\n",
    "\n",
    "# Position vectors\n",
    "r1 = V1 * R0 / c + x * r_hat\n",
    "r2 = V1 * R0 / c - R0_vect + x * r_hat\n",
    "\n",
    "# Projection matrices and Lorentz transformation matrices\n",
    "# 1+(GAMMA-1)P = (1-P) + GAMMA*P\n",
    "# P IS THE PROJECTOR TO THE V1 AND V2 DIRECTIONS \n",
    "\n",
    "M1 = One + (gamma_v1 - 1) * V1 * V1.T / (v1**2)\n",
    "M2 = One + (gamma_v2 - 1) * V2 * V2.T / (v2**2)\n",
    "\n",
    "# Wave vectors\n",
    "k1 = (2 * pi / lambda1) * r1.T* M1  / P1\n",
    "k2 = (2 * pi / lambda1) * r2.T * M2 / P2\n",
    "\n",
    "# Fields definitions\n",
    "k1path = ( k1 * r1 )\n",
    "Phi1 = sp.cos(k1path)\n",
    "first_derivative = sp.diff(k1path, x)\n",
    "second_derivative = sp.diff(first_derivative, x)\n",
    "# Took the second derivative to extract the coefficient of x\n",
    "k1path_diff = second_derivative\n",
    "k1path=k1path.subs(x,0)\n",
    "k1path"
   ]
  },
  {
   "cell_type": "markdown",
   "id": "1586dc51-efdd-4443-867e-75e438b13551",
   "metadata": {},
   "source": [
    "# Calculate $ \\frac{d\\Phi_1}{dr} $"
   ]
  },
  {
   "cell_type": "code",
   "execution_count": 3,
   "id": "2fe9dc57-d6c8-4a33-8b42-32c92f02d769",
   "metadata": {},
   "outputs": [
    {
     "data": {
      "text/latex": [
       "$\\displaystyle \\frac{8 R_{0}^{2} \\pi^{2} v_{1}^{2}}{P_{1}^{2} c^{2} \\lambda_{1}^{2}} V_{1 hat}^{T} \\left(\\left(\\gamma_{v1} - 1\\right) V_{1 hat} V_{1 hat}^{T} + One^{T}\\right) V_{1 hat} r_{hat}^{T} \\left(\\left(\\gamma_{v1} - 1\\right) V_{1 hat} V_{1 hat}^{T} + One\\right) r_{hat}$"
      ],
      "text/plain": [
       "(8*R0**2*pi**2*v1**2/(P1**2*c**2*lambda1**2))*V1_hat.T*((gamma_v1 - 1)*V1_hat*V1_hat.T + One.T)*V1_hat*r_hat.T*((gamma_v1 - 1)*V1_hat*V1_hat.T + One)*r_hat"
      ]
     },
     "execution_count": 3,
     "metadata": {},
     "output_type": "execute_result"
    }
   ],
   "source": [
    "# Derivatives - Here we used diff(cos(k.x) = -ksin(kx) = -k**2x\n",
    "Phi1_diff = k1path.T*k1path_diff\n",
    "Phi1_diff"
   ]
  },
  {
   "cell_type": "markdown",
   "id": "0c088e31-7a71-4321-b546-650caaddde35",
   "metadata": {},
   "source": [
    "# Calculate $ \\frac{d\\Phi_2}{dr} $"
   ]
  },
  {
   "cell_type": "code",
   "execution_count": 4,
   "id": "d9419378-d875-41aa-8aa5-80f3093c2f65",
   "metadata": {},
   "outputs": [
    {
     "data": {
      "text/latex": [
       "$\\displaystyle - \\frac{2 N Q}{P_{2} \\lambda_{1}} r_{hat}^{T} \\left(\\left(\\gamma_{v2} - 1\\right) V_{2 hat} V_{2 hat}^{T} + One\\right) r_{hat} \\left(\\frac{Q}{P_{2} \\lambda_{1}} \\left(- R_{0} R_{0 hat}^{T} + \\frac{R_{0} v_{1}}{c} V_{1 hat}^{T}\\right) \\left(\\left(\\gamma_{v2} - 1\\right) V_{2 hat} V_{2 hat}^{T} + One\\right) \\left(- R_{0} R_{0 hat} + \\frac{R_{0} v_{1}}{c} V_{1 hat}\\right)\\right)^{-2}$"
      ],
      "text/plain": [
       "(-2*N*Q/(P2*lambda1))*r_hat.T*((gamma_v2 - 1)*V2_hat*V2_hat.T + One)*r_hat*((Q/(P2*lambda1))*((-R0)*R0_hat.T + (R0*v1/c)*V1_hat.T)*((gamma_v2 - 1)*V2_hat*V2_hat.T + One)*((-R0)*R0_hat + (R0*v1/c)*V1_hat))**(-2)"
      ]
     },
     "execution_count": 4,
     "metadata": {},
     "output_type": "execute_result"
    }
   ],
   "source": [
    "k2path = ( k2 * r2 )\n",
    "k2path =Q * k2path/(2*pi)\n",
    "k2path_diff = sp.diff(k2path,x,2)\n",
    "Phi2 = N / (1 + k2path[0].subs(x,0))\n",
    "# Derivatives\n",
    "Phi2_diff = -N *k2path_diff / (k2path.subs(x,0))**2 \n",
    "Phi2_diff"
   ]
  },
  {
   "cell_type": "markdown",
   "id": "8d09c9a1-a7a6-4752-a5de-c5a82e9928d7",
   "metadata": {},
   "source": [
    "# Calculate Force\n",
    "$ \\vec{F} = m_0\\frac{dv}{dt} = m_0 c^2 \\frac{d(\\frac{v}{c})}{dr}=  m_0 c^2 \\frac{dtanh(\\alpha)}{dr}$ \n",
    "\n",
    "Where\n",
    " $ tanh(\\alpha)= \\frac{v}{ic} $\n",
    "\n",
    "$ \\vec{F} = m_0 c^2 (1-\\frac{v_1^2}{c^2}) \\frac{d(\\frac{v}{c})}{cdt} $\n",
    "\n",
    "$ \\vec{F} = m_0 c^2 (1+tanh^2(\\alpha))\\frac{d\\alpha}{dr} $\n",
    "\n",
    "$ \\alpha = \\frac{x}{\\lambda_1} $\n",
    "\n",
    "$ \\frac{d\\alpha}{dr} =\\frac{\\alpha}{\\lambda_1} $\n",
    "\n",
    "$ \\vec{F} = m_0 c^2 (1-\\frac{v_1^2}{c^2})\\frac{\\alpha}{\\lambda_1^2} $"
   ]
  },
  {
   "cell_type": "code",
   "execution_count": null,
   "id": "0db71919-cae8-4b52-86c6-0f0f44118908",
   "metadata": {},
   "outputs": [],
   "source": []
  },
  {
   "cell_type": "code",
   "execution_count": 5,
   "id": "239da52d-9541-46c3-b802-df7fdb76a5c9",
   "metadata": {},
   "outputs": [
    {
     "data": {
      "text/latex": [
       "$\\displaystyle \\frac{N m_{0} \\left(- c^{2} + v_{1}^{2}\\right)}{P_{2} \\alpha \\lambda_{1}^{3} \\pi} r_{hat}^{T} \\left(\\left(\\gamma_{v2} - 1\\right) V_{2 hat} V_{2 hat}^{T} + One\\right) r_{hat} \\left(\\frac{1}{2 P_{2} \\alpha \\lambda_{1} \\pi} \\left(- R_{0} R_{0 hat}^{T} + \\frac{R_{0} v_{1}}{c} V_{1 hat}^{T}\\right) \\left(\\left(\\gamma_{v2} - 1\\right) V_{2 hat} V_{2 hat}^{T} + One\\right) \\left(- R_{0} R_{0 hat} + \\frac{R_{0} v_{1}}{c} V_{1 hat}\\right)\\right)^{-2} \\left(\\frac{8 R_{0}^{2} \\pi^{2} v_{1}^{2}}{P_{1}^{2} c^{2} \\lambda_{1}^{2}} V_{1 hat}^{T} \\left(\\left(\\gamma_{v1} - 1\\right) V_{1 hat} V_{1 hat}^{T} + One^{T}\\right) V_{1 hat} r_{hat}^{T} \\left(\\left(\\gamma_{v1} - 1\\right) V_{1 hat} V_{1 hat}^{T} + One\\right) r_{hat}\\right)^{-1}$"
      ],
      "text/plain": [
       "(N*m_0*(-c**2 + v1**2)/(P2*alpha*lambda1**3*pi))*r_hat.T*((gamma_v2 - 1)*V2_hat*V2_hat.T + One)*r_hat*((1/(2*P2*alpha*lambda1*pi))*((-R0)*R0_hat.T + (R0*v1/c)*V1_hat.T)*((gamma_v2 - 1)*V2_hat*V2_hat.T + One)*((-R0)*R0_hat + (R0*v1/c)*V1_hat))**(-2)*((8*R0**2*pi**2*v1**2/(P1**2*c**2*lambda1**2))*V1_hat.T*((gamma_v1 - 1)*V1_hat*V1_hat.T + One.T)*V1_hat*r_hat.T*((gamma_v1 - 1)*V1_hat*V1_hat.T + One)*r_hat)**(-1)"
      ]
     },
     "execution_count": 5,
     "metadata": {},
     "output_type": "execute_result"
    }
   ],
   "source": [
    "# Display results\n",
    "x_result = Phi2_diff/Phi1_diff\n",
    "Force = m_0*c**2*(1-v1**2/c**2)*x_result/lambda1**2\n",
    "Force = Force.subs(Q, 1/(2*pi*alpha))\n",
    "Force = Force.subs(x,0).simplify()\n",
    "Force"
   ]
  },
  {
   "cell_type": "code",
   "execution_count": 6,
   "id": "7d4d808b-e65e-447b-9b0f-a54d8876ec54",
   "metadata": {},
   "outputs": [
    {
     "name": "stdout",
     "output_type": "stream",
     "text": [
      "(N*m_0*(-c**2 + v1**2)/(P2*alpha*lambda1**3*pi))*r_hat.T*((gamma_v2 - 1)*V2_hat*V2_hat.T + One)*r_hat*((1/(2*P2*alpha*lambda1*pi))*((-R0)*R0_hat.T + (R0*v1/c)*V1_hat.T)*((gamma_v2 - 1)*V2_hat*V2_hat.T + One)*((-R0)*R0_hat + (R0*v1/c)*V1_hat))**(-2)*((8*R0**2*pi**2*v1**2/(P1**2*c**2*lambda1**2))*V1_hat.T*((gamma_v1 - 1)*V1_hat*V1_hat.T + One.T)*V1_hat*r_hat.T*((gamma_v1 - 1)*V1_hat*V1_hat.T + One)*r_hat)**(-1)\n"
     ]
    }
   ],
   "source": [
    "print(Force)"
   ]
  },
  {
   "cell_type": "code",
   "execution_count": 36,
   "id": "4ac12306-dc84-43aa-b010-6516f7c6bdd9",
   "metadata": {},
   "outputs": [
    {
     "name": "stdout",
     "output_type": "stream",
     "text": [
      "\\frac{N m_{0} \\left(- c^{2} + v_{1}^{2}\\right)}{P_{2} \\alpha \\lambda_{1}^{3} \\pi} \\hat{r} \\left(\\left(\\gamma_{v2} - 1\\right) \\hat{V}_2 \\hat{V}_2 + One\\right) \\hat{r} \\left(\\frac{1}{2 P_{2} \\alpha \\lambda_{1} \\pi} \\left(- R_{0} \\hat{R}_0 + \\frac{R_{0} v_{1}}{c} \\hat{V}_1\\right) \\left(\\left(\\gamma_{v2} - 1\\right) \\hat{V}_2 \\hat{V}_2 + One\\right) \\left(- R_{0} \\hat{R}_0 + \\frac{R_{0} v_{1}}{c} \\hat{V}_1\\right)\\right)^{-2} \\left(\\frac{8 R_{0}^{2} \\pi^{2} v_{1}^{2}}{P_{1}^{2} c^{2} \\lambda_{1}^{2}} \\hat{V}_1 \\left(\\left(\\gamma_{v1} - 1\\right) \\hat{V}_1 \\hat{V}_1 + One\\right) \\hat{V}_1 \\hat{r} \\left(\\left(\\gamma_{v1} - 1\\right) \\hat{V}_1 \\hat{V}_1 + One\\right) \\hat{r}\\right)^{-1}\n"
     ]
    }
   ],
   "source": [
    "def cleanForce(Force):\n",
    "    Force_latex = sp.latex(Force)\n",
    "    Force_latex = Force_latex.replace(\"V_{1 hat}\", \"\\hat{V}_1\")\n",
    "    Force_latex = Force_latex.replace(\"V_{2 hat}\", \"\\hat{V}_2\")\n",
    "    Force_latex = Force_latex.replace(\"R_{0 hat}\", \"\\hat{R}_0\")\n",
    "    Force_latex = Force_latex.replace(\"r_{hat}\", \"\\hat{r}\")\n",
    "    Force_latex = Force_latex.replace(\"+ 0 \\hat{r}\", \"\")\n",
    "    Force_latex = Force_latex.replace(\"^{T}\", \"\")\n",
    "    print(Force_latex)\n",
    "cleanForce(Force)"
   ]
  },
  {
   "cell_type": "code",
   "execution_count": null,
   "id": "ab0fe1fc-8212-4ecf-a99a-36778f1f18ce",
   "metadata": {},
   "outputs": [],
   "source": []
  },
  {
   "cell_type": "code",
   "execution_count": 8,
   "id": "c4e1abb1-13be-42b1-aa36-cd47e31fff3f",
   "metadata": {},
   "outputs": [],
   "source": [
    "latex_str = sp.latex(Force, mode='plain')\n",
    "# Write to a file\n",
    "with open('./Drawing For Publications/Force.tex', 'w') as file:\n",
    "    file.write(latex_str)"
   ]
  },
  {
   "cell_type": "code",
   "execution_count": 42,
   "id": "8c4fa6b7-436e-47b0-af8c-d3db6ebc4439",
   "metadata": {},
   "outputs": [
    {
     "name": "stdout",
     "output_type": "stream",
     "text": [
      "\\frac{N m_{0} \\left(- c^{2} + v_{1}^{2}\\right)}{P_{2} \\alpha \\lambda_{1}^{3} \\pi}\n"
     ]
    }
   ],
   "source": [
    "AA =(r_hat.T*((gamma_v2 - 1)*V2_hat*V2_hat.T + One)*r_hat)/(r_hat.T*((gamma_v1 - 1)*V1_hat*V1_hat.T + One)*r_hat)\n",
    "BB =((8*pi**2*R0**2*v1**2/(P1**2*c**2*lambda1**2))*V1_hat.T*((gamma_v1 - 1)*V1_hat*V1_hat.T + One.T)*V1_hat)\n",
    "CC=((1/(2*pi*P2*alpha*lambda1))*((-R0)*R0_hat.T + (R0*v1/c)*V1_hat.T)*((gamma_v2 - 1)*V2_hat*V2_hat.T + One)*((-R0)*R0_hat + (R0*v1/c)*V1_hat))\n",
    "\n",
    "expression = (N*m_0*(-c**2 + v1**2)/(pi*P2*alpha*lambda1**3)) # *AA/CC**2/BB\n",
    "cleanForce(expression)"
   ]
  },
  {
   "cell_type": "code",
   "execution_count": 33,
   "id": "8b619f25-2f03-4d8a-a1dd-45654a712a6f",
   "metadata": {},
   "outputs": [
    {
     "data": {
      "text/latex": [
       "$\\displaystyle \\frac{N m_{0} \\left(- c^{2} + v_{1}^{2}\\right)}{P_{2} \\alpha \\lambda_{1}^{3} \\pi} r_{hat}^{T} \\left(\\left(\\gamma_{v2} - 1\\right) V_{2 hat} V_{2 hat}^{T} + One\\right) r_{hat} \\left(\\frac{1}{2 P_{2} \\alpha \\lambda_{1} \\pi} \\left(- R_{0} R_{0 hat}^{T} + \\frac{R_{0} v_{1}}{c} V_{1 hat}^{T}\\right) \\left(\\left(\\gamma_{v2} - 1\\right) V_{2 hat} V_{2 hat}^{T} + One\\right) \\left(- R_{0} R_{0 hat} + \\frac{R_{0} v_{1}}{c} V_{1 hat}\\right)\\right)^{-2} \\left(\\frac{8 R_{0}^{2} \\pi^{2} v_{1}^{2}}{P_{1}^{2} c^{2} \\lambda_{1}^{2}} V_{1 hat}^{T} \\left(\\left(\\gamma_{v1} - 1\\right) V_{1 hat} V_{1 hat}^{T} + One^{T}\\right) V_{1 hat} r_{hat}^{T} \\left(\\left(\\gamma_{v1} - 1\\right) V_{1 hat} V_{1 hat}^{T} + One\\right) r_{hat}\\right)^{-1}$"
      ],
      "text/plain": [
       "(N*m_0*(-c**2 + v1**2)/(P2*alpha*lambda1**3*pi))*r_hat.T*((gamma_v2 - 1)*V2_hat*V2_hat.T + One)*r_hat*((1/(2*P2*alpha*lambda1*pi))*((-R0)*R0_hat.T + (R0*v1/c)*V1_hat.T)*((gamma_v2 - 1)*V2_hat*V2_hat.T + One)*((-R0)*R0_hat + (R0*v1/c)*V1_hat))**(-2)*((8*R0**2*pi**2*v1**2/(P1**2*c**2*lambda1**2))*V1_hat.T*((gamma_v1 - 1)*V1_hat*V1_hat.T + One.T)*V1_hat*r_hat.T*((gamma_v1 - 1)*V1_hat*V1_hat.T + One)*r_hat)**(-1)"
      ]
     },
     "execution_count": 33,
     "metadata": {},
     "output_type": "execute_result"
    }
   ],
   "source": [
    "Force"
   ]
  },
  {
   "cell_type": "code",
   "execution_count": 37,
   "id": "54d692e5-44e0-4771-b402-566d3c2654ba",
   "metadata": {},
   "outputs": [
    {
     "name": "stdout",
     "output_type": "stream",
     "text": [
      "\\frac{R_{0}^{2}}{2 P_{2} \\alpha \\lambda_{1} \\pi} \\hat{R}_0 One \\hat{R}_0 + \\frac{R_{0}^{2} v_{1}^{2}}{2 P_{2} \\alpha c^{2} \\lambda_{1} \\pi} \\hat{V}_1 One \\hat{V}_1 + - \\frac{R_{0}^{2} v_{1}}{2 P_{2} \\alpha c \\lambda_{1} \\pi} \\hat{R}_0 One \\hat{V}_1 + - \\frac{R_{0}^{2} v_{1}}{2 P_{2} \\alpha c \\lambda_{1} \\pi} \\hat{V}_1 One \\hat{R}_0 + \\left(\\left(\\frac{R_{0}^{2} \\gamma_{v2}}{2 P_{2} \\alpha \\lambda_{1} \\pi} - \\frac{R_{0}^{2}}{2 P_{2} \\alpha \\lambda_{1} \\pi}\\right) \\hat{R}_0 \\hat{V}_2 \\hat{V}_2 \\hat{R}_0\\right) + \\left(\\left(\\frac{R_{0}^{2} \\gamma_{v2} v_{1}^{2}}{2 P_{2} \\alpha c^{2} \\lambda_{1} \\pi} - \\frac{R_{0}^{2} v_{1}^{2}}{2 P_{2} \\alpha c^{2} \\lambda_{1} \\pi}\\right) \\hat{V}_1 \\hat{V}_2 \\hat{V}_2 \\hat{V}_1\\right) + \\left(\\left(- \\frac{R_{0}^{2} \\gamma_{v2} v_{1}}{2 P_{2} \\alpha c \\lambda_{1} \\pi} + \\frac{R_{0}^{2} v_{1}}{2 P_{2} \\alpha c \\lambda_{1} \\pi}\\right) \\hat{R}_0 \\hat{V}_2 \\hat{V}_2 \\hat{V}_1\\right) + \\left(\\left(- \\frac{R_{0}^{2} \\gamma_{v2} v_{1}}{2 P_{2} \\alpha c \\lambda_{1} \\pi} + \\frac{R_{0}^{2} v_{1}}{2 P_{2} \\alpha c \\lambda_{1} \\pi}\\right) \\hat{V}_1 \\hat{V}_2 \\hat{V}_2 \\hat{R}_0\\right)\n"
     ]
    }
   ],
   "source": [
    "cleanForce(sp.expand(CC))"
   ]
  },
  {
   "cell_type": "code",
   "execution_count": 38,
   "id": "e915c21c-d75f-4d28-ac66-17d497b50e9c",
   "metadata": {},
   "outputs": [
    {
     "name": "stdout",
     "output_type": "stream",
     "text": [
      "\\frac{8 R_{0}^{2} \\pi^{2} v_{1}^{2}}{P_{1}^{2} c^{2} \\lambda_{1}^{2}} \\hat{V}_1 One \\hat{V}_1 + \\left(\\left(\\frac{8 R_{0}^{2} \\gamma_{v1} \\pi^{2} v_{1}^{2}}{P_{1}^{2} c^{2} \\lambda_{1}^{2}} - \\frac{8 R_{0}^{2} \\pi^{2} v_{1}^{2}}{P_{1}^{2} c^{2} \\lambda_{1}^{2}}\\right) \\hat{V}_1 \\hat{V}_1 \\hat{V}_1 \\hat{V}_1\\right)\n"
     ]
    }
   ],
   "source": [
    "cleanForce(sp.expand(BB))"
   ]
  },
  {
   "cell_type": "code",
   "execution_count": 39,
   "id": "e58ed45a-2db5-47d5-b3d8-51cec91cc24a",
   "metadata": {},
   "outputs": [
    {
     "name": "stdout",
     "output_type": "stream",
     "text": [
      "\\left(\\left(\\gamma_{v2} - 1\\right) \\hat{r} \\hat{V}_2 \\hat{V}_2 \\hat{r} \\left(\\left(\\gamma_{v1} - 1\\right) \\hat{r} \\hat{V}_1 \\hat{V}_1 \\hat{r} + \\hat{r} One \\hat{r}\\right)^{-1}\\right) + \\hat{r} One \\hat{r} \\left(\\left(\\gamma_{v1} - 1\\right) \\hat{r} \\hat{V}_1 \\hat{V}_1 \\hat{r} + \\hat{r} One \\hat{r}\\right)^{-1}\n"
     ]
    }
   ],
   "source": [
    "cleanForce(sp.expand(AA))"
   ]
  },
  {
   "cell_type": "code",
   "execution_count": null,
   "id": "0800c88b-05ee-4024-b0e0-3f5db58266ad",
   "metadata": {},
   "outputs": [],
   "source": []
  }
 ],
 "metadata": {
  "kernelspec": {
   "display_name": "Python 3 (ipykernel)",
   "language": "python",
   "name": "python3"
  },
  "language_info": {
   "codemirror_mode": {
    "name": "ipython",
    "version": 3
   },
   "file_extension": ".py",
   "mimetype": "text/x-python",
   "name": "python",
   "nbconvert_exporter": "python",
   "pygments_lexer": "ipython3",
   "version": "3.11.5"
  }
 },
 "nbformat": 4,
 "nbformat_minor": 5
}
