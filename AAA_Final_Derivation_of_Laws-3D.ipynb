{
 "cells": [
  {
   "cell_type": "markdown",
   "id": "5820fd22-357e-4e97-9aae-9a6874313912",
   "metadata": {},
   "source": [
    "# BEGINNING"
   ]
  },
  {
   "cell_type": "code",
   "execution_count": 1,
   "id": "7d3b2a11-490e-49e2-a8dc-31733fa131b8",
   "metadata": {},
   "outputs": [],
   "source": [
    "from sympy import symbols, Matrix, MatrixSymbol, sqrt, simplify, latex, diff, fraction, \\\n",
    "                  collect, expand, shape, solve, eye, factor, cse, init_printing\n",
    "init_printing()\n",
    "m0, h, e, epsilon0, r_hat_modulus, R0, gamma_v1, gamma_v1,gamma_v2, v1, v2, c, N, pi, lambda_1, alpha, R0, delta = \\\n",
    "      symbols('m0 h e epsilon0 r_hat_modulus R0 gamma_v1 gamma_v1 gamma_v2 v1 v2 c N pi lambda_1 alpha R0 delta')\n",
    "\n",
    "def simplify_M(M):\n",
    "    # Check if M is a Matrix or a one-dimensional iterable (like a vector)\n",
    "    if isinstance(M, Matrix):\n",
    "        # Apply simplify to each element of the matrix\n",
    "        return Matrix(M.rows, M.cols, lambda i, j: simplify(M[i, j]))\n",
    "    else:\n",
    "        # Treat M as a vector (one-dimensional iterable)\n",
    "        return [simplify(element) for element in M]\n",
    "\n",
    "One = MatrixSymbol(\"One\", 3,3)\n",
    "V1_hat = MatrixSymbol(\"V1_hat\", 3,1)\n",
    "V1 = v1* V1_hat\n",
    "V2_hat = MatrixSymbol(\"V2_hat\", 3,1)\n",
    "V2 = v2* V2_hat\n",
    "R0_hat = MatrixSymbol(\"R0_hat\", 3,1)\n",
    "R0_vect = R0*R0_hat\n",
    "r_hat = MatrixSymbol(\"r_hat\", 3,1)\n",
    "r = delta * r_hat\n",
    "# r_hat_modulus = r_hat.T*r_hat\n",
    "\n",
    "A = One\n",
    "B = V1*V1.T/v1**2\n",
    "C = (gamma_v1 -1)*One\n",
    "D = V2*V2.T/v2**2\n",
    "E = (gamma_v2 -1)*One\n",
    "M1 = A + C*B\n",
    "M2 = A + D*E\n",
    "\n",
    "r_hat = MatrixSymbol(\"r_hat\", 3,1)\n",
    "path0 = delta*r_hat\n",
    "path0_hat = r_hat\n",
    "path1 = MatrixSymbol(\"path1\", 3,1) \n",
    "path1_hat = MatrixSymbol(\"path1_hat\", 3,1)\n",
    "path2 = MatrixSymbol(\"path2\", 3,1)\n",
    "path2_modulus = symbols(\"path2_modulus\")\n",
    "path2_hat = path2/path2_modulus\n",
    "\n",
    "\n",
    "# path1 = V1*lambda_1/c + delta*r_hat\n",
    "# path1_hat = V1/v1+c/(v1*lambda_1)*r\n",
    "# path2 = -V2*R0/c + R0_vect +  V1*lambda_1/c + r\n",
    "# path2_modulus = sqrt(path2.T * path2).subs(delta,0)\n",
    "# path2_hat = path2/path2_modulus\n",
    "k0_vect = 2*pi/(lambda_1)*path0_hat\n",
    "k1_vect = 2*pi/(lambda_1)*(M1*M1*path1_hat)\n",
    "k2_vect = 2*pi/(lambda_1)*(M2*M2*path2_hat)"
   ]
  },
  {
   "cell_type": "markdown",
   "id": "9311e42f-52be-46d9-b54c-c9453651d99d",
   "metadata": {},
   "source": [
    "# Calculate Fi1"
   ]
  },
  {
   "cell_type": "code",
   "execution_count": 2,
   "id": "ee34dae4-b3b1-4465-b456-865e520ab832",
   "metadata": {},
   "outputs": [
    {
     "data": {
      "image/png": "[encoded data removed]",
      "text/latex": [
       "$\\displaystyle \\frac{2 \\pi}{\\lambda_{1}} \\left(\\frac{2 \\pi}{\\lambda_{1}} path_{1 hat}^{T} \\left(\\left(\\gamma_{v1} - 1\\right) V_{1 hat} V_{1 hat}^{T} One^{T} + One^{T}\\right)^{2} path_{1} + 0 r_{hat}^{T} r_{hat}\\right) r_{hat}^{T} r_{hat}$"
      ],
      "text/plain": [
       "    ⎛                                                                    2    \n",
       "2⋅π ⎜      T        2⋅π          T ⎛                       T    T      T⎞     \n",
       "───⋅⎜0⋅rₕₐₜ ⋅rₕₐₜ + ───⋅path₁ ₕₐₜ ⋅⎝(γᵥ₁ - 1)⋅V₁ ₕₐₜ⋅V₁ ₕₐₜ ⋅One  + One ⎠ ⋅pat\n",
       " λ₁ ⎝                λ₁                                                       \n",
       "\n",
       "  ⎞           \n",
       "  ⎟     T     \n",
       "h₁⎟⋅rₕₐₜ ⋅rₕₐₜ\n",
       "  ⎠           "
      ]
     },
     "execution_count": 2,
     "metadata": {},
     "output_type": "execute_result"
    }
   ],
   "source": [
    "k01Path= k1_vect.T*path1+k0_vect.T*path0\n",
    "dk1ddelta = diff(k01Path, delta)\n",
    "dFi1ddelta = k01Path*dk1ddelta\n",
    "dFi1ddelta = dFi1ddelta.subs(delta,0)\n",
    "dFi1ddelta"
   ]
  },
  {
   "cell_type": "markdown",
   "id": "d2d80120-7fb9-4d80-be16-9079305b3cdd",
   "metadata": {},
   "source": [
    "# Calculater Fi2"
   ]
  },
  {
   "cell_type": "code",
   "execution_count": 3,
   "id": "47035b04-9319-49b6-b4c2-a6a3f8529919",
   "metadata": {},
   "outputs": [
    {
     "data": {
      "image/png": "[encoded data removed]",
      "text/latex": [
       "$\\displaystyle \\frac{1}{4 \\alpha \\lambda_{1} \\pi^{2}} \\left(\\frac{2 \\pi}{\\lambda_{1} path_{2 modulus}} path_{2}^{T} \\left(\\left(\\gamma_{v2} - 1\\right) One^{T} V_{2 hat} V_{2 hat}^{T} + One^{T}\\right)^{2} path_{2} + 0 r_{hat}^{T} r_{hat}\\right)$"
      ],
      "text/plain": [
       "          ⎛                                                                   \n",
       "    1     ⎜      T               2⋅π             T ⎛             T            \n",
       "─────────⋅⎜0⋅rₕₐₜ ⋅rₕₐₜ + ─────────────────⋅path₂ ⋅⎝(γᵥ₂ - 1)⋅One ⋅V₂ ₕₐₜ⋅V₂ ₕ\n",
       "        2 ⎝               λ₁⋅path_2_modulus                                   \n",
       "4⋅α⋅λ₁⋅π                                                                      \n",
       "\n",
       "           2      ⎞\n",
       "  T      T⎞       ⎟\n",
       "ₐₜ  + One ⎠ ⋅path₂⎟\n",
       "                  ⎠\n",
       "                   "
      ]
     },
     "execution_count": 3,
     "metadata": {},
     "output_type": "execute_result"
    }
   ],
   "source": [
    "k2Path2 = (k2_vect.T*path2+k0_vect.T*path0)\n",
    "# divide it by 2 pi to get the number of cycles\n",
    "k2Path2 = k2Path2/(2*pi)\n",
    "# divide it by (2 pi alpha) to express the local density decay (1 was divided into 2 pi, \n",
    "# then that density decayed with the number of cycles linearly\n",
    "k2Path2 = k2Path2/(2*pi*lambda_1*alpha)\n",
    "dk2ddelta = diff(k2Path2, delta)\n",
    "dk2ddelta = dk2ddelta.subs(delta,0)\n",
    "k2Path2 = k2Path2.subs(delta,0)\n",
    "k2Path2"
   ]
  },
  {
   "cell_type": "code",
   "execution_count": 4,
   "id": "0110c7f0-5aca-4a7d-9c6f-f6d3671dc60f",
   "metadata": {},
   "outputs": [
    {
     "data": {
      "image/png": "[encoded data removed]",
      "text/latex": [
       "$\\displaystyle - \\frac{N}{2 \\alpha \\lambda_{1}^{2} \\pi} r_{hat}^{T} r_{hat} \\left(\\frac{1}{2 \\alpha \\lambda_{1}^{2} path_{2 modulus} \\pi} path_{2}^{T} \\left(\\left(\\gamma_{v2} - 1\\right) One^{T} V_{2 hat} V_{2 hat}^{T} + One^{T}\\right)^{2} path_{2}\\right)^{-2}$"
      ],
      "text/plain": [
       "                                                                              \n",
       "                     ⎛                                                        \n",
       "   -N         T      ⎜           1                  T ⎛             T         \n",
       "─────────⋅rₕₐₜ ⋅rₕₐₜ⋅⎜────────────────────────⋅path₂ ⋅⎝(γᵥ₂ - 1)⋅One ⋅V₂ ₕₐₜ⋅V\n",
       "      2              ⎜      2                                                 \n",
       "2⋅α⋅λ₁ ⋅π            ⎝2⋅α⋅λ₁ ⋅path_2_modulus⋅π                                \n",
       "\n",
       "                      -2\n",
       "              2      ⎞  \n",
       "     T      T⎞       ⎟  \n",
       "₂ ₕₐₜ  + One ⎠ ⋅path₂⎟  \n",
       "                     ⎟  \n",
       "                     ⎠  "
      ]
     },
     "execution_count": 4,
     "metadata": {},
     "output_type": "execute_result"
    }
   ],
   "source": [
    "dFi2ddelta =  -N*dk2ddelta/k2Path2**2\n",
    "dFi2ddelta"
   ]
  },
  {
   "cell_type": "code",
   "execution_count": 5,
   "id": "d7fe2f92-087e-45fb-9c4f-56859a70b161",
   "metadata": {},
   "outputs": [
    {
     "data": {
      "image/png": "[encoded data removed]",
      "text/latex": [
       "$\\displaystyle \\frac{N}{2 \\alpha \\lambda_{1}^{3} \\pi} r_{hat}^{T} r_{hat} \\left(\\frac{1}{2 \\alpha \\lambda_{1}^{2} path_{2 modulus} \\pi} path_{2}^{T} \\left(\\left(\\gamma_{v2} - 1\\right) One^{T} V_{2 hat} V_{2 hat}^{T} + One^{T}\\right)^{2} path_{2}\\right)^{-2} \\left(\\frac{4 \\pi^{2}}{\\lambda_{1}^{2}} path_{1 hat}^{T} \\left(\\left(\\gamma_{v1} - 1\\right) V_{1 hat} V_{1 hat}^{T} One^{T} + One^{T}\\right)^{2} path_{1} r_{hat}^{T} r_{hat}\\right)^{-1}$"
      ],
      "text/plain": [
       "                                                                              \n",
       "                     ⎛                                                        \n",
       "    N         T      ⎜           1                  T ⎛             T         \n",
       "─────────⋅rₕₐₜ ⋅rₕₐₜ⋅⎜────────────────────────⋅path₂ ⋅⎝(γᵥ₂ - 1)⋅One ⋅V₂ ₕₐₜ⋅V\n",
       "      3              ⎜      2                                                 \n",
       "2⋅α⋅λ₁ ⋅π            ⎝2⋅α⋅λ₁ ⋅path_2_modulus⋅π                                \n",
       "\n",
       "                      -2                                                      \n",
       "              2      ⎞   ⎛   2                                                \n",
       "     T      T⎞       ⎟   ⎜4⋅π           T ⎛                       T    T      \n",
       "₂ ₕₐₜ  + One ⎠ ⋅path₂⎟  ⋅⎜────⋅path₁ ₕₐₜ ⋅⎝(γᵥ₁ - 1)⋅V₁ ₕₐₜ⋅V₁ ₕₐₜ ⋅One  + One\n",
       "                     ⎟   ⎜  2                                                 \n",
       "                     ⎠   ⎝λ₁                                                  \n",
       "\n",
       "                     -1\n",
       "  2                 ⎞  \n",
       "T⎞            T     ⎟  \n",
       " ⎠ ⋅path₁⋅rₕₐₜ ⋅rₕₐₜ⎟  \n",
       "                    ⎟  \n",
       "                    ⎠  "
      ]
     },
     "execution_count": 5,
     "metadata": {},
     "output_type": "execute_result"
    }
   ],
   "source": [
    "delta = -dFi2ddelta/dFi1ddelta/lambda_1\n",
    "delta"
   ]
  },
  {
   "cell_type": "code",
   "execution_count": 6,
   "id": "6c3ceaaf-76cc-40c0-871f-6e9ada1913f6",
   "metadata": {},
   "outputs": [
    {
     "data": {
      "image/png": "[encoded data removed]",
      "text/latex": [
       "$\\displaystyle \\frac{N m_{0} \\left(c^{2} - v_{1}^{2}\\right)}{2 \\alpha \\lambda_{1}^{5} \\pi} r_{hat}^{T} r_{hat} \\left(\\frac{1}{2 \\alpha \\lambda_{1}^{2} path_{2 modulus} \\pi} path_{2}^{T} \\left(\\left(\\gamma_{v2} - 1\\right) One^{T} V_{2 hat} V_{2 hat}^{T} + One^{T}\\right)^{2} path_{2}\\right)^{-2} \\left(\\frac{4 \\pi^{2}}{\\lambda_{1}^{2}} path_{1 hat}^{T} \\left(\\left(\\gamma_{v1} - 1\\right) V_{1 hat} V_{1 hat}^{T} One^{T} + One^{T}\\right)^{2} path_{1} r_{hat}^{T} r_{hat}\\right)^{-1}$"
      ],
      "text/plain": [
       "                                                                              \n",
       "     ⎛ 2     2⎞            ⎛                                                  \n",
       "N⋅m₀⋅⎝c  - v₁ ⎠     T      ⎜           1                  T ⎛             T   \n",
       "───────────────⋅rₕₐₜ ⋅rₕₐₜ⋅⎜────────────────────────⋅path₂ ⋅⎝(γᵥ₂ - 1)⋅One ⋅V₂\n",
       "         5                 ⎜      2                                           \n",
       "   2⋅α⋅λ₁ ⋅π               ⎝2⋅α⋅λ₁ ⋅path_2_modulus⋅π                          \n",
       "\n",
       "                            -2                                                \n",
       "                    2      ⎞   ⎛   2                                          \n",
       "           T      T⎞       ⎟   ⎜4⋅π           T ⎛                       T    T\n",
       " ₕₐₜ⋅V₂ ₕₐₜ  + One ⎠ ⋅path₂⎟  ⋅⎜────⋅path₁ ₕₐₜ ⋅⎝(γᵥ₁ - 1)⋅V₁ ₕₐₜ⋅V₁ ₕₐₜ ⋅One \n",
       "                           ⎟   ⎜  2                                           \n",
       "                           ⎠   ⎝λ₁                                            \n",
       "\n",
       "                           -1\n",
       "        2                 ⎞  \n",
       "      T⎞            T     ⎟  \n",
       " + One ⎠ ⋅path₁⋅rₕₐₜ ⋅rₕₐₜ⎟  \n",
       "                          ⎟  \n",
       "                          ⎠  "
      ]
     },
     "execution_count": 6,
     "metadata": {},
     "output_type": "execute_result"
    }
   ],
   "source": [
    "Force = m0*c**2*(1-v1**2/c**2)*delta/lambda_1**2\n",
    "Force.simplify()"
   ]
  },
  {
   "cell_type": "code",
   "execution_count": 13,
   "id": "89b40cea-1cca-4463-87bd-7733a3b00b2f",
   "metadata": {},
   "outputs": [],
   "source": [
    "latex_str = latex(dFi2ddelta, mode='plain')\n",
    "# Write to a file\n",
    "with open('./img/dFi2ddelta.tex', 'w') as file:\n",
    "    file.write(latex_str)\n",
    "    \n",
    "latex_str = latex(k2Path2, mode='plain')\n",
    "# Write to a file\n",
    "with open('./img/k2Path2.tex', 'w') as file:\n",
    "    file.write(latex_str)\n",
    "    \n",
    "latex_str = latex(delta, mode='plain')\n",
    "# Write to a file\n",
    "with open('./img/delta.tex', 'w') as file:\n",
    "    file.write(latex_str)\n",
    "    \n",
    "latex_str = latex(dFi2ddelta, mode='plain')\n",
    "# Write to a file\n",
    "with open('./img/dFi2ddelta.tex', 'w') as file:\n",
    "    file.write(latex_str)\n",
    "\n",
    "latex_str = latex(Force, mode='plain')\n",
    "# Write to a file\n",
    "with open('./img/Force.tex', 'w') as file:\n",
    "    file.write(latex_str)"
   ]
  },
  {
   "cell_type": "code",
   "execution_count": 8,
   "id": "fd0305cd-461e-4827-bee2-17ea14e1f0a5",
   "metadata": {},
   "outputs": [
    {
     "data": {
      "text/latex": [
       "$1.3206906 \\times 10^{-15} \\; \\mathrm{m}$"
      ],
      "text/plain": [
       "<Quantity 1.32069058e-15 m>"
      ]
     },
     "execution_count": 8,
     "metadata": {},
     "output_type": "execute_result"
    }
   ],
   "source": [
    "from astropy import units as uu, constants as cc\n",
    "import numpy as np\n",
    "m_H=cc.m_p+cc.m_e\n",
    "N= (uu.kg/m_H).si\n",
    "# So 1kg_4D is equivalent to 5.9753831E26 Fundamental Dilators \n",
    "# or 5.9753831E26 electron charges or 95736192 Coulombs\n",
    "N*cc.e.si\n",
    "R0= (14.04E9*uu.lyr).si\n",
    "lambda_1 = (cc.h/m_H/cc.c).si\n",
    "lambda_1"
   ]
  },
  {
   "cell_type": "code",
   "execution_count": 9,
   "id": "26ca9671",
   "metadata": {},
   "outputs": [
    {
     "data": {
      "text/latex": [
       "$0.55037918 \\; \\mathrm{}$"
      ],
      "text/plain": [
       "<Quantity 0.55037918>"
      ]
     },
     "execution_count": 9,
     "metadata": {},
     "output_type": "execute_result"
    }
   ],
   "source": [
    "G_delta = cc.G/(  (2*np.pi**2/(2*np.pi*cc.alpha))/N**2*R0/lambda_1*uu.N/uu.kg**2*uu.m**2 )\n",
    "G_delta.si"
   ]
  },
  {
   "cell_type": "markdown",
   "id": "73ec5718-40a3-4deb-b17c-9072c1351d5a",
   "metadata": {},
   "source": [
    "# Natural Frequency of Gravitational Waves is given by this simple model\n",
    "$$ F = mc^2 \\frac{dtan(\\alpha_0)}{dr}=mc^2 \\frac{\\frac{8\\delta x}{R_0}}{\\lambda_1} = m (2 \\pi f)^2 x $$\n",
    "\n",
    "$$ f = \\frac{c}{2 \\pi} \\sqrt{ \\frac{8\\delta}{\\lambda_1R_0}    } $$"
   ]
  },
  {
   "cell_type": "code",
   "execution_count": 10,
   "id": "e8bb7ac9-d027-408b-9d0a-c7ae8874c619",
   "metadata": {},
   "outputs": [
    {
     "data": {
      "text/latex": [
       "$239.0399 \\; \\mathrm{\\frac{1}{s}}$"
      ],
      "text/plain": [
       "<Quantity 239.03989853 1 / s>"
      ]
     },
     "execution_count": 10,
     "metadata": {},
     "output_type": "execute_result"
    }
   ],
   "source": [
    "# notice that for the Gravitational Fundamental Dilator, the 4D mass is 2 Hydrogen atoms\n",
    "# so, N and lambda_1 are halved. Since the formula for delta is proportional to 1/(N*lambda_1)\n",
    "# the value of delta is multiplied by 8\n",
    "\n",
    "frequency = cc.c/(2*np.pi)*np.sqrt( 8 * G_delta/R0/lambda_1)\n",
    "frequency.si"
   ]
  },
  {
   "cell_type": "markdown",
   "id": "972e5326-558f-4fed-9596-0c241da7265f",
   "metadata": {},
   "source": [
    "# Coincidently this frequency is almost 240 Hertz and would be considered in LIGO as electronic noise (harmonic)"
   ]
  },
  {
   "cell_type": "markdown",
   "id": "32995618-1913-4894-827d-13a9b633592b",
   "metadata": {},
   "source": [
    "One of the most famous observations of neutron star orbits via gravitational waves is from the event GW170817. This event was the first-ever detection of gravitational waves from a binary neutron star merger, observed by LIGO and its sister observatory, Virgo, on August 17, 2017. \n",
    "\n",
    "During the final minutes before the merger, the neutron stars were orbiting each other at an incredibly high speed. To give you a sense of how fast they were orbiting, let's use the fact that the gravitational wave frequency is twice the orbital frequency of the binary system due to the quadrupole nature of gravitational radiation.\n",
    "\n",
    "At the point of the last observable orbit before merger, the gravitational wave frequency was about 1500 Hz. Therefore, the orbital frequency $ ( f_{\\text{orb}} ) $ of the neutron stars was approximately half of that, which is 750 Hz. This means the neutron stars were completing 750 orbits around each other every second just before they merged.\n",
    "\n",
    "Using the formula for the orbital frequency of two objects in a circular orbit:\n",
    "$$  f_{\\text{orb}} = \\frac{1}{2\\pi} \\sqrt{\\frac{G(M_1 + M_2)}{r^3}}  $$\n",
    "\n",
    "where \\( G \\) is the gravitational constant, \\( M_1 \\) and \\( M_2 \\) are the masses of the two neutron stars, and $ r $ is the distance between their centers, we could technically work backwards to find $ r $ if we knew the masses. However, it's simpler to state that, as they approached merger, their separation was just a few tens of kilometers, and they were moving at a significant fraction of the speed of light.\n",
    "\n",
    "To summarize, the neutron stars in the event GW170817 were orbiting each other at an orbital frequency of approximately 750 Hz, which means they were orbiting each other 750 times per second just before merging. This is an astonishingly rapid orbit, showcasing the extreme conditions under which these cosmic events occur."
   ]
  },
  {
   "cell_type": "markdown",
   "id": "e45572f9-e367-4a3c-91d3-a1b7bffda473",
   "metadata": {},
   "source": [
    "Yes, LIGO (Laser Interferometer Gravitational-Wave Observatory) and other gravitational wave detectors like Virgo have to contend with a wide range of noise sources that can affect their ability to detect gravitational waves. These noises come from various sources, including seismic activity, thermal vibrations, and human-made noise. Human-made or \"anthropogenic\" noise can include frequencies that are harmonics of electrical supply systems (like 60 Hz in the United States and 50 Hz in many other countries) and its multiples, which would include 240 Hz.\n",
    "\n",
    "LIGO's sensitivity to gravitational waves is highest in a band roughly between 10 Hz and a few kHz, which means it must be capable of distinguishing gravitational wave signals from noise across this range. To achieve this, LIGO uses a combination of physical isolation techniques for its mirrors and laser equipment, sophisticated vibration damping systems, and noise-cancellation techniques akin to noise-cancelling headphones, but much more advanced.\n",
    "\n",
    "Specific issues with noise at 240 Hz could arise from electronic equipment, including motors, transformers, and other devices that operate with frequencies that are harmonics of the main electrical supply frequency. LIGO scientists and engineers work continuously to identify the sources of such noise and mitigate them, either by physically removing or isolating the source, using active noise cancellation, or by filtering out these frequencies during data analysis.\n",
    "\n",
    "While I don't have specific instances where 240 Hz noise was highlighted as a problem for LIGO, it's reasonable to assume that any persistent, specific noise frequency within LIGO's sensitivity range would need to be addressed as part of their ongoing efforts to improve the observatory's sensitivity and reliability in detecting gravitational waves."
   ]
  },
  {
   "cell_type": "code",
   "execution_count": null,
   "id": "a882aadb-f83e-47e3-b4e6-5caaf48c8fa1",
   "metadata": {},
   "outputs": [],
   "source": []
  }
 ],
 "metadata": {
  "kernelspec": {
   "display_name": "Python [conda env:Cosmos3020]",
   "language": "python",
   "name": "conda-env-Cosmos3020-py"
  },
  "language_info": {
   "codemirror_mode": {
    "name": "ipython",
    "version": 3
   },
   "file_extension": ".py",
   "mimetype": "text/x-python",
   "name": "python",
   "nbconvert_exporter": "python",
   "pygments_lexer": "ipython3",
   "version": "3.11.8"
  }
 },
 "nbformat": 4,
 "nbformat_minor": 5
}
