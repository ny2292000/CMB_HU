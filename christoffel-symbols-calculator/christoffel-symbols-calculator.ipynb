{
 "cells": [
  {
   "cell_type": "markdown",
   "id": "576b0fe0",
   "metadata": {},
   "source": [
    "## Christoffel Symbols Calculator\n",
    "\n",
    "**NOTE**: Use geometrized units ($c = G = 1$)."
   ]
  },
  {
   "cell_type": "code",
   "execution_count": 1,
   "id": "05b61f9b",
   "metadata": {},
   "outputs": [],
   "source": [
    "from IPython.display import display, clear_output\n",
    "from itertools import product\n",
    "import numpy as np\n",
    "import sympy as sp\n",
    "from time import sleep"
   ]
  },
  {
   "cell_type": "markdown",
   "id": "625cded4",
   "metadata": {},
   "source": [
    "### Obtain a valid number of coordinates."
   ]
  },
  {
   "cell_type": "code",
   "execution_count": 3,
   "id": "c26c8d19",
   "metadata": {},
   "outputs": [
    {
     "name": "stdout",
     "output_type": "stream",
     "text": [
      "\n",
      "Enter the number of coordinates: 4\n"
     ]
    }
   ],
   "source": [
    "while(True):\n",
    "    n = input(\"\\nEnter the number of coordinates: \")\n",
    "    try:\n",
    "        n = int(n)\n",
    "        if n > 0:\n",
    "            break\n",
    "    except ValueError:\n",
    "            pass\n",
    "    print(\"\\nNumber of coordinates must be a positive integer! Try again.\\n\")\n",
    "    clear_output(wait=True)"
   ]
  },
  {
   "cell_type": "markdown",
   "id": "73951000",
   "metadata": {},
   "source": [
    "### Enter the desired coordinates.\n",
    "\n",
    "**NOTE**: To obtain coordinates like ($r$, $\\theta$), type **r theta** when prompted. "
   ]
  },
  {
   "cell_type": "code",
   "execution_count": 4,
   "id": "dc152244",
   "metadata": {},
   "outputs": [
    {
     "name": "stdout",
     "output_type": "stream",
     "text": [
      "\n",
      "Enter the coordinates: t r theta phi\n",
      "\n",
      "The coordinates are:\n"
     ]
    },
    {
     "data": {
      "text/latex": [
       "$\\displaystyle \\left[\\begin{matrix}x^{0} & x^{1} & x^{2} & x^{3}\\end{matrix}\\right] = \\left[\\begin{matrix}t & r & \\theta & \\phi\\end{matrix}\\right]$"
      ],
      "text/plain": [
       "Eq(Matrix([[x^0, x^1, x^2, x^3]]), Matrix([[t, r, theta, phi]]))"
      ]
     },
     "metadata": {},
     "output_type": "display_data"
    },
    {
     "name": "stdout",
     "output_type": "stream",
     "text": [
      "\n",
      "Proceed with these coordinates? [y/n]: y\n"
     ]
    }
   ],
   "source": [
    "while(True):\n",
    "    coordinates = [i for i in input(\"\\nEnter the coordinates: \").split()]\n",
    "    x = sp.symbols(coordinates)\n",
    "    print(\"\\nThe coordinates are:\")\n",
    "    display(sp.Eq(sp.Matrix(1,n,sp.symbols([f\"x^{i}\" for i in range(n)])), sp.Matrix(1,n,x)))\n",
    "    choice = input(\"\\nProceed with these coordinates? [y/n]: \").lower()\n",
    "    if choice == 'y':\n",
    "        break\n",
    "    clear_output(wait=True)"
   ]
  },
  {
   "cell_type": "markdown",
   "id": "2e1a3efe",
   "metadata": {},
   "source": [
    "### Generate the symbolic notations for the Christoffel symbols."
   ]
  },
  {
   "cell_type": "code",
   "execution_count": 5,
   "id": "d2d551d0",
   "metadata": {},
   "outputs": [],
   "source": [
    "# Create array to store the symbolic notations of the christoffel symbols.\n",
    "gamma_list = np.zeros(shape=n, dtype='object')\n",
    "\n",
    "for i in range(n): \n",
    "    dummy_matrix = sp.Matrix.zeros(n,n)\n",
    "    for (j,k) in product(range(n), repeat=2):\n",
    "        dummy_matrix[j,k] = sp.Symbol(f\"\\Gamma^{x[i]}_{x[j]}_{x[k]}\")\n",
    "    gamma_list[i] = dummy_matrix"
   ]
  },
  {
   "cell_type": "markdown",
   "id": "ccfc28ca",
   "metadata": {},
   "source": [
    "### Enter the components of the covariant metric tensor. \n",
    "\n",
    "**NOTE**: Input the terms in the usual Python format. For example, type **r\\*\\*2 * sin(theta)** for $r^2\\sin(\\theta)$."
   ]
  },
  {
   "cell_type": "code",
   "execution_count": 7,
   "id": "922978c1",
   "metadata": {},
   "outputs": [
    {
     "name": "stdout",
     "output_type": "stream",
     "text": [
      "\n",
      "The covariant metric components are:\n"
     ]
    },
    {
     "data": {
      "text/latex": [
       "$\\displaystyle \\left[\\begin{matrix}\tg_{t t} & \tg_{t r} & \tg_{t \\theta} & \tg_{t \\phi}\\\\\tg_{t r} & \tg_{r r} & \tg_{r \\theta} & \tg_{r \\phi}\\\\\tg_{t \\theta} & \tg_{r \\theta} & \tg_{\\theta \\theta} & \tg_{\\theta \\phi}\\\\\tg_{t \\phi} & \tg_{r \\phi} & \tg_{\\theta \\phi} & \tg_{\\phi \\phi}\\end{matrix}\\right] = \\left[\\begin{matrix}\\frac{1}{1 - \\frac{2 \\Phi{\\left(r \\right)}}{c^{2}}} & 0 & 0 & 0\\\\0 & 1 - \\frac{2 \\Phi{\\left(r \\right)}}{c^{2}} & 0 & 0\\\\0 & 0 & 1 & 0\\\\0 & 0 & 0 & 1\\end{matrix}\\right]$"
      ],
      "text/plain": [
       "Eq(Matrix([\n",
       "[     \tg_t_t,      \tg_t_r,      \tg_t_\\theta,      \tg_t_\\phi],\n",
       "[     \tg_t_r,      \tg_r_r,      \tg_r_\\theta,      \tg_r_\\phi],\n",
       "[\tg_t_\\theta, \tg_r_\\theta, \tg_\\theta_\\theta, \tg_\\theta_\\phi],\n",
       "[  \tg_t_\\phi,   \tg_r_\\phi,   \tg_\\theta_\\phi,   \tg_\\phi_\\phi]]), Matrix([\n",
       "[1/(1 - 2*Phi(r)/c**2),                 0, 0, 0],\n",
       "[                    0, 1 - 2*Phi(r)/c**2, 0, 0],\n",
       "[                    0,                 0, 1, 0],\n",
       "[                    0,                 0, 0, 1]]))"
      ]
     },
     "metadata": {},
     "output_type": "display_data"
    }
   ],
   "source": [
    "# Create a matrix to store the covariant metric tensor components.\n",
    "covariant_metric = sp.Matrix.zeros(n,n)\n",
    "\n",
    "# Matrix g will be used to store the symbolic notations of the components.\n",
    "g = covariant_metric.copy()\n",
    "\n",
    "while(True):\n",
    "    for i in range(n):\n",
    "        for j in range(i,n):\n",
    "            print(\"\\nEnter the components of the symmetric, covariant metric tensor:\")\n",
    "            metric_component = sp.Symbol(f\"\\tg_{sp.latex(x[i])}_{sp.latex(x[j])}\")\n",
    "            display(metric_component)\n",
    "            g[i,j] = metric_component\n",
    "            sleep(0.5) # counter asynchronocity between display and input function calls.\n",
    "            covariant_metric[i,j] = input(\"\")\n",
    "            if i!=j:\n",
    "                g[j,i] = g[i,j]\n",
    "                covariant_metric[j,i] = covariant_metric[i,j]\n",
    "            clear_output(wait=True)\n",
    "                \n",
    "# Compute the contravariant metric tensor from the covariant metric tensor.\n",
    "    try:\n",
    "        contravariant_metric = covariant_metric.inv()\n",
    "        break\n",
    "    except sp.matrices.common.NonInvertibleMatrixError:\n",
    "        print(\"\\nThe matrix containing the covariant metric components is not invertible! Try again.\")\n",
    "\n",
    "print(\"\\nThe covariant metric components are:\")\n",
    "display(sp.Eq(g,covariant_metric))"
   ]
  },
  {
   "cell_type": "markdown",
   "id": "7a125a88",
   "metadata": {},
   "source": [
    "### Compute the Christoffel symbols."
   ]
  },
  {
   "cell_type": "code",
   "execution_count": 8,
   "id": "17cdf269",
   "metadata": {},
   "outputs": [],
   "source": [
    "# Create array to store the computed christoffel symbols.\n",
    "christoffel_symbols = np.zeros(shape=n, dtype='object')\n",
    "\n",
    "for i in range(n):\n",
    "    dummy_matrix = sp.Matrix.zeros(n,n)\n",
    "    for (j,k,l) in product(range(n), repeat=3):\n",
    "        dummy_matrix[j,k] += (\n",
    "            sp.Rational(1/2)*contravariant_metric[i,l] * (sp.diff(covariant_metric[l,j],x[k]) \n",
    "            +sp.diff(covariant_metric[l,k],x[j]) - sp.diff(covariant_metric[j,k],x[l]))\n",
    "        )\n",
    "    christoffel_symbols[i] = sp.simplify(dummy_matrix)"
   ]
  },
  {
   "cell_type": "markdown",
   "id": "2b17ca7c",
   "metadata": {},
   "source": [
    "The Christoffel symbols are:"
   ]
  },
  {
   "cell_type": "code",
   "execution_count": 9,
   "id": "12bbe2c3",
   "metadata": {},
   "outputs": [
    {
     "data": {
      "text/latex": [
       "$\\displaystyle \\left[\\begin{matrix}\\Gamma^{t}_{t t} & \\Gamma^{t}_{t r} & \\Gamma^{t}_{t \\theta} & \\Gamma^{t}_{t \\phi}\\\\\\Gamma^{t}_{r t} & \\Gamma^{t}_{r r} & \\Gamma^{t}_{r \\theta} & \\Gamma^{t}_{r \\phi}\\\\\\Gamma^{t}_{\\theta t} & \\Gamma^{t}_{\\theta r} & \\Gamma^{t}_{\\theta \\theta} & \\Gamma^{t}_{\\theta \\phi}\\\\\\Gamma^{t}_{\\phi t} & \\Gamma^{t}_{\\phi r} & \\Gamma^{t}_{\\phi \\theta} & \\Gamma^{t}_{\\phi \\phi}\\end{matrix}\\right] = \\left[\\begin{matrix}0 & \\frac{\\frac{d}{d r} \\Phi{\\left(r \\right)}}{c^{2} - 2 \\Phi{\\left(r \\right)}} & 0 & 0\\\\\\frac{\\frac{d}{d r} \\Phi{\\left(r \\right)}}{c^{2} - 2 \\Phi{\\left(r \\right)}} & 0 & 0 & 0\\\\0 & 0 & 0 & 0\\\\0 & 0 & 0 & 0\\end{matrix}\\right]$"
      ],
      "text/plain": [
       "Eq(Matrix([\n",
       "[    \\Gamma^t_t_t,     \\Gamma^t_t_r,     \\Gamma^t_t_theta,     \\Gamma^t_t_phi],\n",
       "[    \\Gamma^t_r_t,     \\Gamma^t_r_r,     \\Gamma^t_r_theta,     \\Gamma^t_r_phi],\n",
       "[\\Gamma^t_theta_t, \\Gamma^t_theta_r, \\Gamma^t_theta_theta, \\Gamma^t_theta_phi],\n",
       "[  \\Gamma^t_phi_t,   \\Gamma^t_phi_r,   \\Gamma^t_phi_theta,   \\Gamma^t_phi_phi]]), Matrix([\n",
       "[                                      0, Derivative(Phi(r), r)/(c**2 - 2*Phi(r)), 0, 0],\n",
       "[Derivative(Phi(r), r)/(c**2 - 2*Phi(r)),                                       0, 0, 0],\n",
       "[                                      0,                                       0, 0, 0],\n",
       "[                                      0,                                       0, 0, 0]]))"
      ]
     },
     "metadata": {},
     "output_type": "display_data"
    },
    {
     "data": {
      "text/latex": [
       "$\\displaystyle \\left[\\begin{matrix}\\Gamma^{r}_{t t} & \\Gamma^{r}_{t r} & \\Gamma^{r}_{t \\theta} & \\Gamma^{r}_{t \\phi}\\\\\\Gamma^{r}_{r t} & \\Gamma^{r}_{r r} & \\Gamma^{r}_{r \\theta} & \\Gamma^{r}_{r \\phi}\\\\\\Gamma^{r}_{\\theta t} & \\Gamma^{r}_{\\theta r} & \\Gamma^{r}_{\\theta \\theta} & \\Gamma^{r}_{\\theta \\phi}\\\\\\Gamma^{r}_{\\phi t} & \\Gamma^{r}_{\\phi r} & \\Gamma^{r}_{\\phi \\theta} & \\Gamma^{r}_{\\phi \\phi}\\end{matrix}\\right] = \\left[\\begin{matrix}- \\frac{c^{4} \\frac{d}{d r} \\Phi{\\left(r \\right)}}{\\left(c^{2} - 2 \\Phi{\\left(r \\right)}\\right)^{3}} & 0 & 0 & 0\\\\0 & - \\frac{\\frac{d}{d r} \\Phi{\\left(r \\right)}}{c^{2} - 2 \\Phi{\\left(r \\right)}} & 0 & 0\\\\0 & 0 & 0 & 0\\\\0 & 0 & 0 & 0\\end{matrix}\\right]$"
      ],
      "text/plain": [
       "Eq(Matrix([\n",
       "[    \\Gamma^r_t_t,     \\Gamma^r_t_r,     \\Gamma^r_t_theta,     \\Gamma^r_t_phi],\n",
       "[    \\Gamma^r_r_t,     \\Gamma^r_r_r,     \\Gamma^r_r_theta,     \\Gamma^r_r_phi],\n",
       "[\\Gamma^r_theta_t, \\Gamma^r_theta_r, \\Gamma^r_theta_theta, \\Gamma^r_theta_phi],\n",
       "[  \\Gamma^r_phi_t,   \\Gamma^r_phi_r,   \\Gamma^r_phi_theta,   \\Gamma^r_phi_phi]]), Matrix([\n",
       "[-c**4*Derivative(Phi(r), r)/(c**2 - 2*Phi(r))**3,                                        0, 0, 0],\n",
       "[                                               0, -Derivative(Phi(r), r)/(c**2 - 2*Phi(r)), 0, 0],\n",
       "[                                               0,                                        0, 0, 0],\n",
       "[                                               0,                                        0, 0, 0]]))"
      ]
     },
     "metadata": {},
     "output_type": "display_data"
    },
    {
     "data": {
      "text/latex": [
       "$\\displaystyle \\left[\\begin{matrix}\\Gamma^{\\theta}_{t t} & \\Gamma^{\\theta}_{t r} & \\Gamma^{\\theta}_{t \\theta} & \\Gamma^{\\theta}_{t \\phi}\\\\\\Gamma^{\\theta}_{r t} & \\Gamma^{\\theta}_{r r} & \\Gamma^{\\theta}_{r \\theta} & \\Gamma^{\\theta}_{r \\phi}\\\\\\Gamma^{\\theta}_{\\theta t} & \\Gamma^{\\theta}_{\\theta r} & \\Gamma^{\\theta}_{\\theta \\theta} & \\Gamma^{\\theta}_{\\theta \\phi}\\\\\\Gamma^{\\theta}_{\\phi t} & \\Gamma^{\\theta}_{\\phi r} & \\Gamma^{\\theta}_{\\phi \\theta} & \\Gamma^{\\theta}_{\\phi \\phi}\\end{matrix}\\right] = \\left[\\begin{matrix}0 & 0 & 0 & 0\\\\0 & 0 & 0 & 0\\\\0 & 0 & 0 & 0\\\\0 & 0 & 0 & 0\\end{matrix}\\right]$"
      ],
      "text/plain": [
       "Eq(Matrix([\n",
       "[    \\Gamma^theta_t_t,     \\Gamma^theta_t_r,     \\Gamma^theta_t_theta,     \\Gamma^theta_t_phi],\n",
       "[    \\Gamma^theta_r_t,     \\Gamma^theta_r_r,     \\Gamma^theta_r_theta,     \\Gamma^theta_r_phi],\n",
       "[\\Gamma^theta_theta_t, \\Gamma^theta_theta_r, \\Gamma^theta_theta_theta, \\Gamma^theta_theta_phi],\n",
       "[  \\Gamma^theta_phi_t,   \\Gamma^theta_phi_r,   \\Gamma^theta_phi_theta,   \\Gamma^theta_phi_phi]]), Matrix([\n",
       "[0, 0, 0, 0],\n",
       "[0, 0, 0, 0],\n",
       "[0, 0, 0, 0],\n",
       "[0, 0, 0, 0]]))"
      ]
     },
     "metadata": {},
     "output_type": "display_data"
    },
    {
     "data": {
      "text/latex": [
       "$\\displaystyle \\left[\\begin{matrix}\\Gamma^{\\phi}_{t t} & \\Gamma^{\\phi}_{t r} & \\Gamma^{\\phi}_{t \\theta} & \\Gamma^{\\phi}_{t \\phi}\\\\\\Gamma^{\\phi}_{r t} & \\Gamma^{\\phi}_{r r} & \\Gamma^{\\phi}_{r \\theta} & \\Gamma^{\\phi}_{r \\phi}\\\\\\Gamma^{\\phi}_{\\theta t} & \\Gamma^{\\phi}_{\\theta r} & \\Gamma^{\\phi}_{\\theta \\theta} & \\Gamma^{\\phi}_{\\theta \\phi}\\\\\\Gamma^{\\phi}_{\\phi t} & \\Gamma^{\\phi}_{\\phi r} & \\Gamma^{\\phi}_{\\phi \\theta} & \\Gamma^{\\phi}_{\\phi \\phi}\\end{matrix}\\right] = \\left[\\begin{matrix}0 & 0 & 0 & 0\\\\0 & 0 & 0 & 0\\\\0 & 0 & 0 & 0\\\\0 & 0 & 0 & 0\\end{matrix}\\right]$"
      ],
      "text/plain": [
       "Eq(Matrix([\n",
       "[    \\Gamma^phi_t_t,     \\Gamma^phi_t_r,     \\Gamma^phi_t_theta,     \\Gamma^phi_t_phi],\n",
       "[    \\Gamma^phi_r_t,     \\Gamma^phi_r_r,     \\Gamma^phi_r_theta,     \\Gamma^phi_r_phi],\n",
       "[\\Gamma^phi_theta_t, \\Gamma^phi_theta_r, \\Gamma^phi_theta_theta, \\Gamma^phi_theta_phi],\n",
       "[  \\Gamma^phi_phi_t,   \\Gamma^phi_phi_r,   \\Gamma^phi_phi_theta,   \\Gamma^phi_phi_phi]]), Matrix([\n",
       "[0, 0, 0, 0],\n",
       "[0, 0, 0, 0],\n",
       "[0, 0, 0, 0],\n",
       "[0, 0, 0, 0]]))"
      ]
     },
     "metadata": {},
     "output_type": "display_data"
    }
   ],
   "source": [
    "for i in range(n):\n",
    "    display(sp.Eq(gamma_list[i], christoffel_symbols[i]))"
   ]
  },
  {
   "cell_type": "code",
   "execution_count": 13,
   "id": "c7a693af",
   "metadata": {},
   "outputs": [
    {
     "data": {
      "text/latex": [
       "$\\displaystyle 0 = - 2 \\kappa_{r} \\frac{d}{d r} \\phi{\\left(r \\right)}$"
      ],
      "text/plain": [
       "Eq(0, -2*kappa_r*Derivative(phi(r), r))"
      ]
     },
     "execution_count": 13,
     "metadata": {},
     "output_type": "execute_result"
    }
   ],
   "source": [
    "from sympy import symbols, Function\n",
    "\n",
    "t, r, theta, phi, epsilon_0, lambda_ = symbols('t r theta phi epsilon_0 lambda_ ')  # Redefining symbols\n",
    "phi_function = Function('phi')(r)  # Redefining phi as a function of r\n",
    "\n",
    "\n",
    "# Define the gravitational potential as a function of r only\n",
    "phi = sp.Function('phi')(r)\n",
    "\n",
    "# Define components of the wave vector assuming radial symmetry for simplicity\n",
    "kappa_r = sp.symbols('kappa_r')\n",
    "\n",
    "# Redefine the derivative of epsilon^0\n",
    "d_epsilon_0_dlambda_simple = sp.Eq(sp.diff(epsilon_0, lambda_), -2 * kappa_r * sp.diff(phi, r))\n",
    "\n",
    "# Display the equation for d(epsilon^0)/d(lambda)\n",
    "d_epsilon_0_dlambda_simple\n"
   ]
  },
  {
   "cell_type": "code",
   "execution_count": null,
   "id": "767147d5",
   "metadata": {},
   "outputs": [],
   "source": []
  }
 ],
 "metadata": {
  "kernelspec": {
   "display_name": "Python 3 (ipykernel)",
   "language": "python",
   "name": "python3"
  },
  "language_info": {
   "codemirror_mode": {
    "name": "ipython",
    "version": 3
   },
   "file_extension": ".py",
   "mimetype": "text/x-python",
   "name": "python",
   "nbconvert_exporter": "python",
   "pygments_lexer": "ipython3",
   "version": "3.11.8"
  }
 },
 "nbformat": 4,
 "nbformat_minor": 5
}
