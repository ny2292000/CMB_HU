{
 "cells": [
  {
   "cell_type": "code",
   "execution_count": 19,
   "id": "1f4c804e-9a42-42b9-8056-2be853ad7623",
   "metadata": {},
   "outputs": [
    {
     "data": {
      "text/plain": [
       "(Eq(M*(-h*(-1.0*h*omega*Derivative(u(theta(t)), (theta(t), 2))/u(theta(t)) + 2)*Derivative(u(theta(t)), theta(t)) - 1/u(theta(t)))*u(theta(t))**3, -Derivative(1/u(theta(t)), (t, 2)) + Derivative(theta(t), t)**2/u(theta(t))),\n",
       " Eq(h, Derivative(theta(t), t)/u(theta(t))**2))"
      ]
     },
     "execution_count": 19,
     "metadata": {},
     "output_type": "execute_result"
    }
   ],
   "source": [
    "from sympy import symbols, Function, diff, Rational, series, Derivative, simplify, factor, Eq, I, exp, collect\n",
    "\n",
    "# Define the symbols\n",
    "t = symbols('t')\n",
    "r = Function('r')(t)\n",
    "r_dot = Function('r_dot')(t)\n",
    "theta = Function('theta')(t)\n",
    "M, c, R, m = symbols('M c R m')\n",
    "\n",
    "# Define symbols and functions\n",
    "omega = diff(theta, t)  # Angular velocity\n",
    "h = symbols('h')  # Angular momentum per unit mass\n",
    "# Correcting the potential with r instead of R and redoing the computations for the derivatives as in the article\n",
    "# Now with the updated potential\n",
    "V = - M / ((1 + (1/2) * (diff(r, t)/c)**2) * r)\n",
    "\n",
    "# Redo the derivatives of the potential with respect to r and dr/dt as shown in the article using the updated V\n",
    "partial_V_r = diff(V, r)\n",
    "d_dt_partial_V_r = diff(partial_V_r, t)\n",
    "\n",
    "# Now we express the force law corresponding to the new potential, which is the negative gradient of V\n",
    "force_law = -d_dt_partial_V_r - partial_V_r\n",
    "# Let's redefine the symbols with 'x' representing (dr/dt)/c\n",
    "x, y = symbols('x y')\n",
    "\n",
    "# Replace drdt with x * c in the force law expression\n",
    "force_law_x = force_law.subs(diff(r, t), x ).subs(diff(x, t), y ).subs(c, 1)\n",
    "force_law_x = force_law_x.subs(Derivative(x, t), y )\n",
    "force_law_series = force_law_x.series(x, n=2).removeO()\n",
    "force_law_series =force_law_series.expand().collect(M/r**2)\n",
    "force_law_series_simplified = (force_law_series).collect(x)\n",
    "force_law_series_simplified\n",
    "\n",
    "\n",
    "\n",
    "\n",
    "# Define the series force law expression (as derived previously)\n",
    "# For this example, let's use a simplified version without the series expansion details\n",
    "\n",
    "\n",
    "# Using the complex representation for position z(t)\n",
    "z = r * exp(I*theta)\n",
    "\n",
    "# Derivative of z with respect to time, which gives the velocity\n",
    "z_dot = diff(z, t)\n",
    "\n",
    "# Derivative of z_dot with respect to time, which gives the acceleration\n",
    "z_ddot = diff(z_dot, t)\n",
    "\n",
    "# Extract real and imaginary parts for radial and tangential components\n",
    "# a_radial = Re(z_ddot), a_tangential = Im(z_ddot)/r\n",
    "a_radial = diff(r, t, t) - r * omega**2\n",
    "a_tangential = r * diff(omega, t) + 2 * diff(r, t) * omega\n",
    "\n",
    "# Now, equate the radial force from the series expansion to the radial acceleration (real part)\n",
    "radial_force_eq = Eq(a_radial, -force_law_series_simplified)\n",
    "\n",
    "# There's no tangential force, so we set the tangential acceleration to zero, which leads to angular momentum conservation\n",
    "angular_momentum_eq = Eq(r**2 * omega, h)\n",
    "\n",
    "# Define the new variable u = 1/r\n",
    "u = Function('u')(theta)  # u is a function of theta now, not t\n",
    "h, omega = symbols('h omega')\n",
    "\n",
    "# Convert equation 6 to be in terms of u and theta\n",
    "# We will perform substitutions for r, dr/dt, and d2r/dt2 in terms of u and theta\n",
    "# dr/dt = -1/u^2 * du/dtheta * dtheta/dt = -1/u^2 * du/dtheta * omega\n",
    "# d2r/dt2 = derivative of the above expression with respect to t\n",
    "dr_dt = -h * diff(u, theta)\n",
    "d2r_dt2 = -h * diff(u, theta, theta) * omega\n",
    "\n",
    "# Simplify the equations\n",
    "radial_force_eq_simplified = simplify(radial_force_eq)\n",
    "angular_momentum_eq_simplified = simplify(angular_momentum_eq).subs(r, 1/u)\n",
    "radial_force_eq_simplified = radial_force_eq_simplified.subs({x: dr_dt, y: d2r_dt2, r: 1/u})\n",
    "radial_force_eq_simplified,  angular_momentum_eq_simplified\n"
   ]
  },
  {
   "cell_type": "code",
   "execution_count": 20,
   "id": "61ffd53c-730c-4cbc-b822-2d76afacc313",
   "metadata": {},
   "outputs": [
    {
     "data": {
      "text/latex": [
       "$\\displaystyle M \\left(- h \\left(- \\frac{1.0 h \\omega \\frac{d^{2}}{d \\theta{\\left(t \\right)}^{2}} u{\\left(\\theta{\\left(t \\right)} \\right)}}{u{\\left(\\theta{\\left(t \\right)} \\right)}} + 2\\right) \\frac{d}{d \\theta{\\left(t \\right)}} u{\\left(\\theta{\\left(t \\right)} \\right)} - \\frac{1}{u{\\left(\\theta{\\left(t \\right)} \\right)}}\\right) u^{3}{\\left(\\theta{\\left(t \\right)} \\right)} = - \\frac{d^{2}}{d t^{2}} \\frac{1}{u{\\left(\\theta{\\left(t \\right)} \\right)}} + \\frac{\\left(\\frac{d}{d t} \\theta{\\left(t \\right)}\\right)^{2}}{u{\\left(\\theta{\\left(t \\right)} \\right)}}$"
      ],
      "text/plain": [
       "Eq(M*(-h*(-1.0*h*omega*Derivative(u(theta(t)), (theta(t), 2))/u(theta(t)) + 2)*Derivative(u(theta(t)), theta(t)) - 1/u(theta(t)))*u(theta(t))**3, -Derivative(1/u(theta(t)), (t, 2)) + Derivative(theta(t), t)**2/u(theta(t)))"
      ]
     },
     "execution_count": 20,
     "metadata": {},
     "output_type": "execute_result"
    }
   ],
   "source": [
    "r_prime = -h * diff(u, theta) / (u**2 * omega)\n",
    "r_double_prime = -h * diff(r_prime, theta) / omega  # chain rule\n",
    "\n",
    "radial_force_eq_simplified"
   ]
  },
  {
   "cell_type": "code",
   "execution_count": 21,
   "id": "bcd58384-944f-46ca-8739-86ce6f1c708a",
   "metadata": {},
   "outputs": [
    {
     "data": {
      "text/latex": [
       "$\\displaystyle h = \\frac{\\frac{d}{d t} \\theta{\\left(t \\right)}}{u^{2}{\\left(\\theta{\\left(t \\right)} \\right)}}$"
      ],
      "text/plain": [
       "Eq(h, Derivative(theta(t), t)/u(theta(t))**2)"
      ]
     },
     "execution_count": 21,
     "metadata": {},
     "output_type": "execute_result"
    }
   ],
   "source": [
    "angular_momentum_eq_simplified"
   ]
  },
  {
   "cell_type": "code",
   "execution_count": 22,
   "id": "a4f87a27-f6f6-49f5-8bd8-e4b40789bdde",
   "metadata": {},
   "outputs": [
    {
     "data": {
      "text/plain": [
       "(zoo, nan)"
      ]
     },
     "execution_count": 22,
     "metadata": {},
     "output_type": "execute_result"
    }
   ],
   "source": [
    "# # Define the symbols and functions needed for the equations\n",
    "# t = symbols('t')\n",
    "# r = Function('r')(t)\n",
    "# theta = Function('theta')(t)\n",
    "# u = Function('u')(theta)\n",
    "# M, G, h, omega = symbols('M G h omega')\n",
    "\n",
    "# Given: radial acceleration equation (from image provided by the user)\n",
    "# r'' - r * omega**2 = -G * M / r**2 * (1 - 3 * (r')**2 + 6 * r * r')\n",
    "\n",
    "# Substitute r with 1/u, and r' and r'' with their expressions in terms of u and theta\n",
    "r_prime = -h * diff(u, theta) / (u**2 * omega)\n",
    "r_double_prime = -h * diff(r_prime, theta) / omega  # chain rule\n",
    "\n",
    "# Angular momentum is conserved: h = r^2 * omega\n",
    "# Substituting expressions in terms of u into the radial acceleration equation\n",
    "radial_acc_eq = Eq(r_double_prime - (1/u * omega**2), - M * (1 - 3 * r_prime**2 + 6 * (1/u) * r_prime))\n",
    "\n",
    "# Simplifying and collecting like terms\n",
    "radial_acc_eq_simplified = simplify(radial_acc_eq.subs({r: 1/u, diff(r, t): r_prime, diff(r, t, t): r_double_prime}))\n",
    "\n",
    "# The final step would be to express the equation in terms of u and its derivatives with respect to theta\n",
    "# The derivatives of r with respect to time can be expressed in terms of u and its derivatives with respect to theta\n",
    "# As per the image instructions, the equation is simplified to a harmonic oscillator form\n",
    "# A and B are constants, for the general solution of u(theta)\n",
    "\n",
    "# Express the derivatives in terms of u and theta\n",
    "r_prime_in_u = -h * diff(u, theta) / omega\n",
    "r_double_prime_in_u = -h * diff(r_prime_in_u, theta)\n",
    "\n",
    "# Simplify the equation in terms of u\n",
    "radial_acc_eq_in_u = simplify(radial_acc_eq_simplified.subs({diff(r, t): r_prime_in_u, diff(r, t, t): r_double_prime_in_u}))\n",
    "\n",
    "# Now we need to collect and factor terms to identify A and B\n",
    "# To do this, we will express the equation in the same form as the provided image\n",
    "\n",
    "# Factor G*M/r**2 out of the equation to identify terms A and B\n",
    "equation_in_harmonic_oscillator_form = collect(radial_acc_eq_in_u.lhs - radial_acc_eq_in_u.rhs,  M / u**2)\n",
    "\n",
    "# Now let's find A and B by comparing to the form A*d^2u/dtheta^2 + u = B\n",
    "# We first isolate the terms with d^2u/dtheta^2 and the term with u alone\n",
    "coeff_d2u = equation_in_harmonic_oscillator_form.coeff(diff(u, theta, 2))\n",
    "coeff_u = equation_in_harmonic_oscillator_form.coeff(u)\n",
    "\n",
    "# Solve for A and B\n",
    "A = 1 / coeff_d2u\n",
    "B = -coeff_u / coeff_d2u\n",
    "\n",
    "A, B\n"
   ]
  },
  {
   "cell_type": "code",
   "execution_count": 24,
   "id": "a8efbe1c-c111-437c-8b60-bfa652b75558",
   "metadata": {},
   "outputs": [
    {
     "data": {
      "text/latex": [
       "$\\displaystyle - \\frac{h \\left(- \\frac{h \\frac{d^{2}}{d \\theta{\\left(t \\right)}^{2}} u{\\left(\\theta{\\left(t \\right)} \\right)}}{\\omega u^{2}{\\left(\\theta{\\left(t \\right)} \\right)}} + \\frac{2 h \\left(\\frac{d}{d \\theta{\\left(t \\right)}} u{\\left(\\theta{\\left(t \\right)} \\right)}\\right)^{2}}{\\omega u^{3}{\\left(\\theta{\\left(t \\right)} \\right)}}\\right)}{\\omega} - \\frac{\\omega^{2}}{u{\\left(\\theta{\\left(t \\right)} \\right)}} = - M \\left(- \\frac{3 h^{2} \\left(\\frac{d}{d \\theta{\\left(t \\right)}} u{\\left(\\theta{\\left(t \\right)} \\right)}\\right)^{2}}{\\omega^{2} u^{4}{\\left(\\theta{\\left(t \\right)} \\right)}} - \\frac{6 h \\frac{d}{d \\theta{\\left(t \\right)}} u{\\left(\\theta{\\left(t \\right)} \\right)}}{\\omega u^{3}{\\left(\\theta{\\left(t \\right)} \\right)}} + 1\\right)$"
      ],
      "text/plain": [
       "Eq(-h*(-h*Derivative(u(theta(t)), (theta(t), 2))/(omega*u(theta(t))**2) + 2*h*Derivative(u(theta(t)), theta(t))**2/(omega*u(theta(t))**3))/omega - omega**2/u(theta(t)), -M*(-3*h**2*Derivative(u(theta(t)), theta(t))**2/(omega**2*u(theta(t))**4) - 6*h*Derivative(u(theta(t)), theta(t))/(omega*u(theta(t))**3) + 1))"
      ]
     },
     "execution_count": 24,
     "metadata": {},
     "output_type": "execute_result"
    }
   ],
   "source": [
    "radial_acc_eq"
   ]
  },
  {
   "cell_type": "code",
   "execution_count": 25,
   "id": "b5b47695-3732-4c46-9dc6-e31b173f1eff",
   "metadata": {},
   "outputs": [
    {
     "data": {
      "text/latex": [
       "$\\displaystyle \\frac{3 M h^{2} \\left(\\frac{d}{d \\theta{\\left(t \\right)}} u{\\left(\\theta{\\left(t \\right)} \\right)}\\right)^{2}}{\\omega^{2} u^{4}{\\left(\\theta{\\left(t \\right)} \\right)}} + \\frac{6 M h \\frac{d}{d \\theta{\\left(t \\right)}} u{\\left(\\theta{\\left(t \\right)} \\right)}}{\\omega u^{3}{\\left(\\theta{\\left(t \\right)} \\right)}} - M = \\frac{h^{2} \\left(u{\\left(\\theta{\\left(t \\right)} \\right)} \\frac{d^{2}}{d \\theta{\\left(t \\right)}^{2}} u{\\left(\\theta{\\left(t \\right)} \\right)} - 2 \\left(\\frac{d}{d \\theta{\\left(t \\right)}} u{\\left(\\theta{\\left(t \\right)} \\right)}\\right)^{2}\\right) - \\omega^{4} u^{2}{\\left(\\theta{\\left(t \\right)} \\right)}}{\\omega^{2} u^{3}{\\left(\\theta{\\left(t \\right)} \\right)}}$"
      ],
      "text/plain": [
       "Eq(3*M*h**2*Derivative(u(theta(t)), theta(t))**2/(omega**2*u(theta(t))**4) + 6*M*h*Derivative(u(theta(t)), theta(t))/(omega*u(theta(t))**3) - M, (h**2*(u(theta(t))*Derivative(u(theta(t)), (theta(t), 2)) - 2*Derivative(u(theta(t)), theta(t))**2) - omega**4*u(theta(t))**2)/(omega**2*u(theta(t))**3))"
      ]
     },
     "execution_count": 25,
     "metadata": {},
     "output_type": "execute_result"
    }
   ],
   "source": [
    "radial_acc_eq_simplified"
   ]
  },
  {
   "cell_type": "code",
   "execution_count": 26,
   "id": "08617bee-2ce4-40fc-a96f-d3a1167ca30a",
   "metadata": {},
   "outputs": [
    {
     "data": {
      "text/latex": [
       "$\\displaystyle \\frac{3 M h^{2} \\left(\\frac{d}{d \\theta{\\left(t \\right)}} u{\\left(\\theta{\\left(t \\right)} \\right)}\\right)^{2}}{\\omega^{2} u^{4}{\\left(\\theta{\\left(t \\right)} \\right)}} + \\frac{6 M h \\frac{d}{d \\theta{\\left(t \\right)}} u{\\left(\\theta{\\left(t \\right)} \\right)}}{\\omega u^{3}{\\left(\\theta{\\left(t \\right)} \\right)}} - M = \\frac{h^{2} \\left(u{\\left(\\theta{\\left(t \\right)} \\right)} \\frac{d^{2}}{d \\theta{\\left(t \\right)}^{2}} u{\\left(\\theta{\\left(t \\right)} \\right)} - 2 \\left(\\frac{d}{d \\theta{\\left(t \\right)}} u{\\left(\\theta{\\left(t \\right)} \\right)}\\right)^{2}\\right) - \\omega^{4} u^{2}{\\left(\\theta{\\left(t \\right)} \\right)}}{\\omega^{2} u^{3}{\\left(\\theta{\\left(t \\right)} \\right)}}$"
      ],
      "text/plain": [
       "Eq(3*M*h**2*Derivative(u(theta(t)), theta(t))**2/(omega**2*u(theta(t))**4) + 6*M*h*Derivative(u(theta(t)), theta(t))/(omega*u(theta(t))**3) - M, (h**2*(u(theta(t))*Derivative(u(theta(t)), (theta(t), 2)) - 2*Derivative(u(theta(t)), theta(t))**2) - omega**4*u(theta(t))**2)/(omega**2*u(theta(t))**3))"
      ]
     },
     "execution_count": 26,
     "metadata": {},
     "output_type": "execute_result"
    }
   ],
   "source": [
    "radial_acc_eq_simplified"
   ]
  },
  {
   "cell_type": "code",
   "execution_count": 27,
   "id": "23828645-3bd5-49f7-8917-353c2ae26599",
   "metadata": {},
   "outputs": [
    {
     "data": {
      "text/latex": [
       "$\\displaystyle - \\frac{h \\left(- \\frac{h \\frac{d^{2}}{d \\theta{\\left(t \\right)}^{2}} u{\\left(\\theta{\\left(t \\right)} \\right)}}{\\omega u^{2}{\\left(\\theta{\\left(t \\right)} \\right)}} + \\frac{2 h \\left(\\frac{d}{d \\theta{\\left(t \\right)}} u{\\left(\\theta{\\left(t \\right)} \\right)}\\right)^{2}}{\\omega u^{3}{\\left(\\theta{\\left(t \\right)} \\right)}}\\right)}{\\omega} - \\frac{\\omega^{2}}{u{\\left(\\theta{\\left(t \\right)} \\right)}} = - M \\left(- \\frac{3 h^{2} \\left(\\frac{d}{d \\theta{\\left(t \\right)}} u{\\left(\\theta{\\left(t \\right)} \\right)}\\right)^{2}}{\\omega^{2} u^{4}{\\left(\\theta{\\left(t \\right)} \\right)}} - \\frac{6 h \\frac{d}{d \\theta{\\left(t \\right)}} u{\\left(\\theta{\\left(t \\right)} \\right)}}{\\omega u^{3}{\\left(\\theta{\\left(t \\right)} \\right)}} + 1\\right)$"
      ],
      "text/plain": [
       "Eq(-h*(-h*Derivative(u(theta(t)), (theta(t), 2))/(omega*u(theta(t))**2) + 2*h*Derivative(u(theta(t)), theta(t))**2/(omega*u(theta(t))**3))/omega - omega**2/u(theta(t)), -M*(-3*h**2*Derivative(u(theta(t)), theta(t))**2/(omega**2*u(theta(t))**4) - 6*h*Derivative(u(theta(t)), theta(t))/(omega*u(theta(t))**3) + 1))"
      ]
     },
     "execution_count": 27,
     "metadata": {},
     "output_type": "execute_result"
    }
   ],
   "source": [
    "radial_acc_eq"
   ]
  },
  {
   "cell_type": "code",
   "execution_count": 28,
   "id": "9ab56fc9-c209-4796-8df3-758391f24233",
   "metadata": {},
   "outputs": [
    {
     "data": {
      "text/latex": [
       "$\\displaystyle - \\frac{h \\left(- \\frac{h \\frac{d^{2}}{d \\theta{\\left(t \\right)}^{2}} u{\\left(\\theta{\\left(t \\right)} \\right)}}{\\omega u^{2}{\\left(\\theta{\\left(t \\right)} \\right)}} + \\frac{2 h \\left(\\frac{d}{d \\theta{\\left(t \\right)}} u{\\left(\\theta{\\left(t \\right)} \\right)}\\right)^{2}}{\\omega u^{3}{\\left(\\theta{\\left(t \\right)} \\right)}}\\right)}{\\omega} - \\frac{\\omega^{2}}{u{\\left(\\theta{\\left(t \\right)} \\right)}} = - M \\left(- \\frac{3 h^{2} \\left(\\frac{d}{d \\theta{\\left(t \\right)}} u{\\left(\\theta{\\left(t \\right)} \\right)}\\right)^{2}}{\\omega^{2} u^{4}{\\left(\\theta{\\left(t \\right)} \\right)}} - \\frac{6 h \\frac{d}{d \\theta{\\left(t \\right)}} u{\\left(\\theta{\\left(t \\right)} \\right)}}{\\omega u^{3}{\\left(\\theta{\\left(t \\right)} \\right)}} + 1\\right)$"
      ],
      "text/plain": [
       "Eq(-h*(-h*Derivative(u(theta(t)), (theta(t), 2))/(omega*u(theta(t))**2) + 2*h*Derivative(u(theta(t)), theta(t))**2/(omega*u(theta(t))**3))/omega - omega**2/u(theta(t)), -M*(-3*h**2*Derivative(u(theta(t)), theta(t))**2/(omega**2*u(theta(t))**4) - 6*h*Derivative(u(theta(t)), theta(t))/(omega*u(theta(t))**3) + 1))"
      ]
     },
     "execution_count": 28,
     "metadata": {},
     "output_type": "execute_result"
    }
   ],
   "source": [
    "radial_acc_eq.subs({r: 1/u, diff(r, t): r_prime, diff(r, t, t): r_double_prime})"
   ]
  },
  {
   "cell_type": "code",
   "execution_count": null,
   "id": "34227a3b-fbf6-4569-af8d-b0c92b0cb74d",
   "metadata": {},
   "outputs": [],
   "source": []
  }
 ],
 "metadata": {
  "kernelspec": {
   "display_name": "Python [conda env:Cosmos3020]",
   "language": "python",
   "name": "conda-env-Cosmos3020-py"
  },
  "language_info": {
   "codemirror_mode": {
    "name": "ipython",
    "version": 3
   },
   "file_extension": ".py",
   "mimetype": "text/x-python",
   "name": "python",
   "nbconvert_exporter": "python",
   "pygments_lexer": "ipython3",
   "version": "3.11.8"
  }
 },
 "nbformat": 4,
 "nbformat_minor": 5
}
