{
 "cells": [
  {
   "cell_type": "code",
   "execution_count": 10,
   "id": "aa90ecd0-bfb3-4f2d-b5be-44f4227ed2d3",
   "metadata": {
    "tags": []
   },
   "outputs": [
    {
     "name": "stdout",
     "output_type": "stream",
     "text": [
      "h0 2712984358777611.0\n"
     ]
    }
   ],
   "source": [
    "import numpy as np\n",
    "from scipy.optimize import minimize\n",
    "from scipy.integrate import quad\n",
    "import matplotlib.pyplot as plt\n",
    "from astropy import constants as cc, units as uu\n",
    "\n",
    "# Constants\n",
    "G = cc.G.si.value  # gravitational constant in m^3 kg^-1 s^-2\n",
    "M = cc.M_sun.si.value  # mass of the Sun in kg\n",
    "c = cc.c.si.value  # speed of light in m/s\n",
    "GM = G*M  # gravitational parameter for the Sun in m^3/s^2\n",
    "\n",
    "# Constants for Mercury\n",
    "a_mercury = 57.909e9 * uu.m  # Semi-major axis of Mercury's orbit in meters\n",
    "e = e_mercury = 0.205630  # Eccentricity of Mercury's orbit\n",
    "\n",
    "# Specific angular momentum (h) for Mercury\n",
    "# h = sqrt(G * M * a * (1 - e^2))\n",
    "h_mercury = ((cc.G * cc.M_sun * a_mercury * (1 - e_mercury**2))**0.5).decompose()\n",
    "h = h_mercury.to(uu.m**2 / uu.s).value  # Convert to m^2/s for consistency with previous units used\n",
    "\n",
    "\n"
   ]
  },
  {
   "cell_type": "code",
   "execution_count": 12,
   "id": "3e3a9098-57b6-479c-b388-488e76527e9a",
   "metadata": {},
   "outputs": [
    {
     "name": "stdout",
     "output_type": "stream",
     "text": [
      "Optimized sigma: [1.00000009e+00 9.99999785e-01 2.42073980e+15]\n"
     ]
    },
    {
     "data": {
      "text/plain": [
       "46.840542243327526"
      ]
     },
     "execution_count": 12,
     "metadata": {},
     "output_type": "execute_result"
    }
   ],
   "source": [
    "def r_derivatives(theta, h, e, GM, x):\n",
    "    sigma = x[0]\n",
    "    k = x[1]\n",
    "    # Expression for r, r_dot, and r_double_dot\n",
    "    r = (h ** 2 / GM) / (1 + k * e * np.cos(theta / sigma))\n",
    "    r_dot = -GM*e*np.sin(theta/sigma)/(h*sigma)\n",
    "    r_double_dot =  GM**3*e*(e*np.cos(theta/sigma) + 1)**2*np.cos(theta/sigma)/(h**4*sigma**2)\n",
    "    return r, r_dot, r_double_dot\n",
    "\n",
    "\n",
    "def error_function(x):\n",
    "    def integrand(theta):\n",
    "        r, r_dot, r_double_dot = r_derivatives(theta, h, e, GM, x)\n",
    "        theta_dot = h / r**2\n",
    "        v_squared = r_dot**2 + r**2 * theta_dot**2\n",
    "        c = 299792458\n",
    "        c_squared = c**2\n",
    "        vc = v_squared/c_squared\n",
    "        if(vc>1):\n",
    "            print(vc, \"FTL\")\n",
    "        a_theoretical = -GM*(1-v_squared/c**2)**0.5 / r**2 / (1 + 0.5*(r_dot / c)**2)**2\n",
    "        a_numerical = r_double_dot - r * theta_dot ** 2  # Assuming r_double_dot is defined to calculate \\ddot{r}\n",
    "        return (a_theoretical - a_numerical)**2\n",
    "    sigma = x[0]\n",
    "    integral_error, _ = quad(integrand, 0, 2*np.pi/sigma, epsabs=1e-14, epsrel=1e-14)\n",
    "    return 100*integral_error\n",
    "\n",
    "# Initial guess for sigma\n",
    "initial_x = [0.9, 1.0, h]\n",
    "result = minimize(error_function, initial_x, method='Nelder-Mead', tol=1E-14)\n",
    "print(\"Optimized sigma:\", result.x)\n",
    "\n",
    "\n",
    "# Constants\n",
    "orbital_period_days = 88  # Orbital period of Mercury in days\n",
    "days_per_year = 365.25  # Average number of days per year, accounting for leap years\n",
    "years_per_century = 100  # Number of years in a century\n",
    "optimized_sigma = result.x[0] # The optimized value for sigma\n",
    "optimized_eccentricity = result.x[1]*e\n",
    "\n",
    "# Calculate the number of orbits Mercury completes in a century\n",
    "orbits_per_century = (days_per_year / orbital_period_days) * years_per_century\n",
    "\n",
    "# Calculate the precession per orbit in radians\n",
    "precession_per_orbit_radians = 2 * np.pi * (optimized_sigma - 1)\n",
    "\n",
    "# Convert precession per orbit to arcseconds\n",
    "precession_per_orbit_arcseconds = np.degrees(precession_per_orbit_radians) * 3600\n",
    "\n",
    "# Total precession in arcseconds per century\n",
    "total_precession_arcseconds_per_century = precession_per_orbit_arcseconds * orbits_per_century\n",
    "total_precession_arcseconds_per_century \n"
   ]
  },
  {
   "cell_type": "code",
   "execution_count": 13,
   "id": "6695e604-eace-4cd1-b115-c9fcd266170b",
   "metadata": {
    "tags": []
   },
   "outputs": [
    {
     "name": "stdout",
     "output_type": "stream",
     "text": [
      "Optimized sigma: [1.00000008e+00 9.99999806e-01 2.85788598e+15]\n",
      "42.22866927286121\n"
     ]
    }
   ],
   "source": [
    "\n",
    "def r_derivatives(theta, e, GM, x):\n",
    "    sigma = x[0]\n",
    "    k = x[1]\n",
    "    h = x[2]\n",
    "    # Expression for r, r_dot, and r_double_dot\n",
    "    r = (h ** 2 / GM) / (1 + k * e * np.cos(theta / sigma))\n",
    "    r_dot = -GM*e*np.sin(theta/sigma)/(h*sigma)\n",
    "    r_double_dot =  GM**3*e*(e*np.cos(theta/sigma) + 1)**2*np.cos(theta/sigma)/(h**4*sigma**2)\n",
    "    return r, r_dot, r_double_dot\n",
    "\n",
    "\n",
    "def error_function(x):\n",
    "    def integrand(theta):\n",
    "        r, r_dot, r_double_dot = r_derivatives(theta, e, GM, x)\n",
    "        h= x[2]\n",
    "        theta_dot = h / r**2\n",
    "        v_squared = r_dot**2 + r**2 * theta_dot**2\n",
    "        c = 299792458\n",
    "        c_squared = c**2\n",
    "        vc = v_squared/c_squared\n",
    "        if(vc>1):\n",
    "            print(vc, \"FTL\")\n",
    "        a_theoretical = -GM*(1-v_squared/c**2)**0.5 / r**2 / (1 + 0.5*(r_dot / c)**2)**2\n",
    "        a_numerical = r_double_dot - r * theta_dot ** 2  # Assuming r_double_dot is defined to calculate \\ddot{r}\n",
    "        return (a_theoretical - a_numerical)**2\n",
    "\n",
    "    integral_error, _ = quad(integrand, 0, 2*np.pi/sigma, epsabs=1e-14, epsrel=1e-14)\n",
    "    return 100*integral_error\n",
    "\n",
    "# Initial guess for sigma\n",
    "initial_x = [0.9, 1.0,h]\n",
    "result = minimize(error_function, initial_x, method='Nelder-Mead', tol=1E-14)\n",
    "print(\"Optimized sigma:\", result.x)\n",
    "\n",
    "\n",
    "# Constants\n",
    "orbital_period_days = 87.969  # Orbital period of Mercury in days\n",
    "days_per_year = 365.25  # Average number of days per year, accounting for leap years\n",
    "years_per_century = 100  # Number of years in a century\n",
    "optimized_sigma = result.x[0] # The optimized value for sigma\n",
    "optimized_eccentricity = result.x[1]*e\n",
    "\n",
    "# Calculate the number of orbits Mercury completes in a century\n",
    "orbits_per_century = (days_per_year / orbital_period_days) * years_per_century\n",
    "\n",
    "# Calculate the precession per orbit in radians\n",
    "precession_per_orbit_radians = 2 * np.pi * (optimized_sigma - 1)\n",
    "\n",
    "# Convert precession per orbit to arcseconds\n",
    "precession_per_orbit_arcseconds = np.degrees(precession_per_orbit_radians) * 3600\n",
    "\n",
    "# Total precession in arcseconds per century\n",
    "total_precession_arcseconds_per_century = precession_per_orbit_arcseconds * orbits_per_century\n",
    "print(total_precession_arcseconds_per_century)\n"
   ]
  },
  {
   "cell_type": "code",
   "execution_count": 28,
   "id": "e06ebd67-15bd-4ddc-a952-b430f14f392c",
   "metadata": {
    "tags": []
   },
   "outputs": [
    {
     "name": "stdout",
     "output_type": "stream",
     "text": [
      "h0= 2.712984359e+15\n"
     ]
    }
   ],
   "source": [
    "print(f\"h0= {h:.9e}\")"
   ]
  },
  {
   "cell_type": "code",
   "execution_count": null,
   "id": "f05e7107-18a7-42ae-a226-8f3ffa84c32a",
   "metadata": {},
   "outputs": [],
   "source": []
  },
  {
   "cell_type": "code",
   "execution_count": null,
   "id": "01cf38d7-f9fc-4b25-a102-82ccee0f939b",
   "metadata": {},
   "outputs": [],
   "source": []
  }
 ],
 "metadata": {
  "kernelspec": {
   "display_name": "Python [conda env:Cosmos3020]",
   "language": "python",
   "name": "conda-env-Cosmos3020-py"
  },
  "language_info": {
   "codemirror_mode": {
    "name": "ipython",
    "version": 3
   },
   "file_extension": ".py",
   "mimetype": "text/x-python",
   "name": "python",
   "nbconvert_exporter": "python",
   "pygments_lexer": "ipython3",
   "version": "3.11.8"
  }
 },
 "nbformat": 4,
 "nbformat_minor": 5
}
