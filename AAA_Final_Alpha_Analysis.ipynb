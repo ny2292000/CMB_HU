{
 "cells": [
  {
   "cell_type": "code",
   "execution_count": 1,
   "metadata": {
    "collapsed": false,
    "jupyter": {
     "outputs_hidden": false
    }
   },
   "outputs": [],
   "source": [
    "import numpy as np\n",
    "from astropy import constants as cc, units as uu"
   ]
  },
  {
   "cell_type": "code",
   "execution_count": 2,
   "metadata": {},
   "outputs": [],
   "source": [
    "# fine constant\n",
    "alpha=(1/4/np.pi/cc.eps0*cc.e.si**2/cc.hbar/cc.c).si"
   ]
  },
  {
   "cell_type": "code",
   "execution_count": 3,
   "metadata": {},
   "outputs": [
    {
     "data": {
      "text/plain": [
       "(<Quantity 1.32069058e-15 s2 J / (kg m)>,\n",
       " <Quantity 5.97538311e+26>,\n",
       " <Quantity 1.>)"
      ]
     },
     "execution_count": 3,
     "metadata": {},
     "output_type": "execute_result"
    }
   ],
   "source": [
    "m_H = cc.m_p+cc.m_e\n",
    "N = (uu.kg/m_H).si\n",
    "lambda_1= cc.h/(m_H*cc.c)\n",
    "P=(cc.eps0*cc.c**2*lambda_1/(2*np.pi**2)/N/cc.e.si**2*uu.kg).si * (2*np.pi)\n",
    "B= 1/(4*np.pi**2*alpha)\n",
    "lambda_1, N, P * (2*np.pi*alpha)"
   ]
  },
  {
   "cell_type": "code",
   "execution_count": 5,
   "metadata": {},
   "outputs": [
    {
     "data": {
      "text/plain": [
       "0.011465666618940851"
      ]
     },
     "execution_count": 5,
     "metadata": {},
     "output_type": "execute_result"
    }
   ],
   "source": [
    "1/2 * np.pi * alpha "
   ]
  },
  {
   "cell_type": "code",
   "execution_count": 6,
   "metadata": {},
   "outputs": [],
   "source": [
    "m_H = (cc.m_p + cc.m_e).si\n",
    "lambda_1 = (cc.h/(m_H*cc.c)).si"
   ]
  },
  {
   "cell_type": "code",
   "execution_count": 10,
   "metadata": {},
   "outputs": [
    {
     "data": {
      "image/png": "[encoded data removed]",
      "text/latex": [
       "$\\displaystyle \\left( - \\frac{4 \\pi^{2} r}{\\lambda_{1}^{2}}, \\  \\frac{2 \\pi N \\alpha \\lambda_{1}}{R^{2}}, \\  \\frac{N \\alpha \\lambda_{1}^{3}}{2 \\pi R^{2}}\\right)$"
      ],
      "text/plain": [
       "⎛    2                       3⎞\n",
       "⎜-4⋅π ⋅r   2⋅π⋅N⋅α⋅λ₁  N⋅α⋅λ₁ ⎟\n",
       "⎜────────, ──────────, ───────⎟\n",
       "⎜    2          2            2⎟\n",
       "⎝  λ₁          R        2⋅π⋅R ⎠"
      ]
     },
     "execution_count": 10,
     "metadata": {},
     "output_type": "execute_result"
    }
   ],
   "source": [
    "from sympy import symbols, cos, diff, pi, simplify, sin, init_printing, solve\n",
    "init_printing()\n",
    "\n",
    "# Define variables and constants\n",
    "r, R, lambda_1, lambda_2, alpha, N, P, e, epsilon_0, h,c  = symbols('r R lambda_1 lambda_2 alpha N P e epsilon_0 h c')\n",
    "k1 = 2 * pi / lambda_1\n",
    "k2 = 2 * pi * N / lambda_1\n",
    "lambda_2 = lambda_1/N\n",
    "P = 1 / (2 * pi * alpha)\n",
    "\n",
    "# Define the envelope for Phi_2 with simplification for highly oscillatory function\n",
    "Phi_2 = 1 / (1 + P * (R - r)/lambda_1)\n",
    "# Derivative of Phi_2 after simplification (R>>r, alpha*k2*R >>1)\n",
    "dPhi_2_dr_simplified =  (lambda_1**2/lambda_2) / (P* R**2)\n",
    "alpha = e**2/(2*epsilon_0*h*c)\n",
    "# Define Phi_1 with consideration of small angle (sin(k1*r) ≈ k1*r)\n",
    "Phi_1 = cos(k1 * r) / (1 + P/lambda_1 * r )\n",
    "# Simplified derivative of Phi_1 considering dcos(k1 * r)/dr = -k1*sin(k1*r) ≈ -k1^2*r and 1+alpha*k1*r ≈ 1 for very small r\n",
    "# one also considers that the envelope varies slowly within the small distances defined by r\n",
    "dPhi_1_dr_simplified = -k1**2 * r \n",
    "\n",
    "# Sum the simplified derivatives to get the total derivative\n",
    "dPhi_total_dr_simplified = dPhi_1_dr_simplified + dPhi_2_dr_simplified\n",
    "\n",
    "# Solve the simplified total derivative for r\n",
    "solution_r = solve(dPhi_total_dr_simplified, r)\n",
    "x= solution_r[0]\n",
    "# x = x.subs(P, 1/(2*pi*alpha)) #.subs(alpha,e**2/(2*epsilon_0*h*c)) \n",
    "# x = x.subs( P, 1/(2*pi*alpha))\n",
    "dPhi_1_dr_simplified , dPhi_2_dr_simplified, x"
   ]
  },
  {
   "cell_type": "code",
   "execution_count": 11,
   "metadata": {},
   "outputs": [
    {
     "data": {
      "image/png": "[encoded data removed]",
      "text/latex": [
       "$\\displaystyle \\frac{N \\alpha c^{2} \\lambda_{1} m_{0}}{2 \\pi R^{2}}$"
      ],
      "text/plain": [
       "     2      \n",
       "N⋅α⋅c ⋅λ₁⋅m₀\n",
       "────────────\n",
       "        2   \n",
       "   2⋅π⋅R    "
      ]
     },
     "execution_count": 11,
     "metadata": {},
     "output_type": "execute_result"
    }
   ],
   "source": [
    "# Define the symbols\n",
    "m_0, c, lambda_1, N, R, alpha, kg, epsilon_0, e, v, h, kg = symbols('m_0 c lambda_1 N R alpha kg epsilon_0 e v h kg')\n",
    "init_printing()\n",
    "\n",
    "\n",
    "\n",
    "# tanh(theta) = v/c acceleration felt by a single dilator actuated by N dilators is given by:\n",
    "#acceleration = c dtanh(tetha)/dr= c (1-tanh(theta)**2) * dtheta/dr \n",
    "#acceleration = c (1-tanh(theta)**2) * x/lambda1**2\n",
    "# Force is given by c (1-v**2/c**2) * lambda_1**3/(8*pi**3*N*R**2*alpha)/lambda1**2\n",
    "# The force is given by kg*acceleration. where m0 = Fundamental Dilator 4D mass = 1 kg/N\n",
    "# That is the force between 1 kg of dilators and one dilator\n",
    "# Given the force equation for electromagnetic interaction\n",
    "F = (m_0 * c**2 * x/lambda_1**2)\n",
    "F"
   ]
  },
  {
   "cell_type": "code",
   "execution_count": 12,
   "metadata": {},
   "outputs": [
    {
     "data": {
      "image/png": "[encoded data removed]",
      "text/latex": [
       "$\\displaystyle \\frac{N e^{2}}{4 \\pi R^{2} \\epsilon_{0}}$"
      ],
      "text/plain": [
       "      2  \n",
       "   N⋅e   \n",
       "─────────\n",
       "     2   \n",
       "4⋅π⋅R ⋅ε₀"
      ]
     },
     "execution_count": 12,
     "metadata": {},
     "output_type": "execute_result"
    }
   ],
   "source": [
    "\n",
    "# Substitute m_0 with 1/N, where N is the number of dilators in 1 kg\n",
    "F_substituted = F.subs(kg, N*h/c/lambda_1)\n",
    "# Simplify the expression\n",
    "F_simplified = simplify(F_substituted)\n",
    "alpha_expr = e**2 / (2 * epsilon_0 * h * c)\n",
    "F_simplified = F_simplified.subs(alpha, alpha_expr)\n",
    "F_simplified = F_simplified.subs(m_0, h/c/lambda_1)\n",
    "# This will print the simplified force equation\n",
    "F_simplified\n"
   ]
  },
  {
   "cell_type": "code",
   "execution_count": 13,
   "metadata": {},
   "outputs": [
    {
     "name": "stdout",
     "output_type": "stream",
     "text": [
      "Radii\n",
      "4.58240761877198e-19 8.414e-16\n",
      "Moments of Inertia\n",
      "0.0014088450435480182 0.0014088450435480182 1.0499229792289743e-37 3.5397698000000003e-31\n",
      "Universe Thickness 0.01690614052257622\n",
      "4D electron radius 1.0338122810451524\n",
      "Compton Values 1.3206905848167287e-15 m 4.405349599611104e-24 s\n"
     ]
    }
   ],
   "source": [
    "def mom_inertia0(r, h):\n",
    "    return 1/12*(3*r**2+h)\n",
    "\n",
    "def mom_inertia1(r):\n",
    "    return 1/2*r**2\n",
    "\n",
    "m_H = (cc.m_e+cc.m_p).si\n",
    "lambda1 = (cc.h/(m_H*cc.c)).to(uu.m)\n",
    "t1 = lambda1/cc.c\n",
    "alpha_value = cc.e.si**2 / (2 * cc.eps0 * cc.h * cc.c)\n",
    "A =1/(2*np.pi*alpha_value)\n",
    "B = 2*np.pi**2\n",
    "\n",
    "TotalRadius = (A/ (2*np.pi**2))**(1/3)\n",
    "UniverseThickness = (TotalRadius-1)/2\n",
    "r_p = 8.414e-16\n",
    "r_e = r_p*cc.m_e/cc.m_p\n",
    "g_e = mom_inertia1(r_e)/mom_inertia0(r_e, UniverseThickness)\n",
    "g_p = mom_inertia1(r_p)/mom_inertia0(r_p, UniverseThickness)\n",
    "print(\"Radii\")\n",
    "print( r_e, r_p)\n",
    "print(\"Moments of Inertia\")\n",
    "print( mom_inertia0(r_e, UniverseThickness),mom_inertia0(r_p, UniverseThickness),mom_inertia1(r_e),mom_inertia1(r_p))\n",
    "print(\"Universe Thickness\", UniverseThickness)\n",
    "print(\"4D electron radius\", TotalRadius)\n",
    "print(\"Compton Values\", lambda1, t1)\n",
    "# print( \"g-values\", g_e, g_p)"
   ]
  },
  {
   "cell_type": "code",
   "execution_count": 45,
   "metadata": {},
   "outputs": [
    {
     "data": {
      "text/plain": [
       "(<Quantity 0.04585062 C2 / (F J)>, 0.05066059182116889)"
      ]
     },
     "execution_count": 45,
     "metadata": {},
     "output_type": "execute_result"
    }
   ],
   "source": [
    "(2*np.pi*alpha_value), 1/(2*np.pi**2)"
   ]
  },
  {
   "cell_type": "markdown",
   "metadata": {},
   "source": [
    "# The Energy of the Fundamental Dilator is being modeled by circles.\n",
    "# At each expansion step with length $\\lambda_1$, the energy (valued at 1 or unit) is distributed\n",
    "# over a hyperspherical hypersurface of radius $\\lambda_1$, which is normalized to One\n",
    "$$ 2 \\pi \\alpha = \\frac{1}{2 \\pi^2 r^3} $$\n",
    "or\n",
    "$$ r = ( \\frac{1}{4 \\pi^3 \\alpha } ) ^{1/3} $$\n"
   ]
  },
  {
   "cell_type": "code",
   "execution_count": 52,
   "metadata": {},
   "outputs": [
    {
     "data": {
      "text/latex": [
       "$0.84979531 \\; \\mathrm{}$"
      ],
      "text/plain": [
       "<Quantity 0.84979531>"
      ]
     },
     "execution_count": 52,
     "metadata": {},
     "output_type": "execute_result"
    }
   ],
   "source": [
    "StateLifetime = (1/(4*np.pi**3*alpha_value)**(1/3)-1)\n",
    "StateLifetime = StateLifetime*lambda1/cc.c\n",
    "# A hydrogen atom has twice the 4D mass of a Fundamental Dilator\n",
    "DeltaE = 2*m_H*cc.c**2\n",
    "StateLifetime_PerHeisenbergPrinciple = (cc.h/(4*np.pi)/DeltaE).si\n",
    "StateLifetime/StateLifetime_PerHeisenbergPrinciple "
   ]
  },
  {
   "cell_type": "markdown",
   "metadata": {},
   "source": []
  },
  {
   "cell_type": "code",
   "execution_count": null,
   "metadata": {},
   "outputs": [],
   "source": []
  },
  {
   "cell_type": "markdown",
   "metadata": {},
   "source": [
    "# Deriving Laws of Nature for Inertial Frames"
   ]
  },
  {
   "cell_type": "code",
   "execution_count": 14,
   "metadata": {},
   "outputs": [
    {
     "name": "stdout",
     "output_type": "stream",
     "text": [
      "check if velocity is normalized!!!!\n"
     ]
    },
    {
     "data": {
      "image/png": "[encoded data removed]",
      "text/latex": [
       "$\\displaystyle \\left[\\begin{matrix}x & 0 & 0 & 0\\\\0 & - \\frac{\\beta_{2} \\left(\\beta_{2} y + \\gamma_{2} z\\right)}{\\beta_{2}^{2} + \\gamma_{2}^{2}} + \\frac{\\beta_{2} \\left(\\beta_{2} y + \\gamma_{2} z\\right)}{\\sqrt{1 - \\frac{v_{2}^{2}}{c^{2}}} \\left(\\beta_{2}^{2} + \\gamma_{2}^{2}\\right)} + y & 0 & 0\\\\0 & 0 & - \\frac{\\gamma_{2} \\left(\\beta_{2} y + \\gamma_{2} z\\right)}{\\beta_{2}^{2} + \\gamma_{2}^{2}} + \\frac{\\gamma_{2} \\left(\\beta_{2} y + \\gamma_{2} z\\right)}{\\sqrt{1 - \\frac{v_{2}^{2}}{c^{2}}} \\left(\\beta_{2}^{2} + \\gamma_{2}^{2}\\right)} + z & 0\\\\0 & 0 & 0 & 0\\end{matrix}\\right]$"
      ],
      "text/plain": [
       "⎡x                           0                                                \n",
       "⎢                                                                             \n",
       "⎢     β₂⋅(β₂⋅y + γ₂⋅z)         β₂⋅(β₂⋅y + γ₂⋅z)                               \n",
       "⎢0  - ──────────────── + ─────────────────────────── + y                      \n",
       "⎢          2     2             _________                                      \n",
       "⎢        β₂  + γ₂             ╱       2                                       \n",
       "⎢                            ╱      v₂   ⎛  2     2⎞                          \n",
       "⎢                           ╱   1 - ─── ⋅⎝β₂  + γ₂ ⎠                          \n",
       "⎢                          ╱          2                                       \n",
       "⎢                        ╲╱          c                                        \n",
       "⎢                                                                             \n",
       "⎢                                                           γ₂⋅(β₂⋅y + γ₂⋅z)  \n",
       "⎢0                           0                            - ──────────────── +\n",
       "⎢                                                                2     2      \n",
       "⎢                                                              β₂  + γ₂       \n",
       "⎢                                                                             \n",
       "⎢                                                                             \n",
       "⎢                                                                             \n",
       "⎢                                                                             \n",
       "⎢                                                                             \n",
       "⎣0                           0                                                \n",
       "\n",
       "     0                            0⎤\n",
       "                                   ⎥\n",
       "                                   ⎥\n",
       "     0                            0⎥\n",
       "                                   ⎥\n",
       "                                   ⎥\n",
       "                                   ⎥\n",
       "                                   ⎥\n",
       "                                   ⎥\n",
       "                                   ⎥\n",
       "                                   ⎥\n",
       "       γ₂⋅(β₂⋅y + γ₂⋅z)            ⎥\n",
       " ─────────────────────────── + z  0⎥\n",
       "       _________                   ⎥\n",
       "      ╱       2                    ⎥\n",
       "     ╱      v₂   ⎛  2     2⎞       ⎥\n",
       "    ╱   1 - ─── ⋅⎝β₂  + γ₂ ⎠       ⎥\n",
       "   ╱          2                    ⎥\n",
       " ╲╱          c                     ⎥\n",
       "                                   ⎥\n",
       "     0                            0⎦"
      ]
     },
     "execution_count": 14,
     "metadata": {},
     "output_type": "execute_result"
    }
   ],
   "source": [
    "from sympy import symbols, sqrt, Matrix, cos, sin\n",
    "from sympy.vector import CoordSys3D\n",
    "\n",
    "# Define symbols\n",
    "v1, v2, lambda_1, lambda_2, c, x, y, z, t, alpha, beta, gamma = symbols('v1 v2 lambda_1 lambda_2 c x y z t alpha beta gamma')\n",
    "\n",
    "from sympy import symbols\n",
    "\n",
    "# Define the variables in SymPy\n",
    "c, v_1x, v_1y, v_1z, v_2x, v_2y, v_2z, R0 = symbols('c v_1x v_1y v_1z v_2x v_2y v_2z R0')\n",
    "v1, v2, alpha_0, beta_0, gamma_0, alpha_1, beta_1, gamma_1, alpha_2, beta_2, gamma_2 = symbols('v1 v2 alpha_0 beta_0 gamma_0 alpha_1 beta_1 gamma_1 alpha_2 beta_2 gamma_2')\n",
    "\n",
    "\n",
    "def Lorentz(V, v, HU=True):\n",
    "    print(\"check if velocity is normalized!!!!\")\n",
    "    alpha, beta, gamma = V\n",
    "    cos_v = 1/sqrt(1-v**2/c**2)\n",
    "    sin_v = v/c/sqrt(1-v**2/c**2)\n",
    "    \n",
    "    N = CoordSys3D('N')\n",
    "    r = x*N.i + y*N.j + z*N.k\n",
    "    V_vec = alpha*N.i + beta*N.j + gamma*N.k\n",
    "    r_parallel = (r.dot(V_vec))*V_vec/V_vec.magnitude()**2\n",
    "    r_perpendicular = r - r_parallel\n",
    "    r_parallel_exp = Matrix([r_parallel.dot(N.i), r_parallel.dot(N.j), r_parallel.dot(N.k), 0])\n",
    "    r_perpendicular_exp = Matrix([r_perpendicular.dot(N.i), r_perpendicular.dot(N.j), r_perpendicular.dot(N.k), 0])\n",
    "    t_exp = Matrix([0, 0, 0, t])\n",
    "    r_out = cos_v*r_parallel_exp + r_perpendicular_exp - sin_v*t_exp\n",
    "    t_out = sin_v*r_parallel_exp + cos_v*t_exp\n",
    "\n",
    "    M = Matrix.zeros(4)\n",
    "    for i in range(3):  # x, y, z\n",
    "        M[i, i] = r_out[i]\n",
    "    M[3, 3] = 1 if HU else 0  # Adjusting for HU parameter\n",
    "\n",
    "    return M\n",
    "\n",
    "\n",
    "v_2_hat = [0,beta_2, gamma_2]\n",
    "Lorentz(v_2_hat, v2, HU=False)\n"
   ]
  },
  {
   "cell_type": "code",
   "execution_count": 15,
   "metadata": {},
   "outputs": [
    {
     "name": "stdout",
     "output_type": "stream",
     "text": [
      "check if velocity is normalized!!!!\n"
     ]
    },
    {
     "data": {
      "image/png": "[encoded data removed]",
      "text/latex": [
       "$\\displaystyle \\left[\\begin{matrix}x \\left(\\frac{\\alpha_{1} \\left(- \\alpha_{1} x - \\beta_{1} y - \\gamma_{1} z\\right)}{\\alpha_{1}^{2} + \\beta_{1}^{2} + \\gamma_{1}^{2}} - \\frac{\\alpha_{1} \\left(- \\alpha_{1} x - \\beta_{1} y - \\gamma_{1} z\\right)}{\\sqrt{1 - \\frac{v_{1}^{2}}{c^{2}}} \\left(\\alpha_{1}^{2} + \\beta_{1}^{2} + \\gamma_{1}^{2}\\right)} + x\\right)\\\\0\\\\0\\\\0\\end{matrix}\\right]$"
      ],
      "text/plain": [
       "⎡  ⎛α₁⋅(-α₁⋅x - β₁⋅y - γ₁⋅z)        α₁⋅(-α₁⋅x - β₁⋅y - γ₁⋅z)        ⎞⎤\n",
       "⎢x⋅⎜──────────────────────── - ───────────────────────────────── + x⎟⎥\n",
       "⎢  ⎜      2     2     2              _________                      ⎟⎥\n",
       "⎢  ⎜    α₁  + β₁  + γ₁              ╱       2                       ⎟⎥\n",
       "⎢  ⎜                               ╱      v₁   ⎛  2     2     2⎞    ⎟⎥\n",
       "⎢  ⎜                              ╱   1 - ─── ⋅⎝α₁  + β₁  + γ₁ ⎠    ⎟⎥\n",
       "⎢  ⎜                             ╱          2                       ⎟⎥\n",
       "⎢  ⎝                           ╲╱          c                        ⎠⎥\n",
       "⎢                                                                    ⎥\n",
       "⎢                                 0                                  ⎥\n",
       "⎢                                                                    ⎥\n",
       "⎢                                 0                                  ⎥\n",
       "⎢                                                                    ⎥\n",
       "⎣                                 0                                  ⎦"
      ]
     },
     "execution_count": 15,
     "metadata": {},
     "output_type": "execute_result"
    }
   ],
   "source": [
    "# Define necessary symbols\n",
    "x, y, z, alpha_1, beta_1, gamma_1, v1 = symbols('x y z alpha_1 beta_1 gamma_1 v1')\n",
    "\n",
    "# Define vectors\n",
    "v_1_hat = Matrix([alpha_1, beta_1, gamma_1])\n",
    "r1_frame1 = Matrix([x, 0, 0, 0])  # Position vector in Frame 1\n",
    "\n",
    "# Apply the Lorentz transformation (assuming Lorentz function is defined as shown before)\n",
    "r_frame0 = Lorentz(-v_1_hat, v1, HU=False) * r1_frame1  # Transform to Frame 0\n",
    "\n",
    "# Display the resulting vector\n",
    "r_frame0"
   ]
  },
  {
   "cell_type": "code",
   "execution_count": 16,
   "metadata": {},
   "outputs": [
    {
     "data": {
      "image/png": "[encoded data removed]",
      "text/latex": [
       "$\\displaystyle \\frac{4 \\pi^{2}}{\\lambda_{1}^{2}}$"
      ],
      "text/plain": [
       "   2\n",
       "4⋅π \n",
       "────\n",
       "  2 \n",
       "λ₁  "
      ]
     },
     "execution_count": 16,
     "metadata": {},
     "output_type": "execute_result"
    }
   ],
   "source": [
    "from sympy import symbols, Matrix, sqrt, pi, cos, diff, series\n",
    "\n",
    "# Define necessary symbols\n",
    "x, y, z, lambda_1 = symbols('x y z lambda_1')\n",
    "R_0_hat = Matrix([0, 1, 0, 1])  # Origin of Frame1 in SymPy notation\n",
    "\n",
    "# Assuming r1_frame1 is already defined as shown in previous messages\n",
    "d1 = sqrt(r1_frame1.dot(r1_frame1))\n",
    "\n",
    "k1d1 = 2*pi/lambda_1*d1\n",
    "fi_1 = cos(k1d1)/(1+k1d1)\n",
    "\n",
    "# Expand fi_1 in a Taylor series around x=0, up to second order (including)\n",
    "fi_1_series = series(fi_1, x, 0, 3).removeO()  # removeO() removes the order term\n",
    "\n",
    "# Differentiate fi_1 with respect to x and find the coefficient of x\n",
    "dfi_1 = diff(fi_1_series, x)\n",
    "# Find the coefficient of x in the differentiated series\n",
    "dfi_1_coefficient_x = dfi_1.coeff(x)\n",
    "\n",
    "dfi_1_coefficient_x\n"
   ]
  },
  {
   "cell_type": "code",
   "execution_count": null,
   "metadata": {},
   "outputs": [],
   "source": []
  },
  {
   "cell_type": "code",
   "execution_count": null,
   "metadata": {},
   "outputs": [],
   "source": []
  }
 ],
 "metadata": {
  "anaconda-cloud": {},
  "kernelspec": {
   "display_name": "Python [conda env:Cosmos3020]",
   "language": "python",
   "name": "conda-env-Cosmos3020-py"
  },
  "language_info": {
   "codemirror_mode": {
    "name": "ipython",
    "version": 3
   },
   "file_extension": ".py",
   "mimetype": "text/x-python",
   "name": "python",
   "nbconvert_exporter": "python",
   "pygments_lexer": "ipython3",
   "version": "3.11.8"
  }
 },
 "nbformat": 4,
 "nbformat_minor": 4
}
