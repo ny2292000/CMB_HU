{
 "cells": [
  {
   "cell_type": "code",
   "execution_count": 4,
   "metadata": {},
   "outputs": [
    {
     "ename": "ModuleNotFoundError",
     "evalue": "No module named 'glue'",
     "output_type": "error",
     "traceback": [
      "\u001b[0;31m---------------------------------------------------------------------------\u001b[0m",
      "\u001b[0;31mModuleNotFoundError\u001b[0m                       Traceback (most recent call last)",
      "\u001b[0;32m<ipython-input-4-58ec06a4cb29>\u001b[0m in \u001b[0;36m<module>\u001b[0;34m\u001b[0m\n\u001b[1;32m      3\u001b[0m \u001b[0;32mimport\u001b[0m \u001b[0mnumpy\u001b[0m \u001b[0;32mas\u001b[0m \u001b[0mnp\u001b[0m\u001b[0;34m\u001b[0m\u001b[0;34m\u001b[0m\u001b[0m\n\u001b[1;32m      4\u001b[0m \u001b[0;32mfrom\u001b[0m \u001b[0mlib2\u001b[0m \u001b[0;32mimport\u001b[0m \u001b[0;34m*\u001b[0m\u001b[0;34m\u001b[0m\u001b[0;34m\u001b[0m\u001b[0m\n\u001b[0;32m----> 5\u001b[0;31m \u001b[0;32mimport\u001b[0m \u001b[0mglue\u001b[0m\u001b[0;34m\u001b[0m\u001b[0;34m\u001b[0m\u001b[0m\n\u001b[0m",
      "\u001b[0;31mModuleNotFoundError\u001b[0m: No module named 'glue'"
     ]
    }
   ],
   "source": [
    "import matplotlib.pyplot as plt\n",
    "import pandas as pd\n",
    "import numpy as np\n",
    "from lib2 import *\n",
    "import glue\n"
   ]
  },
  {
   "cell_type": "code",
   "execution_count": 8,
   "metadata": {},
   "outputs": [
    {
     "name": "stdout",
     "output_type": "stream",
     "text": [
      "Collecting glue\n",
      "  Downloading glue-0.13.tar.gz (295 kB)\n",
      "\u001b[K     |████████████████████████████████| 295 kB 2.9 MB/s eta 0:00:01\n",
      "\u001b[?25hRequirement already satisfied: Pillow>=2.2.2 in /home/mp74207/anaconda3/lib/python3.8/site-packages (from glue) (7.2.0)\n",
      "Collecting Jinja2<2.10,>=2.7\n",
      "  Downloading Jinja2-2.9.6-py2.py3-none-any.whl (340 kB)\n",
      "\u001b[K     |████████████████████████████████| 340 kB 36.7 MB/s eta 0:00:01\n",
      "\u001b[?25hRequirement already satisfied: MarkupSafe>=0.23 in /home/mp74207/anaconda3/lib/python3.8/site-packages (from Jinja2<2.10,>=2.7->glue) (1.1.1)\n",
      "Building wheels for collected packages: glue\n",
      "  Building wheel for glue (setup.py) ... \u001b[?25ldone\n",
      "\u001b[?25h  Created wheel for glue: filename=glue-0.13-py3-none-any.whl size=28277 sha256=387db59ad7c4cabd1123c9a4f56d1db30282865a3035fd88415a4ac0044f8854\n",
      "  Stored in directory: /home/mp74207/.cache/pip/wheels/76/cf/a2/cf2ebb17b381b803802f7176a22f4fd4be223a41d0186d532e\n",
      "Successfully built glue\n",
      "\u001b[31mERROR: jupyterlab 2.1.5 has requirement jinja2>=2.10, but you'll have jinja2 2.9.6 which is incompatible.\u001b[0m\n",
      "\u001b[31mERROR: jupyterlab-server 1.2.0 has requirement jinja2>=2.10, but you'll have jinja2 2.9.6 which is incompatible.\u001b[0m\n",
      "\u001b[31mERROR: flask 1.1.2 has requirement Jinja2>=2.10.1, but you'll have jinja2 2.9.6 which is incompatible.\u001b[0m\n",
      "Installing collected packages: Jinja2, glue\n",
      "  Attempting uninstall: Jinja2\n",
      "    Found existing installation: Jinja2 2.11.2\n",
      "    Uninstalling Jinja2-2.11.2:\n",
      "      Successfully uninstalled Jinja2-2.11.2\n",
      "Successfully installed Jinja2-2.9.6 glue-0.13\n"
     ]
    }
   ],
   "source": [
    "!pip install glue\n"
   ]
  },
  {
   "cell_type": "code",
   "execution_count": null,
   "metadata": {},
   "outputs": [],
   "source": [
    "\n",
    "# Number of sample points\n",
    "N = 1000\n",
    "a1=0\n",
    "a2=0.5\n",
    "a3=0.25\n",
    "n=120\n",
    "phase0=0.25\n",
    "import itertools\n",
    "\n",
    "def createSphere(a1,a2,a3,N,n,phase0):\n",
    "    # sample spacing\n",
    "    dec = np.linspace(-np.pi/2,np.pi/2, N)\n",
    "    ra= np.linspace(-np.pi,np.pi,N)\n",
    "    df = pd.DataFrame(columns=[\"dec\", \"ra\"]) \n",
    "    a = np.meshgrid(dec,ra)\n",
    "    df.dec = a[0].T.reshape(N*N)\n",
    "    df.ra = a[1].T.reshape(N*N)\n",
    "    df[\"z\"]= np.sin(df.dec)\n",
    "    a=np.sqrt(1-df.z*df.z)\n",
    "    df[\"y\"]= a* np.sin(df.ra)\n",
    "    df[\"x\"] = a * np.cos(df.ra)\n",
    "    df[\"DensityZ\"]= PhaseX(phase0,df.z, n, a1)\n",
    "    df[\"radius\"]= df.x**2+df.y**2+df.z**2\n",
    "    df[\"DensityY\"]= PhaseX(phase0,df.y, n, a2)\n",
    "    df[\"DensityX\"]= PhaseX(phase0,df.x, n, a3)\n",
    "    df[\"density\"]= df.DensityX + df.DensityY + df.DensityZ\n",
    "    return df[[\"x\",\"y\",\"z\", \"density\"]], df[[\"dec\",\"ra\",\"density\"]], df\n",
    "\n"
   ]
  },
  {
   "cell_type": "code",
   "execution_count": 23,
   "metadata": {},
   "outputs": [
    {
     "name": "stderr",
     "output_type": "stream",
     "text": [
      "/Users/mp74207/anaconda3/envs/cosmo36/lib/python3.7/site-packages/glue_vispy_viewers/extern/vispy/visuals/markers.py:560: FutureWarning: Passing (type, 1) or '1type' as a synonym of type is deprecated; in a future version of numpy, it will be understood as (type, (1,)) / '(1,)type'.\n",
      "  ('a_edgewidth', np.float32, 1)])\n"
     ]
    },
    {
     "data": {
      "text/plain": [
       "<glue.app.qt.application.GlueApplication at 0x1524c81d70>"
      ]
     },
     "execution_count": 23,
     "metadata": {},
     "output_type": "execute_result"
    }
   ],
   "source": [
    "dfxyz, dfthetaphi, df = createSphere(a1,a2,a3,N,n,phase0)\n",
    "    \n",
    "glue.qglue (star=dfxyz)"
   ]
  },
  {
   "cell_type": "code",
   "execution_count": 21,
   "metadata": {},
   "outputs": [
    {
     "data": {
      "text/plain": [
       "(1.0000000000000004, 0.9999999999999996)"
      ]
     },
     "execution_count": 21,
     "metadata": {},
     "output_type": "execute_result"
    }
   ],
   "source": [
    "df.radius.max(), df.radius.min()"
   ]
  },
  {
   "cell_type": "code",
   "execution_count": null,
   "metadata": {},
   "outputs": [],
   "source": []
  }
 ],
 "metadata": {
  "kernelspec": {
   "display_name": "Python 3",
   "language": "python",
   "name": "python3"
  },
  "language_info": {
   "codemirror_mode": {
    "name": "ipython",
    "version": 3
   },
   "file_extension": ".py",
   "mimetype": "text/x-python",
   "name": "python",
   "nbconvert_exporter": "python",
   "pygments_lexer": "ipython3",
   "version": "3.8.3"
  }
 },
 "nbformat": 4,
 "nbformat_minor": 4
}
