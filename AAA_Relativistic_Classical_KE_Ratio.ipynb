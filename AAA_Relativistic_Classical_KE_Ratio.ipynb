{
 "cells": [
  {
   "cell_type": "markdown",
   "id": "b3c15c1b",
   "metadata": {},
   "source": []
  },
  {
   "cell_type": "code",
   "execution_count": null,
   "id": "12df8fe4",
   "metadata": {},
   "outputs": [],
   "source": [
    "# Re-importing necessary libraries after reset\n",
    "from sympy import symbols, cosh, sinh, cos, integrate\n",
    "\n",
    "# Define the variable and the integrand\n",
    "alpha = symbols('alpha')\n",
    "# integrand = sinh(alpha) / cosh(alpha)**3\n",
    "integrand = sinh(alpha) \n",
    "\n",
    "# Define the integral from 0 to alpha_0\n",
    "alpha_0 = symbols('alpha_0')\n",
    "integral_result = integrate(integrand, (alpha, 0, alpha_0))\n",
    "integral_result.simplify()\n"
   ]
  },
  {
   "cell_type": "code",
   "execution_count": null,
   "id": "ca834320",
   "metadata": {},
   "outputs": [],
   "source": [
    "import numpy as np\n",
    "import matplotlib.pyplot as plt\n",
    "\n",
    "# Constants\n",
    "c = 1  # Speed of light in natural units (c = 1)\n",
    "m = 1  # Assume unit mass for simplicity\n",
    "\n",
    "# Velocity range from 0 to 0.99c\n",
    "alpha = np.linspace(0.0, 1, 1000)\n",
    "\n",
    "\n",
    "# Calculate the ratio between relativistic and classical kinetic energy\n",
    "KE_ratio = 2*(1-np.sqrt(1-alpha**2))/alpha**2\n",
    "\n",
    "# Plotting the ratio\n",
    "plt.figure(figsize=(10, 6))\n",
    "plt.plot(alpha, KE_ratio, label='Relativistic KE / Classical KE')\n",
    "plt.xlabel('Velocity (as a fraction of the speed of light, c)')\n",
    "plt.ylabel('KE Ratio')\n",
    "plt.title('Ratio between Relativistic and Classical Kinetic Energy')\n",
    "plt.legend()\n",
    "plt.grid(True)\n",
    "plt.show()\n"
   ]
  },
  {
   "cell_type": "code",
   "execution_count": null,
   "id": "bd648670",
   "metadata": {},
   "outputs": [],
   "source": [
    "from sympy import symbols, sqrt, asin, limit\n",
    "\n",
    "# Define the symbol alpha\n",
    "alpha = symbols('alpha')\n",
    "\n",
    "# Define the expression\n",
    "expression = 2*(1-sqrt(1-alpha**2))/alpha**2\n",
    "\n",
    "# Apply the limit as alpha approaches 1\n",
    "limit_result = limit(expression, alpha, 1)\n",
    "limit_result\n"
   ]
  },
  {
   "cell_type": "code",
   "execution_count": null,
   "id": "3e59a868",
   "metadata": {},
   "outputs": [],
   "source": [
    "# Constants for proton and conversion\n",
    "import scipy.constants as const\n",
    "m_p = 1.6726219e-27  # Mass of proton in kg\n",
    "c = const.c # Speed of light in m/s\n",
    "joules_to_eV = 1.60218e-19  # Conversion factor from Joules to eV\n",
    "\n",
    "# Kinetic energy of proton in eV (938 MeV)\n",
    "KE_proton_938MeV_eV = 938e6/2  # in eV\n",
    "\n",
    "# Convert 938 MeV KE to Joules\n",
    "KE_proton_938MeV_joules = KE_proton_938MeV_eV * joules_to_eV\n",
    "\n",
    "# Calculate velocity of proton with 938 MeV using classical kinetic energy formula\n",
    "v_proton_938MeV = (2 * KE_proton_938MeV_joules / m_p)**0.5\n",
    "\n",
    "# Express this velocity as a fraction of the speed of light (c)\n",
    "v_proton_938MeV_fraction_c = v_proton_938MeV / c\n",
    "v_proton_938MeV_fraction_c\n"
   ]
  },
  {
   "cell_type": "code",
   "execution_count": null,
   "id": "4e13a10b",
   "metadata": {},
   "outputs": [],
   "source": [
    "from sympy import sqrt\n",
    "\n",
    "# Proton mass energy (MeV) and KE in MeV\n",
    "mass_energy_proton_MeV = 938  # Rest mass energy in MeV\n",
    "KE_proton_938MeV_MeV = 938/2  # Kinetic energy in MeV\n",
    "\n",
    "# Total energy in MeV\n",
    "total_energy_proton_MeV = mass_energy_proton_MeV + KE_proton_938MeV_MeV\n",
    "\n",
    "# Calculate gamma from total energy\n",
    "gamma_proton = total_energy_proton_MeV / mass_energy_proton_MeV\n",
    "\n",
    "# Relativistic velocity formula: v = c * sqrt(1 - 1/gamma^2)\n",
    "v_proton_fraction_c_relativity = sqrt(1 - 1 / gamma_proton**2)\n",
    "v_proton_fraction_c_relativity.evalf()\n"
   ]
  },
  {
   "cell_type": "code",
   "execution_count": null,
   "id": "154bf6b7",
   "metadata": {},
   "outputs": [],
   "source": [
    "# 99.999999% of c\n",
    "v = 0.99999999\n",
    "gamma = 1/np.sqrt(1-v**2)\n",
    "(gamma -1)* mass_energy_proton_MeV"
   ]
  },
  {
   "cell_type": "code",
   "execution_count": null,
   "id": "7461270b",
   "metadata": {},
   "outputs": [],
   "source": [
    "from sympy import symbols, sqrt, series\n",
    "\n",
    "# Define alpha as a symbolic variable\n",
    "alpha = symbols('alpha')\n",
    "\n",
    "# Define the expression\n",
    "expression = 1 / sqrt(1 - alpha**2)\n",
    "\n",
    "# Perform the Taylor expansion of the expression around alpha = 0 to the first order\n",
    "taylor_expansion = series(expression, alpha, 0, 3).removeO()  # First order expansion\n",
    "\n",
    "taylor_expansion\n"
   ]
  },
  {
   "cell_type": "code",
   "execution_count": null,
   "id": "855a415f",
   "metadata": {},
   "outputs": [],
   "source": [
    "def ke_Einstein(alpha):\n",
    "    m=1\n",
    "    c=1\n",
    "    gamma = 1/np.sqrt(1-alpha**2)\n",
    "    return (gamma -1)*mc**2\n",
    "\n",
    "# 20% deviation would mean that 1.2= 1 + alpha**2/2\n",
    "alpha = np.sqrt(0.4)\n",
    "gamma = 1/np.sqrt(1-alpha**2)\n",
    "alpha, gamma"
   ]
  },
  {
   "cell_type": "code",
   "execution_count": null,
   "id": "58b84dae",
   "metadata": {},
   "outputs": [],
   "source": [
    "import numpy as np\n",
    "import matplotlib.pyplot as plt\n",
    "\n",
    "# Parameters for the Gaussian distribution\n",
    "mean_energy = 1e12  # Mean energy of cosmic rays in electron volts (eV)\n",
    "std_dev_energy = 2e10  # Standard deviation in energy\n",
    "\n",
    "# Generate random data following a Gaussian distribution\n",
    "cosmic_ray_energies = np.random.normal(mean_energy, std_dev_energy, 10000)\n",
    "\n",
    "# Plot the Gaussian distribution\n",
    "plt.figure(figsize=(10, 6))\n",
    "plt.hist(cosmic_ray_energies, bins=100, density=True, alpha=0.6, color='blue')\n",
    "plt.title(\"Gaussian Distribution of Cosmic Ray Energies\")\n",
    "plt.xlabel(\"Energy (eV)\")\n",
    "plt.ylabel(\"Probability Density\")\n",
    "plt.grid(True)\n",
    "plt.show()\n"
   ]
  },
  {
   "cell_type": "code",
   "execution_count": null,
   "id": "f1e076b3",
   "metadata": {},
   "outputs": [],
   "source": [
    "# Redefine the initial velocities using relativistic kinetic energy relation\n",
    "import scipy.constants as const\n",
    "\n",
    "c= const.c\n",
    "gamma = cosmic_ray_energies_joules / (mass_proton * c**2) + 1\n",
    "velocities_relativistic_initial = c * np.sqrt(1 - 1 / gamma**2)\n",
    "def plotEnergies(v):\n",
    "    c= const.c\n",
    "    gamma = 1/np.sqrt(1-v**2/c**2)\n",
    "    return (gamma -1)*mass_proton*c**2/joules_to_eV\n",
    "\n",
    "# Apply the relativistic velocity addition formula with observer speed\n",
    "observer_speed = 0.99999 * c\n",
    "velocities_relativistic_adjusted = (velocities_relativistic_initial + observer_speed) / (1 + (velocities_relativistic_initial * observer_speed) / c**2)\n",
    "\n",
    "energies = plotEnergies(velocities_relativistic_adjusted)\n",
    "# Plot the distribution of the adjusted relativistic velocities\n",
    "plt.figure(figsize=(10, 6))\n",
    "plt.hist(energies, bins=100, density=True, alpha=0.6, color='purple')\n",
    "plt.title(\"Relativistic Velocity Distribution of Cosmic Rays with Observer Moving at 0.1c\")\n",
    "plt.xlabel(\"Velocity (m/s)\")\n",
    "plt.ylabel(\"Probability Density\")\n",
    "plt.grid(True)\n",
    "plt.show()\n"
   ]
  },
  {
   "cell_type": "code",
   "execution_count": null,
   "id": "b17b7fb9",
   "metadata": {},
   "outputs": [],
   "source": [
    "mass_proton"
   ]
  },
  {
   "cell_type": "code",
   "execution_count": null,
   "id": "ff69c4b3",
   "metadata": {},
   "outputs": [],
   "source": [
    "np.max(velocities_relativistic_initial)/c"
   ]
  },
  {
   "cell_type": "code",
   "execution_count": null,
   "id": "d1d1e60e",
   "metadata": {},
   "outputs": [],
   "source": [
    "import scipy.constants as const\n",
    "\n",
    "def energy_to_velocity(energy_eV, mass_kg):\n",
    "    \"\"\"\n",
    "    Converts kinetic energy (in electron volts) to velocity (in meters per second) for a particle of given mass.\n",
    "    \n",
    "    Parameters:\n",
    "    - energy_eV (float): Kinetic energy in electron volts.\n",
    "    - mass_kg (float): Mass of the particle in kilograms.\n",
    "    \n",
    "    Returns:\n",
    "    - velocity (float): Velocity of the particle in meters per second.\n",
    "    \"\"\"\n",
    "    # Convert energy from electron volts to joules\n",
    "    energy_joules = energy_eV * const.e  # 1 eV = 1.60218e-19 J\n",
    "    \n",
    "    # Calculate the relativistic gamma factor\n",
    "    gamma = energy_joules / (mass_kg * const.c**2) + 1\n",
    "    \n",
    "    # Calculate velocity using the relativistic formula: v = c * sqrt(1 - 1/gamma^2)\n",
    "    velocity = const.c * (1 - 1 / gamma**2)**0.5\n",
    "    \n",
    "    return velocity\n",
    "\n",
    "# Example usage: Calculate velocity for a proton with 6.5 TeV of energy (LHC level)\n",
    "proton_mass_kg = const.m_p  # Mass of a proton in kg\n",
    "energy_LHC_TeV = 6.5e12  # 6.5 TeV in eV\n",
    "\n",
    "velocity_LHC = energy_to_velocity(energy_LHC_TeV, proton_mass_kg)\n",
    "velocity_LHC/const.c\n"
   ]
  },
  {
   "cell_type": "code",
   "execution_count": null,
   "id": "f105b3ad",
   "metadata": {},
   "outputs": [],
   "source": []
  }
 ],
 "metadata": {
  "kernelspec": {
   "display_name": "Python [conda env:Cosmos3020]",
   "language": "python",
   "name": "conda-env-Cosmos3020-py"
  },
  "language_info": {
   "codemirror_mode": {
    "name": "ipython",
    "version": 3
   },
   "file_extension": ".py",
   "mimetype": "text/x-python",
   "name": "python",
   "nbconvert_exporter": "python",
   "pygments_lexer": "ipython3",
   "version": "3.11.9"
  }
 },
 "nbformat": 4,
 "nbformat_minor": 5
}
