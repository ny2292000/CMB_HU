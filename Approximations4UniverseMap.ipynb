{
 "cells": [
  {
   "cell_type": "code",
   "execution_count": 1,
   "id": "2064e74b",
   "metadata": {},
   "outputs": [],
   "source": [
    "import healpy as hp\n",
    "import numpy as np\n",
    "from numba import jit\n",
    "\n",
    "@jit\n",
    "def numberOfBaseFunctions(kk):\n",
    "    count=0\n",
    "    for k in np.arange(kk+1):\n",
    "        for l in np.arange(k+1):\n",
    "            for m in np.arange(-l-1,l+1):\n",
    "                count += 1\n",
    "    return count\n",
    "        "
   ]
  },
  {
   "cell_type": "code",
   "execution_count": 2,
   "id": "bda0a888",
   "metadata": {},
   "outputs": [
    {
     "data": {
      "text/plain": [
       "(9018011002, 50331648)"
      ]
     },
     "execution_count": 2,
     "metadata": {},
     "output_type": "execute_result"
    }
   ],
   "source": [
    "# Problem dimensions\n",
    "numberOfBaseFunctions(3000),hp.nside2npix(nside=2048)"
   ]
  },
  {
   "cell_type": "code",
   "execution_count": 3,
   "id": "da64549f",
   "metadata": {},
   "outputs": [
    {
     "data": {
      "text/plain": [
       "(44200, 49152)"
      ]
     },
     "execution_count": 3,
     "metadata": {},
     "output_type": "execute_result"
    }
   ],
   "source": [
    "# Approximate Solution\n",
    "numberOfBaseFunctions(49),hp.nside2npix(nside=64)"
   ]
  }
 ],
 "metadata": {
  "kernelspec": {
   "display_name": "Python [conda env:Cosmo38] *",
   "language": "python",
   "name": "conda-env-Cosmo38-py"
  },
  "language_info": {
   "codemirror_mode": {
    "name": "ipython",
    "version": 3
   },
   "file_extension": ".py",
   "mimetype": "text/x-python",
   "name": "python",
   "nbconvert_exporter": "python",
   "pygments_lexer": "ipython3",
   "version": "3.8.11"
  }
 },
 "nbformat": 4,
 "nbformat_minor": 5
}
