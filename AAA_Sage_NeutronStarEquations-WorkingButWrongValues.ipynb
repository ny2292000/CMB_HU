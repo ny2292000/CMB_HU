{
 "cells": [
  {
   "cell_type": "markdown",
   "metadata": {},
   "source": [
    "Sound velocity bound and neutron stars\n",
    "\n",
    "Paulo Bedaque\n",
    "\n",
    "Department of Physics, University of Maryland College Park, Maryland 20742, USA\n",
    "\n",
    "Andrew W. Steiner\n",
    "\n",
    "Institute for Nuclear Theory, University of Washington Seattle, Washington 98195, USA\n",
    "\n",
    "Department of Physics and Astronomy, University of Tennessee, Knoxville, Tennessee 37996, USA and\n",
    "\n",
    "Physics Division, Oak Ridge National Laboratory, Oak Ridge, Tennessee 37831, USA"
   ]
  },
  {
   "cell_type": "code",
   "execution_count": 1,
   "metadata": {},
   "outputs": [
    {
     "data": {
      "text/plain": [
       "(A0, A, B, C, T0, K, S, L, h, mu, c, hbar, T0)"
      ]
     },
     "execution_count": 1,
     "metadata": {},
     "output_type": "execute_result"
    }
   ],
   "source": [
    "import numpy as np\n",
    "from astropy import units as uu\n",
    "from astropy import constants as cc\n",
    "var (\"x\", \"y\", \"eta\", \"n\", \"n0\", \"eta_L\", \"gamma\", \"alpha\", \"alpha_L\", \"frac\", \"xx\", \"MN\", \"MP\", \"ME\", \"EK\")\n",
    "var (\"A0\",  \"A\", \"B\", \"C\", \"T0\", \"K\", \"S\", \"L\", \"h\", \"mu\", \"c\", \"hbar\", \"T0\")"
   ]
  },
  {
   "cell_type": "code",
   "execution_count": 12,
   "metadata": {
    "scrolled": true
   },
   "outputs": [
    {
     "data": {
      "text/html": [
       "<html><script type=\"math/tex; mode=display\">\\newcommand{\\Bold}[1]{\\mathbf{#1}}\\frac{1}{5} \\, {\\left(3 \\cdot 2^{\\frac{2}{3}} {\\left(x^{\\frac{5}{3}} + {\\left(-x + 1\\right)}^{\\frac{5}{3}}\\right)} \\left(\\frac{n}{n_{0}}\\right)^{\\frac{2}{3}} - 5 \\, {\\left(2 \\, {\\left(\\eta - 2 \\, \\eta_{L}\\right)} {\\left(x - 1\\right)} x - \\eta_{L}\\right)} \\left(\\frac{n}{n_{0}}\\right)^{\\gamma} + \\frac{5 \\, {\\left(2 \\, {\\left(\\alpha - 2 \\, \\alpha_{L}\\right)} {\\left(x - 1\\right)} x - \\alpha_{L}\\right)} n}{n_{0}}\\right)} T_{0} - \\frac{{\\left(\\mathit{MN} {\\left(x - 1\\right)} - {\\left(\\mathit{ME} + \\mathit{MP}\\right)} x\\right)} n}{n_{0}}</script></html>"
      ],
      "text/plain": [
       "1/5*(3*2^(2/3)*(x^(5/3) + (-x + 1)^(5/3))*(n/n0)^(2/3) - 5*(2*(eta - 2*eta_L)*(x - 1)*x - eta_L)*(n/n0)^gamma + 5*(2*(alpha - 2*alpha_L)*(x - 1)*x - alpha_L)*n/n0)*T0 - (MN*(x - 1) - (ME + MP)*x)*n/n0"
      ]
     },
     "metadata": {},
     "output_type": "display_data"
    }
   ],
   "source": [
    "EKy =  1/5*(3*(x^(5/3) + (-x + 1)^(5/3))*(2*y)^(2/3) - 5*(2*(eta - 2*eta_L)*(x - 1)*x - eta_L)*(y)^gamma + 5*(2*(alpha - 2*alpha_L)*(x - 1)*x - alpha_L)*y)*T0\n",
    "EKy=EKy+y*(MN*(1-x)+x*(MP+ME))\n",
    "EK=EKy.subs(y==n/n0)\n",
    "pretty_print(EK) "
   ]
  },
  {
   "cell_type": "code",
   "execution_count": 18,
   "metadata": {},
   "outputs": [
    {
     "data": {
      "text/plain": [
       "1/5*((10*(alpha - 2*alpha_L)*(x - 1)*x - 5*(2*(eta - 2*eta_L)*(x - 1)*x - eta_L)*gamma*y^(gamma - 1) + 2*2^(2/3)*(x^(5/3) + (-x + 1)^(5/3))/y^(1/3) - 5*alpha_L)*T0 - 5*MN*(x - 1) + 5*(ME + MP)*x)*n0*y^2"
      ]
     },
     "execution_count": 18,
     "metadata": {},
     "output_type": "execute_result"
    }
   ],
   "source": [
    "Pressure = n0*y**2*diff(EKy,y)\n",
    "Pressure"
   ]
  },
  {
   "cell_type": "code",
   "execution_count": 19,
   "metadata": {},
   "outputs": [
    {
     "data": {
      "text/plain": [
       "1/5*(3*2^(2/3)*(x^(5/3) + (-x + 1)^(5/3))*y^(2/3) + 5*(2*(alpha - 2*alpha_L)*(x - 1)*x - alpha_L)*y - 5*(2*(eta - 2*eta_L)*(x - 1)*x - eta_L)*y^gamma)*T0 - (MN*(x - 1) - (ME + MP)*x)*y"
      ]
     },
     "execution_count": 19,
     "metadata": {},
     "output_type": "execute_result"
    }
   ],
   "source": [
    "EKy"
   ]
  },
  {
   "cell_type": "code",
   "execution_count": 20,
   "metadata": {},
   "outputs": [
    {
     "data": {
      "text/plain": [
       "(2^(2/3)*y^(2/3)*(x^(2/3) - (-x + 1)^(2/3)) + 2*((alpha - 2*alpha_L)*(x - 1) + (alpha - 2*alpha_L)*x)*y - 2*((eta - 2*eta_L)*(x - 1) + (eta - 2*eta_L)*x)*y^gamma)*T0 + (ME - MN + MP)*y"
      ]
     },
     "execution_count": 20,
     "metadata": {},
     "output_type": "execute_result"
    }
   ],
   "source": [
    "dEKy_x=diff(EKy,x)\n",
    "dEKy_x"
   ]
  },
  {
   "cell_type": "code",
   "execution_count": 13,
   "metadata": {},
   "outputs": [
    {
     "data": {
      "text/html": [
       "<html><script type=\"math/tex; mode=display\">\\newcommand{\\Bold}[1]{\\mathbf{#1}}\\frac{3}{5} \\cdot 2^{\\frac{2}{3}} \\left(\\frac{1}{2}\\right)^{\\frac{2}{3}} T_{0} - \\frac{1}{2} \\, T_{0} \\alpha + \\frac{1}{2} \\, T_{0} \\eta + B + \\frac{1}{2} \\, \\mathit{ME} + \\frac{1}{2} \\, \\mathit{MN} + \\frac{1}{2} \\, \\mathit{MP} = 0</script></html>"
      ],
      "text/plain": [
       "3/5*2^(2/3)*(1/2)^(2/3)*T0 - 1/2*T0*alpha + 1/2*T0*eta + B + 1/2*ME + 1/2*MN + 1/2*MP == 0"
      ]
     },
     "metadata": {},
     "output_type": "display_data"
    }
   ],
   "source": [
    "A1 = EK.subs(n=n0,x=1/2) +B==0  # energy =-B\n",
    "A1=A1.expand()\n",
    "pretty_print(A1)"
   ]
  },
  {
   "cell_type": "code",
   "execution_count": 14,
   "metadata": {},
   "outputs": [
    {
     "data": {
      "text/html": [
       "<html><script type=\"math/tex; mode=display\">\\newcommand{\\Bold}[1]{\\mathbf{#1}}\\frac{1}{2} \\, T_{0} \\eta \\gamma n_{0} - \\frac{1}{2} \\, T_{0} \\alpha n_{0} + \\frac{1}{2} \\, \\mathit{ME} n_{0} + \\frac{1}{2} \\, \\mathit{MN} n_{0} + \\frac{1}{2} \\, \\mathit{MP} n_{0} + \\frac{2}{5} \\, T_{0} n_{0} = 0</script></html>"
      ],
      "text/plain": [
       "1/2*T0*eta*gamma*n0 - 1/2*T0*alpha*n0 + 1/2*ME*n0 + 1/2*MN*n0 + 1/2*MP*n0 + 2/5*T0*n0 == 0"
      ]
     },
     "metadata": {},
     "output_type": "display_data"
    }
   ],
   "source": [
    "A2 = (n0*y**2*diff(EKy,y)).subs(y=1,x=1/2) ==0   # Pressure =0\n",
    "A2=A2.expand().simplify()\n",
    "pretty_print(A2)"
   ]
  },
  {
   "cell_type": "code",
   "execution_count": 15,
   "metadata": {},
   "outputs": [
    {
     "data": {
      "text/html": [
       "<html><script type=\"math/tex; mode=display\">\\newcommand{\\Bold}[1]{\\mathbf{#1}}\\frac{9}{2} \\, T_{0} \\eta \\gamma^{2} - \\frac{9}{2} \\, T_{0} \\eta \\gamma - \\frac{6}{5} \\cdot 2^{\\frac{2}{3}} \\left(\\frac{1}{2}\\right)^{\\frac{2}{3}} T_{0} = K</script></html>"
      ],
      "text/plain": [
       "9/2*T0*eta*gamma^2 - 9/2*T0*eta*gamma - 6/5*2^(2/3)*(1/2)^(2/3)*T0 == K"
      ]
     },
     "metadata": {},
     "output_type": "display_data"
    }
   ],
   "source": [
    "A3 = (9*n0**2*diff(EK,n,2)).subs(n=n0,x=1/2) ==K  # 9 n0 diff(EK,n,2)=K\n",
    "A3 = A3.expand()\n",
    "pretty_print(A3)"
   ]
  },
  {
   "cell_type": "code",
   "execution_count": 16,
   "metadata": {},
   "outputs": [
    {
     "name": "stdout",
     "output_type": "stream",
     "text": [
      "alpha == -(10*B*K - 5*(9*B - K)*ME - 5*(9*B - K)*MN - 5*(9*B - K)*MP - 3*(8*B - 2*K + ME + MN + MP)*T0)/(5*(9*B - K)*T0 + 3*T0^2)\n",
      "eta == -18/5*(25*B^2 + 10*B*T0 + T0^2)/(5*(9*B - K)*T0 + 3*T0^2)\n",
      "gamma == 1/9*(5*K + 6*T0)/(5*B + T0)\n"
     ]
    }
   ],
   "source": [
    "aa = [A1,A2,A3]\n",
    "aout = solve(aa, alpha, eta, gamma)\n",
    "for i in np.arange(3):\n",
    "#     pretty_print(aout[0][i])\n",
    "    print(aout[0][i])\n",
    "# alpha = -2*(5*B*K - 3*(4*B - K)*T0)/(5*(9*B - K)*T0 + 3*T0^2)\n",
    "# eta = -18/5*(25*B^2 + 10*B*T0 + T0^2)/(5*(9*B - K)*T0 + 3*T0^2)\n",
    "# gamma = 1/9*(5*K + 6*T0)/(5*B + T0)"
   ]
  },
  {
   "cell_type": "markdown",
   "metadata": {},
   "source": [
    "# Now to complete eta and eta_L"
   ]
  },
  {
   "cell_type": "code",
   "execution_count": 119,
   "metadata": {},
   "outputs": [
    {
     "data": {
      "text/html": [
       "<html><script type=\"math/tex; mode=display\">\\newcommand{\\Bold}[1]{\\mathbf{#1}}\\frac{3}{2} \\, T_{0} \\alpha - 3 \\, T_{0} \\alpha_{L} - \\frac{3}{2} \\, {\\left(T_{0} \\eta - 2 \\, T_{0} \\eta_{L}\\right)} \\gamma + \\frac{2}{3} \\, T_{0} = L</script></html>"
      ],
      "text/plain": [
       "3/2*T0*alpha - 3*T0*alpha_L - 3/2*(T0*eta - 2*T0*eta_L)*gamma + 2/3*T0 == L"
      ]
     },
     "metadata": {},
     "output_type": "display_data"
    }
   ],
   "source": [
    "var(\"eta\", \"gamma\", \"alpha\", \"T0\", \"n0\")\n",
    "A4= (3*n0/8*diff(diff(EK,x,2),n)==L).subs(n=n0,x=1/2).simplify_full()\n",
    "pretty_print(A4)  \n",
    "# eta_L == -1/5*(225*B^2 + 75*B*L + 5*(23*B + 3*L)*T0 + 14*T0^2)/"
   ]
  },
  {
   "cell_type": "code",
   "execution_count": 128,
   "metadata": {},
   "outputs": [
    {
     "name": "stdout",
     "output_type": "stream",
     "text": [
      "[\n",
      "alpha_L == 1/6*(3*T0*alpha - 3*T0*eta + 6*T0*eta_L - 6*S + 2*T0)/T0\n",
      "]\n"
     ]
    }
   ],
   "source": [
    "A5 = (1/(8)*diff(EK,x,2)==S).subs(n=n0,x=1/2)\n",
    "A5=A5.full_simplify()\n",
    "print(A5.full_simplify().solve(alpha_L) )                                 "
   ]
  },
  {
   "cell_type": "code",
   "execution_count": 51,
   "metadata": {},
   "outputs": [
    {
     "ename": "IndexError",
     "evalue": "list index out of range",
     "output_type": "error",
     "traceback": [
      "\u001b[0;31m---------------------------------------------------------------------------\u001b[0m",
      "\u001b[0;31mIndexError\u001b[0m                                Traceback (most recent call last)",
      "\u001b[0;32m<ipython-input-51-a7af4a71cf3f>\u001b[0m in \u001b[0;36m<module>\u001b[0;34m\u001b[0m\n\u001b[1;32m      3\u001b[0m \u001b[0;32mfor\u001b[0m \u001b[0mi\u001b[0m \u001b[0;32min\u001b[0m \u001b[0mnp\u001b[0m\u001b[0;34m.\u001b[0m\u001b[0marange\u001b[0m\u001b[0;34m(\u001b[0m\u001b[0mInteger\u001b[0m\u001b[0;34m(\u001b[0m\u001b[0;36m2\u001b[0m\u001b[0;34m)\u001b[0m\u001b[0;34m)\u001b[0m\u001b[0;34m:\u001b[0m\u001b[0;34m\u001b[0m\u001b[0;34m\u001b[0m\u001b[0m\n\u001b[1;32m      4\u001b[0m \u001b[0;31m#     pretty_print(aout[0][i])\u001b[0m\u001b[0;34m\u001b[0m\u001b[0;34m\u001b[0m\u001b[0;34m\u001b[0m\u001b[0m\n\u001b[0;32m----> 5\u001b[0;31m     \u001b[0mprint\u001b[0m\u001b[0;34m(\u001b[0m\u001b[0maout\u001b[0m\u001b[0;34m[\u001b[0m\u001b[0mInteger\u001b[0m\u001b[0;34m(\u001b[0m\u001b[0;36m0\u001b[0m\u001b[0;34m)\u001b[0m\u001b[0;34m]\u001b[0m\u001b[0;34m[\u001b[0m\u001b[0mi\u001b[0m\u001b[0;34m]\u001b[0m\u001b[0;34m)\u001b[0m\u001b[0;34m\u001b[0m\u001b[0;34m\u001b[0m\u001b[0m\n\u001b[0m",
      "\u001b[0;32m/usr/lib/python3/dist-packages/sage/structure/sequence.py\u001b[0m in \u001b[0;36m__getitem__\u001b[0;34m(self, n)\u001b[0m\n\u001b[1;32m    524\u001b[0m                             cr = self.__cr)\n\u001b[1;32m    525\u001b[0m         \u001b[0;32melse\u001b[0m\u001b[0;34m:\u001b[0m\u001b[0;34m\u001b[0m\u001b[0;34m\u001b[0m\u001b[0m\n\u001b[0;32m--> 526\u001b[0;31m             \u001b[0;32mreturn\u001b[0m \u001b[0mlist\u001b[0m\u001b[0;34m.\u001b[0m\u001b[0m__getitem__\u001b[0m\u001b[0;34m(\u001b[0m\u001b[0mself\u001b[0m\u001b[0;34m,\u001b[0m\u001b[0mn\u001b[0m\u001b[0;34m)\u001b[0m\u001b[0;34m\u001b[0m\u001b[0;34m\u001b[0m\u001b[0m\n\u001b[0m\u001b[1;32m    527\u001b[0m \u001b[0;34m\u001b[0m\u001b[0m\n\u001b[1;32m    528\u001b[0m     \u001b[0;31m# We have to define the *slice functions as long as Sage uses Python 2.*\u001b[0m\u001b[0;34m\u001b[0m\u001b[0;34m\u001b[0m\u001b[0;34m\u001b[0m\u001b[0m\n",
      "\u001b[0;31mIndexError\u001b[0m: list index out of range"
     ]
    }
   ],
   "source": [
    "aa = [A4,A5]\n",
    "aout = solve(aa, eta, eta_L)\n",
    "for i in np.arange(2):\n",
    "#     pretty_print(aout[0][i])\n",
    "    print(aout[0][i])"
   ]
  },
  {
   "cell_type": "markdown",
   "metadata": {},
   "source": [
    "alpha= 5.87\n",
    "\n",
    "alphaL= 1.2\n",
    "\n",
    "eta=3.81\n",
    "\n",
    "eta_L= 0.65\n"
   ]
  },
  {
   "cell_type": "code",
   "execution_count": null,
   "metadata": {},
   "outputs": [],
   "source": [
    "mu = -(h * c * (3 * pi ** 2 * x*  n) ** (1 / 3))\n",
    "late(mu)"
   ]
  },
  {
   "cell_type": "code",
   "execution_count": null,
   "metadata": {},
   "outputs": [],
   "source": [
    "mu = -(hbar * c * (3 * pi ** 2 * x * y * n0) ** (1 / 3))\n",
    "A = (x ** (2 / 3) - (1 - x) ** (2 / 3)) * (2 * y) ** (2 / 3)\n",
    "B = -(2 * alpha - 4 * alpha_L) * (1 - 2 * x) * y\n",
    "C = (2 * eta - 4 * eta_L) * (1 - 2 * x) * y ** gamma\n",
    "D = (A + B + C) * T0 - MN + MP\n",
    "latex(D)"
   ]
  },
  {
   "cell_type": "code",
   "execution_count": null,
   "metadata": {},
   "outputs": [],
   "source": [
    "pretty_print(D+mu+MN-MP)"
   ]
  },
  {
   "cell_type": "code",
   "execution_count": null,
   "metadata": {},
   "outputs": [],
   "source": [
    "pretty_print((diff(EK,x)/n-D).subs(n==y*n0).expand())"
   ]
  },
  {
   "cell_type": "code",
   "execution_count": null,
   "metadata": {},
   "outputs": [],
   "source": [
    "pretty_print((diff(EK,x)/n).subs(n==y*n0).expand())"
   ]
  },
  {
   "cell_type": "code",
   "execution_count": null,
   "metadata": {},
   "outputs": [],
   "source": [
    "latex((diff(EK,x)/n).subs(n==y*n0))"
   ]
  },
  {
   "cell_type": "code",
   "execution_count": null,
   "metadata": {},
   "outputs": [],
   "source": [
    "latex(mu.subs(n==y*n0))"
   ]
  },
  {
   "cell_type": "code",
   "execution_count": null,
   "metadata": {},
   "outputs": [],
   "source": [
    "import numpy as np\n",
    "V=4/3*np.pi*(7000E15)**3\n",
    "n_bh=2.6E57/V\n",
    "n_bh"
   ]
  },
  {
   "cell_type": "code",
   "execution_count": null,
   "metadata": {},
   "outputs": [],
   "source": [
    "-(cc.h * cc.c * (3 * np.pi ** 2 ) ** (1 / 3)/uu.fm).to(\"MeV\")"
   ]
  },
  {
   "cell_type": "code",
   "execution_count": null,
   "metadata": {},
   "outputs": [],
   "source": [
    "n0 = 0.054263371\n",
    "alpha = 0.380811516179301\n",
    "alphaL = 0.363646873176985\n",
    "neta = 94.1933688410687\n",
    "nL = 47.0311955026687\n",
    "gamma = -0.00445029718098298\n",
    "\n",
    "n0=0.16\n",
    "alpha == 0.518789343227993\n",
    "alphaL == 0.477368057482725\n",
    "neta == 4.95844750335946\n",
    "nL == 2.38254851881421\n",
    "gamma == -0.0567134484294691"
   ]
  },
  {
   "cell_type": "code",
   "execution_count": null,
   "metadata": {},
   "outputs": [],
   "source": [
    "print(MN, MP, B, S, L)"
   ]
  },
  {
   "cell_type": "code",
   "execution_count": null,
   "metadata": {},
   "outputs": [],
   "source": [
    "!which pip"
   ]
  },
  {
   "cell_type": "code",
   "execution_count": null,
   "metadata": {},
   "outputs": [],
   "source": [
    "from sage.plot.plot3d.shapes import *\n",
    "S = Sphere(.5, color='yellow', opacity=0.3)\n",
    "S += Cone(.5, .5, color='red', opacity=0.3).translate(0,0,.3)\n",
    "S += Sphere(.1, color='white').translate(.45,-.1,.15) + Sphere(.05, color='black').translate(.51,-.1,.17)\n",
    "S += Sphere(.1, color='white').translate(.45, .1,.15) + Sphere(.05, color='black').translate(.51, .1,.17)\n",
    "S += Sphere(.1, color='yellow').translate(.5, 0, -.2)\n",
    "x,y,z=(0.5,0.7,0.3)\n",
    "v,w,q = [3*x for x in (0.1,-0.3,0.2)]\n",
    "S += arrow3d((x,y,z), (x+v,y+w,z+q), 5)\n",
    "v,w,q = [3*x for x in (0.1,-0.3,0.2)]\n",
    "S += arrow3d((x,y,z), (x+v,y+w,z+q), 5)\n",
    "x,y,z=(0.4,-0.1,0.4)\n",
    "v,w,q = (0.1,0.3,0.2)\n",
    "S +=  arrow3d((x,y,z), (x+v,y+w,z+q), 0.5)\n",
    "S.show()\n",
    "# S.scale(1,1,2).show()"
   ]
  },
  {
   "cell_type": "code",
   "execution_count": null,
   "metadata": {},
   "outputs": [],
   "source": [
    "x,y,z=(0.5,0.7,0.3)\n",
    "v,w,q = (0.1,-0.3,0.2)\n",
    "ax=arrow3d((x,y,z), (x+v,y+w,z+q), 0.5)\n",
    "x,y,z=(0.4,-0.1,0.4)\n",
    "v,w,q = (0.1,0.3,-0.2)\n",
    "arrow3d((x,y,z), (x+v,y+w,z+q), 0.5, ax=ax).show()"
   ]
  },
  {
   "cell_type": "code",
   "execution_count": null,
   "metadata": {},
   "outputs": [],
   "source": []
  }
 ],
 "metadata": {
  "kernelspec": {
   "display_name": "SageMath 9.0",
   "language": "sage",
   "name": "sagemath"
  },
  "language_info": {
   "codemirror_mode": {
    "name": "ipython",
    "version": 3
   },
   "file_extension": ".py",
   "mimetype": "text/x-python",
   "name": "python",
   "nbconvert_exporter": "python",
   "pygments_lexer": "ipython3",
   "version": "3.8.10"
  }
 },
 "nbformat": 4,
 "nbformat_minor": 4
}
