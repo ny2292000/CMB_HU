{
 "cells": [
  {
   "cell_type": "code",
   "execution_count": null,
   "id": "52b99357-87f3-46e1-89dd-b17079f2ee56",
   "metadata": {},
   "outputs": [],
   "source": [
    "import healpy as hp\n",
    "import numpy as np\n",
    "import matplotlib.pyplot as plt\n",
    "\n",
    "# --------------------------------------------------\n",
    "# 1. Parameters\n",
    "# --------------------------------------------------\n",
    "nside = 64\n",
    "# Maximum multipole to simulate.\n",
    "lmax  = 3 * nside - 1   # ~ 191 for nside=64\n",
    "\n",
    "# --------------------------------------------------\n",
    "# 2. Define a theoretical power spectrum Cl\n",
    "#    Here we do a simple power-law: Cl ~ (l+1)^-2, for demonstration.\n",
    "#    In real CMB codes, Cl would come from CAMB, CLASS, or your own model.\n",
    "# --------------------------------------------------\n",
    "ell = np.arange(lmax+1)\n",
    "# Avoid zero-l case in the exponent, so start from l=1\n",
    "# We'll define something like: C_ell = A * (l+1)^alpha\n",
    "# You can tune A and alpha to shape the power spectrum\n",
    "A     = 1e-5     # amplitude factor\n",
    "alpha = 2.0      # power-law index\n",
    "Cl_theory = A / (ell + 1.0)**alpha\n",
    "Cl_theory[0] = 0.0  # for l=0 we can set 0 to avoid infinite or meaningless value\n",
    "\n",
    "# --------------------------------------------------\n",
    "# 3. Generate a random map from this power spectrum\n",
    "#    hp.synfast uses the Cl array to create random alm, then transform to a map.\n",
    "# --------------------------------------------------\n",
    "map_syn = hp.synfast(Cl_theory, nside, lmax=lmax, pol=False, new=True)\n",
    "\n",
    "# --------------------------------------------------\n",
    "# 4. Plot the generated map (Mollweide projection)\n",
    "# --------------------------------------------------\n",
    "hp.mollview(map_syn, title='Simulated Spherical Harmonics Map (nside={})'.format(nside))\n",
    "plt.show()\n",
    "\n",
    "# --------------------------------------------------\n",
    "# 5. Compute the angular power spectrum of the map\n",
    "#    This should match the input Cl_theory on average\n",
    "# --------------------------------------------------\n",
    "Cl_measured = hp.anafast(map_syn, lmax=lmax)\n",
    "ell_arr     = np.arange(len(Cl_measured))\n",
    "\n",
    "# --------------------------------------------------\n",
    "# 6. Compare input vs measured power spectra\n",
    "# --------------------------------------------------\n",
    "plt.figure(figsize=(7,5))\n",
    "plt.loglog(ell[1:], Cl_theory[1:], 'r-', label='Input Power Spectrum')\n",
    "plt.loglog(ell_arr[1:], Cl_measured[1:], 'b.', label='Measured from Map')\n",
    "plt.xlabel(r'$\\ell$')\n",
    "plt.ylabel(r'$C_\\ell$')\n",
    "plt.title('Input vs. Measured Power Spectrum')\n",
    "plt.legend()\n",
    "plt.show()\n"
   ]
  },
  {
   "cell_type": "code",
   "execution_count": null,
   "id": "5f613315-829b-4ab9-8642-9c6698951672",
   "metadata": {},
   "outputs": [],
   "source": []
  }
 ],
 "metadata": {
  "kernelspec": {
   "display_name": "Python [conda env:Cosmos3020]",
   "language": "python",
   "name": "conda-env-Cosmos3020-py"
  },
  "language_info": {
   "codemirror_mode": {
    "name": "ipython",
    "version": 3
   },
   "file_extension": ".py",
   "mimetype": "text/x-python",
   "name": "python",
   "nbconvert_exporter": "python",
   "pygments_lexer": "ipython3",
   "version": "3.11.9"
  }
 },
 "nbformat": 4,
 "nbformat_minor": 5
}
