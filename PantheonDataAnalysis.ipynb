{
 "cells": [
  {
   "cell_type": "code",
   "execution_count": null,
   "id": "9fb28dd0-88f1-45c6-961e-e222a522787c",
   "metadata": {},
   "outputs": [],
   "source": [
    "!ls \"./DataPantheon/\""
   ]
  },
  {
   "cell_type": "code",
   "execution_count": null,
   "id": "2179d3c7-cd18-46c5-9f92-11e1df480cf5",
   "metadata": {},
   "outputs": [],
   "source": [
    "import pandas as pd\n",
    "import numpy as np\n",
    "from astropy import constants as cc\n",
    "from astropy import units as uu\n",
    "import matplotlib.pyplot as plt\n",
    "\n",
    "plt.rcParams['figure.figsize'] = [12, 8]\n",
    "plt.rcParams['figure.dpi'] = 100 # 200 e.g. is really fine, but slower\n",
    "plt.rcParams['font.size'] = 18 \n",
    "\n",
    "# Load the data from the CSV file\n",
    "df = pd.read_csv(\"./DataPantheon/full_input.csv\")  # Update the path to where your actual data file is located\n",
    "df = df.sort_values(\"zCMB\")\n",
    "# Rename the first column from \"Unnamed: 0\" to \"name\"\n",
    "df.rename(columns={'Unnamed: 0': 'name'}, inplace=True)\n",
    "\n",
    "# Verify the updated column names\n",
    "print(df.columns)\n",
    "\n",
    "\n",
    "# Assuming df is already loaded with the data from your CSV file\n",
    "# Define the absolute magnitude for Type Ia supernovae\n",
    "absolute_magnitude = -19.3  # Standard absolute magnitude for Type Ia supernovae\n",
    "\n",
    "# Calculate the luminosity distance in megaparsecs and then convert to light years\n",
    "# Define the absolute magnitude for Type Ia supernovae\n",
    "absolute_magnitude = -19.3\n",
    "df['luminosity_distance_Mpc'] = 10 ** ((df['mB'] - absolute_magnitude + 5) / 5)/1E6 \n",
    "\n",
    "# Convert each distance from Mpc to light-years using a list comprehension\n",
    "df['luminosity_distance_lyr'] = [(d* uu.Mpc).to(uu.lyr).value for d in df['luminosity_distance_Mpc']]\n",
    "\n",
    "# Display the first few rows of the dataframe to verify the calculations\n",
    "print(df[['zCMB', 'mB', 'luminosity_distance_lyr']].head())\n",
    "\n",
    "R0 = 13.8E9\n",
    "\n",
    "# Ensure your DataFrame 'df' has the 'zCMB' and 'luminosity_distance_lyr' columns calculated\n",
    "# Plotting redshift vs. luminosity distance in light-years\n",
    "plt.figure(figsize=(10, 6))\n",
    "plt.scatter(df['zCMB'], df['luminosity_distance_lyr']/R0, color='blue', s=10)  # s is the marker size\n",
    "plt.xlabel('Redshift (zCMB)')\n",
    "plt.ylabel('Normalized Luminosity Distance \\n (fraction of $R_0$)')\n",
    "plt.title('Luminosity Distance vs. Redshift')\n",
    "plt.grid(True)\n",
    "# plt.xscale('log')  # Optional: Use logarithmic scale for better visualization if needed\n",
    "# plt.yscale('lin')\n",
    "plt.savefig(\"./Drawing_For_Publications/PantheonSN1a.png\")\n",
    "plt.show()\n",
    "\n",
    "\n"
   ]
  },
  {
   "cell_type": "markdown",
   "id": "8b399392-62ea-4462-a37a-4d88c37c0b5a",
   "metadata": {},
   "source": [
    "# HU MODELING\n"
   ]
  },
  {
   "cell_type": "code",
   "execution_count": null,
   "id": "d4ec9cdd-ebee-4bbd-bb24-89c20c8cafec",
   "metadata": {},
   "outputs": [],
   "source": [
    "# first calculate radii for each SN1a using R(z) = 1/(1+z)\n",
    "# second scale each photometric distance by R(z)**{-1.5)\n",
    "R0 = 13.8E9\n",
    "alpha = 1.5\n",
    "df[\"GravitationalScalingFactor\"] = (1+df.zCMB)**(-alpha)\n",
    "df[\"HU_Distance_Pantheon\"] = df.GravitationalScalingFactor *df.luminosity_distance_lyr/R0\n",
    "\n",
    "HubbleConstant = np.round( (cc.c/(R0*uu.lyr)).to(uu.km/uu.s/uu.Mpc),2)\n",
    "\n",
    "# Ensure your DataFrame 'df' has the 'zCMB' and 'luminosity_distance_lyr' columns calculated\n",
    "# Plotting redshift vs. luminosity distance in light-years\n",
    "plt.figure(figsize=(10, 6))\n",
    "# Plotting the HU_Distance_Pantheon against redshift\n",
    "plt.scatter(df['zCMB'], df['HU_Distance_Pantheon'], color='red', label='HU Distance (fraction of $R_0$)', s=5)  # s is the marker size\n",
    "\n",
    "# Assuming you want to plot zCMB / (1 + zCMB) and label it properly\n",
    "plt.plot(df['zCMB'], df['zCMB'] / (1 + df['zCMB']), color='blue', label='d(z) = z / (1 + z)')\n",
    "\n",
    "plt.xlabel('Redshift (zCMB)')\n",
    "plt.ylabel('Normalized Distance')\n",
    "label = f'Pantheon Data for $R_0$= {R0/1E9} GLY, \\n $H_0$={HubbleConstant}  and $\\\\alpha$={alpha} \\n Corrected Normalized Distance vs. Redshift'\n",
    "print(label)\n",
    "plt.title(label)\n",
    "plt.grid(True)\n",
    "plt.legend()\n",
    "# plt.xscale('log')  # Optional: Use logarithmic scale for better visualization if needed\n",
    "plt.yscale('log')\n",
    "\n",
    "# Saving the plot to a file\n",
    "plt.savefig(\"./Drawing_For_Publications/PantheonSN1aHU.png\")\n",
    "plt.show()\n"
   ]
  },
  {
   "cell_type": "code",
   "execution_count": null,
   "id": "84aba73e-8e58-4b92-b30f-b8ba41dfc22f",
   "metadata": {},
   "outputs": [],
   "source": [
    "np.round( (cc.c/(14.37*uu.lyr)).to(uu.km/uu.s/uu.Mpc),2)"
   ]
  },
  {
   "cell_type": "code",
   "execution_count": null,
   "id": "bd9b1ca1-a82b-44e5-853d-8022051ff2ec",
   "metadata": {},
   "outputs": [],
   "source": []
  },
  {
   "cell_type": "code",
   "execution_count": null,
   "id": "6f87e907-4cc3-4623-99a0-de318004322d",
   "metadata": {},
   "outputs": [],
   "source": []
  }
 ],
 "metadata": {
  "kernelspec": {
   "display_name": "Python [conda env:Cosmos3020]",
   "language": "python",
   "name": "conda-env-Cosmos3020-py"
  },
  "language_info": {
   "codemirror_mode": {
    "name": "ipython",
    "version": 3
   },
   "file_extension": ".py",
   "mimetype": "text/x-python",
   "name": "python",
   "nbconvert_exporter": "python",
   "pygments_lexer": "ipython3",
   "version": "3.10.13"
  }
 },
 "nbformat": 4,
 "nbformat_minor": 5
}
