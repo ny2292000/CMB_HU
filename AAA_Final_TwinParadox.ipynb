{
 "cells": [
  {
   "cell_type": "code",
   "execution_count": null,
   "id": "9103723f",
   "metadata": {},
   "outputs": [],
   "source": [
    "from sympy import symbols, cosh, integrate, atanh, solve, simplify, Abs, Piecewise, diff, limit, asin\n",
    "import sympy as sp\n",
    "\n",
    "# Define new symbols for acceleration (a), speed of light (c), velocity (v), time (t) and t1\n",
    "a, c, v, t, t0 = symbols('a c v t t0', real=True, positive=True)\n",
    "\n",
    "# Update the definition of alpha(t) for variable acceleration using tanh\n",
    "alpha_t = atanh(a * t / c)\n",
    "\n",
    "# Update the integral expression using cosh from the updated alpha(t)\n",
    "integral_expr_varying_alpha = 1 / cosh(alpha_t)\n",
    "\n",
    "# Compute the definite integral from 0 to t0\n",
    "integral_result_varying_alpha = integrate(integral_expr_varying_alpha, (t, 0, t0))\n",
    "\n",
    "# We need to make sure that a*t < c (for the velocity to be less than the speed of light) and a != 0\n",
    "# Applying these conditions to the integral result\n",
    "assumptions = (a != 0) & (a * t0 < c)  # assuming maximum a*t1 is less than c\n",
    "\n",
    "# Simplify the result under these assumptions\n",
    "simplified_integral = simplify(integral_result_varying_alpha.subs(a * t1 < c, True))\n",
    "simplified_integral\n"
   ]
  },
  {
   "cell_type": "code",
   "execution_count": null,
   "id": "be03ea7b",
   "metadata": {},
   "outputs": [],
   "source": [
    "aa= diff(simplified_integral, t0).simplify()\n",
    "aa"
   ]
  },
  {
   "cell_type": "code",
   "execution_count": null,
   "id": "98e701d1",
   "metadata": {},
   "outputs": [],
   "source": [
    "limit(asin(x)/x, x, sp.oo)"
   ]
  },
  {
   "cell_type": "code",
   "execution_count": null,
   "id": "0ae2eac6",
   "metadata": {},
   "outputs": [],
   "source": [
    "x, k = symbols(\"x k\")\n",
    "b = aa.subs(t1, c*x/a).simplify()\n",
    "b"
   ]
  },
  {
   "cell_type": "code",
   "execution_count": null,
   "id": "b02fac19",
   "metadata": {},
   "outputs": [],
   "source": [
    "# Time dilation during accelerated section with a duration of ONE DAY\n",
    "simplified_integral.subs(a*t1, 0.9999*c).subs(t1,24*3600).subs(c/a, 24*3600)/(24*3600)"
   ]
  },
  {
   "cell_type": "code",
   "execution_count": null,
   "id": "939b1616",
   "metadata": {},
   "outputs": [],
   "source": [
    "simplified_integral = simplified_integral.subs(t1, v/a)\n",
    "simplified_integral\n"
   ]
  },
  {
   "cell_type": "code",
   "execution_count": null,
   "id": "2bbc936a",
   "metadata": {},
   "outputs": [],
   "source": [
    "# Time dilation during coasting section with a duration of 10 YEARS\n",
    "DeltaTau = 10*365/np.sqrt(1-0.9999**2)\n",
    "DeltaTau"
   ]
  },
  {
   "cell_type": "code",
   "execution_count": null,
   "id": "560216bd",
   "metadata": {},
   "outputs": [],
   "source": [
    "#Duration on Spacecraft\n",
    "DeltaT = 1+2+1 + 2*10*365\n",
    "print(f\"{DeltaT/365:.2f}\")"
   ]
  },
  {
   "cell_type": "code",
   "execution_count": null,
   "id": "a009989f",
   "metadata": {},
   "outputs": [],
   "source": [
    "#Duration on Earth\n",
    "DeltaTau = 4 * simplified_integral.subs(a*t1, 0.9999*c).subs(t1,24*3600).subs(c/a, 24*3600)/(24*3600) +2*10*365/np.sqrt(1-0.9999**2)\n",
    "print(f\"{DeltaTau/365:.2f}\")"
   ]
  },
  {
   "cell_type": "code",
   "execution_count": null,
   "id": "db800edf",
   "metadata": {},
   "outputs": [],
   "source": []
  }
 ],
 "metadata": {
  "kernelspec": {
   "display_name": "Python [conda env:Cosmos3020]",
   "language": "python",
   "name": "conda-env-Cosmos3020-py"
  },
  "language_info": {
   "codemirror_mode": {
    "name": "ipython",
    "version": 3
   },
   "file_extension": ".py",
   "mimetype": "text/x-python",
   "name": "python",
   "nbconvert_exporter": "python",
   "pygments_lexer": "ipython3",
   "version": "3.11.8"
  }
 },
 "nbformat": 4,
 "nbformat_minor": 5
}
