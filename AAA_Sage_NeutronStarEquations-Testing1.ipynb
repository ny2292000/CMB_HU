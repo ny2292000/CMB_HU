{
 "cells": [
  {
   "cell_type": "markdown",
   "metadata": {},
   "source": [
    "Sound velocity bound and neutron stars\n",
    "\n",
    "Paulo Bedaque\n",
    "\n",
    "Department of Physics, University of Maryland College Park, Maryland 20742, USA\n",
    "\n",
    "Andrew W. Steiner\n",
    "\n",
    "Institute for Nuclear Theory, University of Washington Seattle, Washington 98195, USA\n",
    "\n",
    "Department of Physics and Astronomy, University of Tennessee, Knoxville, Tennessee 37996, USA and\n",
    "\n",
    "Physics Division, Oak Ridge National Laboratory, Oak Ridge, Tennessee 37831, USA"
   ]
  },
  {
   "cell_type": "code",
   "execution_count": 19,
   "metadata": {},
   "outputs": [
    {
     "data": {
      "text/plain": [
       "(A0, A, B, C, T0, K, S, L, h, mu, c, hbar)"
      ]
     },
     "execution_count": 19,
     "metadata": {},
     "output_type": "execute_result"
    }
   ],
   "source": [
    "import numpy as np\n",
    "from astropy import units as uu\n",
    "from astropy import constants as cc\n",
    "var (\"x\", \"y\", \"eta\", \"n\", \"n0\", \"eta_L\", \"gamma\", \"alpha\", \"alpha_L\", \"frac\", \"xx\", \"MN\", \"MP\",\"ME\", \"MNE\", \"EK\")\n",
    "var (\"A0\",  \"A\", \"B\", \"C\", \"T0\", \"K\", \"S\", \"L\", \"h\", \"mu\", \"c\", \"hbar\")"
   ]
  },
  {
   "cell_type": "code",
   "execution_count": 20,
   "metadata": {},
   "outputs": [],
   "source": [
    "\n",
    "# K=235.0*uu.MeV\n",
    "# B=16.0*uu.MeV\n",
    "# L=50.0*uu.MeV\n",
    "# S=32.0*uu.MeV\n",
    "# MP= (cc.m_p*cc.c**2).to(\"MeV\")\n",
    "# MN= (cc.m_n*cc.c**2).to(\"MeV\")\n",
    "# ME= (cc.m_e*cc.c**2).to(\"MeV\")\n",
    "# pi= np.pi\n",
    "# n0=0.16/uu.fm/uu.fm/uu.fm\n",
    "# # n0=0.054/uu.fm**3\n",
    "# hydrogenatom=cc.m_p+cc.m_e\n",
    "# # T0=((3*np.pi**2*n0/2)**(2/3)*cc.hbar**2/(2*cc.m_n)).to(\"MeV\")\n",
    "# hydrogenatomwavelength = (cc.h/(hydrogenatom*cc.c)).si\n",
    "# hydrogenatomwavelength, T0, K, B, L,S,MP, MN, ME\n",
    "\n",
    "\n",
    "\n",
    "# alpha = -2*(5*B*K - 3*(4*B - K)*T0)/(5*(9*B - K)*T0 + 3*T0**2)\n",
    "# eta = -18/5*(25*B**2 + 10*B*T0 + T0**2)/(5*(9*B - K)*T0 + 3*T0**2)\n",
    "# gamma = 1/9*(5*K + 6*T0)/(5*B + T0)\n",
    "# alpha_L= 1.2\n",
    "# eta_L= 0.65\n",
    "\n",
    "\n",
    "# # alpha = -2*(5*B*K - 3*(4*B - K)*T0)/(5*(9*B - K)*T0 + 3*T0**2)\n",
    "# # eta = -18/5*(25*B**2 + 10*B*T0 + T0**2)/(5*(9*B - K)*T0 + 3*T0**2)\n",
    "# # gamma = 1/9*(5*K + 6*T0)/(5*B + T0)\n",
    "# # eta_L = -1/5*(225*B**2 + 75*B*L + 5*(23*B + 3*L)*T0 + 14*T0**2)/(5*(9*B - K)*T0 + 3*T0**2)\n",
    "# # alpha_L = 1/6*(3*T0*alpha - 3*T0*eta + 6*T0*eta_L - 6*S + 2*T0)/T0\n",
    "# print(alpha, eta, gamma,eta_L,alpha_L, T0, n0)"
   ]
  },
  {
   "cell_type": "code",
   "execution_count": 21,
   "metadata": {
    "scrolled": true
   },
   "outputs": [
    {
     "data": {
      "text/html": [
       "<html><script type=\"math/tex; mode=display\">\\newcommand{\\Bold}[1]{\\mathbf{#1}}\\verb|EKy|\\phantom{\\verb!x!}\\verb|=| \\frac{3}{5} \\cdot 2^{\\frac{2}{3}} {\\left(x^{\\frac{5}{3}} + {\\left(-x + 1\\right)}^{\\frac{5}{3}}\\right)} T_{0} y^{\\frac{2}{3}} + {\\left(2 \\, {\\left(\\alpha - 2 \\, \\alpha_{L}\\right)} {\\left(x - 1\\right)} x - \\alpha_{L}\\right)} T_{0} y - {\\left(2 \\, {\\left(\\eta - 2 \\, \\eta_{L}\\right)} {\\left(x - 1\\right)} x - \\eta_{L}\\right)} T_{0} y^{\\gamma}</script></html>"
      ],
      "text/plain": [
       "'EKy = ' 3/5*2^(2/3)*(x^(5/3) + (-x + 1)^(5/3))*T0*y^(2/3) + (2*(alpha - 2*alpha_L)*(x - 1)*x - alpha_L)*T0*y - (2*(eta - 2*eta_L)*(x - 1)*x - eta_L)*T0*y^gamma"
      ]
     },
     "metadata": {},
     "output_type": "display_data"
    }
   ],
   "source": [
    "EKy =  T0*3/5*((x^(5/3) + (-x + 1)^(5/3))*(2*y)^(2/3)) \\\n",
    "    +  T0*(2*(eta - 2*eta_L)*(1-x)*x + eta_L)*(y)^gamma \\\n",
    "    - T0*(2*(alpha - 2*alpha_L)*(1-x)*x + alpha_L)*y\n",
    "EK=EKy.subs(y==n/n0) \n",
    "pretty_print(\"EKy = \", EKy)"
   ]
  },
  {
   "cell_type": "code",
   "execution_count": 22,
   "metadata": {},
   "outputs": [
    {
     "data": {
      "text/html": [
       "<html><script type=\"math/tex; mode=display\">\\newcommand{\\Bold}[1]{\\mathbf{#1}}\\verb|EK|\\phantom{\\verb!x!}\\verb|=| \\frac{3}{5} \\cdot 2^{\\frac{2}{3}} {\\left(x^{\\frac{5}{3}} + {\\left(-x + 1\\right)}^{\\frac{5}{3}}\\right)} T_{0} \\left(\\frac{n}{n_{0}}\\right)^{\\frac{2}{3}} - {\\left(2 \\, {\\left(\\eta - 2 \\, \\eta_{L}\\right)} {\\left(x - 1\\right)} x - \\eta_{L}\\right)} T_{0} \\left(\\frac{n}{n_{0}}\\right)^{\\gamma} + \\frac{{\\left(2 \\, {\\left(\\alpha - 2 \\, \\alpha_{L}\\right)} {\\left(x - 1\\right)} x - \\alpha_{L}\\right)} T_{0} n}{n_{0}}</script></html>"
      ],
      "text/plain": [
       "'EK = ' 3/5*2^(2/3)*(x^(5/3) + (-x + 1)^(5/3))*T0*(n/n0)^(2/3) - (2*(eta - 2*eta_L)*(x - 1)*x - eta_L)*T0*(n/n0)^gamma + (2*(alpha - 2*alpha_L)*(x - 1)*x - alpha_L)*T0*n/n0"
      ]
     },
     "metadata": {},
     "output_type": "display_data"
    }
   ],
   "source": [
    "pretty_print(\"EK = \", EK)"
   ]
  },
  {
   "cell_type": "code",
   "execution_count": 23,
   "metadata": {},
   "outputs": [
    {
     "data": {
      "text/html": [
       "<html><script type=\"math/tex; mode=display\">\\newcommand{\\Bold}[1]{\\mathbf{#1}}-\\frac{1}{5} \\, {\\left(\\frac{5 \\, {\\left(2 \\, {\\left(\\eta - 2 \\, \\eta_{L}\\right)} {\\left(x - 1\\right)} x - \\eta_{L}\\right)} T_{0} \\gamma y^{\\gamma - 1}}{n_{0}} - \\frac{2 \\cdot 2^{\\frac{2}{3}} {\\left(x^{\\frac{5}{3}} + {\\left(-x + 1\\right)}^{\\frac{5}{3}}\\right)} T_{0}}{n_{0} y^{\\frac{1}{3}}} - \\frac{5 \\, {\\left(2 \\, {\\left(\\alpha - 2 \\, \\alpha_{L}\\right)} {\\left(x - 1\\right)} x - \\alpha_{L}\\right)} T_{0}}{n_{0}}\\right)} n_{0}^{2} y^{2}</script></html>"
      ],
      "text/plain": [
       "-1/5*(5*(2*(eta - 2*eta_L)*(x - 1)*x - eta_L)*T0*gamma*y^(gamma - 1)/n0 - 2*2^(2/3)*(x^(5/3) + (-x + 1)^(5/3))*T0/(n0*y^(1/3)) - 5*(2*(alpha - 2*alpha_L)*(x - 1)*x - alpha_L)*T0/n0)*n0^2*y^2"
      ]
     },
     "metadata": {},
     "output_type": "display_data"
    }
   ],
   "source": [
    "Pressure_n = n**2*diff(EK,n)\n",
    "Pressurey=Pressure_n.subs(n=n0*y)\n",
    "pretty_print(Pressurey)"
   ]
  },
  {
   "cell_type": "markdown",
   "metadata": {},
   "source": [
    "# Solve for parameters"
   ]
  },
  {
   "cell_type": "code",
   "execution_count": 24,
   "metadata": {},
   "outputs": [
    {
     "data": {
      "text/html": [
       "<html><script type=\"math/tex; mode=display\">\\newcommand{\\Bold}[1]{\\mathbf{#1}}\\frac{3}{5} \\cdot 2^{\\frac{2}{3}} \\left(\\frac{1}{2}\\right)^{\\frac{2}{3}} T_{0} - \\frac{1}{2} \\, T_{0} \\alpha + \\frac{1}{2} \\, T_{0} \\eta + B = 0</script></html>"
      ],
      "text/plain": [
       "3/5*2^(2/3)*(1/2)^(2/3)*T0 - 1/2*T0*alpha + 1/2*T0*eta + B == 0"
      ]
     },
     "metadata": {},
     "output_type": "display_data"
    }
   ],
   "source": [
    "A1 = EK.subs(n=n0,x=1/2) + B ==0  # energy =-B\n",
    "A1=A1.expand()\n",
    "pretty_print(A1)"
   ]
  },
  {
   "cell_type": "code",
   "execution_count": 25,
   "metadata": {},
   "outputs": [
    {
     "data": {
      "text/html": [
       "<html><script type=\"math/tex; mode=display\">\\newcommand{\\Bold}[1]{\\mathbf{#1}}\\frac{1}{2} \\, \\eta \\gamma - \\frac{1}{2} \\, \\alpha + \\frac{2}{5} = 0</script></html>"
      ],
      "text/plain": [
       "1/2*eta*gamma - 1/2*alpha + 2/5 == 0"
      ]
     },
     "metadata": {},
     "output_type": "display_data"
    }
   ],
   "source": [
    "A2 = Pressurey.subs(y=1, x=1/2)==0   # Pressurey =0\n",
    "A2=A2.expand().simplify()\n",
    "pretty_print((A2/T0/n0).full_simplify())"
   ]
  },
  {
   "cell_type": "code",
   "execution_count": 26,
   "metadata": {},
   "outputs": [],
   "source": [
    "# incorrect contraint from Bedaque\n",
    "# A3 = (9*n0*diff(n*EK,n,2)).subs(n=n0,x=1/2) ==K  # 9 n0 diff(EK,n,2)=K\n",
    "# A3 = A3.expand()\n",
    "# pretty_print(A3.full_simplify())"
   ]
  },
  {
   "cell_type": "code",
   "execution_count": 27,
   "metadata": {},
   "outputs": [
    {
     "data": {
      "text/html": [
       "<html><script type=\"math/tex; mode=display\">\\newcommand{\\Bold}[1]{\\mathbf{#1}}\\frac{9}{2} \\, T_{0} \\eta \\gamma^{2} - \\frac{9}{2} \\, T_{0} \\eta \\gamma - \\frac{6}{5} \\cdot 2^{\\frac{2}{3}} \\left(\\frac{1}{2}\\right)^{\\frac{2}{3}} T_{0} = K</script></html>"
      ],
      "text/plain": [
       "9/2*T0*eta*gamma^2 - 9/2*T0*eta*gamma - 6/5*2^(2/3)*(1/2)^(2/3)*T0 == K"
      ]
     },
     "metadata": {},
     "output_type": "display_data"
    }
   ],
   "source": [
    "A3 = (9*diff(EKy,y,2)).subs(y=1,x=1/2) ==K  # 9 n0 diff(EK,n,2)=K\n",
    "A3 = A3.expand()\n",
    "pretty_print(A3)"
   ]
  },
  {
   "cell_type": "code",
   "execution_count": 28,
   "metadata": {},
   "outputs": [
    {
     "name": "stdout",
     "output_type": "stream",
     "text": [
      "EKy =  3/5*2^(2/3)*(x^(5/3) + (-x + 1)^(5/3))*T0*y^(2/3) + (2*(alpha - 2*alpha_L)*(x - 1)*x - alpha_L)*T0*y - (2*(eta - 2*eta_L)*(x - 1)*x - eta_L)*T0*y^gamma\n",
      "P =  -1/5*(5*(2*(eta - 2*eta_L)*(x - 1)*x - eta_L)*T0*gamma*y^(gamma - 1)/n0 - 2*2^(2/3)*(x^(5/3) + (-x + 1)^(5/3))*T0/(n0*y^(1/3)) - 5*(2*(alpha - 2*alpha_L)*(x - 1)*x - alpha_L)*T0/n0)*n0^2*y^2\n",
      "dEKy_x =  2^(2/3)*T0*y^(2/3)*(x^(2/3) - (-x + 1)^(2/3)) + 2*((alpha - 2*alpha_L)*(x - 1) + (alpha - 2*alpha_L)*x)*T0*y - 2*((eta - 2*eta_L)*(x - 1) + (eta - 2*eta_L)*x)*T0*y^gamma\n"
     ]
    },
    {
     "data": {
      "text/html": [
       "<html><script type=\"math/tex; mode=display\">\\newcommand{\\Bold}[1]{\\mathbf{#1}}\\alpha = -\\frac{2 \\, {\\left(5 \\, B K - 3 \\, {\\left(4 \\, B - K\\right)} T_{0}\\right)}}{5 \\, {\\left(9 \\, B - K\\right)} T_{0} + 3 \\, T_{0}^{2}}</script></html>"
      ],
      "text/plain": [
       "alpha == -2*(5*B*K - 3*(4*B - K)*T0)/(5*(9*B - K)*T0 + 3*T0^2)"
      ]
     },
     "metadata": {},
     "output_type": "display_data"
    },
    {
     "data": {
      "text/html": [
       "<html><script type=\"math/tex; mode=display\">\\newcommand{\\Bold}[1]{\\mathbf{#1}}\\eta = -\\frac{18 \\, {\\left(25 \\, B^{2} + 10 \\, B T_{0} + T_{0}^{2}\\right)}}{5 \\, {\\left(5 \\, {\\left(9 \\, B - K\\right)} T_{0} + 3 \\, T_{0}^{2}\\right)}}</script></html>"
      ],
      "text/plain": [
       "eta == -18/5*(25*B^2 + 10*B*T0 + T0^2)/(5*(9*B - K)*T0 + 3*T0^2)"
      ]
     },
     "metadata": {},
     "output_type": "display_data"
    },
    {
     "data": {
      "text/html": [
       "<html><script type=\"math/tex; mode=display\">\\newcommand{\\Bold}[1]{\\mathbf{#1}}\\gamma = \\frac{5 \\, K + 6 \\, T_{0}}{9 \\, {\\left(5 \\, B + T_{0}\\right)}}</script></html>"
      ],
      "text/plain": [
       "gamma == 1/9*(5*K + 6*T0)/(5*B + T0)"
      ]
     },
     "metadata": {},
     "output_type": "display_data"
    },
    {
     "name": "stdout",
     "output_type": "stream",
     "text": [
      "alpha == -2*(5*B*K - 3*(4*B - K)*T0)/(5*(9*B - K)*T0 + 3*T0^2)\n",
      "eta == -18/5*(25*B^2 + 10*B*T0 + T0^2)/(5*(9*B - K)*T0 + 3*T0^2)\n",
      "gamma == 1/9*(5*K + 6*T0)/(5*B + T0)\n"
     ]
    }
   ],
   "source": [
    "# print(\"EK = \",EK) \n",
    "print(\"EKy = \", EKy)\n",
    "print(\"P = \", Pressurey)\n",
    "dEKy_x = diff(EKy,x)\n",
    "print(\"dEKy_x = \",dEKy_x)\n",
    "\n",
    "aa = [A1,A2,A3]\n",
    "aout = solve(aa, alpha, eta, gamma)\n",
    "for i in np.arange(3):\n",
    "    pretty_print(aout[0][i])\n",
    "    \n",
    "for i in np.arange(3):\n",
    "    print(aout[0][i])"
   ]
  },
  {
   "cell_type": "code",
   "execution_count": 29,
   "metadata": {},
   "outputs": [
    {
     "data": {
      "text/html": [
       "<html><script type=\"math/tex; mode=display\">\\newcommand{\\Bold}[1]{\\mathbf{#1}}\\frac{1}{2} \\, T_{0} \\alpha - T_{0} \\alpha_{L} - \\frac{1}{2} \\, T_{0} \\eta + T_{0} \\eta_{L} + \\frac{1}{3} \\, T_{0} = S</script></html>"
      ],
      "text/plain": [
       "1/2*T0*alpha - T0*alpha_L - 1/2*T0*eta + T0*eta_L + 1/3*T0 == S"
      ]
     },
     "metadata": {},
     "output_type": "display_data"
    }
   ],
   "source": [
    "# Now to complete alpha_L and eta_L\n",
    "A4 = (1/(8*n0)*diff(n*EK,x,2)==S).subs(n=n0,x=1/2)\n",
    "A4=A4.full_simplify()\n",
    "pretty_print(A4)"
   ]
  },
  {
   "cell_type": "code",
   "execution_count": 30,
   "metadata": {},
   "outputs": [
    {
     "data": {
      "text/html": [
       "<html><script type=\"math/tex; mode=display\">\\newcommand{\\Bold}[1]{\\mathbf{#1}}\\frac{3}{2} \\, T_{0} \\alpha - 3 \\, T_{0} \\alpha_{L} - \\frac{3}{2} \\, {\\left(T_{0} \\eta - 2 \\, T_{0} \\eta_{L}\\right)} \\gamma + \\frac{2}{3} \\, T_{0} = L</script></html>"
      ],
      "text/plain": [
       "3/2*T0*alpha - 3*T0*alpha_L - 3/2*(T0*eta - 2*T0*eta_L)*gamma + 2/3*T0 == L"
      ]
     },
     "metadata": {},
     "output_type": "display_data"
    }
   ],
   "source": [
    "A5= (3*n0/8*diff(diff(EK,x,2),n)==L).subs(n=n0,x=1/2).simplify_full()\n",
    "pretty_print(A5)"
   ]
  },
  {
   "cell_type": "code",
   "execution_count": 31,
   "metadata": {},
   "outputs": [
    {
     "data": {
      "text/html": [
       "<html><script type=\"math/tex; mode=display\">\\newcommand{\\Bold}[1]{\\mathbf{#1}}\\alpha_{L} = \\frac{9 \\, T_{0} \\alpha {\\left(\\gamma - 1\\right)} + 2 \\, T_{0} {\\left(3 \\, \\gamma - 2\\right)} - 18 \\, S \\gamma + 6 \\, L}{18 \\, T_{0} {\\left(\\gamma - 1\\right)}}</script></html>"
      ],
      "text/plain": [
       "alpha_L == 1/18*(9*T0*alpha*(gamma - 1) + 2*T0*(3*gamma - 2) - 18*S*gamma + 6*L)/(T0*(gamma - 1))"
      ]
     },
     "metadata": {},
     "output_type": "display_data"
    },
    {
     "data": {
      "text/html": [
       "<html><script type=\"math/tex; mode=display\">\\newcommand{\\Bold}[1]{\\mathbf{#1}}\\eta_{L} = \\frac{9 \\, T_{0} \\eta {\\left(\\gamma - 1\\right)} + 6 \\, L - 18 \\, S + 2 \\, T_{0}}{18 \\, T_{0} {\\left(\\gamma - 1\\right)}}</script></html>"
      ],
      "text/plain": [
       "eta_L == 1/18*(9*T0*eta*(gamma - 1) + 6*L - 18*S + 2*T0)/(T0*(gamma - 1))"
      ]
     },
     "metadata": {},
     "output_type": "display_data"
    },
    {
     "name": "stdout",
     "output_type": "stream",
     "text": [
      "alpha_L == 1/18*(9*T0*alpha*(gamma - 1) + 2*T0*(3*gamma - 2) - 18*S*gamma + 6*L)/(T0*(gamma - 1))\n",
      "eta_L == 1/18*(9*T0*eta*(gamma - 1) + 6*L - 18*S + 2*T0)/(T0*(gamma - 1))\n"
     ]
    }
   ],
   "source": [
    "# Now to complete alpha_L and eta_L\n",
    "aa = [A4,A5]\n",
    "aout = solve(aa, alpha_L, eta_L)\n",
    "for i in np.arange(2):\n",
    "    pretty_print(aout[0][i])\n",
    "    \n",
    "for i in np.arange(2):\n",
    "    print(aout[0][i])"
   ]
  },
  {
   "cell_type": "markdown",
   "metadata": {},
   "source": [
    "# Calculate sound velocity"
   ]
  },
  {
   "cell_type": "code",
   "execution_count": 32,
   "metadata": {},
   "outputs": [
    {
     "data": {
      "text/plain": [
       "(EKy_vs, EKy_vs, EKn_vs, Pressuren_vs, Pressurey_vs, vs)"
      ]
     },
     "execution_count": 32,
     "metadata": {},
     "output_type": "execute_result"
    }
   ],
   "source": [
    "var(\"EKy_vs\", \"EKy_vs\", \"EKn_vs\", \"Pressuren_vs\", \"Pressurey_vs\", \"vs\")"
   ]
  },
  {
   "cell_type": "markdown",
   "metadata": {},
   "source": [
    "# Values from paper\n",
    "\n",
    "alpha= 5.87\n",
    "\n",
    "alphaL= 1.2\n",
    "\n",
    "eta=3.81\n",
    "\n",
    "eta_L= 0.65\n",
    "\n",
    "Bedaque, P. F., & Steiner, A. W. (2015). Sound velocity bound and neutron stars. Physical Review Letters, 114(3), 031103. https://doi.org/10.1103/PhysRevLett.114.031103\n",
    "\n",
    "$$\n",
    "\n",
    "Hebeler, K., Lattimer, J. M., Pethick, C. J., & Schwenk, A. Equation of state and neutron star properties constrained by nuclear physics and observation.\n",
    "$ EKy =  (   \\frac{3}{5}2^{\\frac{2}{3}}(x^{\\frac{5}{3}} + (-x + 1)^{\\frac{5}{3}})y^{\\frac{2}{3}} + (2(\\alpha - 2\\alpha_L)(x - 1)x - \\alpha_L)y - (2(\\eta - 2\\eta_L)(x - 1)x - \\eta_L)y^{\\gamma}  ) T_0 $\n",
    "\n",
    "$ EKy_{withmasses} =  (   \\frac{3}{5}2^{\\frac{2}{3}}(x^{\\frac{5}{3}} + (-x + 1)^{\\frac{5}{3}})y^{\\frac{2}{3}} + (2(\\alpha - 2\\alpha_L)(x - 1)x - \\alpha_L)y - (2(\\eta - 2\\eta_L)(x - 1)x - \\eta_L)y^{\\gamma}  ) T_0 + MN*(1-x)+(MP+ME)*x $\n",
    "\n",
    "$ P =  -\\frac{1}{5}(5(2(\\eta - 2\\eta_L)(x - 1)x - \\eta_L)\\gamma y^{(\\gamma + 1)} - 22^{\\frac{2}{3}}(x^{\\frac{5}{3}} + (-x + 1)^{\\frac{5}{3}})y^{\\frac{5}{3}} - 5(2(\\alpha - 2\\alpha_L)(x - 1)x - \\alpha_L)y^2)  T_0 n_0 $\n",
    "\n",
    "$ P = n^2 \\frac{d\\epsilon(n)}{dn} = (n_0 y)^2 \\frac{d\\epsilon(y)}{n_0 dy} = n_0 y^2 \\frac{d\\epsilon(y)}{dy} $\n",
    "\n",
    "$  \\frac{dP}{dy}=   2 n_0 y \\frac{d\\epsilon(y)}{dy} + n_0 y^2 \\frac{d^2\\epsilon(y)}{dy^2} $\n",
    "\n",
    "$ v_s = \\frac{dP}{d\\epsilon'}= \\frac{dP}{n_0d(y \\epsilon)} = \\frac{1}{n_0}  \\frac{  \\frac{dP}{dy} } { \\epsilon + y\\frac{d\\epsilon}{dy}   } $\n",
    "where \n",
    " $ \\epsilon' = n_0 \\epsilon $\n"
   ]
  },
  {
   "cell_type": "code",
   "execution_count": 33,
   "metadata": {},
   "outputs": [],
   "source": [
    "# Calculate vs 1\n",
    "\n",
    "\n",
    "\n",
    "# Recalculate dEpsilon without Masses\n",
    "dEK_y_nomasses = diff( n0*y*EKy,y)\n",
    "# Recalculate dPressure without Masses\n",
    "dPy_nomasses = diff(Pressurey, y)\n",
    "def vs_nomasses():\n",
    "    return (dPy_nomasses/dEK_y_nomasses).subs(x=0)\n",
    "\n",
    "# Recalculate dEpsilon with Masses\n",
    "EKy_withmasses = EKy + (MN*(1-x)+x*(MP+ME))\n",
    "dEK_y_withmasses = diff( n0*y*EKy_withmasses,y)\n",
    "# Recalculate dPressure with Masses\n",
    "Py_withmasses = n0*y*2*diff(EKy_withmasses,y)\n",
    "dPy_withmasses =  diff(Py_withmasses,y)\n",
    "def vs_withmasses():\n",
    "    return (dPy_withmasses/dEK_y_withmasses) #.subs(x=0)\n",
    "\n",
    "# Recalculate mixed\n",
    "def vs_mixed():\n",
    "    return (dPy_nomasses/dEK_y_withmasses) #.subs(x=0)\n",
    "\n",
    "vs_list = [ vs_nomasses, vs_withmasses, vs_mixed]\n",
    "\n",
    "\n",
    "# def vs(y0,A):\n",
    "#     A = A.subs(\n",
    "#         x=1,\n",
    "#         alpha = 6.503911731520189,\n",
    "#         eta = 4.8740770036227845,\n",
    "#         gamma = 1.1702547430581438,\n",
    "#         eta_L = 0.9014811994186407,\n",
    "#         alpha_L = 1.4533126175063997,\n",
    "#         T0 = 74.44721871713905*20,\n",
    "#         n0 = 1.73,\n",
    "#         MN = 939.5654205203889,\n",
    "#         MP = 938.2720881604905,\n",
    "#         ME = 0.510998)\n",
    "#     return A.subs(y=y0)\n",
    "\n",
    "def vs(y0,A):\n",
    "    A = A.subs(\n",
    "        x=0,\n",
    "        alpha = 6.361862935613103,\n",
    "        eta = 4.715230561512334,\n",
    "        gamma = 1.1795526990793055,\n",
    "        eta_L = 1.7218097292135377,\n",
    "        alpha_L = 2.420566507439575,\n",
    "        T0 = 71.64729172270036*40,\n",
    "        n0 = 0.43429495397,\n",
    "        MN = 939.5654205203889,\n",
    "        MP = 938.2720881604905,\n",
    "        ME = 0.510998)\n",
    "    return A.subs(y=y0)\n",
    "\n",
    "\n",
    "def plotvs(vs_function, title):\n",
    "    import matplotlib.pyplot as plt\n",
    "    x = np.logspace(-5,5,1000)\n",
    "    y = np.array([vs(xx,vs_function()).n() for xx in x])\n",
    "    y = y/y[-1]/3\n",
    "    x = np.array( [xx*939.5654205203889 for xx in x])\n",
    "    fig, ax = plt.subplots()\n",
    "    plt.figure(figsize=(17,9))\n",
    "    ax.plot(x,y)\n",
    "    ax.set_title(\"$V_s^2$ X Density\")\n",
    "    ax.set_ylabel(\"$V_s^2$\")\n",
    "    ax.set_xlabel('Density $MeV/fm^3$')\n",
    "    ax.set_title(str(title))\n",
    "    ax.set_xlim(1E0,1e6)\n",
    "    ax.set_ylim(0,np.max(y))\n",
    "    ax.set_xscale('log')\n",
    "    # ax.set_yscale('log')\n",
    "    plt.show()\n",
    "    \n",
    "    \n",
    "# for vf in vs_list:\n",
    "#     plotvs(vf, vf)    "
   ]
  },
  {
   "cell_type": "code",
   "execution_count": 34,
   "metadata": {},
   "outputs": [
    {
     "data": {
      "image/png": "[encoded data removed]",
      "text/plain": [
       "<Figure size 432x288 with 1 Axes>"
      ]
     },
     "metadata": {
      "needs_background": "light"
     },
     "output_type": "display_data"
    },
    {
     "data": {
      "text/plain": [
       "<Figure size 1224x648 with 0 Axes>"
      ]
     },
     "metadata": {},
     "output_type": "display_data"
    }
   ],
   "source": [
    "plotvs(vs_mixed, \"Sound Velocity Variance\")\n"
   ]
  },
  {
   "cell_type": "code",
   "execution_count": 35,
   "metadata": {},
   "outputs": [
    {
     "data": {
      "text/plain": [
       "1/3*((15*(2*(eta - 2*eta_L)*(x - 1)*x - eta_L)*T0*(gamma - 1)*gamma*y^(gamma - 2)/n0 + 2*2^(2/3)*(x^(5/3) + (-x + 1)^(5/3))*T0/(n0*y^(4/3)))*n0^2*y^2 + 6*(5*(2*(eta - 2*eta_L)*(x - 1)*x - eta_L)*T0*gamma*y^(gamma - 1)/n0 - 2*2^(2/3)*(x^(5/3) + (-x + 1)^(5/3))*T0/(n0*y^(1/3)) - 5*(2*(alpha - 2*alpha_L)*(x - 1)*x - alpha_L)*T0/n0)*n0^2*y)/((5*(2*(eta - 2*eta_L)*(x - 1)*x - eta_L)*T0*gamma*y^(gamma - 1) - 2*2^(2/3)*(x^(5/3) + (-x + 1)^(5/3))*T0/y^(1/3) - 5*(2*(alpha - 2*alpha_L)*(x - 1)*x - alpha_L)*T0)*n0*y - (3*2^(2/3)*(x^(5/3) + (-x + 1)^(5/3))*T0*y^(2/3) + 5*(2*(alpha - 2*alpha_L)*(x - 1)*x - alpha_L)*T0*y - 5*(2*(eta - 2*eta_L)*(x - 1)*x - eta_L)*T0*y^gamma - 5*MN*(x - 1) + 5*(ME + MP)*x)*n0)"
      ]
     },
     "execution_count": 35,
     "metadata": {},
     "output_type": "execute_result"
    }
   ],
   "source": [
    "vs_mixed()"
   ]
  },
  {
   "cell_type": "code",
   "execution_count": null,
   "metadata": {},
   "outputs": [],
   "source": []
  }
 ],
 "metadata": {
  "kernelspec": {
   "display_name": "SageMath 9.0",
   "language": "sage",
   "name": "sagemath"
  },
  "language_info": {
   "codemirror_mode": {
    "name": "ipython",
    "version": 3
   },
   "file_extension": ".py",
   "mimetype": "text/x-python",
   "name": "python",
   "nbconvert_exporter": "python",
   "pygments_lexer": "ipython3",
   "version": "3.8.10"
  }
 },
 "nbformat": 4,
 "nbformat_minor": 4
}
