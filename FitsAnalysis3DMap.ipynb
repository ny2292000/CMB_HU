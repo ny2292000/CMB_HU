{
 "cells": [
  {
   "cell_type": "code",
   "execution_count": 5,
   "metadata": {},
   "outputs": [],
   "source": [
    "%matplotlib inline\n",
    "import parameters\n",
    "import HULib\n",
    "import numpy as np\n",
    "import pandas as pd\n",
    "import glue\n",
    "import matplotlib.pylab as plt\n",
    "import seaborn as sns\n",
    "parameters.glueme = True  # load data to glue for manipulation of the Universe"
   ]
  },
  {
   "cell_type": "markdown",
   "metadata": {},
   "source": [
    "# 3D Map Calculation"
   ]
  },
  {
   "cell_type": "code",
   "execution_count": 2,
   "metadata": {},
   "outputs": [
    {
     "name": "stderr",
     "output_type": "stream",
     "text": [
      "/Users/mp74207/anaconda3/envs/cosmo36/lib/python3.7/site-packages/glue_vispy_viewers/extern/vispy/visuals/line/line.py:397: FutureWarning: Passing (type, 1) or '1type' as a synonym of type is deprecated; in a future version of numpy, it will be understood as (type, (1,)) / '(1,)type'.\n",
      "  ('color', float32, 4)])\n",
      "/Users/mp74207/anaconda3/envs/cosmo36/lib/python3.7/site-packages/glue_vispy_viewers/extern/vispy/visuals/line/arrow.py:55: FutureWarning: Passing (type, 1) or '1type' as a synonym of type is deprecated; in a future version of numpy, it will be understood as (type, (1,)) / '(1,)type'.\n",
      "  ('linewidth', float32, 1)\n",
      "/Users/mp74207/anaconda3/envs/cosmo36/lib/python3.7/site-packages/glue_vispy_viewers/extern/vispy/visuals/markers.py:560: FutureWarning: Passing (type, 1) or '1type' as a synonym of type is deprecated; in a future version of numpy, it will be understood as (type, (1,)) / '(1,)type'.\n",
      "  ('a_edgewidth', float32, 1)])\n"
     ]
    }
   ],
   "source": [
    "gals = ['galaxy_DR12v5_CMASS_North.fits','galaxy_DR12v5_LOWZ_North.fits',\n",
    "       'galaxy_DR12v5_CMASS_South.fits','galaxy_DR12v5_LOWZ_South.fits']\n",
    "\n",
    "gal = parameters.sdssAddress + 'galaxy_DR12v5_CMASS_North.fits';\n",
    "myGalaxy0 = HULib.get_BOSS_data(gal)\n",
    "numGalaxies=myGalaxy0.shape[0]\n",
    "\n",
    "gal = parameters.sdssAddress + 'galaxy_DR12v5_CMASS_South.fits';\n",
    "myGalaxy1 = HULib.get_BOSS_data(gal)\n",
    "numGalaxies1=myGalaxy1.shape[0]\n",
    "\n",
    "gal = parameters.sdssAddress + 'galaxy_DR12v5_LOWZ_North.fits';\n",
    "myGalaxy2 = HULib.get_BOSS_data(gal)\n",
    "numGalaxies2=myGalaxy2.shape[0]\n",
    "\n",
    "gal = parameters.sdssAddress + 'galaxy_DR12v5_LOWZ_South.fits';\n",
    "myGalaxy3 = HULib.get_BOSS_data(gal)\n",
    "numGalaxies3=myGalaxy3.shape[0]\n",
    "\n",
    "myGalaxy= pd.concat([myGalaxy0,myGalaxy1,myGalaxy2,myGalaxy3])\n",
    "\n",
    "\n",
    "# 3D xyz Map\n",
    "df=pd.DataFrame({'Me' : myGalaxy.groupby( [ \"x\", \"y\",'z'] )['Me'].sum()}).reset_index()\n",
    "\n",
    "dfmax=df.Me.max()\n",
    "dfmin=df.Me.min()\n",
    "if parameters.saveme:\n",
    "    df.to_excel(parameters.imgAddress + 'myGalaxyGroupbyxyz.xlsx')\n",
    "\n",
    "if parameters.glueme:\n",
    "    glue.qglue (star=df)"
   ]
  },
  {
   "cell_type": "code",
   "execution_count": 3,
   "metadata": {},
   "outputs": [
    {
     "name": "stdout",
     "output_type": "stream",
     "text": [
      "Center of Mass =  -0.03456428747000981 -0.004809567833377714 0.06000967121871664\n"
     ]
    }
   ],
   "source": [
    "#Are we at the Center of Mass of the wave = Yes\n",
    "mm=df.Me.std()\n",
    "xAv= np.mean(df.x*df.Me)/mm\n",
    "yAv= np.mean(df.y*df.Me)/mm\n",
    "zAv= np.mean(df.z*df.Me)/mm\n",
    "print(\"Center of Mass = \",xAv,yAv,zAv)"
   ]
  },
  {
   "cell_type": "code",
   "execution_count": 4,
   "metadata": {},
   "outputs": [
    {
     "data": {
      "text/plain": [
       "0.06941889188709228"
      ]
     },
     "execution_count": 4,
     "metadata": {},
     "output_type": "execute_result"
    }
   ],
   "source": [
    "np.sqrt(xAv**2+yAv**2+zAv**2)"
   ]
  },
  {
   "cell_type": "code",
   "execution_count": 5,
   "metadata": {},
   "outputs": [
    {
     "name": "stdout",
     "output_type": "stream",
     "text": [
      "Center of Stars =  -0.07777409362599308 -0.011002486802495767 0.13368448147987524\n"
     ]
    }
   ],
   "source": [
    "# Are we at the center of the number of sky (based on the number of stars) = No\n",
    "xAv= np.mean(df.x)\n",
    "yAv= np.mean(df.y)\n",
    "zAv= np.mean(df.z)\n",
    "print(\"Center of Stars = \",xAv,yAv,zAv)"
   ]
  },
  {
   "cell_type": "code",
   "execution_count": 6,
   "metadata": {},
   "outputs": [
    {
     "data": {
      "text/plain": [
       "0.15505291014272174"
      ]
     },
     "execution_count": 6,
     "metadata": {},
     "output_type": "execute_result"
    }
   ],
   "source": [
    "np.sqrt(xAv**2+yAv**2+zAv**2)"
   ]
  },
  {
   "cell_type": "code",
   "execution_count": 7,
   "metadata": {},
   "outputs": [
    {
     "name": "stderr",
     "output_type": "stream",
     "text": [
      "/Users/mp74207/anaconda3/envs/cosmo36/lib/python3.7/site-packages/glue_vispy_viewers/extern/vispy/visuals/markers.py:560: FutureWarning: Passing (type, 1) or '1type' as a synonym of type is deprecated; in a future version of numpy, it will be understood as (type, (1,)) / '(1,)type'.\n",
      "  ('a_edgewidth', float32, 1)])\n"
     ]
    }
   ],
   "source": [
    "# Alpha-RA Map\n",
    "gals = ['galaxy_DR12v5_CMASS_North.fits','galaxy_DR12v5_LOWZ_North.fits',\n",
    "       'galaxy_DR12v5_CMASS_South.fits','galaxy_DR12v5_LOWZ_South.fits']\n",
    "\n",
    "myGalaxy = pd.concat([HULib.get_BOSS_data(parameters.sdssAddress + '' + gals[0]),HULib.get_BOSS_data(parameters.sdssAddress + '' + gals[1])])\n",
    "myGalaxy = HULib.fix_BOSS_data(myGalaxy)\n",
    "df=pd.DataFrame({'Me' : myGalaxy.groupby( [ 'alpha','RA'] )['Me'].sum()}).reset_index()\n",
    "if parameters.glueme:\n",
    "    glue.qglue (star=df)"
   ]
  },
  {
   "cell_type": "code",
   "execution_count": 8,
   "metadata": {},
   "outputs": [],
   "source": [
    "# Alpha-DEC Map\n",
    "gals = ['galaxy_DR12v5_CMASS_North.fits','galaxy_DR12v5_LOWZ_North.fits',\n",
    "       'galaxy_DR12v5_CMASS_South.fits','galaxy_DR12v5_LOWZ_South.fits']\n",
    "\n",
    "myGalaxy = pd.concat([HULib.get_BOSS_data(parameters.sdssAddress + '' + gals[0]),HULib.get_BOSS_data(parameters.sdssAddress + '' + gals[1])])\n",
    "df=pd.DataFrame({'Me' : myGalaxy.groupby( [ 'alpha','DEC'] )['Me'].sum()}).reset_index()\n",
    "if parameters.glueme:\n",
    "    glue.qglue (star=df)"
   ]
  },
  {
   "cell_type": "markdown",
   "metadata": {},
   "source": [
    "150 Megaparsec = 27.757646186"
   ]
  },
  {
   "cell_type": "code",
   "execution_count": null,
   "metadata": {},
   "outputs": [],
   "source": []
  },
  {
   "cell_type": "code",
   "execution_count": null,
   "metadata": {},
   "outputs": [],
   "source": []
  },
  {
   "cell_type": "code",
   "execution_count": null,
   "metadata": {},
   "outputs": [],
   "source": []
  }
 ],
 "metadata": {
  "kernelspec": {
   "display_name": "Python [conda env:Sagemath]",
   "language": "python",
   "name": "conda-env-Sagemath-py"
  },
  "language_info": {
   "codemirror_mode": {
    "name": "ipython",
    "version": 3
   },
   "file_extension": ".py",
   "mimetype": "text/x-python",
   "name": "python",
   "nbconvert_exporter": "python",
   "pygments_lexer": "ipython3",
   "version": "3.9.13"
  }
 },
 "nbformat": 4,
 "nbformat_minor": 4
}
