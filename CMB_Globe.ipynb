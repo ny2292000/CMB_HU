{
 "cells": [
  {
   "cell_type": "code",
   "execution_count": 1,
   "metadata": {},
   "outputs": [
    {
     "name": "stderr",
     "output_type": "stream",
     "text": [
      "/home/mp74207/anaconda3/lib/python3.8/site-packages/setuptools/distutils_patch.py:25: UserWarning: Distutils was imported before Setuptools. This usage is discouraged and may exhibit undesirable behaviors or errors. Please use Setuptools' objects directly or at least import Setuptools first.\n",
      "  warnings.warn(\n"
     ]
    }
   ],
   "source": []
  },
  {
   "cell_type": "code",
   "execution_count": 4,
   "metadata": {},
   "outputs": [
    {
     "name": "stdout",
     "output_type": "stream",
     "text": [
      "/home/mp74207/anaconda3/bin/pip\r\n"
     ]
    }
   ],
   "source": [
    "!which pip"
   ]
  },
  {
   "cell_type": "code",
   "execution_count": null,
   "outputs": [],
   "source": [
    "d=[]\n",
    "df= cmbdata.loc[cmbdata.ind==0][[\"x\",\"y\",\"z\",\"density\"]]\n",
    "d1 = Data(x=df.x.values, y=df.y.values,z=df.z.values)\n",
    "d.append(d1)\n",
    "dc = DataCollection(d)\n",
    "# create a GUI session\n",
    "ga = GlueApplication(dc)"
   ],
   "metadata": {
    "collapsed": false,
    "pycharm": {
     "name": "#%%\n"
    }
   }
  },
  {
   "cell_type": "code",
   "execution_count": null,
   "outputs": [],
   "source": [
    "# plot x vs y, flip the x axis, log-scale y axis\n",
    "scatter = ga.new_data_viewer(ScatterViewer)\n",
    "scatter.add_data(dc)\n",
    "\n",
    "\n"
   ],
   "metadata": {
    "collapsed": false,
    "pycharm": {
     "name": "#%%\n"
    }
   }
  },
  {
   "cell_type": "code",
   "execution_count": null,
   "outputs": [],
   "source": [
    "\n",
    "# Modify viewer-level options\n",
    "scatter.state.x_att = d.id['x']\n",
    "scatter.state.y_att = d.id['y']\n",
    "scatter.state.y_log = True"
   ],
   "metadata": {
    "collapsed": false,
    "pycharm": {
     "name": "#%%\n"
    }
   }
  },
  {
   "cell_type": "code",
   "execution_count": null,
   "outputs": [],
   "source": [
    "app = qglue(xyz=cmbdata)"
   ],
   "metadata": {
    "collapsed": false,
    "pycharm": {
     "name": "#%%\n"
    }
   }
  },
  {
   "cell_type": "code",
   "execution_count": null,
   "outputs": [],
   "source": [
    "d=[]\n",
    "for i cmbdata.ind.unique():\n",
    "    df= cmbdata.loc[cmbdata.ind==i][[\"x\",\"y\",\"z\",\"density\"]]\n",
    "    d1 = Data(x=df.x.values, y=df.y.values,z=df.z.values, c=df.density)\n",
    "    d.append(d1)\n",
    "dc = DataCollection(d)"
   ],
   "metadata": {
    "collapsed": false,
    "pycharm": {
     "name": "#%%\n"
    }
   }
  },
  {
   "cell_type": "code",
   "execution_count": null,
   "outputs": [],
   "source": [],
   "metadata": {
    "collapsed": false,
    "pycharm": {
     "name": "#%%\n"
    }
   }
  },
  {
   "cell_type": "code",
   "execution_count": null,
   "outputs": [],
   "source": [
    "\n"
   ],
   "metadata": {
    "collapsed": false,
    "pycharm": {
     "name": "#%%\n"
    }
   }
  },
  {
   "cell_type": "code",
   "execution_count": null,
   "outputs": [],
   "source": [
    "# Modify settings for the (only) layer shown\n",
    "scatter.state.layers[0].color = 'blue'\n",
    "\n",
    "# show the GUI\n",
    "ga.start()"
   ],
   "metadata": {
    "collapsed": false,
    "pycharm": {
     "name": "#%%\n"
    }
   }
  },
  {
   "cell_type": "code",
   "execution_count": null,
   "outputs": [],
   "source": [
    "# Modify settings for the (only) layer shown\n",
    "scatter.state.layers[0].color = 'blue'\n",
    "\n",
    "# show the GUI\n",
    "ga.start()"
   ],
   "metadata": {
    "collapsed": false,
    "pycharm": {
     "name": "#%%\n"
    }
   }
  },
  {
   "cell_type": "code",
   "execution_count": 2,
   "metadata": {},
   "outputs": [
    {
     "name": "stderr",
     "output_type": "stream",
     "text": [
      "/home/mp74207/anaconda3/lib/python3.8/site-packages/glue_vispy_viewers/extern/vispy/visuals/line/line.py:391: FutureWarning: Passing (type, 1) or '1type' as a synonym of type is deprecated; in a future version of numpy, it will be understood as (type, (1,)) / '(1,)type'.\n",
      "  _agg_vtype = np.dtype([('a_position', float32, 2),\n",
      "/home/mp74207/anaconda3/lib/python3.8/site-packages/glue_vispy_viewers/extern/vispy/visuals/line/arrow.py:50: FutureWarning: Passing (type, 1) or '1type' as a synonym of type is deprecated; in a future version of numpy, it will be understood as (type, (1,)) / '(1,)type'.\n",
      "  _arrow_vtype = np.dtype([\n"
     ]
    }
   ],
   "source": [
    "# plot x vs y, flip the x axis, log-scale y axis\n",
    "scatter = ga.new_data_viewer(3DScatterViewer)\n",
    "scatter.add_data(d)\n",
    "\n",
    "# Modify viewer-level options\n",
    "scatter.state.x_att = d.id['x']\n",
    "scatter.state.y_att = d.id['y']\n",
    "scatter.state.y_log = True\n",
    "\n"
   ]
  },
  {
   "cell_type": "code",
   "execution_count": 3,
   "metadata": {
    "pycharm": {
     "name": "#%%\n"
    }
   },
   "outputs": [],
   "source": [
    "# plot x vs y, flip the x axis, log-scale y axis\n",
    "scatter = ga.new_data_viewer(ScatterViewer)\n",
    "scatter.add_data(dc)\n",
    "\n",
    "\n"
   ]
  },
  {
   "cell_type": "code",
   "execution_count": null,
   "metadata": {},
   "outputs": [],
   "source": [
    "\n",
    "# Modify viewer-level options\n",
    "scatter.state.x_att = d.id['x']\n",
    "scatter.state.y_att = d.id['y']\n",
    "scatter.state.y_log = True"
   ]
  },
  {
   "cell_type": "code",
   "execution_count": null,
   "metadata": {},
   "outputs": [
    {
     "name": "stderr",
     "output_type": "stream",
     "text": [
      "/home/mp74207/anaconda3/lib/python3.8/site-packages/glue_vispy_viewers/extern/vispy/visuals/markers.py:556: FutureWarning: Passing (type, 1) or '1type' as a synonym of type is deprecated; in a future version of numpy, it will be understood as (type, (1,)) / '(1,)type'.\n",
      "  data = np.zeros(n, dtype=[('a_position', float32, 3),\n",
      "/home/mp74207/anaconda3/lib/python3.8/site-packages/glue_vispy_viewers/extern/vispy/visuals/markers.py:556: FutureWarning: Passing (type, 1) or '1type' as a synonym of type is deprecated; in a future version of numpy, it will be understood as (type, (1,)) / '(1,)type'.\n",
      "  data = np.zeros(n, dtype=[('a_position', float32, 3),\n",
      "/home/mp74207/anaconda3/lib/python3.8/site-packages/glue_vispy_viewers/extern/vispy/visuals/markers.py:556: FutureWarning: Passing (type, 1) or '1type' as a synonym of type is deprecated; in a future version of numpy, it will be understood as (type, (1,)) / '(1,)type'.\n",
      "  data = np.zeros(n, dtype=[('a_position', float32, 3),\n",
      "/home/mp74207/anaconda3/lib/python3.8/site-packages/glue_vispy_viewers/extern/vispy/visuals/markers.py:556: FutureWarning: Passing (type, 1) or '1type' as a synonym of type is deprecated; in a future version of numpy, it will be understood as (type, (1,)) / '(1,)type'.\n",
      "  data = np.zeros(n, dtype=[('a_position', float32, 3),\n"
     ]
    }
   ],
   "source": [
    "app = qglue(xyz=cmbdata)"
   ]
  },
  {
   "cell_type": "code",
   "execution_count": 16,
   "metadata": {},
   "outputs": [],
   "source": [
    "d=[]\n",
    "for i cmbdata.ind.unique():\n",
    "    df= cmbdata.loc[cmbdata.ind==i][[\"x\",\"y\",\"z\",\"density\"]]\n",
    "    d1 = Data(x=df.x.values, y=df.y.values,z=df.z.values, c=df.density)\n",
    "    d.append(d1)\n",
    "dc = DataCollection(d)"
   ]
  },
  {
   "cell_type": "code",
   "execution_count": null,
   "metadata": {},
   "outputs": [],
   "source": []
  },
  {
   "cell_type": "code",
   "execution_count": 5,
   "metadata": {
    "pycharm": {
     "name": "#%%\n"
    }
   },
   "outputs": [],
   "source": [
    "\n"
   ]
  },
  {
   "cell_type": "code",
   "execution_count": null,
   "metadata": {
    "pycharm": {
     "name": "#%%\n"
    }
   },
   "outputs": [],
   "source": [
    "# Modify settings for the (only) layer shown\n",
    "scatter.state.layers[0].color = 'blue'\n",
    "\n",
    "# show the GUI\n",
    "ga.start()"
   ]
  },
  {
   "cell_type": "code",
   "execution_count": null,
   "metadata": {},
   "outputs": [],
   "source": [
    "# Modify settings for the (only) layer shown\n",
    "scatter.state.layers[0].color = 'blue'\n",
    "\n",
    "# show the GUI\n",
    "ga.start()"
   ]
  },
  {
   "cell_type": "code",
   "execution_count": null,
   "metadata": {},
   "outputs": [],
   "source": [
    "# plot x vs y, flip the x axis, log-scale y axis\n",
    "scatter = ga.new_data_viewer(3DScatterViewer)\n",
    "scatter.add_data(d)\n",
    "\n",
    "# Modify viewer-level options\n",
    "scatter.state.x_att = d.id['x']\n",
    "scatter.state.y_att = d.id['y']\n",
    "scatter.state.y_log = True\n",
    "\n"
   ]
  },
  {
   "cell_type": "code",
   "execution_count": null,
   "metadata": {},
   "outputs": [],
   "source": [
    "# Modify settings for the (only) layer shown\n",
    "scatter.state.layers[0].color = 'blue'\n",
    "\n",
    "# show the GUI\n",
    "ga.start()"
   ]
  }
 ],
 "metadata": {
  "kernelspec": {
   "display_name": "Python 3",
   "language": "python",
   "name": "python3"
  },
  "language_info": {
   "codemirror_mode": {
    "name": "ipython",
    "version": 3
   },
   "file_extension": ".py",
   "mimetype": "text/x-python",
   "name": "python",
   "nbconvert_exporter": "python",
   "pygments_lexer": "ipython3",
   "version": "3.8.3"
  }
 },
 "nbformat": 4,
 "nbformat_minor": 1
}