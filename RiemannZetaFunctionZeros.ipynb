{
 "cells": [
  {
   "cell_type": "code",
   "execution_count": null,
   "id": "6e724e0e-2bdb-4748-90d5-92936344df88",
   "metadata": {},
   "outputs": [],
   "source": [
    "import numpy as np\n",
    "import matplotlib.pyplot as plt\n",
    "\n",
    "# Define the critical line and zeros\n",
    "critical_line_real = 0.5\n",
    "zeros_imaginary = [14.134725, 21.022040, 25.010858, 30.424876, 32.935062, 37.586178]\n",
    "\n",
    "# Create the plot\n",
    "plt.figure(figsize=(8, 6))\n",
    "plt.axvline(x=critical_line_real, color='blue', linestyle='--', label='Critical Line (Re(s) = 0.5)')\n",
    "plt.scatter([critical_line_real]*len(zeros_imaginary), zeros_imaginary, color='red', label='Non-trivial Zeros')\n",
    "\n",
    "# Add labels and annotations\n",
    "plt.title(\"Zeros of the Riemann Zeta Function on the Critical Line\", fontsize=14)\n",
    "plt.xlabel(\"Real Part of s (Re(s))\", fontsize=12)\n",
    "plt.ylabel(\"Imaginary Part of s (Im(s))\", fontsize=12)\n",
    "plt.grid(True, linestyle='--', alpha=0.6)\n",
    "plt.legend(fontsize=10)\n",
    "\n",
    "# Show the plot\n",
    "plt.tight_layout()\n",
    "plt.savefig(\"./Drawing_For_Publications/ZetaFunctionZeros.png\")\n",
    "plt.show()\n"
   ]
  },
  {
   "cell_type": "code",
   "execution_count": null,
   "id": "7163f172-3693-47ff-b5d2-afb1d5c317d4",
   "metadata": {},
   "outputs": [],
   "source": []
  }
 ],
 "metadata": {
  "kernelspec": {
   "display_name": "Python [conda env:Cosmos3020]",
   "language": "python",
   "name": "conda-env-Cosmos3020-py"
  },
  "language_info": {
   "codemirror_mode": {
    "name": "ipython",
    "version": 3
   },
   "file_extension": ".py",
   "mimetype": "text/x-python",
   "name": "python",
   "nbconvert_exporter": "python",
   "pygments_lexer": "ipython3",
   "version": "3.11.9"
  }
 },
 "nbformat": 4,
 "nbformat_minor": 5
}
