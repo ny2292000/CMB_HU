{
 "cells": [
  {
   "cell_type": "markdown",
   "metadata": {},
   "source": [
    "# CONTENT\n",
    "\n",
    "## Astroquery Example"
   ]
  },
  {
   "cell_type": "code",
   "execution_count": 32,
   "metadata": {},
   "outputs": [],
   "source": [
    "import astroquery\n",
    "from astroquery.simbad import Simbad\n",
    "from astropy import units as uu, constants as cc\n",
    "import numpy as np\n",
    "from parameters import *"
   ]
  },
  {
   "cell_type": "code",
   "execution_count": 33,
   "metadata": {},
   "outputs": [],
   "source": [
    "result_table = Simbad.query_object(\"m1\")"
   ]
  },
  {
   "cell_type": "code",
   "execution_count": 34,
   "metadata": {},
   "outputs": [
    {
     "data": {
      "text/html": [
       "<div><i>Table length=1</i>\n",
       "<table id=\"table129225059794192\" class=\"table-striped table-bordered table-condensed\">\n",
       "<thead><tr><th>MAIN_ID</th><th>RA</th><th>DEC</th><th>RA_PREC</th><th>DEC_PREC</th><th>COO_ERR_MAJA</th><th>COO_ERR_MINA</th><th>COO_ERR_ANGLE</th><th>COO_QUAL</th><th>COO_WAVELENGTH</th><th>COO_BIBCODE</th><th>SCRIPT_NUMBER_ID</th></tr></thead>\n",
       "<thead><tr><th></th><th>&quot;h:m:s&quot;</th><th>&quot;d:m:s&quot;</th><th></th><th></th><th>mas</th><th>mas</th><th>deg</th><th></th><th></th><th></th><th></th></tr></thead>\n",
       "<thead><tr><th>object</th><th>str13</th><th>str13</th><th>int16</th><th>int16</th><th>float32</th><th>float32</th><th>int16</th><th>str1</th><th>str1</th><th>object</th><th>int32</th></tr></thead>\n",
       "<tr><td>M   1</td><td>05 34 31.94</td><td>+22 00 52.2</td><td>6</td><td>6</td><td>--</td><td>--</td><td>0</td><td>C</td><td>R</td><td>2011A&amp;A...533A..10L</td><td>1</td></tr>\n",
       "</table></div>"
      ],
      "text/plain": [
       "<Table length=1>\n",
       "MAIN_ID      RA         DEC     ...     COO_BIBCODE     SCRIPT_NUMBER_ID\n",
       "          \"h:m:s\"     \"d:m:s\"   ...                                     \n",
       " object    str13       str13    ...        object            int32      \n",
       "------- ----------- ----------- ... ------------------- ----------------\n",
       "  M   1 05 34 31.94 +22 00 52.2 ... 2011A&A...533A..10L                1"
      ]
     },
     "execution_count": 34,
     "metadata": {},
     "output_type": "execute_result"
    }
   ],
   "source": [
    "result_table"
   ]
  },
  {
   "cell_type": "code",
   "execution_count": 35,
   "metadata": {},
   "outputs": [
    {
     "name": "stdout",
     "output_type": "stream",
     "text": [
      "MAIN_ID      RA          DEC      ...  Z_VALUE   SCRIPT_NUMBER_ID\n",
      "          \"h:m:s\"      \"d:m:s\"    ...                            \n",
      "------- ------------ ------------ ... ---------- ----------------\n",
      "  M  31 00 42 44.330 +41 16 07.50 ... -0.0010000                1\n"
     ]
    }
   ],
   "source": [
    "s = Simbad()\n",
    "# bibcodelist(date1-date2) lists the number of bibliography\n",
    "# items referring to each object over that date range\n",
    "s.add_votable_fields('bibcodelist(2003-2013)', \"z_value\")\n",
    "r = s.query_object('m31')\n",
    "r.pprint()"
   ]
  },
  {
   "cell_type": "code",
   "execution_count": 36,
   "metadata": {},
   "outputs": [
    {
     "data": {
      "text/html": [
       "<div><i>Table length=1</i>\n",
       "<table id=\"table129225402036752\" class=\"table-striped table-bordered table-condensed\">\n",
       "<thead><tr><th>MAIN_ID</th><th>RA</th><th>DEC</th><th>RA_PREC</th><th>DEC_PREC</th><th>COO_ERR_MAJA</th><th>COO_ERR_MINA</th><th>COO_ERR_ANGLE</th><th>COO_QUAL</th><th>COO_WAVELENGTH</th><th>COO_BIBCODE</th><th>BIBLIST_2003_2013</th><th>Z_VALUE</th><th>SCRIPT_NUMBER_ID</th></tr></thead>\n",
       "<thead><tr><th></th><th>&quot;h:m:s&quot;</th><th>&quot;d:m:s&quot;</th><th></th><th></th><th>mas</th><th>mas</th><th>deg</th><th></th><th></th><th></th><th></th><th></th><th></th></tr></thead>\n",
       "<thead><tr><th>object</th><th>str13</th><th>str13</th><th>int16</th><th>int16</th><th>float32</th><th>float32</th><th>int16</th><th>str1</th><th>str1</th><th>object</th><th>int32</th><th>float64</th><th>int32</th></tr></thead>\n",
       "<tr><td>NGC  4605</td><td>12 39 59.381</td><td>+61 36 33.09</td><td>7</td><td>7</td><td>--</td><td>--</td><td>0</td><td>C</td><td>I</td><td>2006AJ....131.1163S</td><td>96</td><td>0.0004840</td><td>1</td></tr>\n",
       "</table></div>"
      ],
      "text/plain": [
       "<Table length=1>\n",
       " MAIN_ID       RA          DEC      ...  Z_VALUE  SCRIPT_NUMBER_ID\n",
       "            \"h:m:s\"      \"d:m:s\"    ...                           \n",
       "  object     str13        str13     ...  float64       int32      \n",
       "--------- ------------ ------------ ... --------- ----------------\n",
       "NGC  4605 12 39 59.381 +61 36 33.09 ... 0.0004840                1"
      ]
     },
     "execution_count": 36,
     "metadata": {},
     "output_type": "execute_result"
    }
   ],
   "source": [
    "s.query_object('ugc7831')"
   ]
  },
  {
   "cell_type": "code",
   "execution_count": 37,
   "metadata": {},
   "outputs": [
    {
     "name": "stdout",
     "output_type": "stream",
     "text": [
      "No.       RA       ... Published Frequence Mode         Qualifiers       \n",
      "                   ...                                                   \n",
      "--- -------------- ... ------------------------ -------------------------\n",
      "  0   12h39m59.38s ...                                                   \n",
      "  1 12h39m59.4000s ...                                   Uncertain origin\n",
      "  2 12h39m59.3801s ...                                   Uncertain origin\n",
      "  3 12h39m59.3801s ...                                   Uncertain origin\n",
      "  4 12h39m59.2896s ...                                   Uncertain origin\n",
      "  5 12h39m59.3800s ...                                   Uncertain origin\n",
      "  6 12h39m59.4000s ...                                   Uncertain origin\n",
      "  7 12h39m59.2850s ...                                   Uncertain origin\n",
      "  8 12h39m59.4000s ...                                   Uncertain origin\n",
      "  9 12h39m59.3798s ...                                   Uncertain origin\n",
      "...            ... ...                      ...                       ...\n",
      " 24   12h39m59.46s ...   Broad-band measurement        From new, raw data\n",
      " 25   12h40m00.26s ...   Broad-band measurement        From new, raw data\n",
      " 26    12h40m00.3s ...                                   Uncertain origin\n",
      " 27    12h40m00.3s ...                                   Uncertain origin\n",
      " 28    12h39m59.4s ...                                   Uncertain origin\n",
      " 29   12h40m01.36s ...   Broad-band measurement        From new, raw data\n",
      " 30   12h40m00.87s ...   Broad-band measurement From reprocessed raw data\n",
      " 31    12h40m00.1s ...   Broad-band measurement        From new, raw data\n",
      " 32    12h40m00.3s ...   Broad-band measurement From reprocessed raw data\n",
      " 33      12h39m55s ...   Broad-band measurement        From new, raw data\n",
      "Length = 34 rows\n"
     ]
    }
   ],
   "source": [
    "from astroquery.ipac.ned import Ned\n",
    "result_table = Ned.get_table(\"ugc 7831\", table='positions')\n",
    "print(result_table)"
   ]
  },
  {
   "cell_type": "code",
   "execution_count": 38,
   "metadata": {},
   "outputs": [
    {
     "data": {
      "text/html": [
       "<div><i>Table length=34</i>\n",
       "<table id=\"table129225406408208\" class=\"table-striped table-bordered table-condensed\">\n",
       "<thead><tr><th>No.</th><th>RA</th><th>DEC</th><th>Frequency</th></tr></thead>\n",
       "<thead><tr><th>int32</th><th>object</th><th>object</th><th>object</th></tr></thead>\n",
       "<tr><td>0</td><td>12h39m59.38s</td><td>+61d36m33.1s</td><td></td></tr>\n",
       "<tr><td>1</td><td>12h39m59.4000s</td><td>+61d36m32.508s</td><td></td></tr>\n",
       "<tr><td>2</td><td>12h39m59.3801s</td><td>+61d36m33.098s</td><td></td></tr>\n",
       "<tr><td>3</td><td>12h39m59.3801s</td><td>+61d36m33.098s</td><td></td></tr>\n",
       "<tr><td>4</td><td>12h39m59.2896s</td><td>+61d36m32.886s</td><td></td></tr>\n",
       "<tr><td>5</td><td>12h39m59.3800s</td><td>+61d36m33.000s</td><td></td></tr>\n",
       "<tr><td>6</td><td>12h39m59.4000s</td><td>+61d36m32.000s</td><td></td></tr>\n",
       "<tr><td>7</td><td>12h39m59.2850s</td><td>+61d36m32.940s</td><td></td></tr>\n",
       "<tr><td>8</td><td>12h39m59.4000s</td><td>+61d36m33.000s</td><td></td></tr>\n",
       "<tr><td>9</td><td>12h39m59.3798s</td><td>+61d36m33.001s</td><td></td></tr>\n",
       "<tr><td>...</td><td>...</td><td>...</td><td>...</td></tr>\n",
       "<tr><td>24</td><td>12h39m59.46s</td><td>+61d36m36.4s</td><td>Photographic</td></tr>\n",
       "<tr><td>25</td><td>12h40m00.26s</td><td>+61d36m32.5s</td><td>Photographic</td></tr>\n",
       "<tr><td>26</td><td>12h40m00.3s</td><td>+61d36m29s</td><td></td></tr>\n",
       "<tr><td>27</td><td>12h40m00.3s</td><td>+61d36m29s</td><td></td></tr>\n",
       "<tr><td>28</td><td>12h39m59.4s</td><td>+61d36m33s</td><td></td></tr>\n",
       "<tr><td>29</td><td>12h40m01.36s</td><td>+61d36m22.6s</td><td>IRAS</td></tr>\n",
       "<tr><td>30</td><td>12h40m00.87s</td><td>+61d36m28.6s</td><td>IRAS</td></tr>\n",
       "<tr><td>31</td><td>12h40m00.1s</td><td>+61d36m21s</td><td>4.85 GHz</td></tr>\n",
       "<tr><td>32</td><td>12h40m00.3s</td><td>+61d36m30s</td><td>4.85 GHz</td></tr>\n",
       "<tr><td>33</td><td>12h39m55s</td><td>+61d36.5m</td><td>Photographic</td></tr>\n",
       "</table></div>"
      ],
      "text/plain": [
       "<Table length=34>\n",
       " No.        RA            DEC        Frequency  \n",
       "int32     object         object        object   \n",
       "----- -------------- -------------- ------------\n",
       "    0   12h39m59.38s   +61d36m33.1s             \n",
       "    1 12h39m59.4000s +61d36m32.508s             \n",
       "    2 12h39m59.3801s +61d36m33.098s             \n",
       "    3 12h39m59.3801s +61d36m33.098s             \n",
       "    4 12h39m59.2896s +61d36m32.886s             \n",
       "    5 12h39m59.3800s +61d36m33.000s             \n",
       "    6 12h39m59.4000s +61d36m32.000s             \n",
       "    7 12h39m59.2850s +61d36m32.940s             \n",
       "    8 12h39m59.4000s +61d36m33.000s             \n",
       "    9 12h39m59.3798s +61d36m33.001s             \n",
       "  ...            ...            ...          ...\n",
       "   24   12h39m59.46s   +61d36m36.4s Photographic\n",
       "   25   12h40m00.26s   +61d36m32.5s Photographic\n",
       "   26    12h40m00.3s     +61d36m29s             \n",
       "   27    12h40m00.3s     +61d36m29s             \n",
       "   28    12h39m59.4s     +61d36m33s             \n",
       "   29   12h40m01.36s   +61d36m22.6s         IRAS\n",
       "   30   12h40m00.87s   +61d36m28.6s         IRAS\n",
       "   31    12h40m00.1s     +61d36m21s     4.85 GHz\n",
       "   32    12h40m00.3s     +61d36m30s     4.85 GHz\n",
       "   33      12h39m55s      +61d36.5m Photographic"
      ]
     },
     "execution_count": 38,
     "metadata": {},
     "output_type": "execute_result"
    }
   ],
   "source": [
    "result_table['No.','RA','DEC','Frequency']"
   ]
  },
  {
   "cell_type": "code",
   "execution_count": 39,
   "metadata": {},
   "outputs": [
    {
     "data": {
      "text/latex": [
       "$312.56546 \\; \\mathrm{km}$"
      ],
      "text/plain": [
       "<Quantity 312.56545553 km>"
      ]
     },
     "execution_count": 39,
     "metadata": {},
     "output_type": "execute_result"
    }
   ],
   "source": [
    "SaggitariusAMass = 4.1E6*cc.M_sun\n",
    "SaggitariusARadius  = (3/4/np.pi*(SaggitariusAMass/dbh)**(1/3))\n",
    "SaggitariusARadius.to(uu.km)\n",
    "# Black Hole Density = 5.8E18 kg/m3\n",
    "# SaggitariusARadius = 267 km"
   ]
  },
  {
   "cell_type": "code",
   "execution_count": 40,
   "metadata": {},
   "outputs": [
    {
     "data": {
      "text/latex": [
       "$3.6324614 \\times 10^{18} \\; \\mathrm{\\frac{kg}{m^{3}}}$"
      ],
      "text/plain": [
       "<Quantity 3.63246136e+18 kg / m3>"
      ]
     },
     "execution_count": 40,
     "metadata": {},
     "output_type": "execute_result"
    }
   ],
   "source": [
    "dbh"
   ]
  },
  {
   "cell_type": "code",
   "execution_count": 41,
   "metadata": {},
   "outputs": [],
   "source": [
    "# Correction to G, mu0 and epsilon0\n",
    "# Earth Velocity with respect to the CMB = 369.82 km/s"
   ]
  },
  {
   "cell_type": "code",
   "execution_count": 42,
   "metadata": {},
   "outputs": [
    {
     "data": {
      "text/plain": [
       "(<Quantity 6.67431016e-11 m3 / (kg s2)>, <Quantity 0.99999848>)"
      ]
     },
     "execution_count": 42,
     "metadata": {},
     "output_type": "execute_result"
    }
   ],
   "source": [
    "v= 369.82 * uu.km/uu.s\n",
    "coef = (1-v**2/cc.c**2)\n",
    "G0 = cc.G/coef; G0, coef"
   ]
  },
  {
   "cell_type": "code",
   "execution_count": 43,
   "metadata": {},
   "outputs": [
    {
     "data": {
      "text/latex": [
       "$1.256639 \\times 10^{-6} \\; \\mathrm{\\frac{N}{A^{2}}}$"
      ],
      "text/plain": [
       "<Quantity 1.25663897e-06 N / A2>"
      ]
     },
     "execution_count": 43,
     "metadata": {},
     "output_type": "execute_result"
    }
   ],
   "source": [
    "mu0 = cc.mu0/coef ; mu0"
   ]
  },
  {
   "cell_type": "code",
   "execution_count": 44,
   "metadata": {},
   "outputs": [
    {
     "name": "stdout",
     "output_type": "stream",
     "text": [
      "8.854174339061554e-12 8.8541878128e-12\n"
     ]
    }
   ],
   "source": [
    "epsilon0 = cc.eps0*coef; print(epsilon0.value,cc.eps0.value)"
   ]
  }
 ],
 "metadata": {
  "anaconda-cloud": {},
  "kernelspec": {
   "display_name": "Python [conda env:Cosmos3020]",
   "language": "python",
   "name": "conda-env-Cosmos3020-py"
  },
  "language_info": {
   "codemirror_mode": {
    "name": "ipython",
    "version": 3
   },
   "file_extension": ".py",
   "mimetype": "text/x-python",
   "name": "python",
   "nbconvert_exporter": "python",
   "pygments_lexer": "ipython3",
   "version": "3.11.8"
  }
 },
 "nbformat": 4,
 "nbformat_minor": 4
}
