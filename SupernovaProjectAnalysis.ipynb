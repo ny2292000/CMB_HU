{
 "cells": [
  {
   "cell_type": "code",
   "execution_count": 1,
   "metadata": {},
   "outputs": [
    {
     "name": "stderr",
     "output_type": "stream",
     "text": [
      "WARNING: WrongDBMModuleWarning: Existing astropy cache is in an unsupported format, either install the appropriate package or use astropy.utils.data.clear_download_cache() to delete the whole cache; db type is dbm.gnu, but the module is not available [astropy.utils.data]\n",
      "WARNING: leap-second auto-update failed due to the following exception: WrongDBMModule('Existing astropy cache is in an unsupported format, either install the appropriate package or use astropy.utils.data.clear_download_cache() to delete the whole cache; db type is dbm.gnu, but the module is not available') [astropy.time.core]\n",
      "/home/mp74207/anaconda3/lib/python3.8/site-packages/healpy/fitsfunc.py:391: UserWarning: NSIDE = 1024\n",
      "  warnings.warn(\"NSIDE = {0:d}\".format(nside))\n",
      "/home/mp74207/anaconda3/lib/python3.8/site-packages/healpy/fitsfunc.py:400: UserWarning: ORDERING = NESTED in fits file\n",
      "  warnings.warn(\"ORDERING = {0:s} in fits file\".format(ordering))\n",
      "/home/mp74207/anaconda3/lib/python3.8/site-packages/healpy/fitsfunc.py:426: UserWarning: No INDXSCHM keyword in header file : assume IMPLICIT\n",
      "  warnings.warn(\"No INDXSCHM keyword in header file : \" \"assume {}\".format(schm))\n",
      "/home/mp74207/anaconda3/lib/python3.8/site-packages/healpy/fitsfunc.py:428: UserWarning: INDXSCHM = IMPLICIT\n",
      "  warnings.warn(\"INDXSCHM = {0:s}\".format(schm))\n",
      "/home/mp74207/anaconda3/lib/python3.8/site-packages/healpy/fitsfunc.py:486: UserWarning: Ordering converted to RING\n",
      "  warnings.warn(\"Ordering converted to RING\")\n"
     ]
    },
    {
     "name": "stdout",
     "output_type": "stream",
     "text": [
      "14.43448806721477 lyr\n"
     ]
    },
    {
     "ename": "FileNotFoundError",
     "evalue": "[Errno 2] No such file or directory: './Data SupernovaLBLgov/SCPUnionData.xlsx'",
     "output_type": "error",
     "traceback": [
      "\u001b[0;31m---------------------------------------------------------------------------\u001b[0m",
      "\u001b[0;31mFileNotFoundError\u001b[0m                         Traceback (most recent call last)",
      "\u001b[0;32m<ipython-input-1-890ebc0cc1d1>\u001b[0m in \u001b[0;36m<module>\u001b[0;34m\u001b[0m\n\u001b[1;32m     39\u001b[0m \u001b[0;34m\u001b[0m\u001b[0m\n\u001b[1;32m     40\u001b[0m \u001b[0;34m\u001b[0m\u001b[0m\n\u001b[0;32m---> 41\u001b[0;31m \u001b[0mSCPData\u001b[0m \u001b[0;34m=\u001b[0m \u001b[0mpd\u001b[0m\u001b[0;34m.\u001b[0m\u001b[0mExcelFile\u001b[0m\u001b[0;34m(\u001b[0m\u001b[0mparameters\u001b[0m\u001b[0;34m.\u001b[0m\u001b[0msupernovaAddress\u001b[0m \u001b[0;34m+\u001b[0m \u001b[0;34m'SCPUnionData.xlsx'\u001b[0m\u001b[0;34m)\u001b[0m\u001b[0;34m.\u001b[0m\u001b[0mparse\u001b[0m\u001b[0;34m(\u001b[0m\u001b[0;34m'Sheet2'\u001b[0m\u001b[0;34m)\u001b[0m\u001b[0;34m\u001b[0m\u001b[0;34m\u001b[0m\u001b[0m\n\u001b[0m\u001b[1;32m     42\u001b[0m \u001b[0mangle\u001b[0m\u001b[0;34m=\u001b[0m\u001b[0mmath\u001b[0m\u001b[0;34m.\u001b[0m\u001b[0mpi\u001b[0m\u001b[0;34m/\u001b[0m\u001b[0;36m4\u001b[0m\u001b[0;34m\u001b[0m\u001b[0;34m\u001b[0m\u001b[0m\n\u001b[1;32m     43\u001b[0m \u001b[0;31m# First let's create a set of lambda-shifts\u001b[0m\u001b[0;34m\u001b[0m\u001b[0;34m\u001b[0m\u001b[0;34m\u001b[0m\u001b[0m\n",
      "\u001b[0;32m~/anaconda3/lib/python3.8/site-packages/pandas/io/excel/_base.py\u001b[0m in \u001b[0;36m__init__\u001b[0;34m(self, io, engine)\u001b[0m\n\u001b[1;32m    822\u001b[0m         \u001b[0mself\u001b[0m\u001b[0;34m.\u001b[0m\u001b[0m_io\u001b[0m \u001b[0;34m=\u001b[0m \u001b[0mstringify_path\u001b[0m\u001b[0;34m(\u001b[0m\u001b[0mio\u001b[0m\u001b[0;34m)\u001b[0m\u001b[0;34m\u001b[0m\u001b[0;34m\u001b[0m\u001b[0m\n\u001b[1;32m    823\u001b[0m \u001b[0;34m\u001b[0m\u001b[0m\n\u001b[0;32m--> 824\u001b[0;31m         \u001b[0mself\u001b[0m\u001b[0;34m.\u001b[0m\u001b[0m_reader\u001b[0m \u001b[0;34m=\u001b[0m \u001b[0mself\u001b[0m\u001b[0;34m.\u001b[0m\u001b[0m_engines\u001b[0m\u001b[0;34m[\u001b[0m\u001b[0mengine\u001b[0m\u001b[0;34m]\u001b[0m\u001b[0;34m(\u001b[0m\u001b[0mself\u001b[0m\u001b[0;34m.\u001b[0m\u001b[0m_io\u001b[0m\u001b[0;34m)\u001b[0m\u001b[0;34m\u001b[0m\u001b[0;34m\u001b[0m\u001b[0m\n\u001b[0m\u001b[1;32m    825\u001b[0m \u001b[0;34m\u001b[0m\u001b[0m\n\u001b[1;32m    826\u001b[0m     \u001b[0;32mdef\u001b[0m \u001b[0m__fspath__\u001b[0m\u001b[0;34m(\u001b[0m\u001b[0mself\u001b[0m\u001b[0;34m)\u001b[0m\u001b[0;34m:\u001b[0m\u001b[0;34m\u001b[0m\u001b[0;34m\u001b[0m\u001b[0m\n",
      "\u001b[0;32m~/anaconda3/lib/python3.8/site-packages/pandas/io/excel/_xlrd.py\u001b[0m in \u001b[0;36m__init__\u001b[0;34m(self, filepath_or_buffer)\u001b[0m\n\u001b[1;32m     19\u001b[0m         \u001b[0merr_msg\u001b[0m \u001b[0;34m=\u001b[0m \u001b[0;34m\"Install xlrd >= 1.0.0 for Excel support\"\u001b[0m\u001b[0;34m\u001b[0m\u001b[0;34m\u001b[0m\u001b[0m\n\u001b[1;32m     20\u001b[0m         \u001b[0mimport_optional_dependency\u001b[0m\u001b[0;34m(\u001b[0m\u001b[0;34m\"xlrd\"\u001b[0m\u001b[0;34m,\u001b[0m \u001b[0mextra\u001b[0m\u001b[0;34m=\u001b[0m\u001b[0merr_msg\u001b[0m\u001b[0;34m)\u001b[0m\u001b[0;34m\u001b[0m\u001b[0;34m\u001b[0m\u001b[0m\n\u001b[0;32m---> 21\u001b[0;31m         \u001b[0msuper\u001b[0m\u001b[0;34m(\u001b[0m\u001b[0;34m)\u001b[0m\u001b[0;34m.\u001b[0m\u001b[0m__init__\u001b[0m\u001b[0;34m(\u001b[0m\u001b[0mfilepath_or_buffer\u001b[0m\u001b[0;34m)\u001b[0m\u001b[0;34m\u001b[0m\u001b[0;34m\u001b[0m\u001b[0m\n\u001b[0m\u001b[1;32m     22\u001b[0m \u001b[0;34m\u001b[0m\u001b[0m\n\u001b[1;32m     23\u001b[0m     \u001b[0;34m@\u001b[0m\u001b[0mproperty\u001b[0m\u001b[0;34m\u001b[0m\u001b[0;34m\u001b[0m\u001b[0m\n",
      "\u001b[0;32m~/anaconda3/lib/python3.8/site-packages/pandas/io/excel/_base.py\u001b[0m in \u001b[0;36m__init__\u001b[0;34m(self, filepath_or_buffer)\u001b[0m\n\u001b[1;32m    351\u001b[0m             \u001b[0mself\u001b[0m\u001b[0;34m.\u001b[0m\u001b[0mbook\u001b[0m \u001b[0;34m=\u001b[0m \u001b[0mself\u001b[0m\u001b[0;34m.\u001b[0m\u001b[0mload_workbook\u001b[0m\u001b[0;34m(\u001b[0m\u001b[0mfilepath_or_buffer\u001b[0m\u001b[0;34m)\u001b[0m\u001b[0;34m\u001b[0m\u001b[0;34m\u001b[0m\u001b[0m\n\u001b[1;32m    352\u001b[0m         \u001b[0;32melif\u001b[0m \u001b[0misinstance\u001b[0m\u001b[0;34m(\u001b[0m\u001b[0mfilepath_or_buffer\u001b[0m\u001b[0;34m,\u001b[0m \u001b[0mstr\u001b[0m\u001b[0;34m)\u001b[0m\u001b[0;34m:\u001b[0m\u001b[0;34m\u001b[0m\u001b[0;34m\u001b[0m\u001b[0m\n\u001b[0;32m--> 353\u001b[0;31m             \u001b[0mself\u001b[0m\u001b[0;34m.\u001b[0m\u001b[0mbook\u001b[0m \u001b[0;34m=\u001b[0m \u001b[0mself\u001b[0m\u001b[0;34m.\u001b[0m\u001b[0mload_workbook\u001b[0m\u001b[0;34m(\u001b[0m\u001b[0mfilepath_or_buffer\u001b[0m\u001b[0;34m)\u001b[0m\u001b[0;34m\u001b[0m\u001b[0;34m\u001b[0m\u001b[0m\n\u001b[0m\u001b[1;32m    354\u001b[0m         \u001b[0;32melif\u001b[0m \u001b[0misinstance\u001b[0m\u001b[0;34m(\u001b[0m\u001b[0mfilepath_or_buffer\u001b[0m\u001b[0;34m,\u001b[0m \u001b[0mbytes\u001b[0m\u001b[0;34m)\u001b[0m\u001b[0;34m:\u001b[0m\u001b[0;34m\u001b[0m\u001b[0;34m\u001b[0m\u001b[0m\n\u001b[1;32m    355\u001b[0m             \u001b[0mself\u001b[0m\u001b[0;34m.\u001b[0m\u001b[0mbook\u001b[0m \u001b[0;34m=\u001b[0m \u001b[0mself\u001b[0m\u001b[0;34m.\u001b[0m\u001b[0mload_workbook\u001b[0m\u001b[0;34m(\u001b[0m\u001b[0mBytesIO\u001b[0m\u001b[0;34m(\u001b[0m\u001b[0mfilepath_or_buffer\u001b[0m\u001b[0;34m)\u001b[0m\u001b[0;34m)\u001b[0m\u001b[0;34m\u001b[0m\u001b[0;34m\u001b[0m\u001b[0m\n",
      "\u001b[0;32m~/anaconda3/lib/python3.8/site-packages/pandas/io/excel/_xlrd.py\u001b[0m in \u001b[0;36mload_workbook\u001b[0;34m(self, filepath_or_buffer)\u001b[0m\n\u001b[1;32m     34\u001b[0m             \u001b[0;32mreturn\u001b[0m \u001b[0mopen_workbook\u001b[0m\u001b[0;34m(\u001b[0m\u001b[0mfile_contents\u001b[0m\u001b[0;34m=\u001b[0m\u001b[0mdata\u001b[0m\u001b[0;34m)\u001b[0m\u001b[0;34m\u001b[0m\u001b[0;34m\u001b[0m\u001b[0m\n\u001b[1;32m     35\u001b[0m         \u001b[0;32melse\u001b[0m\u001b[0;34m:\u001b[0m\u001b[0;34m\u001b[0m\u001b[0;34m\u001b[0m\u001b[0m\n\u001b[0;32m---> 36\u001b[0;31m             \u001b[0;32mreturn\u001b[0m \u001b[0mopen_workbook\u001b[0m\u001b[0;34m(\u001b[0m\u001b[0mfilepath_or_buffer\u001b[0m\u001b[0;34m)\u001b[0m\u001b[0;34m\u001b[0m\u001b[0;34m\u001b[0m\u001b[0m\n\u001b[0m\u001b[1;32m     37\u001b[0m \u001b[0;34m\u001b[0m\u001b[0m\n\u001b[1;32m     38\u001b[0m     \u001b[0;34m@\u001b[0m\u001b[0mproperty\u001b[0m\u001b[0;34m\u001b[0m\u001b[0;34m\u001b[0m\u001b[0m\n",
      "\u001b[0;32m~/anaconda3/lib/python3.8/site-packages/xlrd/__init__.py\u001b[0m in \u001b[0;36mopen_workbook\u001b[0;34m(filename, logfile, verbosity, use_mmap, file_contents, encoding_override, formatting_info, on_demand, ragged_rows)\u001b[0m\n\u001b[1;32m    109\u001b[0m     \u001b[0;32melse\u001b[0m\u001b[0;34m:\u001b[0m\u001b[0;34m\u001b[0m\u001b[0;34m\u001b[0m\u001b[0m\n\u001b[1;32m    110\u001b[0m         \u001b[0mfilename\u001b[0m \u001b[0;34m=\u001b[0m \u001b[0mos\u001b[0m\u001b[0;34m.\u001b[0m\u001b[0mpath\u001b[0m\u001b[0;34m.\u001b[0m\u001b[0mexpanduser\u001b[0m\u001b[0;34m(\u001b[0m\u001b[0mfilename\u001b[0m\u001b[0;34m)\u001b[0m\u001b[0;34m\u001b[0m\u001b[0;34m\u001b[0m\u001b[0m\n\u001b[0;32m--> 111\u001b[0;31m         \u001b[0;32mwith\u001b[0m \u001b[0mopen\u001b[0m\u001b[0;34m(\u001b[0m\u001b[0mfilename\u001b[0m\u001b[0;34m,\u001b[0m \u001b[0;34m\"rb\"\u001b[0m\u001b[0;34m)\u001b[0m \u001b[0;32mas\u001b[0m \u001b[0mf\u001b[0m\u001b[0;34m:\u001b[0m\u001b[0;34m\u001b[0m\u001b[0;34m\u001b[0m\u001b[0m\n\u001b[0m\u001b[1;32m    112\u001b[0m             \u001b[0mpeek\u001b[0m \u001b[0;34m=\u001b[0m \u001b[0mf\u001b[0m\u001b[0;34m.\u001b[0m\u001b[0mread\u001b[0m\u001b[0;34m(\u001b[0m\u001b[0mpeeksz\u001b[0m\u001b[0;34m)\u001b[0m\u001b[0;34m\u001b[0m\u001b[0;34m\u001b[0m\u001b[0m\n\u001b[1;32m    113\u001b[0m     \u001b[0;32mif\u001b[0m \u001b[0mpeek\u001b[0m \u001b[0;34m==\u001b[0m \u001b[0;34mb\"PK\\x03\\x04\"\u001b[0m\u001b[0;34m:\u001b[0m \u001b[0;31m# a ZIP file\u001b[0m\u001b[0;34m\u001b[0m\u001b[0;34m\u001b[0m\u001b[0m\n",
      "\u001b[0;31mFileNotFoundError\u001b[0m: [Errno 2] No such file or directory: './Data SupernovaLBLgov/SCPUnionData.xlsx'"
     ]
    },
    {
     "data": {
      "image/png": "[encoded data removed]",
      "text/plain": [
       "<Figure size 432x288 with 1 Axes>"
      ]
     },
     "metadata": {
      "needs_background": "light"
     },
     "output_type": "display_data"
    }
   ],
   "source": [
    "%matplotlib inline\n",
    "import matplotlib\n",
    "import math\n",
    "import pandas as pd\n",
    "import numpy as np\n",
    "import matplotlib.pyplot as plt\n",
    "from scipy.optimize import fsolve, curve_fit\n",
    "from scipy.stats import chisquare\n",
    "from astropy.cosmology import Planck15\n",
    "from astropy import constants, units\n",
    "import parameters\n",
    "from scipy.special import legendre\n",
    "\n",
    "DefaultSize=[10,6]\n",
    "font = {'family': 'serif',\n",
    "        'color':  'black',\n",
    "        'weight': 'normal',\n",
    "        'size': 14,\n",
    "        }\n",
    "axis_font = {'name':'Arial', 'size':'18'}\n",
    "\n",
    "title_font = {'name':'Arial', 'size':'18'}\n",
    "\n",
    "def d_planck15(z):\n",
    "    R0 = (cc.c)/(Planck15.H0)\n",
    "    d_L = (Planck15.luminosity_distance(z))/R0.to(uu.Mpc)\n",
    "    plt.plot(z, d_L)\n",
    "    R0=R0.to(uu.lyr)/1e9\n",
    "    return R0,d_L\n",
    "z = np.arange(0.0,1.5,0.01)\n",
    "R0_GLY,d_L=d_planck15(z)\n",
    "R0_GLY_CMB=R0_GLY\n",
    "print(R0_GLY)\n",
    "HubbleGRData=pd.DataFrame()\n",
    "HubbleGRData['z']=z\n",
    "HubbleGRData['d']=d_L\n",
    "\n",
    "# http://astronomy.swin.edu.au/cosmos/D/Distance+Modulus\n",
    "\n",
    "\n",
    "SCPData = pd.ExcelFile(parameters.supernovaAddress + 'SCPUnionData.xlsx').parse('Sheet2')\n",
    "angle=math.pi/4\n",
    "# First let's create a set of lambda-shifts\n",
    "z = SCPData['redshift']\n"
   ]
  },
  {
   "cell_type": "code",
   "execution_count": 2,
   "metadata": {},
   "outputs": [
    {
     "data": {
      "text/latex": [
       "$67.74 \\; \\mathrm{\\frac{km}{Mpc\\,s}}$"
      ],
      "text/plain": [
       "<Quantity 67.74 km / (Mpc s)>"
      ]
     },
     "execution_count": 2,
     "metadata": {},
     "output_type": "execute_result"
    }
   ],
   "source": [
    "Planck15.H0"
   ]
  },
  {
   "cell_type": "code",
   "execution_count": 3,
   "metadata": {},
   "outputs": [
    {
     "data": {
      "text/latex": [
       "$13.786284 \\; \\mathrm{lyr}$"
      ],
      "text/plain": [
       "<Quantity 13.78628441 lyr>"
      ]
     },
     "execution_count": 3,
     "metadata": {},
     "output_type": "execute_result"
    }
   ],
   "source": [
    "H0=70.925*uu.km/uu.s/uu.mpc\n",
    "H0_saved=H0\n",
    "R0Diff=R0_GLY-(cc.c/H0).to(uu.lyr)\n",
    "R0_GLY=(cc.c.si/H0).to(uu.lyr)\n",
    "R0_GLY"
   ]
  },
  {
   "cell_type": "code",
   "execution_count": 4,
   "metadata": {},
   "outputs": [],
   "source": [
    "H0=1\n",
    "c=1\n",
    "R0=1\n",
    "pi4=math.pi/4.0\n",
    "sqrt2=math.sqrt(2)\n",
    "def alphaZ(x):\n",
    "    alpha = math.pi/4 - math.asin(1/math.sqrt(2)/(1+x))\n",
    "    return alpha\n",
    "\n",
    "def z_Out_Of_Alpha(alpha):\n",
    "    z = 1.0/math.sin(pi4-alpha)/sqrt2-1.0\n",
    "    return z\n",
    "\n",
    "def alpha_Out_Of_d_HU(d_HU):\n",
    "    alpha =  pi4-np.asin((1.0-d_HU)/sqrt2)\n",
    "    return alpha\n",
    "    \n",
    "def z_Out_Of_d_HU(d_HU):\n",
    "    alpha= alpha_Out_Of_d_HU(d_HU)\n",
    "    z = z_Out_Of_Alpha(alpha)\n",
    "    return z\n",
    "\n",
    "def d_HU_epoch(R0,z):\n",
    "    alpha = alphaZ(z)\n",
    "    d_HU=R0*(1- math.cos(alpha)+math.sin(alpha))\n",
    "    return d_HU\n",
    "\n"
   ]
  },
  {
   "cell_type": "code",
   "execution_count": 5,
   "metadata": {},
   "outputs": [
    {
     "data": {
      "text/plain": [
       "13130352.045670768"
      ]
     },
     "execution_count": 5,
     "metadata": {},
     "output_type": "execute_result"
    }
   ],
   "source": [
    "(1-d_HU_epoch(1,1050))*13.8E9"
   ]
  },
  {
   "cell_type": "markdown",
   "metadata": {},
   "source": [
    "The distance d_HU is the arc on the outter circumference.  Later that distance will be converted on d_HU_corrected to reflect the point-to-point distance between our observation point and the position in the 4D Spatial manifold where the Supernova exploded.\n",
    "\n",
    "Remember that\n",
    "\n",
    "$$ \\frac {\\lambda_0}{\\lambda_{Obs}}  = \\frac{1}{1+z} = \\sqrt2 sin(\\frac{\\pi}{4}-\\alpha))$$\n",
    "\n",
    "So\n",
    " $$  \\alpha=  \\frac{\\pi}{4}- asin(\\frac{1}{\\sqrt2(1+z)})   )     $$\n",
    "\n",
    "\n",
    "so\n",
    "                    \n",
    "                    alpha = [math.pi/4 - math.asin(/math.sqrt(2)/(1+x)) for x in z]\n",
    "\n",
    "The scaling factor  $$G_f = \\frac {R_0}{R(t)} = \\frac {1}{(cos(\\alpha)-sin(\\alpha))}$$\n",
    "\n",
    "The value of d', the actual distance is derived from the triangle law\n",
    "\n",
    "$$\\frac{sin(\\alpha)}{d'} = \\frac{sin(\\frac{3\\pi}{4})}{R_0} =  \\frac{sin(\\frac{\\pi}{4} - \\alpha)}{R(t)}$$\n",
    "\n",
    "\n",
    "$$ {d'}=\\sqrt2 R_0 sin(\\alpha)= \\sqrt2 R_0 sin(\\frac{\\pi}{4}-asin(\\frac{1}{\\sqrt2(1+z)})) $$\n",
    "\n",
    "The distance between Universe epochs is what is traversed at the speed of light c on our expanding hypersphere and that is given by:\n",
    "\n",
    "$$ d_{epoch}(t) = \\frac {R_0-R(t)}{R_0} = 1 - \\frac{1}{G_f}= 1-\\frac {R(t)}{R_0} =1- cos(\\alpha)+sin(\\alpha)   $$\n",
    "or \n",
    "$$ d(z) =1- cos(\\alpha)+sin(\\alpha)   $$\n",
    "where \n",
    " $$  \\alpha=  \\frac{\\pi}{4}- asin(\\frac{1}{\\sqrt2(1+z)})   )     $$\n",
    "\n",
    "This value is the one used on the predictions of the Hypergeometrical Universe.  This is the distance travelled by a light entity traveling at the speed of light c, during the time the Universe took to reach our epoch.  This is equivalent to the distance d on our epoch.  This is the appropriate mapping since in the HU model, light travels at $\\sqrt2 c$ within a 4D spatial manifold.\n",
    "\n"
   ]
  },
  {
   "cell_type": "code",
   "execution_count": 6,
   "metadata": {},
   "outputs": [],
   "source": [
    "# Let define a function for our overestimated distances\n",
    "\n",
    "def overestimatedDistances(z):\n",
    "    overestimatedDistances=[]\n",
    "    for y in z:\n",
    "        x=alphaZ(y)\n",
    "        overestimatedDistances. append((1-np.cos(x)+np.sin(x))*(np.cos(x)-np.sin(x))**(-1.5))\n",
    "    return overestimatedDistances\n",
    "\n",
    " "
   ]
  },
  {
   "cell_type": "code",
   "execution_count": 7,
   "metadata": {},
   "outputs": [
    {
     "ename": "NameError",
     "evalue": "name 'SCPData' is not defined",
     "output_type": "error",
     "traceback": [
      "\u001b[0;31m---------------------------------------------------------------------------\u001b[0m",
      "\u001b[0;31mNameError\u001b[0m                                 Traceback (most recent call last)",
      "\u001b[0;32m<ipython-input-7-17559036d861>\u001b[0m in \u001b[0;36m<module>\u001b[0;34m\u001b[0m\n\u001b[1;32m      1\u001b[0m \u001b[0;31m# All the light coming from supernovae maps initially to the cosmological region [0,pi/4]\u001b[0m\u001b[0;34m\u001b[0m\u001b[0;34m\u001b[0m\u001b[0;34m\u001b[0m\u001b[0m\n\u001b[1;32m      2\u001b[0m \u001b[0;31m# no modifications done to initial data\u001b[0m\u001b[0;34m\u001b[0m\u001b[0;34m\u001b[0m\u001b[0;34m\u001b[0m\u001b[0m\n\u001b[0;32m----> 3\u001b[0;31m \u001b[0md_bar_measured\u001b[0m\u001b[0;34m=\u001b[0m \u001b[0mSCPData\u001b[0m\u001b[0;34m[\u001b[0m\u001b[0;34m\"d\"\u001b[0m\u001b[0;34m]\u001b[0m\u001b[0;34m/\u001b[0m\u001b[0mR0_GLY\u001b[0m\u001b[0;34m\u001b[0m\u001b[0;34m\u001b[0m\u001b[0m\n\u001b[0m",
      "\u001b[0;31mNameError\u001b[0m: name 'SCPData' is not defined"
     ]
    }
   ],
   "source": [
    "# All the light coming from supernovae maps initially to the cosmological region [0,pi/4]\n",
    "# no modifications done to initial data\n",
    "d_bar_measured= SCPData[\"d\"]/R0_GLY"
   ]
  },
  {
   "cell_type": "code",
   "execution_count": 8,
   "metadata": {},
   "outputs": [
    {
     "ename": "NameError",
     "evalue": "name 'd_bar_measured' is not defined",
     "output_type": "error",
     "traceback": [
      "\u001b[0;31m---------------------------------------------------------------------------\u001b[0m",
      "\u001b[0;31mNameError\u001b[0m                                 Traceback (most recent call last)",
      "\u001b[0;32m<ipython-input-8-b4500516c413>\u001b[0m in \u001b[0;36m<module>\u001b[0;34m\u001b[0m\n\u001b[1;32m     10\u001b[0m \u001b[0;31m# Calculate correction factors for measured distances\u001b[0m\u001b[0;34m\u001b[0m\u001b[0;34m\u001b[0m\u001b[0;34m\u001b[0m\u001b[0m\n\u001b[1;32m     11\u001b[0m \u001b[0mcorrectingFactors\u001b[0m\u001b[0;34m=\u001b[0m\u001b[0;34m[\u001b[0m\u001b[0mGf\u001b[0m\u001b[0;34m[\u001b[0m\u001b[0mi\u001b[0m\u001b[0;34m]\u001b[0m\u001b[0;34m**\u001b[0m\u001b[0;36m1.5\u001b[0m \u001b[0;32mfor\u001b[0m \u001b[0mi\u001b[0m \u001b[0;32min\u001b[0m \u001b[0mrange\u001b[0m\u001b[0;34m(\u001b[0m\u001b[0mlen\u001b[0m\u001b[0;34m(\u001b[0m\u001b[0mz\u001b[0m\u001b[0;34m)\u001b[0m\u001b[0;34m)\u001b[0m\u001b[0;34m]\u001b[0m\u001b[0;34m\u001b[0m\u001b[0;34m\u001b[0m\u001b[0m\n\u001b[0;32m---> 12\u001b[0;31m \u001b[0md_bar_measured_corrected\u001b[0m\u001b[0;34m=\u001b[0m\u001b[0;34m[\u001b[0m\u001b[0md_bar_measured\u001b[0m\u001b[0;34m[\u001b[0m\u001b[0mi\u001b[0m\u001b[0;34m]\u001b[0m\u001b[0;34m/\u001b[0m\u001b[0mcorrectingFactors\u001b[0m\u001b[0;34m[\u001b[0m\u001b[0mi\u001b[0m\u001b[0;34m]\u001b[0m \u001b[0;32mfor\u001b[0m \u001b[0mi\u001b[0m \u001b[0;32min\u001b[0m \u001b[0mrange\u001b[0m\u001b[0;34m(\u001b[0m\u001b[0mlen\u001b[0m\u001b[0;34m(\u001b[0m\u001b[0mz\u001b[0m\u001b[0;34m)\u001b[0m\u001b[0;34m)\u001b[0m\u001b[0;34m]\u001b[0m\u001b[0;34m\u001b[0m\u001b[0;34m\u001b[0m\u001b[0m\n\u001b[0m",
      "\u001b[0;32m<ipython-input-8-b4500516c413>\u001b[0m in \u001b[0;36m<listcomp>\u001b[0;34m(.0)\u001b[0m\n\u001b[1;32m     10\u001b[0m \u001b[0;31m# Calculate correction factors for measured distances\u001b[0m\u001b[0;34m\u001b[0m\u001b[0;34m\u001b[0m\u001b[0;34m\u001b[0m\u001b[0m\n\u001b[1;32m     11\u001b[0m \u001b[0mcorrectingFactors\u001b[0m\u001b[0;34m=\u001b[0m\u001b[0;34m[\u001b[0m\u001b[0mGf\u001b[0m\u001b[0;34m[\u001b[0m\u001b[0mi\u001b[0m\u001b[0;34m]\u001b[0m\u001b[0;34m**\u001b[0m\u001b[0;36m1.5\u001b[0m \u001b[0;32mfor\u001b[0m \u001b[0mi\u001b[0m \u001b[0;32min\u001b[0m \u001b[0mrange\u001b[0m\u001b[0;34m(\u001b[0m\u001b[0mlen\u001b[0m\u001b[0;34m(\u001b[0m\u001b[0mz\u001b[0m\u001b[0;34m)\u001b[0m\u001b[0;34m)\u001b[0m\u001b[0;34m]\u001b[0m\u001b[0;34m\u001b[0m\u001b[0;34m\u001b[0m\u001b[0m\n\u001b[0;32m---> 12\u001b[0;31m \u001b[0md_bar_measured_corrected\u001b[0m\u001b[0;34m=\u001b[0m\u001b[0;34m[\u001b[0m\u001b[0md_bar_measured\u001b[0m\u001b[0;34m[\u001b[0m\u001b[0mi\u001b[0m\u001b[0;34m]\u001b[0m\u001b[0;34m/\u001b[0m\u001b[0mcorrectingFactors\u001b[0m\u001b[0;34m[\u001b[0m\u001b[0mi\u001b[0m\u001b[0;34m]\u001b[0m \u001b[0;32mfor\u001b[0m \u001b[0mi\u001b[0m \u001b[0;32min\u001b[0m \u001b[0mrange\u001b[0m\u001b[0;34m(\u001b[0m\u001b[0mlen\u001b[0m\u001b[0;34m(\u001b[0m\u001b[0mz\u001b[0m\u001b[0;34m)\u001b[0m\u001b[0;34m)\u001b[0m\u001b[0;34m]\u001b[0m\u001b[0;34m\u001b[0m\u001b[0;34m\u001b[0m\u001b[0m\n\u001b[0m",
      "\u001b[0;31mNameError\u001b[0m: name 'd_bar_measured' is not defined"
     ]
    }
   ],
   "source": [
    "# Consider two points separated by d_HU on the current epoch (current hyperspherical hypersurface)\n",
    "\n",
    "# First let's calculate the distance at the current Hypersphere. This distance will be projected into inner hyperspheres\n",
    "# until a 45 degrees ray of light reaches the observer. That hypersphere will be defined by an R(t) and a d_HU_corrected.\n",
    "# Simple geometry will be used to derive both.\n",
    "\n",
    "alpha_ = [math.pi/4 - math.asin(1/math.sqrt(2)/(1+x)) for x in z]\n",
    "Gf=[1/(math.cos(x)-math.sin(x)) for x in alpha_]\n",
    "\n",
    "# Calculate correction factors for measured distances\n",
    "correctingFactors=[Gf[i]**1.5 for i in range(len(z))]\n",
    "d_bar_measured_corrected=[d_bar_measured[i]/correctingFactors[i] for i in range(len(z))]\n"
   ]
  },
  {
   "cell_type": "code",
   "execution_count": null,
   "metadata": {},
   "outputs": [],
   "source": [
    "# the 4D Line_of_sight distance d_prime is easily calculated as:\n",
    "d_prime_4DLineOfSight = [R0*math.sqrt(2)*math.sin(x) for x in alpha_]\n",
    "# This distance (line of sight) is not relevant since the actual trajectory of light goes from layer to layer at 45 \n",
    "# degrees, thus traversing the same distance radially as tangentially.  The distance traversed tangentially is equal \n",
    "# to d_HU_corrected calculated by d_HU_epoch or distance to epoch.\n",
    "# Notice that all distances are derived from z -> alpha -> d_HU_epoch = R0(1-cos(alpha)+sin(alpha))\n",
    "# where R0 is always 1\n",
    "d_HU_corrected= [d_HU_epoch(1,x) for x in z]"
   ]
  },
  {
   "cell_type": "code",
   "execution_count": null,
   "metadata": {},
   "outputs": [],
   "source": [
    "############################################\n",
    "# Notice that all distances are derived from z -> alpha_ -> d = R0(1-cos(alpha_)+sin(alpha_))\n",
    "# where R0 is always 1\n",
    "upperlim=2-math.pi/4\n",
    "bigz=[z*0.01 for z in range(2050)]\n",
    "d_HU_big_corrected=pd.DataFrame()\n",
    "\n",
    "d_HU_big_corrected['z']=[z for z in bigz]\n",
    "d_HU_big_corrected['d']= [d_HU_epoch(1,x) for x in bigz]\n",
    "\n",
    "d_HU_big_up_corrected=pd.DataFrame()\n",
    "d_HU_big_up_corrected['z']=[z for z in bigz]\n",
    "d_HU_big_up_corrected['d']=[2-x for x in d_HU_big_corrected.d]\n",
    "ind= (d_HU_big_up_corrected.d<=upperlim) #& (d_HU_big_up_corrected.d>1) \n",
    "d_HU_big_up_corrected['d']=[x for x in d_HU_big_corrected.d]\n",
    "d_HU_big_up_corrected=d_HU_big_up_corrected[ind]"
   ]
  },
  {
   "cell_type": "code",
   "execution_count": null,
   "metadata": {},
   "outputs": [],
   "source": [
    "fig, ax = plt.subplots()\n",
    "fig.set_size_inches( DefaultSize )# resetthe size\n",
    "############################################\n",
    "plt.semilogy(bigz,d_HU_big_corrected.d,'k-', label='1stQuad HU Hubble Law')\n",
    "# plt.semilogy(d_HU_big_up_corrected.z,d_HU_big_up_corrected.d,'r.', label='2ndQuad HU Hubble Law')\n",
    "plt.semilogy(z,d_bar_measured_corrected,'k-', label='SCPData')\n",
    "# plt.semilogy(z,d_prime_4DLineOfSight,'k+', label='4DLineOfSightDistance')\n",
    "\n",
    "\n",
    "\n",
    "plt.xlabel('Relative Lambda Shift z',**axis_font)\n",
    "plt.ylabel('Distance d as a Fraction of R0',**axis_font)\n",
    "plt.title('HU Predictions - z vs Distance',**title_font)\n",
    "plt.grid(True)\n",
    "\n",
    "ax.set_ylim(0.01,1)\n",
    "ax.set_xlim(0,1.5)\n",
    "legend = plt.legend(loc='lower right', shadow=True, fontsize='large')\n",
    "\n",
    "# Put a nicer background color on the legend.\n",
    "legend.get_frame().set_facecolor('#00FFCC')\n",
    "\n",
    "plt.savefig(parameters.imgAddress + \"vcDistanceBothQuadH070_925_13_786.png\")\n",
    "plt.show()"
   ]
  },
  {
   "cell_type": "code",
   "execution_count": null,
   "metadata": {},
   "outputs": [],
   "source": [
    "np.shape(bigz),np.shape(d_HU_big_corrected)"
   ]
  },
  {
   "cell_type": "code",
   "execution_count": null,
   "metadata": {},
   "outputs": [],
   "source": [
    "fig, ax = plt.subplots()\n",
    "fig.set_size_inches( DefaultSize )# resetthe size\n",
    "############################################\n",
    "plt.semilogy(bigz,d_HU_big_corrected.d,'k-', label='1stQuad HU Hubble Law')\n",
    "plt.semilogy(z,d_bar_measured_corrected,'k-', label='SCPData')\n",
    "\n",
    "plt.xlabel('Relative Lambda Shift z',**axis_font)\n",
    "plt.ylabel('Distance d as a Fraction of R0',**axis_font)\n",
    "plt.title('HU Predictions - z vs Distance',**title_font)\n",
    "plt.grid(True)\n",
    "\n",
    "legend = plt.legend(loc='lower right', shadow=True, fontsize='large')\n",
    "\n",
    "# Put a nicer background color on the legend.\n",
    "legend.get_frame().set_facecolor('#00FFCC')\n",
    "ax.set_ylim(0.01,1)\n",
    "ax.set_xlim(0,1.5)\n",
    "plt.savefig( parameters.imgAddress + \"vcDistancesmall.png\")\n",
    "plt.show()"
   ]
  },
  {
   "cell_type": "code",
   "execution_count": null,
   "metadata": {},
   "outputs": [],
   "source": [
    "max(d_bar_measured_corrected)"
   ]
  },
  {
   "cell_type": "code",
   "execution_count": null,
   "metadata": {},
   "outputs": [],
   "source": [
    "fig, ax = plt.subplots()\n",
    "fig.set_size_inches( DefaultSize )# resetthe size\n",
    "\n",
    "plt.plot(HubbleGRData.z,HubbleGRData.d,'k:', label='Friedmann-Lemaitre Fitting')\n",
    "plt.plot(z,d_bar_measured,'k+', label='SCPData')\n",
    "plt.plot(z,d_HU_corrected,'k.', label='HU Hubble Law')\n",
    "# Correcting Stellar Candles for Gravitational R(t) dependence\n",
    "# The Absolute Luminosity should scale down with G ~ (R0/R(t))^(3/2)\n",
    "\n",
    "plt.plot(z,d_bar_measured_corrected,'k-', label='Normalized SCPData Epoch-Corrected')\n",
    "\n",
    "plt.xlabel('Relative Lambda Shift z',**axis_font)\n",
    "plt.ylabel('Distance d as a Fraction of R0',**axis_font)\n",
    "plt.title('z vs Distance vs',**title_font)\n",
    "plt.grid(True)\n",
    "\n",
    "legend = plt.legend(loc='upper left', shadow=True, fontsize='large')\n",
    "ax.ticklabel_format(style='sci', axis='x') \n",
    "ax.ticklabel_format(style='sci', axis='y')\n",
    "\n",
    "# Put a nicer background color on the legend.\n",
    "legend.get_frame().set_facecolor('#00FFCC')\n",
    "# plt.ylim(0,2.4)\n",
    "ax.set_xlim(0,1.4)\n",
    "plt.savefig(parameters.imgAddress + \"vcDistance.png\")\n",
    "plt.show()"
   ]
  },
  {
   "cell_type": "code",
   "execution_count": null,
   "metadata": {},
   "outputs": [],
   "source": [
    "fig, ax = plt.subplots()\n",
    "fig.set_size_inches( DefaultSize )# resetthe size\n",
    "\n",
    "relativeD_Error=[d_bar_measured_corrected[i]/d_HU_corrected[i]-1 for i in range(len(d_HU_corrected))]\n",
    "\n",
    "plt.plot(z,relativeD_Error,'k-', label='Relative Distance Epoch-Corrected Error')\n",
    "plt.xlabel('RedShift z',**axis_font)\n",
    "plt.ylabel('Relative Error as a Fraction of distance',**axis_font)\n",
    "plt.title('z vs Distance error',**title_font)\n",
    "plt.grid(True)\n",
    "\n",
    "legend = plt.legend(loc='upper left', shadow=True, fontsize='large')\n",
    "\n",
    "# Put a nicer background color on the legend.\n",
    "legend.get_frame().set_facecolor('#00FFCC')\n",
    "ax.set_ylim(-0.6,0.6)\n",
    "ax.set_xlim(0,1.5)\n",
    "plt.savefig(parameters.imgAddress + \"variance.png\")\n",
    "plt.show()"
   ]
  },
  {
   "cell_type": "code",
   "execution_count": null,
   "metadata": {},
   "outputs": [],
   "source": [
    "fig, ax = plt.subplots()\n",
    "fig.set_size_inches( DefaultSize )# resetthe size\n",
    "plt.semilogy(z,d_bar_measured_corrected,'k-', label='Epoch-Corrected Distance ')\n",
    "plt.semilogy(z,d_HU_corrected,'k-', label='HU Distance Prediction')\n",
    "# plt.semilogy(z,np.log(1+z),'k.', label='George Half-Backed Prediction')\n",
    "\n",
    "plt.xlabel('RedShift z',**axis_font)\n",
    "plt.ylabel('Fractional Distance (fraction of R0)',**axis_font)\n",
    "plt.title('z vs Distance for Supernova Survey Data',**title_font)\n",
    "plt.grid(True)\n",
    "\n",
    "legend = plt.legend(loc='lower right', shadow=True, fontsize='large')\n",
    "\n",
    "# Put a nicer background color on the legend.\n",
    "legend.get_frame().set_facecolor('#00FFCC')\n",
    "ax.set_ylim(0,1)\n",
    "ax.set_xlim(0,1.4)\n",
    "plt.savefig(parameters.imgAddress + \"comparison.png\")\n",
    "plt.show()"
   ]
  },
  {
   "cell_type": "markdown",
   "metadata": {},
   "source": [
    "\n",
    "# Just for sake of completeness, let recover the HU Law that would find the overestimated SN1A distances, that is, lets put back overestimation and find out how does it relates d and z\n",
    "\n",
    "## To do that one just needs to rescale $(\\frac{R_0-R(T)}{R_0})$ with $({\\frac{R_0}{R(T)}})^{-\\frac{3}{2}}$\n",
    "\n",
    "$$overestimatedDistances(z)= (1- cos(\\alpha)+sin(\\alpha))(\\frac{1}{cos(\\alpha)-sin(\\alpha)}) ^{-\\frac{3}{2}}    $$\n",
    "\n",
    "where $\\alpha$ is given by:\n",
    "$$\\alpha = \\frac{\\pi}{4}- asin(\\frac{1}{\\sqrt2(1+z)})   ) $$\n",
    "\n",
    "# Notice that this d(z) prediction of overestimated distances doesn't use a single parameters."
   ]
  },
  {
   "cell_type": "code",
   "execution_count": null,
   "metadata": {},
   "outputs": [],
   "source": [
    "# George Disham Half-Backed Theory..:)\n",
    "fig, ax = plt.subplots()\n",
    "fig.set_size_inches( DefaultSize )# resetthe size\n",
    "plt.plot(HubbleGRData.z,HubbleGRData.d,'k:', label='Friedmann-Lemaitre Fitting')\n",
    "plt.plot(z,d_bar_measured,'k+', label='SCPData')\n",
    "# plt.plot(z,d_bar_measured_corrected,'k-', label='Epoch-Corrected Distance ')\n",
    "# plt.plot(z,d_HU_corrected,'k-', label='HU Distance Prediction')\n",
    "plt.plot(z,np.log(1+z),'k.', label='George Half-Baked Prediction= ln(1+z)')\n",
    "plt.plot(z,overestimatedDistances(z),'k.',color='r', label='HU Overestimated Distances Prediction')\n",
    "\n",
    "\n",
    "plt.xlabel('RedShift z',**axis_font)\n",
    "plt.ylabel('Fractional Distance (fraction of R0)',**axis_font)\n",
    "plt.title('z vs Distance for Supernova Survey Data',**title_font)\n",
    "plt.grid(True)\n",
    "\n",
    "legend = plt.legend(loc='upper left', shadow=True, fontsize='large')\n",
    "\n",
    "# Put a nicer background color on the legend.\n",
    "legend.get_frame().set_facecolor('#00FFCC')\n",
    "ax.set_ylim(0,3)\n",
    "ax.set_xlim(0,1.4)\n",
    "plt.savefig(parameters.imgAddress + \"comparisonWithHalfBaked.png\")\n",
    "plt.show()"
   ]
  },
  {
   "cell_type": "code",
   "execution_count": null,
   "metadata": {},
   "outputs": [],
   "source": [
    "# George Disham Half-Backed Theory..:)\n",
    "fig, ax = plt.subplots()\n",
    "fig.set_size_inches( DefaultSize )# resetthe size\n",
    "\n",
    "plt.plot(HubbleGRData.z,HubbleGRData.d,'k:', label='Friedmann-Lemaitre Fitting')\n",
    "plt.plot(z,d_bar_measured,'k+', label='SCPData')\n",
    "# plt.plot(z,d_bar_measured_corrected,'k-', label='Epoch-Corrected Distance ')\n",
    "# plt.plot(z,d_HU_corrected,'k-', label='HU Distance Prediction')\n",
    "# plt.plot(z,np.log(1+z),'k.', label='George Half-Baked Prediction= ln(1+z)')\n",
    "plt.plot(z,overestimatedDistances(z),'k.',color='r', label='HU Overestimated Distances Prediction')\n",
    "\n",
    "\n",
    "plt.xlabel('RedShift z',**axis_font)\n",
    "plt.ylabel('Fractional Distance (fraction of R0)',**axis_font)\n",
    "plt.title('z vs Distance for Supernova Survey Data', **title_font)\n",
    "plt.grid(True)\n",
    "ax.ticklabel_format(style='sci', axis='x') \n",
    "ax.ticklabel_format(style='sci', axis='y')\n",
    "legend = plt.legend(loc='upper left', shadow=True, fontsize='large')\n",
    "\n",
    "# Put a nicer background color on the legend.\n",
    "legend.get_frame().set_facecolor('#00FFCC')\n",
    "ax.set_ylim(0,3)\n",
    "ax.set_xlim(0,1.4)\n",
    "plt.savefig(parameters.imgAddress + \"comparisonWithNoHalfBaked.png\")\n",
    "plt.show()"
   ]
  },
  {
   "cell_type": "code",
   "execution_count": null,
   "metadata": {},
   "outputs": [],
   "source": [
    "def d_modulus(obs):\n",
    "    billionLY = 13.58E9*uu.clyr/uu.parsec\n",
    "    return 5*np.log10(obs*billionLY)-5"
   ]
  },
  {
   "cell_type": "code",
   "execution_count": null,
   "metadata": {},
   "outputs": [],
   "source": [
    "observed_values = d_modulus(d_bar_measured_corrected)\n",
    "expected_values = d_modulus(d_HU_corrected)\n",
    "chisquare(observed_values, f_exp=expected_values)"
   ]
  },
  {
   "cell_type": "code",
   "execution_count": null,
   "metadata": {},
   "outputs": [],
   "source": [
    "ax=pd.DataFrame(observed_values).plot()\n",
    "pd.DataFrame(expected_values).plot(ax=ax)"
   ]
  },
  {
   "cell_type": "code",
   "execution_count": null,
   "metadata": {},
   "outputs": [],
   "source": []
  },
  {
   "cell_type": "code",
   "execution_count": null,
   "metadata": {},
   "outputs": [],
   "source": [
    "chisquare(d_HU_corrected, d_bar_measured_corrected)"
   ]
  },
  {
   "cell_type": "code",
   "execution_count": null,
   "metadata": {},
   "outputs": [],
   "source": [
    "# [print(x,y) for x, y in zip (observed_values,expected_values)]"
   ]
  },
  {
   "cell_type": "code",
   "execution_count": null,
   "metadata": {},
   "outputs": [],
   "source": [
    "from scipy import signal\n",
    "M= signal.correlate(observed_values,expected_values)\n",
    "np.shape(M), np.shape(observed_values), np.shape(expected_values)"
   ]
  },
  {
   "cell_type": "markdown",
   "metadata": {},
   "source": [
    "The best fitting R0 for the Supernova dataset is for H0=72, that corresponds to R0=13.58.  The best for CMB is R0=14.43, so there is a difference of 0.85 Billion Light Years difference between these two measurements!!!"
   ]
  },
  {
   "cell_type": "code",
   "execution_count": null,
   "metadata": {},
   "outputs": [],
   "source": [
    "DefaultSize=[6,6]\n",
    "axis_font = {'name':'Arial', 'size':'18'}\n",
    "\n",
    "title_font = {'name':'Arial', 'size':'18'}\n",
    "fig, ax = plt.subplots()\n",
    "aa=4/np.pi\n",
    "fig.set_size_inches( DefaultSize )# resetthe size\n",
    "Size = fig.get_size_inches()\n",
    "print (\"Size in Inches\", Size)\n",
    "# define radiuses\n",
    "radius = [x*0.1 for x in range(10)]\n",
    "# print(radius)\n",
    "plt.axis([0, 1.1, 0, 1.1])\n",
    "plt.plot([0,0],[0,1.0])\n",
    "x0 = [0,1]\n",
    "allX=[x0]\n",
    "for i in range(len(alpha_)):\n",
    "    r=1-d_bar_measured_corrected[i]\n",
    "    theta = alpha_[i]*aa\n",
    "    x1=[r*np.sin(theta),r*np.cos(theta)]\n",
    "\n",
    "    plt.plot([x0[0],x1[0]],[x0[1],x1[1]], color=\"y\" )\n",
    "    r = 1-d_HU_corrected[i]\n",
    "    x2=[r*np.sin(theta),r*np.cos(theta)]\n",
    "    allX.append(x2)\n",
    "    plt.plot([x0[0],x2[0]],[x0[1],x2[1]], color='b' )\n",
    "    x0=x2\n",
    "# thetas = [x*math.pi/4*1/(len(radius)) for x in range(len(radius))]\n",
    "ax.add_artist(plt.Circle(xy=(0,0),radius=1, color='r', fill=False))\n",
    "\n",
    "thetas = [x/(len(radius)) for x in range(len(radius))]\n",
    "for i in range(len(radius)):\n",
    "    r=radius[i]\n",
    "    x1=[np.sin(thetas[i]),np.cos(thetas[i])]\n",
    "    plt.plot([0,x1[0]],[0,x1[1]] )\n",
    "    x1=[(1-r)*np.sin(thetas[i]),(1-r)*np.cos(thetas[i])]\n",
    "#     print(r,1-thetas[i])\n",
    "    ax.plot([0,x1[0]],[0,x1[1]],'ro')\n",
    "    ax.add_artist(plt.Circle(xy=(0,0),radius=r, color='b', fill=False))\n",
    "ax.plot([0,0],[0,0],'ro')\n",
    "ax.set_xlabel(\"Hypergeometrical Universe Timeline\", **axis_font)\n",
    "ax.set_ylabel(\"Cosmological Time\", **axis_font)\n",
    "ax.set_title(\"Supernovae Explosions Timeline\", fontdict=title_font)\n",
    "# plt.text(np.sin(math.pi/4),np.cos(math.pi/4), r'$\\theta$=$\\pi$/4', **axis_font)\n",
    "plt.text(np.sin(1),np.cos(1), r'$\\theta$=1 radian', **axis_font)\n",
    "ax.ticklabel_format(style='sci', axis='x') \n",
    "ax.ticklabel_format(style='sci', axis='y') \n",
    "\n",
    "plt.plot([0,np.sin(1)],[0,np.cos(1)])\n",
    "# plt.plot([0,np.sin(math.pi/4)],[0,np.cos(math.pi/4)])\n",
    "ax.set_ylim(0.0,1.2)\n",
    "ax.set_xlim(0,1.2)\n",
    "plt.savefig(parameters.imgAddress + \"UniverseTimeline.png\")\n",
    "plt.show()\n",
    "# AGE OF THE UNIVERSE WHEN THE COSMIC BACKGROUND WAS FORMED!\n",
    "(1-math.pi/4)*13.58, math.pi/4*13.58,1-math.pi/4"
   ]
  },
  {
   "cell_type": "markdown",
   "metadata": {},
   "source": [
    "Here we will discuss the reasons for misinterpretation of the Universe Acceleration\n",
    "\n",
    "Consider\n",
    "$$byears=1E9*365*24*3600$$\n",
    "$$bly=byears*c$$\n",
    "$$R_0 = 13.58*bly$$\n",
    "\n",
    "Acceleration is given by:\n",
    "$$acc=\\frac{3c^2}{4{R_0}}a^{-\\frac{7}{2}}(5-a)$$\n",
    "\n",
    "If one consider instead of $$meters/second^2$$ using units of a $$\\frac{R_0}{byears^2}$$\n",
    "the equation can be rewritten as:\n",
    "$$acc=\\frac{3}{4*{13.58^2}}a^{-\\frac{7}{2}}(5-a)$$\n",
    "or\n",
    "$$acc={0.4067 Percent}*a^{-\\frac{7}{2}}(5-a)$$\n",
    "\n",
    "Currently that would yield:\n",
    "1.626% per billion years"
   ]
  },
  {
   "cell_type": "code",
   "execution_count": null,
   "metadata": {},
   "outputs": [],
   "source": [
    "a= pd.DataFrame([0.01*x for x in range(600)])\n",
    "byears=1E9*365*24*3600\n",
    "bly=byears*cc.c\n",
    "R_0 = 13.58E9*365*24*3600*cc.c\n",
    "cSquaredR0=cc.c**2/R_0*(byears)**2/R_0\n",
    "acc=3/4*(a**(-7/2))*(5-a)*cSquaredR0\n",
    "acc.index=a"
   ]
  },
  {
   "cell_type": "markdown",
   "metadata": {},
   "source": [
    "## Current Acceleration (acceleration for a=1)\n",
    "\n",
    "$$acc=\\frac{3c^2}{4*{13.58^2}}a^{-\\frac{7}{2}}(5-a)$$\n",
    "\n",
    "$$acc=\\frac{3}{(13.58)^2}=0.016267533690062272$$"
   ]
  },
  {
   "cell_type": "code",
   "execution_count": null,
   "metadata": {},
   "outputs": [],
   "source": [
    "fig, ax = plt.subplots()\n",
    "fig.set_size_inches( DefaultSize )# reset the size\n",
    "\n",
    "plt.ticklabel_format(style='sci', axis='y', scilimits=(0,0))\n",
    "ax.text(0.02, 4e4, r'Inflation Period', fontdict=font)\n",
    "ax.text(-0.060, 7e4, r'Acceleration $\\frac{d^2a(t)}{dt^2}$', rotation=\"90\",fontdict=font)\n",
    "ax.set_xlabel(\"R(t)\", **axis_font)\n",
    "ax.plot(acc)\n",
    "ax.ticklabel_format(style='sci', axis='x') \n",
    "ax.ticklabel_format(style='sci', axis='y') \n",
    "ax.set_xlim([0,0.5])\n",
    "ax.set_ylim([0E0,1.0E5])\n",
    "plt.savefig(parameters.imgAddress + \"missAcceleration.png\")"
   ]
  },
  {
   "cell_type": "code",
   "execution_count": null,
   "metadata": {},
   "outputs": [],
   "source": [
    "fig, ax = plt.subplots()\n",
    "fig.set_size_inches( DefaultSize )# resetthe size\n",
    "\n",
    "\n",
    "acc.plot(ax=ax, legend=False)\n",
    "ax.set_xlabel(\"R(t)\", **axis_font)\n",
    "ax.text(1.4, 0.02, r'Slow Expansion Period', fontdict=font)\n",
    "ax.text(0.78, 0.02, r'Acceleration $\\frac{d^2a(t)}{dt^2}$', rotation=\"90\",fontdict=font)\n",
    "ax.set_xlim([0.9,2])\n",
    "ax.set_ylim([0.0,0.025])\n",
    "ax.ticklabel_format(style='sci', axis='x') \n",
    "ax.ticklabel_format(style='sci', axis='y') \n",
    "plt.savefig(parameters.imgAddress + \"missAcceleration1.png\")"
   ]
  },
  {
   "cell_type": "code",
   "execution_count": null,
   "metadata": {},
   "outputs": [],
   "source": [
    "acc[0].iloc[599]"
   ]
  },
  {
   "cell_type": "markdown",
   "metadata": {},
   "source": [
    "# Below is the application of the theory to the usd Wil Supernova (z=1.917)"
   ]
  },
  {
   "cell_type": "code",
   "execution_count": null,
   "metadata": {},
   "outputs": [],
   "source": [
    "# Cosmological Angle\n",
    "def alpha(z):\n",
    "    return [math.pi/4 - math.asin(1/math.sqrt(2)/(1+x)) for x in z]\n",
    "# 4D Radius of the Universe\n",
    "def RofT(z):\n",
    "    a = alpha(z)\n",
    "    return [math.cos(x) - math.sin(x) for x in a]\n",
    "# Distance to the Epoch\n",
    "def DistanceOfT(z):\n",
    "    d= 13.58\n",
    "    return [(1-x)*d for x in RofT(z)]"
   ]
  },
  {
   "cell_type": "code",
   "execution_count": null,
   "metadata": {},
   "outputs": [],
   "source": [
    "z=[1.307,1.917,3.8993]\n",
    "alpha(z), RofT(z), DistanceOfT(z)"
   ]
  },
  {
   "cell_type": "markdown",
   "metadata": {
    "collapsed": true
   },
   "source": [
    "If I want to know what is the currently perceived distance, I just have to multiply the actual distance by $RofT(z)^{-1.5}$"
   ]
  },
  {
   "cell_type": "code",
   "execution_count": null,
   "metadata": {},
   "outputs": [],
   "source": [
    "fig, ax = plt.subplots()\n",
    "fig.set_size_inches( DefaultSize )# resetthe size\n",
    "ApparentDistance={}\n",
    "ApparentDistance['z']=list(range(1080))\n",
    "ApparentDistance['DL'] = [(1-RofT([x])[0])*(RofT([x])[0])**(-1.5) for x in ApparentDistance['z']]\n",
    "ApparentDistance\n",
    "ApparentDistance=pd.DataFrame.from_dict(ApparentDistance)\n",
    "ApparentDistance.plot(ax=ax,x='z',y='DL',ylim=[0,35000],  legend=False,fontsize=12)\n",
    "ax.ticklabel_format(style='sci', axis='x') \n",
    "ax.ticklabel_format(style='sci', axis='y') \n",
    "plt.xlabel('redshift z', **axis_font)\n",
    "plt.ylabel('Apparent Distance on L-CDM (Gly)', **axis_font)\n",
    "plt.title('Apparent Distance on L:CDM (GLY) vs Z',**title_font)\n",
    "plt.savefig(parameters.imgAddress + \"ApparentDistanceLCDM.png\")"
   ]
  },
  {
   "cell_type": "code",
   "execution_count": null,
   "metadata": {},
   "outputs": [],
   "source": [
    "fig, ax = plt.subplots()\n",
    "fig.set_size_inches( DefaultSize )# resetthe size\n",
    "ApparentDistance={}\n",
    "ApparentDistance['z']=list([x*0.001 for x in range(2080)])\n",
    "ApparentDistance['DL'] = [(1-RofT([x])[0]) for x in ApparentDistance['z']]\n",
    "ApparentDistance\n",
    "ApparentDistance=pd.DataFrame.from_dict(ApparentDistance)\n",
    "ApparentDistance.plot(ax=ax, x='z',y='DL',ylim=[0,1],  legend=False)\n",
    "ax.ticklabel_format(style='sci', axis='x') \n",
    "ax.ticklabel_format(style='sci', axis='y') \n",
    "plt.xlabel('redshift z',**axis_font)\n",
    "plt.ylabel('Apparent Distance on HU (fractional)',**axis_font)\n",
    "plt.title('Apparent Distance on HU (fractional)',**title_font)\n",
    "plt.savefig(parameters.imgAddress + \"ApparentDistanceHU.png\")"
   ]
  },
  {
   "cell_type": "markdown",
   "metadata": {},
   "source": [
    "# This Supernova should be at 8.924 billion light-years away (in an Universe that has a 4D Radius of 13.58 bly).  The farthest (z=3.8993) has an apparent distance of 117 billion light-years but it is located at 10.8 billion light years.  \n",
    "\n",
    "# That Supernova exploded when the Universe was 13.58-10.8=2.78 billion years old"
   ]
  },
  {
   "cell_type": "code",
   "execution_count": null,
   "metadata": {},
   "outputs": [],
   "source": [
    "(13.58/2.78)**1.5*10.8"
   ]
  },
  {
   "cell_type": "markdown",
   "metadata": {},
   "source": [
    "Optical Spectra Catalog Data\n",
    "Catalogs of parameters derived from the SDSS/BOSS optical spectra and matched to photometric data are documented on the optical spectra data page. These can be directly downloaded from the links on that page, or via wget commands. For example, to download the redshifts and classifications of all SDSS spectra (4.5 GB):\n",
    "\n",
    "wget --spider http://data.sdss3.org/sas/dr12/sdss/spectro/redux/specObj-dr12.fits\n",
    "Or to get the associated photometric position based matches (12 GB):\n",
    "\n",
    "wget --spider http://data.sdss3.org/sas/dr12/sdss/spectro/redux/photoPosPlate-dr12.fits\n",
    "The stellar parameter (SSPP) results can be downloaded similarly (1.8 GB):\n",
    "\n",
    "wget --spider http://data.sdss3.org/sas/dr12/sdss/sspp/ssppOut-dr10.fits\n"
   ]
  },
  {
   "cell_type": "markdown",
   "metadata": {},
   "source": [
    "# Here we create a simulated observation_values out of a known Gaussian distributed errors array. The predicted values match the observed values within a 1% Gaussian Distributed error band.  No bias."
   ]
  },
  {
   "cell_type": "code",
   "execution_count": null,
   "metadata": {},
   "outputs": [],
   "source": [
    "fig, ax = plt.subplots()\n",
    "\n",
    "fig.set_size_inches( DefaultSize )# resetthe size\n",
    "observed_values = pd.DataFrame(d_modulus(d_bar_measured_corrected), columns=['observed_values'])\n",
    "expected_values = pd.DataFrame(d_modulus(d_HU_corrected), columns=['expected_values'])\n",
    "expected_values.plot(ax=ax, fontsize=12)\n",
    "observed_values.plot(ax=ax, fontsize=12)\n",
    "plt.title('HU Distance Modules Statistics', fontdict=title_font)\n",
    "plt.xlabel('Observation', **axis_font)\n",
    "plt.ylabel('Distance Modulus', **axis_font)\n",
    "plt.savefig(parameters.imgAddress + \"HUDistanceModulusStat.png\")\n",
    "legend = plt.legend(loc='upper left', shadow=True, fontsize='large')\n",
    "ax.ticklabel_format(style='sci', axis='x') \n",
    "ax.ticklabel_format(style='sci', axis='y') \n",
    "chisquare(observed_values, f_exp=expected_values), np.std(observed_values.values-expected_values.values)"
   ]
  },
  {
   "cell_type": "code",
   "execution_count": null,
   "metadata": {},
   "outputs": [],
   "source": [
    "fig, ax = plt.subplots()\n",
    "fig.set_size_inches( DefaultSize )# resetthe size\n",
    "x=0.030\n",
    "expected_values = pd.DataFrame(d_modulus(d_HU_corrected))\n",
    "randomAdj = pd.DataFrame(np.random.rand(expected_values.shape[0]))-0.5\n",
    "observed_values = expected_values*(1+ x* randomAdj)\n",
    "expected_values.columns=['expected_values']\n",
    "observed_values.columns=['observed_values']\n",
    "expected_values.plot(ax=ax,fontsize=12)\n",
    "observed_values.plot(ax=ax)\n",
    "plt.title('Simulated HU Distance Modules Statistics',fontdict=title_font)\n",
    "plt.xlabel('Observation',**axis_font)\n",
    "plt.ylabel('Distance Modulus',**axis_font)\n",
    "legend = plt.legend(loc='upper left', shadow=True, fontsize='large')\n",
    "ax.ticklabel_format(style='sci', axis='x') \n",
    "ax.ticklabel_format(style='sci', axis='y') \n",
    "plt.savefig(parameters.imgAddress + \"HUDistanceModulusStatSimulated.png\")\n",
    "chisquare(observed_values, f_exp=expected_values), np.std(observed_values.values-expected_values.values)"
   ]
  },
  {
   "cell_type": "code",
   "execution_count": null,
   "metadata": {},
   "outputs": [],
   "source": [
    "np.mean(observed_values)/2.5131111621858482"
   ]
  },
  {
   "cell_type": "code",
   "execution_count": null,
   "metadata": {},
   "outputs": [],
   "source": [
    "fig, ax = plt.subplots()\n",
    "fig.set_size_inches( DefaultSize )# resetthe size\n",
    "data = SCPData['redshift']\n",
    "bins=np.linspace(0,1.4,50)\n",
    "digitized = np.digitize(data, bins)\n",
    "digUnique= np.unique(digitized)\n",
    "bin_means = [np.mean(data[digitized == i]) for i in digUnique ]\n",
    "bin_count = [np.size(digitized[digitized == i]) for i in digUnique ]\n",
    "x=pd.DataFrame(bin_means)\n",
    "y=pd.DataFrame(bin_count)\n",
    "plt.plot(x,y)\n",
    "ax.set_xlim(0.0,1.40)\n",
    "ax.set_ylim(0.0,80.0)\n",
    "plt.title(\"SN1a Union2.1 Supernova z Distribution\", fontdict=font)\n",
    "plt.xlabel(\"Redshift z\",**axis_font)\n",
    "plt.ylabel(\"Number of SN1a\",**axis_font)\n",
    "plt.savefig(parameters.imgAddress + \"SN1a_SupernovaZDistribution.png\")"
   ]
  },
  {
   "cell_type": "code",
   "execution_count": null,
   "metadata": {},
   "outputs": [],
   "source": [
    "DefaultSize=[8,8]\n",
    "\n",
    "font = {'family' : 'normal',\n",
    "        'weight' : 'regular',\n",
    "        'size'   : 18}\n",
    "\n",
    "matplotlib.rc('font', **font)\n",
    "\n",
    "axis_font = {'name':'Arial', 'size':'18'}\n",
    "label_font = {'name':'Arial', 'size':'18'}\n",
    "\n",
    "title_font = {'name':'Arial', 'size':'20'}\n",
    "fig, ax = plt.subplots()\n",
    "fig.set_size_inches( DefaultSize )# resetthe size\n",
    "Size = fig.get_size_inches()\n",
    "print (\"Size in Inches\", Size)\n",
    "# define radiuses\n",
    "n=10\n",
    "radius = [x*0.1 for x in range(n+1)]\n",
    "thetas = [x/(len(radius)) for x in range(len(radius))]\n",
    "# print(radius)\n",
    "plt.axis([0, 1.1, 0, 1.1])\n",
    "plt.plot([0,0],[0,1.0])\n",
    "x0 = [0,1]\n",
    "allX=[x0]\n",
    "for i in range(0,n+1):\n",
    "    ax.add_artist(plt.Circle(xy=(0,0),radius=i/n, color='r', fill=False))\n",
    "    r=radius[i]\n",
    "    x1=[np.sin(thetas[i]),np.cos(thetas[i])]\n",
    "    plt.plot([0,x1[0]],[0,x1[1]] )\n",
    "    x1=[(1-r)*np.sin(thetas[i]),(1-r)*np.cos(thetas[i])]\n",
    "    \n",
    "for j in range(1, n+1):\n",
    "    x=[]\n",
    "    y=[]\n",
    "    for i in range(0,100):\n",
    "        miniangle=i*6*np.pi/99\n",
    "        angle=1-thetas[j]-i/n/100\n",
    "        rad=radius[j]+0.01*np.cos(miniangle)\n",
    "        x.append(rad*np.sin(angle))\n",
    "        y.append(rad*np.cos(angle))\n",
    "    plt.plot(x,y,\".\")\n",
    "        \n",
    "    \n",
    "    \n",
    "ax.plot([0,0],[0,0],'ro')\n",
    "ax.set_xlabel(\"Cosmological Time\", **label_font)\n",
    "ax.set_ylabel(\"Cosmological Time\", **label_font)\n",
    "ax.set_title(\"Wavelength Stretching\", fontdict=title_font)\n",
    "# plt.text(np.sin(math.pi/4),np.cos(math.pi/4), r'$\\theta$=$\\pi$/4', **axis_font)\n",
    "plt.text(np.sin(1),np.cos(1), r'$\\theta$=1 radian', **axis_font)\n",
    "ax.ticklabel_format(style='sci', axis='x') \n",
    "ax.ticklabel_format(style='sci', axis='y') \n",
    "plt.savefig(parameters.imgAddress + \"WavelengthStretching.png\", dpi=300)"
   ]
  },
  {
   "cell_type": "code",
   "execution_count": null,
   "metadata": {},
   "outputs": [],
   "source": [
    "def pl(theta,l):\n",
    "    return legendre(l)(np.cos(theta/180.0*np.pi))"
   ]
  },
  {
   "cell_type": "code",
   "execution_count": null,
   "metadata": {},
   "outputs": [],
   "source": [
    "min = 0\n",
    "max = 180.0\n",
    "step = 0.05\n",
    "x = np.arange(min,max+step,step)\n",
    "y=0*x\n",
    "\n",
    "\n",
    "for n in range(1,20,2):\n",
    "    y = pl(x*2,n)+y\n",
    "plt.plot(x, y)\n",
    "\n",
    "\n",
    "plt.xlim(0,90.0)\n",
    "# plt.ylim(-0.5,1.01)\n",
    "plt.plot([0,180],[0,0])\n",
    "\n",
    "plt.savefig('legendre_polynomes.png')\n",
    "plt.show()"
   ]
  },
  {
   "cell_type": "code",
   "execution_count": null,
   "metadata": {},
   "outputs": [],
   "source": []
  },
  {
   "cell_type": "code",
   "execution_count": null,
   "metadata": {},
   "outputs": [],
   "source": []
  }
 ],
 "metadata": {
  "anaconda-cloud": {},
  "kernelspec": {
   "display_name": "Python 3",
   "language": "python",
   "name": "python3"
  },
  "language_info": {
   "codemirror_mode": {
    "name": "ipython",
    "version": 3
   },
   "file_extension": ".py",
   "mimetype": "text/x-python",
   "name": "python",
   "nbconvert_exporter": "python",
   "pygments_lexer": "ipython3",
   "version": "3.8.3"
  }
 },
 "nbformat": 4,
 "nbformat_minor": 1
}
