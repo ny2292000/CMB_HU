{
 "cells": [
  {
   "cell_type": "code",
   "execution_count": null,
   "id": "ac279814-fd82-46ec-bd15-63dbdf287294",
   "metadata": {},
   "outputs": [],
   "source": [
    "import numpy as np\n",
    "import matplotlib.pyplot as plt\n",
    "\n",
    "# Define the range and function\n",
    "x = np.linspace(1, 0.99, 500)  # arcosh is defined for x >= 1\n",
    "y = np.arctanh(x)\n",
    "\n",
    "# Plot the function\n",
    "plt.figure(figsize=(8, 5))\n",
    "plt.plot(x, y, label=r'$\\mathrm{arcosh}(x)$', linewidth=2)\n",
    "plt.title(\"Plot of $\\mathrm{arcosh}(x)$\", fontsize=16)\n",
    "plt.xlabel(\"x\", fontsize=14)\n",
    "plt.ylabel(r\"$\\mathrm{arcosh}(x)$\", fontsize=14)\n",
    "plt.grid(True)\n",
    "plt.legend(fontsize=12)\n",
    "plt.show()\n"
   ]
  },
  {
   "cell_type": "code",
   "execution_count": null,
   "id": "2d6b536e-7839-49f5-b19a-d587c33cd125",
   "metadata": {},
   "outputs": [],
   "source": [
    "# Define the arctan_HU function to handle numpy arrays\n",
    "def arctan_HU(x):\n",
    "    # Use numpy's vectorized operations to apply the function element-wise\n",
    "    y = np.where(\n",
    "        x > 1, \n",
    "        0.5 * np.abs((np.log(x) - 1) / (np.log(x) + 1)),  # Apply the custom formula for x < 1\n",
    "        np.arctanh(x)  # Use arctanh(x) for x >= 1\n",
    "    )\n",
    "    return y\n",
    "\n",
    "# Test the function with a numpy array\n",
    "x = np.linspace(0, 5, 500)  # Including values both below and above 1\n",
    "y = arctan_HU(x)\n",
    "\n",
    "# Plot the function\n",
    "plt.figure(figsize=(8, 5))\n",
    "plt.plot(x, y, label=r'arctan\\_HU(x)', linewidth=2)\n",
    "plt.title(\"Plot of arctan_HU(x)\", fontsize=16)\n",
    "plt.xlabel(\"x\", fontsize=14)\n",
    "plt.ylabel(\"arctan_HU(x)\", fontsize=14)\n",
    "plt.grid(True)\n",
    "plt.xlim([0,10])\n",
    "plt.legend(fontsize=12)\n",
    "plt.show()\n"
   ]
  },
  {
   "cell_type": "code",
   "execution_count": null,
   "id": "7b0326a3-e8aa-4b19-ab16-4ed61c182506",
   "metadata": {},
   "outputs": [],
   "source": []
  }
 ],
 "metadata": {
  "kernelspec": {
   "display_name": "Python [conda env:Cosmos3020]",
   "language": "python",
   "name": "conda-env-Cosmos3020-py"
  },
  "language_info": {
   "codemirror_mode": {
    "name": "ipython",
    "version": 3
   },
   "file_extension": ".py",
   "mimetype": "text/x-python",
   "name": "python",
   "nbconvert_exporter": "python",
   "pygments_lexer": "ipython3",
   "version": "3.11.9"
  }
 },
 "nbformat": 4,
 "nbformat_minor": 5
}
