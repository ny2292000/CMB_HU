{
 "cells": [
  {
   "cell_type": "code",
   "execution_count": null,
   "id": "a1108e81",
   "metadata": {},
   "outputs": [],
   "source": [
    "import periodictable\n",
    "import pandas as pd\n",
    "import numpy as np\n",
    "import ace_tools_open as tools\n",
    "\n",
    "# Empirical nuclear radius constant (in femtometers)\n",
    "r0 = 1.2  \n",
    "\n",
    "# Function to compute nuclear volume from nuclear radius\n",
    "def nuclear_volume(A):\n",
    "    radius = r0 * (A ** (1/3))  # Estimate nuclear radius\n",
    "    return (4/3) * np.pi * (radius ** 3) if radius else None\n",
    "\n",
    "# Extract isotope data\n",
    "data = []\n",
    "for element in periodictable.elements:\n",
    "    for isotope in element:\n",
    "        if hasattr(isotope, \"mass\") and isotope.mass:\n",
    "            mass_number = isotope.mass\n",
    "            volume = nuclear_volume(mass_number)  # Compute nuclear volume\n",
    "            density = isotope.mass / volume if volume else None  # Compute density\n",
    "            data.append({\n",
    "                \"Element\": element.symbol,\n",
    "                \"Isotope\": mass_number,\n",
    "                \"Mass (amu)\": isotope.mass,\n",
    "                \"Radius (fm)\": r0 * (mass_number ** (1/3)),\n",
    "                \"Volume (fm³)\": volume,\n",
    "                \"Density (amu/fm³)\": density\n",
    "            })\n",
    "\n",
    "# Create DataFrame\n",
    "df = pd.DataFrame(data)\n",
    "\n",
    "# Display the dataframe\n",
    "tools.display_dataframe_to_user(name=\"Isotope Density Data\", dataframe=df)\n"
   ]
  }
 ],
 "metadata": {
  "kernelspec": {
   "display_name": "Python [conda env:Cosmos3020]",
   "language": "python",
   "name": "conda-env-Cosmos3020-py"
  },
  "language_info": {
   "codemirror_mode": {
    "name": "ipython",
    "version": 3
   },
   "file_extension": ".py",
   "mimetype": "text/x-python",
   "name": "python",
   "nbconvert_exporter": "python",
   "pygments_lexer": "ipython3",
   "version": "3.10.13"
  }
 },
 "nbformat": 4,
 "nbformat_minor": 5
}
