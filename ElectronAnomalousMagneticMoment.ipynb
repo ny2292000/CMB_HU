{
 "cells": [
  {
   "cell_type": "code",
   "execution_count": null,
   "id": "8e9a586d-6e6e-404e-848e-fd2a2136eb90",
   "metadata": {},
   "outputs": [],
   "source": [
    "import numpy as np\n",
    "import matplotlib.pyplot as plt\n",
    "\n",
    "# Function to plot a circle\n",
    "def plot_circle(ax, center, radius, linestyle='-', color='b'):\n",
    "    theta = np.linspace(0, 2*np.pi, 300)\n",
    "    x = center[0] + radius * np.cos(theta)\n",
    "    y = center[1] + radius * np.sin(theta)\n",
    "    ax.plot(x, y, linestyle=linestyle, color=color)\n",
    "\n",
    "# Initialize plot\n",
    "fig, ax = plt.subplots(figsize=(6,6))\n",
    "ax.set_aspect('equal')\n",
    "ax.set_xlim(-4, 4)\n",
    "ax.set_ylim(-4, 4)\n",
    "\n",
    "# Plot three main concentric circles at origin\n",
    "center = (0, 0)\n",
    "radii = [1, 2, 3]\n",
    "for r in radii:\n",
    "    plot_circle(ax, center, r, linestyle='-', color='black')\n",
    "\n",
    "# Select random angles to place new wave sources\n",
    "np.random.seed(42)  # For reproducibility\n",
    "angles = np.random.uniform(0, 2*np.pi, 1)\n",
    "\n",
    "# Generate new waves at selected points\n",
    "for i, angle in enumerate(radii):\n",
    "    x_new = center[0] + radii[i] * np.cos(angle)\n",
    "    y_new = center[1] + radii[i] * np.sin(angle)\n",
    "    for j, rad in enumerate(radii):\n",
    "        plot_circle(ax, (x_new, y_new), rad, linestyle='--', color='r')\n",
    "        ax.scatter(x_new, y_new, color='blue', zorder=3)  # Mark the new centers\n",
    "\n",
    "# Mark the original center\n",
    "ax.scatter(*center, color='black', zorder=3, label='Emitter')\n",
    "ax.legend()\n",
    "plt.title(\"Huygens' Principle with Backscattering Waves\")\n",
    "plt.savefig(\"./Drawing_For_Publications/BackScattering_AnomalousElectronMagneticMoment.png\")\n",
    "plt.show()\n"
   ]
  },
  {
   "cell_type": "code",
   "execution_count": null,
   "id": "566de5e6-0423-4bfe-9440-f9b189c285db",
   "metadata": {},
   "outputs": [],
   "source": []
  }
 ],
 "metadata": {
  "kernelspec": {
   "display_name": "Python [conda env:Cosmos3020]",
   "language": "python",
   "name": "conda-env-Cosmos3020-py"
  },
  "language_info": {
   "codemirror_mode": {
    "name": "ipython",
    "version": 3
   },
   "file_extension": ".py",
   "mimetype": "text/x-python",
   "name": "python",
   "nbconvert_exporter": "python",
   "pygments_lexer": "ipython3",
   "version": "3.11.9"
  }
 },
 "nbformat": 4,
 "nbformat_minor": 5
}
