{
 "cells": [
  {
   "cell_type": "code",
   "execution_count": 2,
   "metadata": {},
   "outputs": [
    {
     "data": {
      "text/plain": [
       "Dense(shape=(2, 1), fortran=True)"
      ]
     },
     "execution_count": 2,
     "metadata": {},
     "output_type": "execute_result"
    }
   ],
   "source": [
    "# https://github.com/qutip/qutip-cupy\n",
    "\n",
    "import qutip \n",
    "import qutip_cupy\n",
    "\n",
    "qobj = qutip.Qobj([0, 1], type=\"cupyd\")\n",
    "qobj.data"
   ]
  },
  {
   "cell_type": "code",
   "execution_count": 3,
   "metadata": {},
   "outputs": [
    {
     "ename": "TypeError",
     "evalue": "incompatible matmul types 'oper' and 'cupyd'",
     "output_type": "error",
     "traceback": [
      "\u001b[0;31m---------------------------------------------------------------------------\u001b[0m",
      "\u001b[0;31mTypeError\u001b[0m                                 Traceback (most recent call last)",
      "\u001b[0;32m/tmp/ipykernel_15318/2588770801.py\u001b[0m in \u001b[0;36m<module>\u001b[0;34m\u001b[0m\n\u001b[1;32m      4\u001b[0m \u001b[0mU\u001b[0m \u001b[0;34m=\u001b[0m \u001b[0mqutip\u001b[0m\u001b[0;34m.\u001b[0m\u001b[0mQobj\u001b[0m\u001b[0;34m(\u001b[0m\u001b[0;34m[\u001b[0m\u001b[0;34m[\u001b[0m\u001b[0mnp\u001b[0m\u001b[0;34m.\u001b[0m\u001b[0mcos\u001b[0m\u001b[0;34m(\u001b[0m\u001b[0mtheta\u001b[0m\u001b[0;34m)\u001b[0m\u001b[0;34m,\u001b[0m \u001b[0;36m1.j\u001b[0m\u001b[0;34m*\u001b[0m\u001b[0mnp\u001b[0m\u001b[0;34m.\u001b[0m\u001b[0msin\u001b[0m\u001b[0;34m(\u001b[0m\u001b[0mtheta\u001b[0m\u001b[0;34m)\u001b[0m\u001b[0;34m]\u001b[0m\u001b[0;34m,\u001b[0m\u001b[0;34m[\u001b[0m\u001b[0;34m-\u001b[0m\u001b[0;36m1.j\u001b[0m\u001b[0;34m*\u001b[0m\u001b[0mnp\u001b[0m\u001b[0;34m.\u001b[0m\u001b[0msin\u001b[0m\u001b[0;34m(\u001b[0m\u001b[0mtheta\u001b[0m\u001b[0;34m)\u001b[0m\u001b[0;34m,\u001b[0m\u001b[0mnp\u001b[0m\u001b[0;34m.\u001b[0m\u001b[0mcos\u001b[0m\u001b[0;34m(\u001b[0m\u001b[0mtheta\u001b[0m\u001b[0;34m)\u001b[0m \u001b[0;34m]\u001b[0m\u001b[0;34m]\u001b[0m\u001b[0;34m)\u001b[0m\u001b[0;34m.\u001b[0m\u001b[0mto\u001b[0m\u001b[0;34m(\u001b[0m\u001b[0;34m'cupyd'\u001b[0m\u001b[0;34m)\u001b[0m\u001b[0;34m\u001b[0m\u001b[0;34m\u001b[0m\u001b[0m\n\u001b[1;32m      5\u001b[0m \u001b[0;34m\u001b[0m\u001b[0m\n\u001b[0;32m----> 6\u001b[0;31m \u001b[0mqobj_end\u001b[0m \u001b[0;34m=\u001b[0m \u001b[0mU\u001b[0m \u001b[0;34m@\u001b[0m \u001b[0mqobj\u001b[0m\u001b[0;34m\u001b[0m\u001b[0;34m\u001b[0m\u001b[0m\n\u001b[0m\u001b[1;32m      7\u001b[0m \u001b[0;34m\u001b[0m\u001b[0m\n\u001b[1;32m      8\u001b[0m \u001b[0mqobj_end\u001b[0m\u001b[0;34m.\u001b[0m\u001b[0mdata\u001b[0m\u001b[0;34m\u001b[0m\u001b[0;34m\u001b[0m\u001b[0m\n",
      "\u001b[0;32m~/anaconda3/envs/AAAA_CMB_HU/lib/python3.9/site-packages/qutip/core/qobj.py\u001b[0m in \u001b[0;36m__matmul__\u001b[0;34m(self, other)\u001b[0m\n\u001b[1;32m    525\u001b[0m             \u001b[0mtype_\u001b[0m \u001b[0;34m=\u001b[0m \u001b[0m_MATMUL_TYPE_LOOKUP\u001b[0m\u001b[0;34m[\u001b[0m\u001b[0;34m(\u001b[0m\u001b[0mself\u001b[0m\u001b[0;34m.\u001b[0m\u001b[0mtype\u001b[0m\u001b[0;34m,\u001b[0m \u001b[0mother\u001b[0m\u001b[0;34m.\u001b[0m\u001b[0mtype\u001b[0m\u001b[0;34m)\u001b[0m\u001b[0;34m]\u001b[0m\u001b[0;34m\u001b[0m\u001b[0;34m\u001b[0m\u001b[0m\n\u001b[1;32m    526\u001b[0m         \u001b[0;32mexcept\u001b[0m \u001b[0mKeyError\u001b[0m\u001b[0;34m:\u001b[0m\u001b[0;34m\u001b[0m\u001b[0;34m\u001b[0m\u001b[0m\n\u001b[0;32m--> 527\u001b[0;31m             raise TypeError(\n\u001b[0m\u001b[1;32m    528\u001b[0m                 \u001b[0;34m\"incompatible matmul types \"\u001b[0m\u001b[0;34m\u001b[0m\u001b[0;34m\u001b[0m\u001b[0m\n\u001b[1;32m    529\u001b[0m                 \u001b[0;34m+\u001b[0m \u001b[0mrepr\u001b[0m\u001b[0;34m(\u001b[0m\u001b[0mself\u001b[0m\u001b[0;34m.\u001b[0m\u001b[0mtype\u001b[0m\u001b[0;34m)\u001b[0m \u001b[0;34m+\u001b[0m \u001b[0;34m\" and \"\u001b[0m \u001b[0;34m+\u001b[0m \u001b[0mrepr\u001b[0m\u001b[0;34m(\u001b[0m\u001b[0mother\u001b[0m\u001b[0;34m.\u001b[0m\u001b[0mtype\u001b[0m\u001b[0;34m)\u001b[0m\u001b[0;34m\u001b[0m\u001b[0;34m\u001b[0m\u001b[0m\n",
      "\u001b[0;31mTypeError\u001b[0m: incompatible matmul types 'oper' and 'cupyd'"
     ]
    }
   ],
   "source": [
    "import numpy as np \n",
    "theta = (1/2)*np.pi\n",
    "\n",
    "U = qutip.Qobj([[np.cos(theta), 1.j*np.sin(theta)],[-1.j*np.sin(theta),np.cos(theta) ]]).to('cupyd')\n",
    "\n",
    "qobj_end = U @ qobj\n",
    "\n",
    "qobj_end.data"
   ]
  },
  {
   "cell_type": "code",
   "execution_count": 4,
   "metadata": {},
   "outputs": [
    {
     "ename": "NameError",
     "evalue": "name 'qobj_end' is not defined",
     "output_type": "error",
     "traceback": [
      "\u001b[0;31m---------------------------------------------------------------------------\u001b[0m",
      "\u001b[0;31mNameError\u001b[0m                                 Traceback (most recent call last)",
      "\u001b[0;32m/tmp/ipykernel_15318/2086433589.py\u001b[0m in \u001b[0;36m<module>\u001b[0;34m\u001b[0m\n\u001b[0;32m----> 1\u001b[0;31m \u001b[0moverlap\u001b[0m \u001b[0;34m=\u001b[0m \u001b[0mqobj_end\u001b[0m\u001b[0;34m.\u001b[0m\u001b[0moverlap\u001b[0m\u001b[0;34m(\u001b[0m\u001b[0mqobj\u001b[0m\u001b[0;34m)\u001b[0m\u001b[0;34m\u001b[0m\u001b[0;34m\u001b[0m\u001b[0m\n\u001b[0m\u001b[1;32m      2\u001b[0m \u001b[0mnp\u001b[0m\u001b[0;34m.\u001b[0m\u001b[0mlinalg\u001b[0m\u001b[0;34m.\u001b[0m\u001b[0mnorm\u001b[0m\u001b[0;34m(\u001b[0m\u001b[0moverlap\u001b[0m\u001b[0;34m)\u001b[0m\u001b[0;34m**\u001b[0m\u001b[0;36m2\u001b[0m\u001b[0;34m\u001b[0m\u001b[0;34m\u001b[0m\u001b[0m\n",
      "\u001b[0;31mNameError\u001b[0m: name 'qobj_end' is not defined"
     ]
    }
   ],
   "source": [
    "overlap = qobj_end.overlap(qobj)\n",
    "np.linalg.norm(overlap)**2"
   ]
  },
  {
   "cell_type": "code",
   "execution_count": 5,
   "metadata": {},
   "outputs": [],
   "source": [
    "# Visualization of quantum spin states and state vectors\n",
    "# https://qutip.org/docs/latest/guide/guide-visualization.html\n",
    "import numpy as np\n",
    "from qutip import *\n",
    "import matplotlib.pyplot as plt"
   ]
  },
  {
   "cell_type": "code",
   "execution_count": 6,
   "metadata": {},
   "outputs": [
    {
     "name": "stdout",
     "output_type": "stream",
     "text": [
      "Quantum object: dims=[[1], [1]], shape=(1, 1), type='bra'\n",
      "Qobj data =\n",
      "[[0.]]\n"
     ]
    }
   ],
   "source": [
    "print(Qobj())"
   ]
  },
  {
   "cell_type": "code",
   "execution_count": 7,
   "metadata": {},
   "outputs": [
    {
     "name": "stdout",
     "output_type": "stream",
     "text": [
      "Quantum object: dims=[[5], [1]], shape=(5, 1), type='ket'\n",
      "Qobj data =\n",
      "[[1.]\n",
      " [2.]\n",
      " [3.]\n",
      " [4.]\n",
      " [5.]]\n"
     ]
    }
   ],
   "source": [
    "print(Qobj([[1],[2],[3],[4],[5]]))"
   ]
  },
  {
   "cell_type": "code",
   "execution_count": 8,
   "metadata": {},
   "outputs": [
    {
     "name": "stdout",
     "output_type": "stream",
     "text": [
      "Quantum object: dims=[[1], [5]], shape=(1, 5), type='bra'\n",
      "Qobj data =\n",
      "[[1. 2. 3. 4. 5.]]\n"
     ]
    }
   ],
   "source": [
    "x = np.array([[1, 2, 3, 4, 5]])\n",
    "print(Qobj(x))"
   ]
  },
  {
   "cell_type": "code",
   "execution_count": 9,
   "metadata": {},
   "outputs": [
    {
     "name": "stdout",
     "output_type": "stream",
     "text": [
      "Quantum object: dims=[[4], [4]], shape=(4, 4), type='oper', isherm=False\n",
      "Qobj data =\n",
      "[[0.43538054 0.80494365 0.80324715 0.79864005]\n",
      " [0.42504205 0.90400681 0.85997776 0.72800722]\n",
      " [0.14738281 0.01459964 0.74840263 0.20948165]\n",
      " [0.01091522 0.15676471 0.99848898 0.26925234]]\n"
     ]
    }
   ],
   "source": [
    "r = np.random.rand(4, 4)\n",
    "print(Qobj(r))"
   ]
  },
  {
   "cell_type": "code",
   "execution_count": 10,
   "metadata": {},
   "outputs": [
    {
     "name": "stdout",
     "output_type": "stream",
     "text": [
      "Quantum object: dims=[[2], [2]], shape=(2, 2), type='oper', isherm=True\n",
      "Qobj data =\n",
      "[[0. 1.]\n",
      " [1. 0.]] Quantum object: dims=[[2], [2]], shape=(2, 2), type='oper', isherm=True\n",
      "Qobj data =\n",
      "[[0.+0.j 0.-1.j]\n",
      " [0.+1.j 0.+0.j]] Quantum object: dims=[[2], [2]], shape=(2, 2), type='oper', isherm=True\n",
      "Qobj data =\n",
      "[[ 1.  0.]\n",
      " [ 0. -1.]] Quantum object: dims=[[2], [2]], shape=(2, 2), type='oper', isherm=False\n",
      "Qobj data =\n",
      "[[0. 1.]\n",
      " [0. 0.]] Quantum object: dims=[[2], [2]], shape=(2, 2), type='oper', isherm=False\n",
      "Qobj data =\n",
      "[[0. 0.]\n",
      " [1. 0.]]\n"
     ]
    }
   ],
   "source": [
    "print(sigmax(),sigmay(),sigmaz(),sigmap(), sigmam())"
   ]
  },
  {
   "cell_type": "code",
   "execution_count": 11,
   "metadata": {},
   "outputs": [
    {
     "data": {
      "text/latex": [
       "Quantum object: dims=[[2], [2]], shape=(2, 2), type='oper', isherm=True\\begin{equation*}\\left(\\begin{array}{*{11}c}0 & 0\\\\0 & 0\\end{array}\\right)\\end{equation*}"
      ],
      "text/plain": [
       "Quantum object: dims=[[2], [2]], shape=(2, 2), type='oper', isherm=True\n",
       "Qobj data =\n",
       "[[0. 0.]\n",
       " [0. 0.]]"
      ]
     },
     "execution_count": 11,
     "metadata": {},
     "output_type": "execute_result"
    }
   ],
   "source": [
    "sigmax()*sigmay()+ sigmay()*sigmax() "
   ]
  },
  {
   "cell_type": "code",
   "execution_count": 12,
   "metadata": {},
   "outputs": [
    {
     "data": {
      "text/latex": [
       "Quantum object: dims=[[5], [1]], shape=(5, 1), type='ket'\\begin{equation*}\\left(\\begin{array}{*{11}c}0\\\\0\\\\0\\\\1\\\\0\\end{array}\\right)\\end{equation*}"
      ],
      "text/plain": [
       "Quantum object: dims=[[5], [1]], shape=(5, 1), type='ket'\n",
       "Qobj data =\n",
       "[[0.]\n",
       " [0.]\n",
       " [0.]\n",
       " [1.]\n",
       " [0.]]"
      ]
     },
     "execution_count": 12,
     "metadata": {},
     "output_type": "execute_result"
    }
   ],
   "source": [
    "basis(5,3)"
   ]
  },
  {
   "cell_type": "code",
   "execution_count": 13,
   "metadata": {},
   "outputs": [
    {
     "data": {
      "text/latex": [
       "Quantum object: dims=[[5], [1]], shape=(5, 1), type='ket'\\begin{equation*}\\left(\\begin{array}{*{11}c}0.779\\\\(0.389-0.389j)\\\\-0.275j\\\\(-0.079-0.079j)\\\\-0.043\\end{array}\\right)\\end{equation*}"
      ],
      "text/plain": [
       "Quantum object: dims=[[5], [1]], shape=(5, 1), type='ket'\n",
       "Qobj data =\n",
       "[[ 0.7788017 +0.j        ]\n",
       " [ 0.38939142-0.38939142j]\n",
       " [ 0.        -0.27545895j]\n",
       " [-0.07898617-0.07898617j]\n",
       " [-0.04314271+0.j        ]]"
      ]
     },
     "execution_count": 13,
     "metadata": {},
     "output_type": "execute_result"
    }
   ],
   "source": [
    "coherent(5,0.5-0.5j)"
   ]
  },
  {
   "cell_type": "code",
   "execution_count": 14,
   "metadata": {},
   "outputs": [
    {
     "data": {
      "text/latex": [
       "Quantum object: dims=[[4], [4]], shape=(4, 4), type='oper', isherm=False\\begin{equation*}\\left(\\begin{array}{*{11}c}0 & 1 & 0 & 0\\\\0 & 0 & 1.414 & 0\\\\0 & 0 & 0 & 1.732\\\\0 & 0 & 0 & 0\\end{array}\\right)\\end{equation*}"
      ],
      "text/plain": [
       "Quantum object: dims=[[4], [4]], shape=(4, 4), type='oper', isherm=False\n",
       "Qobj data =\n",
       "[[0.         1.         0.         0.        ]\n",
       " [0.         0.         1.41421356 0.        ]\n",
       " [0.         0.         0.         1.73205081]\n",
       " [0.         0.         0.         0.        ]]"
      ]
     },
     "execution_count": 14,
     "metadata": {},
     "output_type": "execute_result"
    }
   ],
   "source": [
    "destroy(4)"
   ]
  },
  {
   "cell_type": "code",
   "execution_count": 15,
   "metadata": {},
   "outputs": [
    {
     "data": {
      "text/latex": [
       "Quantum object: dims=[[6], [6]], shape=(6, 6), type='oper', isherm=False\\begin{equation*}\\left(\\begin{array}{*{11}c}0 & 2.236 & 0 & 0 & 0 & 0\\\\0 & 0 & 2.828 & 0 & 0 & 0\\\\0 & 0 & 0 & 3 & 0 & 0\\\\0 & 0 & 0 & 0 & 2.828 & 0\\\\0 & 0 & 0 & 0 & 0 & 2.236\\\\0 & 0 & 0 & 0 & 0 & 0\\end{array}\\right)\\end{equation*}"
      ],
      "text/plain": [
       "Quantum object: dims=[[6], [6]], shape=(6, 6), type='oper', isherm=False\n",
       "Qobj data =\n",
       "[[0.         2.23606798 0.         0.         0.         0.        ]\n",
       " [0.         0.         2.82842712 0.         0.         0.        ]\n",
       " [0.         0.         0.         3.         0.         0.        ]\n",
       " [0.         0.         0.         0.         2.82842712 0.        ]\n",
       " [0.         0.         0.         0.         0.         2.23606798]\n",
       " [0.         0.         0.         0.         0.         0.        ]]"
      ]
     },
     "execution_count": 15,
     "metadata": {},
     "output_type": "execute_result"
    }
   ],
   "source": [
    "jmat(5/2.0,'+')"
   ]
  },
  {
   "cell_type": "code",
   "execution_count": 16,
   "metadata": {},
   "outputs": [
    {
     "data": {
      "text/plain": [
       "([[4], [4]], (4, 4))"
      ]
     },
     "execution_count": 16,
     "metadata": {},
     "output_type": "execute_result"
    }
   ],
   "source": [
    "q = destroy(4)\n",
    "q.dims, q.shape"
   ]
  },
  {
   "cell_type": "code",
   "execution_count": 17,
   "metadata": {},
   "outputs": [
    {
     "data": {
      "text/plain": [
       "('oper', False, CSR(shape=(4, 4), nnz=3))"
      ]
     },
     "execution_count": 17,
     "metadata": {},
     "output_type": "execute_result"
    }
   ],
   "source": [
    "q.type, q.isherm, q.data"
   ]
  },
  {
   "cell_type": "code",
   "execution_count": 18,
   "metadata": {},
   "outputs": [
    {
     "name": "stdout",
     "output_type": "stream",
     "text": [
      "Quantum object: dims=[[4], [4]], shape=(4, 4), type='oper', isherm=False\n",
      "Qobj data =\n",
      "[[5.         1.         0.         0.        ]\n",
      " [0.         5.         1.41421356 0.        ]\n",
      " [0.         0.         5.         1.73205081]\n",
      " [0.         0.         0.         5.        ]]\n"
     ]
    }
   ],
   "source": [
    "q = destroy(4)\n",
    "print(q + 5)\n"
   ]
  },
  {
   "cell_type": "code",
   "execution_count": 19,
   "metadata": {},
   "outputs": [
    {
     "name": "stdout",
     "output_type": "stream",
     "text": [
      "Quantum object: dims=[[2], [2]], shape=(2, 2), type='oper', isherm=True\n",
      "Qobj data =\n",
      "[[1. 0.]\n",
      " [0. 1.]]\n"
     ]
    }
   ],
   "source": [
    "x = sigmax()\n",
    "print(x*x)"
   ]
  },
  {
   "cell_type": "code",
   "execution_count": 20,
   "metadata": {},
   "outputs": [
    {
     "data": {
      "text/latex": [
       "Quantum object: dims=[[4], [4]], shape=(4, 4), type='oper', isherm=False\\begin{equation*}\\left(\\begin{array}{*{11}c}0 & 0 & 0 & 2.449\\\\0 & 0 & 0 & 0\\\\0 & 0 & 0 & 0\\\\0 & 0 & 0 & 0\\end{array}\\right)\\end{equation*}"
      ],
      "text/plain": [
       "Quantum object: dims=[[4], [4]], shape=(4, 4), type='oper', isherm=False\n",
       "Qobj data =\n",
       "[[0.         0.         0.         2.44948974]\n",
       " [0.         0.         0.         0.        ]\n",
       " [0.         0.         0.         0.        ]\n",
       " [0.         0.         0.         0.        ]]"
      ]
     },
     "execution_count": 20,
     "metadata": {},
     "output_type": "execute_result"
    }
   ],
   "source": [
    "q**3"
   ]
  },
  {
   "cell_type": "code",
   "execution_count": 21,
   "metadata": {},
   "outputs": [
    {
     "data": {
      "text/latex": [
       "Quantum object: dims=[[2], [2]], shape=(2, 2), type='oper', isherm=True\\begin{equation*}\\left(\\begin{array}{*{11}c}0 & 0.707\\\\0.707 & 0\\end{array}\\right)\\end{equation*}"
      ],
      "text/plain": [
       "Quantum object: dims=[[2], [2]], shape=(2, 2), type='oper', isherm=True\n",
       "Qobj data =\n",
       "[[0.         0.70710678]\n",
       " [0.70710678 0.        ]]"
      ]
     },
     "execution_count": 21,
     "metadata": {},
     "output_type": "execute_result"
    }
   ],
   "source": [
    "x / np.sqrt(2)"
   ]
  },
  {
   "cell_type": "code",
   "execution_count": 22,
   "metadata": {},
   "outputs": [
    {
     "data": {
      "text/latex": [
       "Quantum object: dims=[[5], [1]], shape=(5, 1), type='ket'\\begin{equation*}\\left(\\begin{array}{*{11}c}0\\\\0\\\\0\\\\1\\\\0\\end{array}\\right)\\end{equation*}"
      ],
      "text/plain": [
       "Quantum object: dims=[[5], [1]], shape=(5, 1), type='ket'\n",
       "Qobj data =\n",
       "[[0.]\n",
       " [0.]\n",
       " [0.]\n",
       " [1.]\n",
       " [0.]]"
      ]
     },
     "execution_count": 22,
     "metadata": {},
     "output_type": "execute_result"
    }
   ],
   "source": [
    "basis(5, 3)"
   ]
  },
  {
   "cell_type": "code",
   "execution_count": 23,
   "metadata": {},
   "outputs": [
    {
     "data": {
      "text/latex": [
       "Quantum object: dims=[[1], [5]], shape=(1, 5), type='bra'\\begin{equation*}\\left(\\begin{array}{*{11}c}0 & 0 & 0 & 1 & 0\\end{array}\\right)\\end{equation*}"
      ],
      "text/plain": [
       "Quantum object: dims=[[1], [5]], shape=(1, 5), type='bra'\n",
       "Qobj data =\n",
       "[[0. 0. 0. 1. 0.]]"
      ]
     },
     "execution_count": 23,
     "metadata": {},
     "output_type": "execute_result"
    }
   ],
   "source": [
    "basis(5,3).dag()"
   ]
  },
  {
   "cell_type": "code",
   "execution_count": 24,
   "metadata": {},
   "outputs": [
    {
     "data": {
      "text/latex": [
       "Quantum object: dims=[[5], [5]], shape=(5, 5), type='oper', isherm=False\\begin{equation*}\\left(\\begin{array}{*{11}c}0 & 0 & 0 & 0 & 0\\\\0 & 0 & 0 & 0 & 0\\\\0 & 0 & 0 & 0 & 0\\\\0 & 0 & 0 & 1 & 0\\\\0 & 0 & 0 & 0 & 0\\end{array}\\right)\\end{equation*}"
      ],
      "text/plain": [
       "Quantum object: dims=[[5], [5]], shape=(5, 5), type='oper', isherm=False\n",
       "Qobj data =\n",
       "[[0. 0. 0. 0. 0.]\n",
       " [0. 0. 0. 0. 0.]\n",
       " [0. 0. 0. 0. 0.]\n",
       " [0. 0. 0. 1. 0.]\n",
       " [0. 0. 0. 0. 0.]]"
      ]
     },
     "execution_count": 24,
     "metadata": {},
     "output_type": "execute_result"
    }
   ],
   "source": [
    "basis(5, 3)* basis(5, 3).dag()"
   ]
  },
  {
   "cell_type": "code",
   "execution_count": 25,
   "metadata": {},
   "outputs": [
    {
     "data": {
      "text/latex": [
       "Quantum object: dims=[[5], [5]], shape=(5, 5), type='oper', isherm=True\\begin{equation*}\\left(\\begin{array}{*{11}c}0.368 & 0.368 & 0.261 & 0.146 & 0.088\\\\0.368 & 0.368 & 0.261 & 0.146 & 0.088\\\\0.261 & 0.261 & 0.185 & 0.104 & 0.063\\\\0.146 & 0.146 & 0.104 & 0.058 & 0.035\\\\0.088 & 0.088 & 0.063 & 0.035 & 0.021\\end{array}\\right)\\end{equation*}"
      ],
      "text/plain": [
       "Quantum object: dims=[[5], [5]], shape=(5, 5), type='oper', isherm=True\n",
       "Qobj data =\n",
       "[[0.36791117 0.36774407 0.26105441 0.14620658 0.08826704]\n",
       " [0.36774407 0.36757705 0.26093584 0.14614018 0.08822695]\n",
       " [0.26105441 0.26093584 0.18523331 0.10374209 0.06263061]\n",
       " [0.14620658 0.14614018 0.10374209 0.05810197 0.035077  ]\n",
       " [0.08826704 0.08822695 0.06263061 0.035077   0.0211765 ]]"
      ]
     },
     "execution_count": 25,
     "metadata": {},
     "output_type": "execute_result"
    }
   ],
   "source": [
    "coherent_dm(5, 1)"
   ]
  },
  {
   "cell_type": "code",
   "execution_count": 26,
   "metadata": {},
   "outputs": [
    {
     "data": {
      "text/plain": [
       "array([0.36791117, 0.36757705, 0.18523331, 0.05810197, 0.0211765 ])"
      ]
     },
     "execution_count": 26,
     "metadata": {},
     "output_type": "execute_result"
    }
   ],
   "source": [
    "coherent_dm(5, 1).diag()"
   ]
  },
  {
   "cell_type": "code",
   "execution_count": 27,
   "metadata": {},
   "outputs": [
    {
     "data": {
      "text/plain": [
       "array([[0.36791117+0.j, 0.36774407+0.j, 0.26105441+0.j, 0.14620658+0.j,\n",
       "        0.08826704+0.j],\n",
       "       [0.36774407+0.j, 0.36757705+0.j, 0.26093584+0.j, 0.14614018+0.j,\n",
       "        0.08822695+0.j],\n",
       "       [0.26105441+0.j, 0.26093584+0.j, 0.18523331+0.j, 0.10374209+0.j,\n",
       "        0.06263061+0.j],\n",
       "       [0.14620658+0.j, 0.14614018+0.j, 0.10374209+0.j, 0.05810197+0.j,\n",
       "        0.035077  +0.j],\n",
       "       [0.08826704+0.j, 0.08822695+0.j, 0.06263061+0.j, 0.035077  +0.j,\n",
       "        0.0211765 +0.j]])"
      ]
     },
     "execution_count": 27,
     "metadata": {},
     "output_type": "execute_result"
    }
   ],
   "source": [
    "coherent_dm(5, 1).full()"
   ]
  },
  {
   "cell_type": "code",
   "execution_count": 28,
   "metadata": {},
   "outputs": [
    {
     "data": {
      "text/plain": [
       "1.0"
      ]
     },
     "execution_count": 28,
     "metadata": {},
     "output_type": "execute_result"
    }
   ],
   "source": [
    "coherent_dm(5, 1).norm()"
   ]
  },
  {
   "cell_type": "code",
   "execution_count": 29,
   "metadata": {},
   "outputs": [
    {
     "data": {
      "text/latex": [
       "Quantum object: dims=[[5], [5]], shape=(5, 5), type='oper', isherm=False\\begin{equation*}\\left(\\begin{array}{*{11}c}0.368 & 0.368 & 0.261 & 0.146 & 0.088\\\\0.368 & 0.368 & 0.261 & 0.146 & 0.088\\\\0.261 & 0.261 & 0.185 & 0.104 & 0.063\\\\0.146 & 0.146 & 0.104 & 0.058 & 0.035\\\\0.088 & 0.088 & 0.063 & 0.035 & 0.021\\end{array}\\right)\\end{equation*}"
      ],
      "text/plain": [
       "Quantum object: dims=[[5], [5]], shape=(5, 5), type='oper', isherm=False\n",
       "Qobj data =\n",
       "[[0.36791119+0.00000000e+00j 0.36774406+0.00000000e+00j\n",
       "  0.2610544 +0.00000000e+00j 0.14620658+0.00000000e+00j\n",
       "  0.08826704+0.00000000e+00j]\n",
       " [0.36774406+0.00000000e+00j 0.36757705+4.97355349e-13j\n",
       "  0.26093584-4.95568446e-12j 0.14614018-4.38433154e-12j\n",
       "  0.08822695+1.98468419e-11j]\n",
       " [0.2610544 +0.00000000e+00j 0.26093584-4.95568446e-12j\n",
       "  0.18523332+4.93787964e-11j 0.10374209+4.36857948e-11j\n",
       "  0.06263061-1.97755360e-10j]\n",
       " [0.14620658+0.00000000e+00j 0.14614018-4.38433154e-12j\n",
       "  0.10374209+4.36857948e-11j 0.05810197+3.86491532e-11j\n",
       "  0.03507701-1.74955663e-10j]\n",
       " [0.08826704+0.00000000e+00j 0.08822695+1.98468419e-11j\n",
       "  0.06263061-1.97755360e-10j 0.03507701-1.74955663e-10j\n",
       "  0.0211765 +7.91983303e-10j]]"
      ]
     },
     "execution_count": 29,
     "metadata": {},
     "output_type": "execute_result"
    }
   ],
   "source": [
    "coherent_dm(5, 1).sqrtm()"
   ]
  },
  {
   "cell_type": "code",
   "execution_count": null,
   "metadata": {},
   "outputs": [],
   "source": []
  },
  {
   "cell_type": "code",
   "execution_count": null,
   "metadata": {},
   "outputs": [],
   "source": []
  },
  {
   "cell_type": "code",
   "execution_count": 30,
   "metadata": {},
   "outputs": [
    {
     "data": {
      "text/plain": [
       "1.0"
      ]
     },
     "execution_count": 30,
     "metadata": {},
     "output_type": "execute_result"
    }
   ],
   "source": [
    "coherent_dm(5, 1).tr()"
   ]
  },
  {
   "cell_type": "code",
   "execution_count": 31,
   "metadata": {},
   "outputs": [
    {
     "data": {
      "text/latex": [
       "Quantum object: dims=[[4], [1]], shape=(4, 1), type='ket'\\begin{equation*}\\left(\\begin{array}{*{11}c}0\\\\0.707\\\\0.707\\\\0\\end{array}\\right)\\end{equation*}"
      ],
      "text/plain": [
       "Quantum object: dims=[[4], [1]], shape=(4, 1), type='ket'\n",
       "Qobj data =\n",
       "[[0.        ]\n",
       " [0.70710678]\n",
       " [0.70710678]\n",
       " [0.        ]]"
      ]
     },
     "execution_count": 31,
     "metadata": {},
     "output_type": "execute_result"
    }
   ],
   "source": [
    "(basis(4, 2) + basis(4, 1)).unit()"
   ]
  },
  {
   "cell_type": "code",
   "execution_count": 32,
   "metadata": {},
   "outputs": [
    {
     "name": "stdout",
     "output_type": "stream",
     "text": [
      "Quantum object: dims=[[5], [1]], shape=(5, 1), type='ket'\n",
      "Qobj data =\n",
      "[[1.]\n",
      " [0.]\n",
      " [0.]\n",
      " [0.]\n",
      " [0.]]\n"
     ]
    }
   ],
   "source": [
    "vac = basis(5, 0)\n",
    "\n",
    "print(vac)"
   ]
  },
  {
   "cell_type": "code",
   "execution_count": 33,
   "metadata": {},
   "outputs": [
    {
     "name": "stdout",
     "output_type": "stream",
     "text": [
      "Quantum object: dims=[[5], [5]], shape=(5, 5), type='oper', isherm=False\n",
      "Qobj data =\n",
      "[[0.         1.         0.         0.         0.        ]\n",
      " [0.         0.         1.41421356 0.         0.        ]\n",
      " [0.         0.         0.         1.73205081 0.        ]\n",
      " [0.         0.         0.         0.         2.        ]\n",
      " [0.         0.         0.         0.         0.        ]]\n"
     ]
    }
   ],
   "source": [
    "a = destroy(5)\n",
    "\n",
    "print(a)"
   ]
  },
  {
   "cell_type": "code",
   "execution_count": 34,
   "metadata": {},
   "outputs": [
    {
     "name": "stdout",
     "output_type": "stream",
     "text": [
      "Quantum object: dims=[[5], [1]], shape=(5, 1), type='ket'\n",
      "Qobj data =\n",
      "[[0.]\n",
      " [0.]\n",
      " [0.]\n",
      " [0.]\n",
      " [0.]]\n"
     ]
    }
   ],
   "source": [
    "print(a * vac)"
   ]
  },
  {
   "cell_type": "code",
   "execution_count": 35,
   "metadata": {},
   "outputs": [
    {
     "name": "stdout",
     "output_type": "stream",
     "text": [
      "Quantum object: dims=[[5], [1]], shape=(5, 1), type='ket'\n",
      "Qobj data =\n",
      "[[0.]\n",
      " [1.]\n",
      " [0.]\n",
      " [0.]\n",
      " [0.]]\n"
     ]
    }
   ],
   "source": [
    "print(a.dag() * vac)"
   ]
  },
  {
   "cell_type": "code",
   "execution_count": 36,
   "metadata": {},
   "outputs": [
    {
     "name": "stdout",
     "output_type": "stream",
     "text": [
      "Quantum object: dims=[[5], [1]], shape=(5, 1), type='ket'\n",
      "Qobj data =\n",
      "[[0.]\n",
      " [1.]\n",
      " [0.]\n",
      " [0.]\n",
      " [0.]]\n"
     ]
    }
   ],
   "source": [
    "c = create(5)\n",
    "\n",
    "print(c * vac)"
   ]
  },
  {
   "cell_type": "code",
   "execution_count": 37,
   "metadata": {},
   "outputs": [
    {
     "name": "stdout",
     "output_type": "stream",
     "text": [
      "Quantum object: dims=[[5], [1]], shape=(5, 1), type='ket'\n",
      "Qobj data =\n",
      "[[0.        ]\n",
      " [0.        ]\n",
      " [1.41421356]\n",
      " [0.        ]\n",
      " [0.        ]]\n"
     ]
    }
   ],
   "source": [
    "print(c * c * vac)"
   ]
  },
  {
   "cell_type": "code",
   "execution_count": 38,
   "metadata": {},
   "outputs": [
    {
     "name": "stdout",
     "output_type": "stream",
     "text": [
      "Quantum object: dims=[[5], [1]], shape=(5, 1), type='ket'\n",
      "Qobj data =\n",
      "[[0.]\n",
      " [0.]\n",
      " [0.]\n",
      " [0.]\n",
      " [0.]]\n"
     ]
    }
   ],
   "source": [
    "print(c*a* vac)"
   ]
  },
  {
   "cell_type": "code",
   "execution_count": 39,
   "metadata": {},
   "outputs": [
    {
     "name": "stdout",
     "output_type": "stream",
     "text": [
      "Quantum object: dims=[[5], [1]], shape=(5, 1), type='ket'\n",
      "Qobj data =\n",
      "[[0.]\n",
      " [1.]\n",
      " [0.]\n",
      " [0.]\n",
      " [0.]]\n"
     ]
    }
   ],
   "source": [
    "print(c * a * (c * vac))"
   ]
  },
  {
   "cell_type": "code",
   "execution_count": 40,
   "metadata": {},
   "outputs": [
    {
     "name": "stdout",
     "output_type": "stream",
     "text": [
      "Quantum object: dims=[[5], [1]], shape=(5, 1), type='ket'\n",
      "Qobj data =\n",
      "[[0.        ]\n",
      " [0.        ]\n",
      " [2.82842712]\n",
      " [0.        ]\n",
      " [0.        ]]\n"
     ]
    }
   ],
   "source": [
    "print(c * a * (c**2 * vac))"
   ]
  },
  {
   "cell_type": "code",
   "execution_count": 41,
   "metadata": {},
   "outputs": [
    {
     "name": "stdout",
     "output_type": "stream",
     "text": [
      "Quantum object: dims=[[5], [1]], shape=(5, 1), type='ket'\n",
      "Qobj data =\n",
      "[[0.]\n",
      " [0.]\n",
      " [0.]\n",
      " [0.]\n",
      " [4.]]\n"
     ]
    }
   ],
   "source": [
    "print(c * a * (c**4 * vac).unit())"
   ]
  },
  {
   "cell_type": "code",
   "execution_count": 42,
   "metadata": {},
   "outputs": [
    {
     "name": "stdout",
     "output_type": "stream",
     "text": [
      "Quantum object: dims=[[5], [1]], shape=(5, 1), type='ket'\n",
      "Qobj data =\n",
      "[[0.]\n",
      " [0.]\n",
      " [1.]\n",
      " [0.]\n",
      " [0.]]\n"
     ]
    }
   ],
   "source": [
    "ket = basis(5, 2)\n",
    "\n",
    "print(ket)"
   ]
  },
  {
   "cell_type": "code",
   "execution_count": 43,
   "metadata": {},
   "outputs": [
    {
     "name": "stdout",
     "output_type": "stream",
     "text": [
      "Quantum object: dims=[[5], [5]], shape=(5, 5), type='oper', isherm=True\n",
      "Qobj data =\n",
      "[[0. 0. 0. 0. 0.]\n",
      " [0. 1. 0. 0. 0.]\n",
      " [0. 0. 2. 0. 0.]\n",
      " [0. 0. 0. 3. 0.]\n",
      " [0. 0. 0. 0. 4.]]\n"
     ]
    }
   ],
   "source": [
    "n = num(5)\n",
    "\n",
    "print(n)"
   ]
  },
  {
   "cell_type": "code",
   "execution_count": 44,
   "metadata": {},
   "outputs": [
    {
     "name": "stdout",
     "output_type": "stream",
     "text": [
      "Quantum object: dims=[[5], [1]], shape=(5, 1), type='ket'\n",
      "Qobj data =\n",
      "[[0.]\n",
      " [0.]\n",
      " [2.]\n",
      " [0.]\n",
      " [0.]]\n"
     ]
    }
   ],
   "source": [
    "print(n * ket)"
   ]
  },
  {
   "cell_type": "code",
   "execution_count": 45,
   "metadata": {},
   "outputs": [
    {
     "name": "stdout",
     "output_type": "stream",
     "text": [
      "Quantum object: dims=[[5], [1]], shape=(5, 1), type='ket'\n",
      "Qobj data =\n",
      "[[0.70710678]\n",
      " [0.70710678]\n",
      " [0.        ]\n",
      " [0.        ]\n",
      " [0.        ]]\n"
     ]
    }
   ],
   "source": [
    "ket = (basis(5, 0) + basis(5, 1)).unit()\n",
    "\n",
    "print(ket)"
   ]
  },
  {
   "cell_type": "code",
   "execution_count": 46,
   "metadata": {},
   "outputs": [
    {
     "name": "stdout",
     "output_type": "stream",
     "text": [
      "Quantum object: dims=[[5], [1]], shape=(5, 1), type='ket'\n",
      "Qobj data =\n",
      "[[0.        ]\n",
      " [0.70710678]\n",
      " [0.        ]\n",
      " [0.        ]\n",
      " [0.        ]]\n"
     ]
    }
   ],
   "source": [
    "print(n * ket)"
   ]
  },
  {
   "cell_type": "code",
   "execution_count": 47,
   "metadata": {},
   "outputs": [
    {
     "name": "stdout",
     "output_type": "stream",
     "text": [
      "Quantum object: dims=[[5], [1]], shape=(5, 1), type='ket'\n",
      "Qobj data =\n",
      "[[ 0.60655682+0.j        ]\n",
      " [ 0.        +0.60628133j]\n",
      " [-0.4303874 +0.j        ]\n",
      " [ 0.        -0.24104351j]\n",
      " [ 0.14552147+0.j        ]]\n"
     ]
    }
   ],
   "source": [
    "vac = basis(5, 0)\n",
    "\n",
    "d = displace(5, 1j)\n",
    "\n",
    "s = squeeze(5, complex(0.25, 0.25))\n",
    "\n",
    "print(d * vac)"
   ]
  },
  {
   "cell_type": "code",
   "execution_count": 48,
   "metadata": {},
   "outputs": [
    {
     "name": "stdout",
     "output_type": "stream",
     "text": [
      "Quantum object: dims=[[5], [1]], shape=(5, 1), type='ket'\n",
      "Qobj data =\n",
      "[[ 0.65893786+0.08139381j]\n",
      " [ 0.10779462+0.51579735j]\n",
      " [-0.37567217-0.01326853j]\n",
      " [-0.02688063-0.23828775j]\n",
      " [ 0.26352814+0.11512178j]]\n"
     ]
    }
   ],
   "source": [
    "print(d * s * vac)"
   ]
  },
  {
   "cell_type": "code",
   "execution_count": 49,
   "metadata": {},
   "outputs": [
    {
     "name": "stdout",
     "output_type": "stream",
     "text": [
      "Quantum object: dims=[[5], [5]], shape=(5, 5), type='oper', isherm=False\n",
      "Qobj data =\n",
      "[[0. 0. 0. 0. 0.]\n",
      " [0. 0. 0. 0. 0.]\n",
      " [0. 0. 1. 0. 0.]\n",
      " [0. 0. 0. 0. 0.]\n",
      " [0. 0. 0. 0. 0.]]\n"
     ]
    }
   ],
   "source": [
    "ket = basis(5, 2)\n",
    "\n",
    "print(ket * ket.dag())"
   ]
  },
  {
   "cell_type": "code",
   "execution_count": 50,
   "metadata": {},
   "outputs": [
    {
     "name": "stdout",
     "output_type": "stream",
     "text": [
      "Quantum object: dims=[[5], [5]], shape=(5, 5), type='oper', isherm=True\n",
      "Qobj data =\n",
      "[[0. 0. 0. 0. 0.]\n",
      " [0. 0. 0. 0. 0.]\n",
      " [0. 0. 1. 0. 0.]\n",
      " [0. 0. 0. 0. 0.]\n",
      " [0. 0. 0. 0. 0.]]\n"
     ]
    }
   ],
   "source": [
    "print(fock_dm(5, 2))"
   ]
  },
  {
   "cell_type": "code",
   "execution_count": 51,
   "metadata": {},
   "outputs": [
    {
     "name": "stdout",
     "output_type": "stream",
     "text": [
      "Quantum object: dims=[[5], [5]], shape=(5, 5), type='oper', isherm=True\n",
      "Qobj data =\n",
      "[[0. 0. 0. 0. 0.]\n",
      " [0. 0. 0. 0. 0.]\n",
      " [0. 0. 1. 0. 0.]\n",
      " [0. 0. 0. 0. 0.]\n",
      " [0. 0. 0. 0. 0.]]\n"
     ]
    }
   ],
   "source": [
    "print(ket2dm(ket))"
   ]
  },
  {
   "cell_type": "code",
   "execution_count": 52,
   "metadata": {},
   "outputs": [
    {
     "name": "stdout",
     "output_type": "stream",
     "text": [
      "Quantum object: dims=[[5], [5]], shape=(5, 5), type='oper', isherm=True\n",
      "Qobj data =\n",
      "[[0.  0.  0.  0.  0. ]\n",
      " [0.  0.  0.  0.  0. ]\n",
      " [0.  0.  0.5 0.  0. ]\n",
      " [0.  0.  0.  0.  0. ]\n",
      " [0.  0.  0.  0.  0.5]]\n"
     ]
    }
   ],
   "source": [
    "print(0.5 * ket2dm(basis(5, 4)) + 0.5 * ket2dm(basis(5, 2)))"
   ]
  },
  {
   "cell_type": "code",
   "execution_count": 53,
   "metadata": {},
   "outputs": [
    {
     "name": "stdout",
     "output_type": "stream",
     "text": [
      "Quantum object: dims=[[5], [5]], shape=(5, 5), type='oper', isherm=True\n",
      "Qobj data =\n",
      "[[0.20980701 0.26141096 0.23509686 0.15572585 0.13390765]\n",
      " [0.26141096 0.32570738 0.29292109 0.19402805 0.16684347]\n",
      " [0.23509686 0.29292109 0.26343512 0.17449684 0.1500487 ]\n",
      " [0.15572585 0.19402805 0.17449684 0.11558499 0.09939079]\n",
      " [0.13390765 0.16684347 0.1500487  0.09939079 0.0854655 ]]\n"
     ]
    }
   ],
   "source": [
    "print(coherent_dm(5, 1.25))"
   ]
  },
  {
   "cell_type": "code",
   "execution_count": 54,
   "metadata": {},
   "outputs": [
    {
     "name": "stdout",
     "output_type": "stream",
     "text": [
      "Quantum object: dims=[[5], [5]], shape=(5, 5), type='oper', isherm=True\n",
      "Qobj data =\n",
      "[[0.46927974 0.         0.         0.         0.        ]\n",
      " [0.         0.26071096 0.         0.         0.        ]\n",
      " [0.         0.         0.14483942 0.         0.        ]\n",
      " [0.         0.         0.         0.08046635 0.        ]\n",
      " [0.         0.         0.         0.         0.04470353]]\n"
     ]
    }
   ],
   "source": [
    "print(thermal_dm(5, 1.25))"
   ]
  },
  {
   "cell_type": "code",
   "execution_count": 55,
   "metadata": {},
   "outputs": [],
   "source": [
    "x = coherent_dm(5, 1.25)\n",
    "\n",
    "y = coherent_dm(5, complex(0, 1.25))  # <-- note the 'j'\n",
    "\n",
    "z = thermal_dm(5, 0.125)\n",
    "\n",
    "np.testing.assert_almost_equal(fidelity(x, x), 1)\n",
    "\n",
    "np.testing.assert_almost_equal(hellinger_dist(x, y), 1.3819080728932833)"
   ]
  },
  {
   "cell_type": "code",
   "execution_count": 56,
   "metadata": {},
   "outputs": [],
   "source": [
    "np.testing.assert_almost_equal(tracedist(y, x), np.sqrt(1 - fidelity(y, x) ** 2))"
   ]
  },
  {
   "cell_type": "code",
   "execution_count": 57,
   "metadata": {},
   "outputs": [],
   "source": [
    "spin = basis(2, 0)"
   ]
  },
  {
   "cell_type": "code",
   "execution_count": 58,
   "metadata": {},
   "outputs": [],
   "source": [
    "vac = basis(2, 0)"
   ]
  },
  {
   "cell_type": "code",
   "execution_count": 59,
   "metadata": {},
   "outputs": [
    {
     "data": {
      "text/latex": [
       "Quantum object: dims=[[2], [1]], shape=(2, 1), type='ket'\\begin{equation*}\\left(\\begin{array}{*{11}c}1\\\\0\\end{array}\\right)\\end{equation*}"
      ],
      "text/plain": [
       "Quantum object: dims=[[2], [1]], shape=(2, 1), type='ket'\n",
       "Qobj data =\n",
       "[[1.]\n",
       " [0.]]"
      ]
     },
     "execution_count": 59,
     "metadata": {},
     "output_type": "execute_result"
    }
   ],
   "source": [
    "spin"
   ]
  },
  {
   "cell_type": "code",
   "execution_count": 60,
   "metadata": {},
   "outputs": [
    {
     "data": {
      "text/latex": [
       "Quantum object: dims=[[2], [1]], shape=(2, 1), type='ket'\\begin{equation*}\\left(\\begin{array}{*{11}c}1\\\\0\\end{array}\\right)\\end{equation*}"
      ],
      "text/plain": [
       "Quantum object: dims=[[2], [1]], shape=(2, 1), type='ket'\n",
       "Qobj data =\n",
       "[[1.]\n",
       " [0.]]"
      ]
     },
     "execution_count": 60,
     "metadata": {},
     "output_type": "execute_result"
    }
   ],
   "source": [
    "vac"
   ]
  },
  {
   "cell_type": "code",
   "execution_count": 61,
   "metadata": {},
   "outputs": [
    {
     "name": "stdout",
     "output_type": "stream",
     "text": [
      "Quantum object: dims=[[2], [1]], shape=(2, 1), type='ket'\n",
      "Qobj data =\n",
      "[[0.]\n",
      " [0.]]\n"
     ]
    }
   ],
   "source": [
    "print(sigmap() * spin)"
   ]
  },
  {
   "cell_type": "code",
   "execution_count": 62,
   "metadata": {},
   "outputs": [
    {
     "name": "stdout",
     "output_type": "stream",
     "text": [
      "Quantum object: dims=[[2], [2]], shape=(2, 2), type='oper', isherm=True\n",
      "Qobj data =\n",
      "[[ 1.  0.]\n",
      " [ 0. -1.]]\n"
     ]
    }
   ],
   "source": [
    "print(sigmaz())"
   ]
  },
  {
   "cell_type": "code",
   "execution_count": 63,
   "metadata": {},
   "outputs": [
    {
     "name": "stdout",
     "output_type": "stream",
     "text": [
      "Quantum object: dims=[[2], [1]], shape=(2, 1), type='ket'\n",
      "Qobj data =\n",
      "[[0.]\n",
      " [1.]]\n"
     ]
    }
   ],
   "source": [
    "spin2 = basis(2, 1)\n",
    "\n",
    "print(spin2)"
   ]
  },
  {
   "cell_type": "code",
   "execution_count": 64,
   "metadata": {},
   "outputs": [
    {
     "name": "stdout",
     "output_type": "stream",
     "text": [
      "Quantum object: dims=[[2], [1]], shape=(2, 1), type='ket'\n",
      "Qobj data =\n",
      "[[ 0.]\n",
      " [-1.]]\n"
     ]
    }
   ],
   "source": [
    "print(sigmaz() * spin2)"
   ]
  },
  {
   "cell_type": "code",
   "execution_count": 65,
   "metadata": {},
   "outputs": [],
   "source": [
    "vac = basis(5, 0)\n",
    "\n",
    "one = basis(5, 1)\n",
    "\n",
    "c = create(5)\n",
    "\n",
    "N = num(5)\n",
    "\n",
    "np.testing.assert_almost_equal(expect(N, vac), 0)\n",
    "\n",
    "np.testing.assert_almost_equal(expect(N, one), 1)\n",
    "\n",
    "coh = coherent_dm(5, 1.0j)\n",
    "\n",
    "np.testing.assert_almost_equal(expect(N, coh), 0.9970555745806597)\n",
    "\n",
    "cat = (basis(5, 4) + 1.0j * basis(5, 3)).unit()\n",
    "\n",
    "np.testing.assert_almost_equal(expect(c, cat), 0.9999999999999998j)"
   ]
  },
  {
   "cell_type": "code",
   "execution_count": 66,
   "metadata": {},
   "outputs": [
    {
     "name": "stdout",
     "output_type": "stream",
     "text": [
      "[0. 1. 2. 3. 4.]\n"
     ]
    }
   ],
   "source": [
    "states = [(c**k * vac).unit() for k in range(5)]  # must normalize\n",
    "\n",
    "print(expect(N, states))\n"
   ]
  },
  {
   "cell_type": "code",
   "execution_count": 67,
   "metadata": {},
   "outputs": [
    {
     "name": "stdout",
     "output_type": "stream",
     "text": [
      "[ 0.+0.j  0.+1.j -1.+0.j  0.-1.j]\n"
     ]
    }
   ],
   "source": [
    "cat_list = [(basis(5, 4) + x * basis(5, 3)).unit() for x in [0, 1.0j, -1.0, -1.0j]]\n",
    "\n",
    "print(expect(c, cat_list))"
   ]
  },
  {
   "cell_type": "code",
   "execution_count": 68,
   "metadata": {},
   "outputs": [],
   "source": [
    "up = basis(2, 0)\n",
    "\n",
    "down = basis(2, 1)\n",
    "\n",
    "np.testing.assert_almost_equal(expect(sigmaz(), up), 1)\n",
    "\n",
    "np.testing.assert_almost_equal(expect(sigmaz(), down), -1)"
   ]
  },
  {
   "cell_type": "code",
   "execution_count": 69,
   "metadata": {},
   "outputs": [],
   "source": [
    "spin1 = basis(2, 0)\n",
    "\n",
    "spin2 = basis(2, 1)\n",
    "\n",
    "two_spins = tensor(spin1, spin2)\n",
    "\n",
    "sz1 = tensor(sigmaz(), qeye(2))\n",
    "\n",
    "sz2 = tensor(qeye(2), sigmaz())\n",
    "\n",
    "np.testing.assert_almost_equal(expect(sz1, two_spins), 1)\n",
    "\n",
    "np.testing.assert_almost_equal(expect(sz2, two_spins), -1)"
   ]
  },
  {
   "cell_type": "code",
   "execution_count": 70,
   "metadata": {},
   "outputs": [
    {
     "name": "stdout",
     "output_type": "stream",
     "text": [
      "Quantum object: dims=[[2], [2]], shape=(2, 2), type='oper', isherm=True\n",
      "Qobj data =\n",
      "[[1. 0.]\n",
      " [0. 0.]]\n"
     ]
    }
   ],
   "source": [
    "psi = basis(2, 0)\n",
    "\n",
    "rho = ket2dm(psi)\n",
    "\n",
    "print(rho)"
   ]
  },
  {
   "cell_type": "code",
   "execution_count": 71,
   "metadata": {},
   "outputs": [
    {
     "name": "stdout",
     "output_type": "stream",
     "text": [
      "Quantum object: dims=[[2], [2]], shape=(2, 2), type='oper', isherm=True\n",
      "Qobj data =\n",
      "[[0. 0.]\n",
      " [0. 1.]]\n"
     ]
    }
   ],
   "source": [
    "psi = basis(2, 1)\n",
    "\n",
    "rho = ket2dm(psi)\n",
    "\n",
    "print(rho)"
   ]
  },
  {
   "cell_type": "code",
   "execution_count": 72,
   "metadata": {},
   "outputs": [
    {
     "name": "stdout",
     "output_type": "stream",
     "text": [
      "Quantum object: dims=[[[2], [2]], [1]], shape=(4, 1), type='operator-ket'\n",
      "Qobj data =\n",
      "[[0.]\n",
      " [0.]\n",
      " [0.]\n",
      " [1.]]\n"
     ]
    }
   ],
   "source": [
    "vec_rho = operator_to_vector(rho)\n",
    "\n",
    "print(vec_rho)"
   ]
  },
  {
   "cell_type": "code",
   "execution_count": 73,
   "metadata": {},
   "outputs": [],
   "source": [
    "rho2 = vector_to_operator(vec_rho)\n",
    "\n",
    "np.testing.assert_almost_equal((rho - rho2).norm(), 0)"
   ]
  },
  {
   "cell_type": "code",
   "execution_count": 74,
   "metadata": {},
   "outputs": [
    {
     "name": "stdout",
     "output_type": "stream",
     "text": [
      "Quantum object: dims=[[2], [2]], shape=(2, 2), type='oper', isherm=False\n",
      "Qobj data =\n",
      "[[0. 1.]\n",
      " [2. 3.]]\n"
     ]
    }
   ],
   "source": [
    "A = Qobj(np.arange(4).reshape((2, 2)))\n",
    "\n",
    "print(A)"
   ]
  },
  {
   "cell_type": "code",
   "execution_count": 75,
   "metadata": {},
   "outputs": [
    {
     "name": "stdout",
     "output_type": "stream",
     "text": [
      "Quantum object: dims=[[[2], [2]], [1]], shape=(4, 1), type='operator-ket'\n",
      "Qobj data =\n",
      "[[0.]\n",
      " [2.]\n",
      " [1.]\n",
      " [3.]]\n"
     ]
    }
   ],
   "source": [
    "print(operator_to_vector(A))"
   ]
  },
  {
   "cell_type": "code",
   "execution_count": 76,
   "metadata": {},
   "outputs": [],
   "source": [
    "X = sigmax()\n",
    "\n",
    "S = spre(X) * spost(X.dag()) # Represents conjugation by X."
   ]
  },
  {
   "cell_type": "code",
   "execution_count": 77,
   "metadata": {},
   "outputs": [],
   "source": [
    "S2 = to_super(X)\n",
    "\n",
    "np.testing.assert_almost_equal((S - S2).norm(), 0)"
   ]
  },
  {
   "cell_type": "code",
   "execution_count": 78,
   "metadata": {},
   "outputs": [
    {
     "name": "stdout",
     "output_type": "stream",
     "text": [
      "Quantum object: dims=[[[2], [2]], [[2], [2]]], shape=(4, 4), type='super', isherm=True\n",
      "Qobj data =\n",
      "[[0. 0. 0. 1.]\n",
      " [0. 0. 1. 0.]\n",
      " [0. 1. 0. 0.]\n",
      " [1. 0. 0. 0.]]\n"
     ]
    }
   ],
   "source": [
    "print(S)"
   ]
  },
  {
   "cell_type": "code",
   "execution_count": 79,
   "metadata": {},
   "outputs": [
    {
     "name": "stdout",
     "output_type": "stream",
     "text": [
      "False True False\n"
     ]
    }
   ],
   "source": [
    "print(S.iscp, S.istp, S.iscptp)"
   ]
  },
  {
   "cell_type": "code",
   "execution_count": 80,
   "metadata": {},
   "outputs": [
    {
     "name": "stdout",
     "output_type": "stream",
     "text": [
      "Quantum object: dims=[[[2], [2]], [[2], [2]]], shape=(4, 4), type='super', isherm=False\n",
      "Qobj data =\n",
      "[[ 0.  +0.j  0.  +0.j  0.  +0.j  1.  +0.j]\n",
      " [ 0.  +0.j -0.5+20.j  0.  +0.j  0.  +0.j]\n",
      " [ 0.  +0.j  0.  +0.j -0.5-20.j  0.  +0.j]\n",
      " [ 0.  +0.j  0.  +0.j  0.  +0.j -1.  +0.j]]\n"
     ]
    }
   ],
   "source": [
    "H = 10 * sigmaz()\n",
    "\n",
    "c1 = destroy(2)\n",
    "\n",
    "L = liouvillian(H, [c1])\n",
    "\n",
    "print(L)\n",
    "\n",
    "S = (12 * L).expm()"
   ]
  },
  {
   "cell_type": "code",
   "execution_count": 81,
   "metadata": {},
   "outputs": [
    {
     "name": "stderr",
     "output_type": "stream",
     "text": [
      "/home/mp74207/anaconda3/envs/AAAA_CMB_HU/lib/python3.9/site-packages/qutip/visualization.py:320: UserWarning: FixedFormatter should only be used together with FixedLocator\n",
      "  ax.set_xticklabels(xlabels)\n",
      "/home/mp74207/anaconda3/envs/AAAA_CMB_HU/lib/python3.9/site-packages/qutip/visualization.py:328: UserWarning: FixedFormatter should only be used together with FixedLocator\n",
      "  ax.set_yticklabels(list(reversed(ylabels)))\n"
     ]
    },
    {
     "data": {
      "text/plain": [
       "(<Figure size 576x432 with 2 Axes>, <AxesSubplot:>)"
      ]
     },
     "execution_count": 81,
     "metadata": {},
     "output_type": "execute_result"
    },
    {
     "data": {
      "image/png": "[encoded data removed]",
      "text/plain": [
       "<Figure size 576x432 with 2 Axes>"
      ]
     },
     "metadata": {
      "needs_background": "light"
     },
     "output_type": "display_data"
    }
   ],
   "source": [
    "settings.colorblind_safe = True\n",
    "\n",
    "plt.rcParams['savefig.transparent'] = True\n",
    "\n",
    "X = sigmax()\n",
    "S = spre(X) * spost(X.dag())\n",
    "\n",
    "hinton(S)"
   ]
  },
  {
   "cell_type": "code",
   "execution_count": 82,
   "metadata": {},
   "outputs": [
    {
     "name": "stdout",
     "output_type": "stream",
     "text": [
      "Quantum object: dims=[[[2], [2]], [[2], [2]]], shape=(4, 4), type='super', isherm=False, superrep='choi'\n",
      "Qobj data =\n",
      "[[0. 0. 0. 0.]\n",
      " [0. 1. 1. 0.]\n",
      " [0. 1. 1. 0.]\n",
      " [0. 0. 0. 0.]]\n"
     ]
    }
   ],
   "source": [
    "X = sigmax()\n",
    "\n",
    "S = sprepost(X, X)\n",
    "\n",
    "J = to_choi(S)\n",
    "\n",
    "print(J)"
   ]
  },
  {
   "cell_type": "code",
   "execution_count": 83,
   "metadata": {},
   "outputs": [
    {
     "name": "stdout",
     "output_type": "stream",
     "text": [
      "Quantum object: dims=[[[2], [2]], [[2], [2]]], shape=(4, 4), type='super', isherm=False, superrep='choi'\n",
      "Qobj data =\n",
      "[[1. 0. 0. 1.]\n",
      " [0. 0. 0. 0.]\n",
      " [0. 0. 0. 0.]\n",
      " [1. 0. 0. 1.]]\n"
     ]
    }
   ],
   "source": [
    "print(to_choi(spre(qeye(2))))"
   ]
  },
  {
   "cell_type": "code",
   "execution_count": 84,
   "metadata": {},
   "outputs": [
    {
     "name": "stdout",
     "output_type": "stream",
     "text": [
      "Quantum object: dims=[[[2], [2]], [[2], [2]]], shape=(4, 4), type='super', isherm=True\n",
      "Qobj data =\n",
      "[[1. 0. 0. 0.]\n",
      " [0. 1. 0. 0.]\n",
      " [0. 0. 1. 0.]\n",
      " [0. 0. 0. 1.]]\n"
     ]
    }
   ],
   "source": [
    "print(spre(qeye(2)))"
   ]
  },
  {
   "cell_type": "code",
   "execution_count": 85,
   "metadata": {},
   "outputs": [
    {
     "name": "stdout",
     "output_type": "stream",
     "text": [
      "Quantum object: dims=[[[2], [2]], [[2], [2]]], shape=(4, 4), type='super', isherm=False, superrep='choi'\n",
      "Qobj data =\n",
      "[[0. 0. 0. 0.]\n",
      " [0. 1. 1. 0.]\n",
      " [0. 1. 1. 0.]\n",
      " [0. 0. 0. 0.]]\n"
     ]
    }
   ],
   "source": [
    "print(to_choi(J))"
   ]
  },
  {
   "cell_type": "code",
   "execution_count": 86,
   "metadata": {},
   "outputs": [
    {
     "name": "stdout",
     "output_type": "stream",
     "text": [
      "Quantum object: dims=[[[2], [2]], [[2], [2]]], shape=(4, 4), type='super', isherm=False\n",
      "Qobj data =\n",
      "[[0. 0. 0. 0.]\n",
      " [0. 0. 0. 0.]\n",
      " [0. 0. 0. 0.]\n",
      " [0. 0. 0. 0.]]\n"
     ]
    }
   ],
   "source": [
    "print(to_super(J) - S)"
   ]
  },
  {
   "cell_type": "code",
   "execution_count": 87,
   "metadata": {},
   "outputs": [
    {
     "name": "stdout",
     "output_type": "stream",
     "text": [
      "Quantum object: dims=[[[2], [2]], [[2], [2]]], shape=(4, 4), type='super', isherm=True\n",
      "Qobj data =\n",
      "[[0. 0. 0. 1.]\n",
      " [0. 0. 1. 0.]\n",
      " [0. 1. 0. 0.]\n",
      " [1. 0. 0. 0.]]\n"
     ]
    }
   ],
   "source": [
    "print(to_super(S))"
   ]
  },
  {
   "cell_type": "code",
   "execution_count": 88,
   "metadata": {},
   "outputs": [],
   "source": [
    "# del np.sum # np.sum overwrote sum and caused a bug."
   ]
  },
  {
   "cell_type": "code",
   "execution_count": 89,
   "metadata": {},
   "outputs": [],
   "source": [
    "I, X, Y, Z = qeye(2), sigmax(), sigmay(), sigmaz()"
   ]
  },
  {
   "cell_type": "code",
   "execution_count": 90,
   "metadata": {},
   "outputs": [
    {
     "name": "stdout",
     "output_type": "stream",
     "text": [
      "Quantum object: dims=[[[2], [2]], [[2], [2]]], shape=(4, 4), type='super', isherm=True\n",
      "Qobj data =\n",
      "[[0.5 0.  0.  0.5]\n",
      " [0.  0.  0.  0. ]\n",
      " [0.  0.  0.  0. ]\n",
      " [0.5 0.  0.  0.5]]\n"
     ]
    }
   ],
   "source": [
    "S = sum([sprepost(P, P) for P in (I, X, Y, Z)]) / 4\n",
    "print(S)"
   ]
  },
  {
   "cell_type": "code",
   "execution_count": 91,
   "metadata": {},
   "outputs": [
    {
     "name": "stdout",
     "output_type": "stream",
     "text": [
      "Quantum object: dims=[[[2], [2]], [[2], [2]]], shape=(4, 4), type='super', isherm=False, superrep='choi'\n",
      "Qobj data =\n",
      "[[0.5 0.  0.  0. ]\n",
      " [0.  0.5 0.  0. ]\n",
      " [0.  0.  0.5 0. ]\n",
      " [0.  0.  0.  0.5]]\n"
     ]
    }
   ],
   "source": [
    "J = to_choi(S)\n",
    "print(J)\n",
    "\n"
   ]
  },
  {
   "cell_type": "code",
   "execution_count": 92,
   "metadata": {},
   "outputs": [
    {
     "data": {
      "image/png": "[encoded data removed]",
      "text/plain": [
       "<Figure size 432x288 with 1 Axes>"
      ]
     },
     "metadata": {
      "needs_background": "light"
     },
     "output_type": "display_data"
    }
   ],
   "source": [
    "N=10\n",
    "a = tensor (destroy(N), qeye(2))\n",
    "sz = tensor(qeye(N), sigmaz())\n",
    "s = tensor (qeye(N), destroy(2))\n",
    "wc= wq= 1.0 * 2 * np.pi\n",
    "g = 0.5 * 2 * np.pi\n",
    "H = wc*a.dag()*a - 0.5 * wq + sz + 0.5 * g * (a*s.dag()+ a.dag()*s)\n",
    "psi0 = tensor(basis(N,0),basis(2,0))\n",
    "tlist = np.linspace(0,10,100)\n",
    "out = mesolve(H,  psi0, tlist, [], [a.dag()*a])\n",
    "plt.plot(tlist, out.expect[0])\n",
    "plt.show()"
   ]
  },
  {
   "cell_type": "code",
   "execution_count": 93,
   "metadata": {},
   "outputs": [
    {
     "data": {
      "text/plain": [
       "[array([0., 0., 0., 0., 0., 0., 0., 0., 0., 0., 0., 0., 0., 0., 0., 0., 0.,\n",
       "        0., 0., 0., 0., 0., 0., 0., 0., 0., 0., 0., 0., 0., 0., 0., 0., 0.,\n",
       "        0., 0., 0., 0., 0., 0., 0., 0., 0., 0., 0., 0., 0., 0., 0., 0., 0.,\n",
       "        0., 0., 0., 0., 0., 0., 0., 0., 0., 0., 0., 0., 0., 0., 0., 0., 0.,\n",
       "        0., 0., 0., 0., 0., 0., 0., 0., 0., 0., 0., 0., 0., 0., 0., 0., 0.,\n",
       "        0., 0., 0., 0., 0., 0., 0., 0., 0., 0., 0., 0., 0., 0., 0.])]"
      ]
     },
     "execution_count": 93,
     "metadata": {},
     "output_type": "execute_result"
    }
   ],
   "source": [
    "out.expect"
   ]
  },
  {
   "cell_type": "code",
   "execution_count": null,
   "metadata": {},
   "outputs": [],
   "source": []
  },
  {
   "cell_type": "code",
   "execution_count": null,
   "metadata": {},
   "outputs": [],
   "source": []
  },
  {
   "cell_type": "code",
   "execution_count": null,
   "metadata": {},
   "outputs": [],
   "source": []
  },
  {
   "cell_type": "code",
   "execution_count": null,
   "metadata": {},
   "outputs": [],
   "source": []
  },
  {
   "cell_type": "code",
   "execution_count": null,
   "metadata": {},
   "outputs": [],
   "source": []
  },
  {
   "cell_type": "code",
   "execution_count": null,
   "metadata": {},
   "outputs": [],
   "source": []
  },
  {
   "cell_type": "code",
   "execution_count": 94,
   "metadata": {},
   "outputs": [
    {
     "data": {
      "image/png": "[encoded data removed]",
      "text/plain": [
       "<Figure size 864x216 with 3 Axes>"
      ]
     },
     "metadata": {
      "needs_background": "light"
     },
     "output_type": "display_data"
    }
   ],
   "source": [
    "N = 20\n",
    "\n",
    "rho_coherent = coherent_dm(N, np.sqrt(2))\n",
    "\n",
    "rho_thermal = thermal_dm(N, 2)\n",
    "\n",
    "rho_fock = fock_dm(N, 2)\n",
    "\n",
    "fig, axes = plt.subplots(1, 3, figsize=(12,3))\n",
    "\n",
    "bar0 = axes[0].bar(np.arange(0, N)-.5, rho_coherent.diag())\n",
    "\n",
    "lbl0 = axes[0].set_title(\"Coherent state\")\n",
    "\n",
    "lim0 = axes[0].set_xlim([-.5, N])\n",
    "\n",
    "bar1 = axes[1].bar(np.arange(0, N)-.5, rho_thermal.diag())\n",
    "\n",
    "lbl1 = axes[1].set_title(\"Thermal state\")\n",
    "\n",
    "lim1 = axes[1].set_xlim([-.5, N])\n",
    "\n",
    "bar2 = axes[2].bar(np.arange(0, N)-.5, rho_fock.diag())\n",
    "\n",
    "lbl2 = axes[2].set_title(\"Fock state\")\n",
    "\n",
    "lim2 = axes[2].set_xlim([-.5, N])\n",
    "\n",
    "plt.show()"
   ]
  },
  {
   "cell_type": "code",
   "execution_count": 95,
   "metadata": {},
   "outputs": [],
   "source": [
    "\n",
    "N = 20\n",
    "\n",
    "rho_coherent = coherent_dm(N, np.sqrt(2))\n",
    "\n",
    "rho_thermal = thermal_dm(N, 2)\n",
    "\n",
    "rho_fock = fock_dm(N, 2)"
   ]
  },
  {
   "cell_type": "code",
   "execution_count": 96,
   "metadata": {},
   "outputs": [
    {
     "data": {
      "image/png": "[encoded data removed]",
      "text/plain": [
       "<Figure size 864x216 with 3 Axes>"
      ]
     },
     "metadata": {
      "needs_background": "light"
     },
     "output_type": "display_data"
    }
   ],
   "source": [
    "fig, axes = plt.subplots(1, 3, figsize=(12,3))\n",
    "\n",
    "plot_fock_distribution(rho_coherent, fig=fig, ax=axes[0], title=\"Coherent state\");\n",
    "\n",
    "plot_fock_distribution(rho_thermal, fig=fig, ax=axes[1], title=\"Thermal state\");\n",
    "\n",
    "plot_fock_distribution(rho_fock, fig=fig, ax=axes[2], title=\"Fock state\");\n",
    "\n",
    "fig.tight_layout()\n",
    "\n",
    "plt.show()"
   ]
  },
  {
   "cell_type": "code",
   "execution_count": 97,
   "metadata": {},
   "outputs": [
    {
     "data": {
      "image/png": "[encoded data removed]",
      "text/plain": [
       "<Figure size 864x216 with 3 Axes>"
      ]
     },
     "metadata": {
      "needs_background": "light"
     },
     "output_type": "display_data"
    }
   ],
   "source": [
    "xvec = np.linspace(-5,5,200)\n",
    "\n",
    "W_coherent = wigner(rho_coherent, xvec, xvec)\n",
    "\n",
    "W_thermal = wigner(rho_thermal, xvec, xvec)\n",
    "\n",
    "W_fock = wigner(rho_fock, xvec, xvec)\n",
    "\n",
    "# plot the results\n",
    "\n",
    "fig, axes = plt.subplots(1, 3, figsize=(12,3))\n",
    "\n",
    "cont0 = axes[0].contourf(xvec, xvec, W_coherent, 100)\n",
    "\n",
    "lbl0 = axes[0].set_title(\"Coherent state\")\n",
    "\n",
    "cont1 = axes[1].contourf(xvec, xvec, W_thermal, 100)\n",
    "\n",
    "lbl1 = axes[1].set_title(\"Thermal state\")\n",
    "\n",
    "cont0 = axes[2].contourf(xvec, xvec, W_fock, 100)\n",
    "\n",
    "lbl2 = axes[2].set_title(\"Fock state\")\n",
    "\n",
    "plt.show()"
   ]
  },
  {
   "cell_type": "code",
   "execution_count": 98,
   "metadata": {},
   "outputs": [
    {
     "data": {
      "image/png": "[encoded data removed]",
      "text/plain": [
       "<Figure size 720x288 with 4 Axes>"
      ]
     },
     "metadata": {
      "needs_background": "light"
     },
     "output_type": "display_data"
    }
   ],
   "source": [
    "import matplotlib as mpl\n",
    "\n",
    "from matplotlib import cm\n",
    "\n",
    "psi = (basis(10, 0) + basis(10, 3) + basis(10, 9)).unit()\n",
    "\n",
    "xvec = np.linspace(-5, 5, 500)\n",
    "\n",
    "W = wigner(psi, xvec, xvec)\n",
    "\n",
    "wmap = wigner_cmap(W)  # Generate Wigner colormap\n",
    "\n",
    "nrm = mpl.colors.Normalize(-W.max(), W.max())\n",
    "\n",
    "fig, axes = plt.subplots(1, 2, figsize=(10, 4))\n",
    "\n",
    "plt1 = axes[0].contourf(xvec, xvec, W, 100, cmap=cm.RdBu, norm=nrm)\n",
    "\n",
    "axes[0].set_title(\"Standard Colormap\");\n",
    "\n",
    "cb1 = fig.colorbar(plt1, ax=axes[0])\n",
    "\n",
    "plt2 = axes[1].contourf(xvec, xvec, W, 100, cmap=wmap)  # Apply Wigner colormap\n",
    "\n",
    "axes[1].set_title(\"Wigner Colormap\");\n",
    "\n",
    "cb2 = fig.colorbar(plt2, ax=axes[1])\n",
    "\n",
    "fig.tight_layout()\n",
    "\n",
    "plt.show()"
   ]
  },
  {
   "cell_type": "code",
   "execution_count": 99,
   "metadata": {},
   "outputs": [
    {
     "data": {
      "image/png": "[encoded data removed]",
      "text/plain": [
       "<Figure size 864x216 with 3 Axes>"
      ]
     },
     "metadata": {
      "needs_background": "light"
     },
     "output_type": "display_data"
    }
   ],
   "source": [
    "Q_coherent = qfunc(rho_coherent, xvec, xvec)\n",
    "\n",
    "Q_thermal = qfunc(rho_thermal, xvec, xvec)\n",
    "\n",
    "Q_fock = qfunc(rho_fock, xvec, xvec)\n",
    "\n",
    "fig, axes = plt.subplots(1, 3, figsize=(12,3))\n",
    "\n",
    "cont0 = axes[0].contourf(xvec, xvec, Q_coherent, 100)\n",
    "\n",
    "lbl0 = axes[0].set_title(\"Coherent state\")\n",
    "\n",
    "cont1 = axes[1].contourf(xvec, xvec, Q_thermal, 100)\n",
    "\n",
    "lbl1 = axes[1].set_title(\"Thermal state\")\n",
    "\n",
    "cont0 = axes[2].contourf(xvec, xvec, Q_fock, 100)\n",
    "\n",
    "lbl2 = axes[2].set_title(\"Fock state\")\n",
    "\n",
    "plt.show()\n"
   ]
  },
  {
   "cell_type": "code",
   "execution_count": 100,
   "metadata": {},
   "outputs": [
    {
     "name": "stderr",
     "output_type": "stream",
     "text": [
      "/home/mp74207/anaconda3/envs/AAAA_CMB_HU/lib/python3.9/site-packages/qutip/visualization.py:471: UserWarning: FixedFormatter should only be used together with FixedLocator\n",
      "  ax.set_xticklabels(xlabels)\n",
      "/home/mp74207/anaconda3/envs/AAAA_CMB_HU/lib/python3.9/site-packages/qutip/visualization.py:477: UserWarning: FixedFormatter should only be used together with FixedLocator\n",
      "  ax.set_yticklabels(ylabels)\n"
     ]
    },
    {
     "data": {
      "image/png": "[encoded data removed]",
      "text/plain": [
       "<Figure size 432x288 with 2 Axes>"
      ]
     },
     "metadata": {
      "needs_background": "light"
     },
     "output_type": "display_data"
    }
   ],
   "source": [
    "N = 5\n",
    "\n",
    "a = tensor(destroy(N), qeye(2))\n",
    "\n",
    "b = tensor(qeye(N), destroy(2))\n",
    "\n",
    "sx = tensor(qeye(N), sigmax())\n",
    "\n",
    "H = a.dag() * a + sx - 0.5 * (a * b.dag() + a.dag() * b)\n",
    "\n",
    "# visualize H\n",
    "\n",
    "lbls_list = [[str(d) for d in range(N)], [\"u\", \"d\"]]\n",
    "\n",
    "xlabels = []\n",
    "\n",
    "for inds in tomography._index_permutations([len(lbls) for lbls in lbls_list]):\n",
    "   xlabels.append(\"\".join([lbls_list[k][inds[k]] for k in range(len(lbls_list))]))\n",
    "\n",
    "fig, ax = matrix_histogram(H, xlabels, xlabels, limits=[-4,4])\n",
    "\n",
    "ax.view_init(azim=-55, elev=45)\n",
    "\n",
    "plt.show()"
   ]
  },
  {
   "cell_type": "code",
   "execution_count": 101,
   "metadata": {},
   "outputs": [
    {
     "name": "stderr",
     "output_type": "stream",
     "text": [
      "/home/mp74207/anaconda3/envs/AAAA_CMB_HU/lib/python3.9/site-packages/qutip/visualization.py:320: UserWarning: FixedFormatter should only be used together with FixedLocator\n",
      "  ax.set_xticklabels(xlabels)\n",
      "/home/mp74207/anaconda3/envs/AAAA_CMB_HU/lib/python3.9/site-packages/qutip/visualization.py:328: UserWarning: FixedFormatter should only be used together with FixedLocator\n",
      "  ax.set_yticklabels(list(reversed(ylabels)))\n"
     ]
    },
    {
     "data": {
      "image/png": "[encoded data removed]",
      "text/plain": [
       "<Figure size 576x432 with 2 Axes>"
      ]
     },
     "metadata": {
      "needs_background": "light"
     },
     "output_type": "display_data"
    }
   ],
   "source": [
    "rho_ss = steadystate(H, [np.sqrt(0.1) * a, np.sqrt(0.4) * b.dag()])\n",
    "\n",
    "hinton(rho_ss)\n",
    "\n",
    "plt.show()"
   ]
  },
  {
   "cell_type": "code",
   "execution_count": 102,
   "metadata": {},
   "outputs": [],
   "source": [
    "from qutip.qip.operations import iswap\n",
    "\n",
    "U_psi = iswap()"
   ]
  },
  {
   "cell_type": "code",
   "execution_count": 103,
   "metadata": {},
   "outputs": [],
   "source": [
    "U_rho = spre(U_psi) * spost(U_psi.dag())"
   ]
  },
  {
   "cell_type": "code",
   "execution_count": 104,
   "metadata": {},
   "outputs": [],
   "source": [
    "op_basis = [[qeye(2), sigmax(), sigmay(), sigmaz()]] * 2\n",
    "op_label = [[\"i\", \"x\", \"y\", \"z\"]] * 2"
   ]
  },
  {
   "cell_type": "code",
   "execution_count": 105,
   "metadata": {},
   "outputs": [
    {
     "name": "stderr",
     "output_type": "stream",
     "text": [
      "/home/mp74207/anaconda3/envs/AAAA_CMB_HU/lib/python3.9/site-packages/qutip/visualization.py:584: UserWarning: FixedFormatter should only be used together with FixedLocator\n",
      "  ax.set_xticklabels(xlabels)\n",
      "/home/mp74207/anaconda3/envs/AAAA_CMB_HU/lib/python3.9/site-packages/qutip/visualization.py:590: UserWarning: FixedFormatter should only be used together with FixedLocator\n",
      "  ax.set_yticklabels(ylabels)\n"
     ]
    },
    {
     "data": {
      "image/png": "[encoded data removed]",
      "text/plain": [
       "<Figure size 576x432 with 2 Axes>"
      ]
     },
     "metadata": {
      "needs_background": "light"
     },
     "output_type": "display_data"
    }
   ],
   "source": [
    "chi = qpt(U_rho, op_basis)\n",
    "\n",
    "fig = qpt_plot_combined(chi, op_label, r'$i$SWAP')\n",
    "\n",
    "plt.show()"
   ]
  },
  {
   "cell_type": "code",
   "execution_count": null,
   "metadata": {},
   "outputs": [],
   "source": []
  },
  {
   "cell_type": "code",
   "execution_count": null,
   "metadata": {},
   "outputs": [],
   "source": []
  },
  {
   "cell_type": "code",
   "execution_count": null,
   "metadata": {},
   "outputs": [],
   "source": []
  },
  {
   "cell_type": "code",
   "execution_count": null,
   "metadata": {},
   "outputs": [],
   "source": []
  },
  {
   "cell_type": "code",
   "execution_count": null,
   "metadata": {},
   "outputs": [],
   "source": []
  },
  {
   "cell_type": "code",
   "execution_count": null,
   "metadata": {},
   "outputs": [],
   "source": []
  },
  {
   "cell_type": "code",
   "execution_count": null,
   "metadata": {},
   "outputs": [],
   "source": []
  }
 ],
 "metadata": {
  "anaconda-cloud": {},
  "kernelspec": {
   "display_name": "Python [conda env:AAAA_CMB_HU] *",
   "language": "python",
   "name": "conda-env-AAAA_CMB_HU-py"
  },
  "language_info": {
   "codemirror_mode": {
    "name": "ipython",
    "version": 3
   },
   "file_extension": ".py",
   "mimetype": "text/x-python",
   "name": "python",
   "nbconvert_exporter": "python",
   "pygments_lexer": "ipython3",
   "version": "3.9.7"
  }
 },
 "nbformat": 4,
 "nbformat_minor": 4
}
