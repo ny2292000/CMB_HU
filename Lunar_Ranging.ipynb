{
 "cells": [
  {
   "cell_type": "code",
   "execution_count": 1,
   "id": "9f149814-0dc2-4edc-81ab-fe8a780a11be",
   "metadata": {},
   "outputs": [
    {
     "name": "stdout",
     "output_type": "stream",
     "text": [
      "Estimated Earth-Moon recession rate: 4.28 cm/yr (simplified model)\n"
     ]
    }
   ],
   "source": [
    "import math\n",
    "import numpy as np\n",
    "\n",
    "#----------------------------\n",
    "# Constants and parameters\n",
    "#----------------------------\n",
    "\n",
    "G         = 6.67430e-11       # Gravitational constant [m^3 kg^-1 s^-2]\n",
    "M_earth   = 5.9722e24         # Mass of Earth [kg]\n",
    "M_moon    = 7.3477e22         # Mass of the Moon [kg] (approx)\n",
    "r_moon    = 3.844e8           # Current Earth-Moon distance [m]\n",
    "omega_earth = 7.2921159e-5    # Earth's angular velocity [rad/s] ~ (2*pi / 86164s)\n",
    "P_tides   = 3.7e12            # Approx tidal dissipation power [W] ~ 3.7 TW\n",
    "\n",
    "#----------------------------\n",
    "# Compute the tidal torque\n",
    "#----------------------------\n",
    "# tau = P / omega\n",
    "tau = P_tides / omega_earth   # [N m] because W / (rad/s) = J / rad ~ N m\n",
    "\n",
    "#----------------------------\n",
    "# dL/dr for the Moon's orbit\n",
    "#----------------------------\n",
    "# L = m * sqrt(G * M_earth * r)\n",
    "# dL/dr = 0.5 * m * sqrt(G * M_earth / r)\n",
    "\n",
    "dLdr = 0.5 * M_moon * math.sqrt(G * M_earth / r_moon)\n",
    "\n",
    "#----------------------------\n",
    "# Recession speed dr/dt\n",
    "#----------------------------\n",
    "dr_dt = tau / dLdr  # [m/s]\n",
    "\n",
    "# Convert m/s to cm/yr\n",
    "m_per_yr = dr_dt * (3600*24*365.25)   # multiply by seconds in a year\n",
    "cm_per_yr = m_per_yr * 100.0\n",
    "\n",
    "print(f\"Estimated Earth-Moon recession rate: {cm_per_yr:.2f} cm/yr (simplified model)\")\n"
   ]
  },
  {
   "cell_type": "code",
   "execution_count": 7,
   "id": "0bae0123-8e5f-4242-99e5-b38d66cf8aad",
   "metadata": {},
   "outputs": [
    {
     "data": {
      "text/plain": [
       "(4.654441911880463e-08, 7.2921159e-05, 0.2034, -7.122507122507123e-11)"
      ]
     },
     "execution_count": 7,
     "metadata": {},
     "output_type": "execute_result"
    }
   ],
   "source": [
    "T_dot_over_T = 1.7E-3/(100*365.2425)\n",
    "Omega__dot_Earth_over_Omega_Earth = - T_dot_over_T\n",
    "G_dot_over_G = -1/14.04E9\n",
    "L_orb_over_L_Earth = 0.2034\n",
    "T_dot_over_T, omega_earth, L_orb_over_L_Earth, G_dot_over_G"
   ]
  },
  {
   "cell_type": "code",
   "execution_count": 11,
   "id": "8a7e6fd2-e1ef-44b1-a787-7b5a35e52a5b",
   "metadata": {},
   "outputs": [
    {
     "data": {
      "text/plain": [
       "-0.0015305946173801903"
      ]
     },
     "execution_count": 11,
     "metadata": {},
     "output_type": "execute_result"
    }
   ],
   "source": [
    "\n",
    "I_dot_Earth_over_I_Earth_tlm = -5.0E-11*L_orb_over_L_Earth - Omega__dot_Earth_over_Omega_Earth\n",
    "G_dot_over_G/I_dot_Earth_over_I_Earth_tlm"
   ]
  },
  {
   "cell_type": "code",
   "execution_count": null,
   "id": "216c7e66-3a73-48a1-91d8-0a2cb3179fec",
   "metadata": {},
   "outputs": [],
   "source": []
  },
  {
   "cell_type": "code",
   "execution_count": null,
   "id": "188bc86e-1917-4cec-b8c1-575713e82c3c",
   "metadata": {},
   "outputs": [],
   "source": []
  }
 ],
 "metadata": {
  "kernelspec": {
   "display_name": "Python [conda env:Cosmos3020]",
   "language": "python",
   "name": "conda-env-Cosmos3020-py"
  },
  "language_info": {
   "codemirror_mode": {
    "name": "ipython",
    "version": 3
   },
   "file_extension": ".py",
   "mimetype": "text/x-python",
   "name": "python",
   "nbconvert_exporter": "python",
   "pygments_lexer": "ipython3",
   "version": "3.11.9"
  }
 },
 "nbformat": 4,
 "nbformat_minor": 5
}
