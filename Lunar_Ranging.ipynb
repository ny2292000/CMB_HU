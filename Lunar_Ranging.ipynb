{
 "cells": [
  {
   "cell_type": "code",
   "execution_count": null,
   "id": "9f149814-0dc2-4edc-81ab-fe8a780a11be",
   "metadata": {},
   "outputs": [],
   "source": [
    "import math\n",
    "\n",
    "#----------------------------\n",
    "# Constants and parameters\n",
    "#----------------------------\n",
    "\n",
    "G         = 6.67430e-11       # Gravitational constant [m^3 kg^-1 s^-2]\n",
    "M_earth   = 5.9722e24         # Mass of Earth [kg]\n",
    "M_moon    = 7.3477e22         # Mass of the Moon [kg] (approx)\n",
    "r_moon    = 3.844e8           # Current Earth-Moon distance [m]\n",
    "omega_earth = 7.2921159e-5    # Earth's angular velocity [rad/s] ~ (2*pi / 86164s)\n",
    "P_tides   = 3.7e12            # Approx tidal dissipation power [W] ~ 3.7 TW\n",
    "\n",
    "#----------------------------\n",
    "# Compute the tidal torque\n",
    "#----------------------------\n",
    "# tau = P / omega\n",
    "tau = P_tides / omega_earth   # [N m] because W / (rad/s) = J / rad ~ N m\n",
    "\n",
    "#----------------------------\n",
    "# dL/dr for the Moon's orbit\n",
    "#----------------------------\n",
    "# L = m * sqrt(G * M_earth * r)\n",
    "# dL/dr = 0.5 * m * sqrt(G * M_earth / r)\n",
    "\n",
    "dLdr = 0.5 * M_moon * math.sqrt(G * M_earth / r_moon)\n",
    "\n",
    "#----------------------------\n",
    "# Recession speed dr/dt\n",
    "#----------------------------\n",
    "dr_dt = tau / dLdr  # [m/s]\n",
    "\n",
    "# Convert m/s to cm/yr\n",
    "m_per_yr = dr_dt * (3600*24*365.25)   # multiply by seconds in a year\n",
    "cm_per_yr = m_per_yr * 100.0\n",
    "\n",
    "print(f\"Estimated Earth-Moon recession rate: {cm_per_yr:.2f} cm/yr (simplified model)\")\n"
   ]
  },
  {
   "cell_type": "code",
   "execution_count": null,
   "id": "0bae0123-8e5f-4242-99e5-b38d66cf8aad",
   "metadata": {},
   "outputs": [],
   "source": []
  }
 ],
 "metadata": {
  "kernelspec": {
   "display_name": "Python [conda env:Cosmos3020]",
   "language": "python",
   "name": "conda-env-Cosmos3020-py"
  },
  "language_info": {
   "codemirror_mode": {
    "name": "ipython",
    "version": 3
   },
   "file_extension": ".py",
   "mimetype": "text/x-python",
   "name": "python",
   "nbconvert_exporter": "python",
   "pygments_lexer": "ipython3",
   "version": "3.11.9"
  }
 },
 "nbformat": 4,
 "nbformat_minor": 5
}
