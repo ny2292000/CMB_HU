{
 "cells": [
  {
   "cell_type": "code",
   "execution_count": 1,
   "metadata": {},
   "outputs": [
    {
     "data": {
      "text/plain": [
       "(omega, L, alpha, k, k0, pi)"
      ]
     },
     "execution_count": 1,
     "metadata": {},
     "output_type": "execute_result"
    }
   ],
   "source": [
    "var (\"omega\", \"L\", \"alpha\", \"k\", \"k0\", \"pi\", domain=RR)"
   ]
  },
  {
   "cell_type": "code",
   "execution_count": 2,
   "metadata": {},
   "outputs": [
    {
     "data": {
      "text/html": [
       "<html><script type=\"math/tex; mode=display\">\\newcommand{\\Bold}[1]{\\mathbf{#1}}\\frac{\\sqrt{2} {\\left(e^{\\left(L {\\left(-i \\, l + \\frac{\\log\\left(2\\right)}{L}\\right)}\\right)} - 1\\right)}}{2 \\, {\\left(-i \\, l + \\frac{\\log\\left(2\\right)}{L}\\right)} \\sqrt{\\pi}}</script></html>"
      ],
      "text/plain": [
       "1/2*sqrt(2)*(e^(L*(-I*l + log(2)/L)) - 1)/((-I*l + log(2)/L)*sqrt(pi))"
      ]
     },
     "metadata": {},
     "output_type": "display_data"
    }
   ],
   "source": [
    "# Fourier transform of  exp(alpha*t) for 0<x<L, 0 otherwise\n",
    "\n",
    "f(l)=1/sqrt(2*pi)/((ln(2)/L)-i*l)*(exp(((ln(2)/L)-i*l)*L)-1)\n",
    "pretty_print(f(l))"
   ]
  },
  {
   "cell_type": "code",
   "execution_count": 3,
   "metadata": {},
   "outputs": [
    {
     "data": {
      "text/html": [
       "<html><script type=\"math/tex; mode=display\">\\newcommand{\\Bold}[1]{\\mathbf{#1}}\\frac{\\sqrt{2} \\cos\\left(-L\\right) \\cos\\left(-\\frac{1}{2} \\, \\arctan\\left(0, \\pi\\right)\\right)}{{\\left(\\frac{\\log\\left(2\\right)^{2}}{L^{2}} + 1\\right)} \\sqrt{{\\left| \\pi \\right|}}} + \\frac{\\sqrt{2} \\cos\\left(-\\frac{1}{2} \\, \\arctan\\left(0, \\pi\\right)\\right) \\log\\left(2\\right) \\sin\\left(-L\\right)}{L {\\left(\\frac{\\log\\left(2\\right)^{2}}{L^{2}} + 1\\right)} \\sqrt{{\\left| \\pi \\right|}}} + \\frac{\\sqrt{2} \\cos\\left(-L\\right) \\log\\left(2\\right) \\sin\\left(-\\frac{1}{2} \\, \\arctan\\left(0, \\pi\\right)\\right)}{L {\\left(\\frac{\\log\\left(2\\right)^{2}}{L^{2}} + 1\\right)} \\sqrt{{\\left| \\pi \\right|}}} - \\frac{\\sqrt{2} \\sin\\left(-L\\right) \\sin\\left(-\\frac{1}{2} \\, \\arctan\\left(0, \\pi\\right)\\right)}{{\\left(\\frac{\\log\\left(2\\right)^{2}}{L^{2}} + 1\\right)} \\sqrt{{\\left| \\pi \\right|}}} - \\frac{\\sqrt{2} \\cos\\left(-\\frac{1}{2} \\, \\arctan\\left(0, \\pi\\right)\\right)}{2 \\, {\\left(\\frac{\\log\\left(2\\right)^{2}}{L^{2}} + 1\\right)} \\sqrt{{\\left| \\pi \\right|}}} - \\frac{\\sqrt{2} \\log\\left(2\\right) \\sin\\left(-\\frac{1}{2} \\, \\arctan\\left(0, \\pi\\right)\\right)}{2 \\, L {\\left(\\frac{\\log\\left(2\\right)^{2}}{L^{2}} + 1\\right)} \\sqrt{{\\left| \\pi \\right|}}}</script></html>"
      ],
      "text/plain": [
       "sqrt(2)*cos(-L)*cos(-1/2*arctan2(0, pi))/((log(2)^2/L^2 + 1)*sqrt(abs(pi))) + sqrt(2)*cos(-1/2*arctan2(0, pi))*log(2)*sin(-L)/(L*(log(2)^2/L^2 + 1)*sqrt(abs(pi))) + sqrt(2)*cos(-L)*log(2)*sin(-1/2*arctan2(0, pi))/(L*(log(2)^2/L^2 + 1)*sqrt(abs(pi))) - sqrt(2)*sin(-L)*sin(-1/2*arctan2(0, pi))/((log(2)^2/L^2 + 1)*sqrt(abs(pi))) - 1/2*sqrt(2)*cos(-1/2*arctan2(0, pi))/((log(2)^2/L^2 + 1)*sqrt(abs(pi))) - 1/2*sqrt(2)*log(2)*sin(-1/2*arctan2(0, pi))/(L*(log(2)^2/L^2 + 1)*sqrt(abs(pi)))"
      ]
     },
     "metadata": {},
     "output_type": "display_data"
    }
   ],
   "source": [
    "pretty_print(imag(f(1)))"
   ]
  },
  {
   "cell_type": "code",
   "execution_count": 4,
   "metadata": {},
   "outputs": [
    {
     "data": {
      "text/html": [
       "<html><script type=\"math/tex; mode=display\">\\newcommand{\\Bold}[1]{\\mathbf{#1}}\\frac{4 \\, \\sqrt{2} e^{\\left(-\\frac{1}{2} i \\, L l\\right)} \\sin\\left(\\frac{1}{2} \\, L l\\right)}{L^{2} l \\sqrt{\\pi}}</script></html>"
      ],
      "text/plain": [
       "4*sqrt(2)*e^(-1/2*I*L*l)*sin(1/2*L*l)/(L^2*l*sqrt(pi))"
      ]
     },
     "metadata": {},
     "output_type": "display_data"
    },
    {
     "data": {
      "text/plain": [
       "\\frac{4 \\, \\sqrt{2} e^{\\left(-\\frac{1}{2} i \\, L l\\right)} \\sin\\left(\\frac{1}{2} \\, L l\\right)}{L^{2} l \\sqrt{\\pi}}"
      ]
     },
     "execution_count": 4,
     "metadata": {},
     "output_type": "execute_result"
    }
   ],
   "source": [
    "# Fourier transform of  1 for 0<x<L, 0 otherwise\n",
    "\n",
    "h(l)=sqrt(2/pi)*(2/L)*exp(-i*l*L/2)*sin(l*L/2)/(l*L/2)\n",
    "\n",
    "pretty_print(h(l))\n",
    "latex(h(l))"
   ]
  },
  {
   "cell_type": "code",
   "execution_count": null,
   "metadata": {},
   "outputs": [],
   "source": []
  }
 ],
 "metadata": {
  "kernelspec": {
   "display_name": "SageMath 9.0",
   "language": "sage",
   "name": "sagemath"
  },
  "language_info": {
   "codemirror_mode": {
    "name": "ipython",
    "version": 3
   },
   "file_extension": ".py",
   "mimetype": "text/x-python",
   "name": "python",
   "nbconvert_exporter": "python",
   "pygments_lexer": "ipython3",
   "version": "3.8.10"
  }
 },
 "nbformat": 4,
 "nbformat_minor": 4
}
