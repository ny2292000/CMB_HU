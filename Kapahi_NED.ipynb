{
 "cells": [
  {
   "cell_type": "markdown",
   "id": "085c5d01-919b-49f7-a8fa-dc407c3c2fe5",
   "metadata": {},
   "source": [
    "0f5d0364  https://ned.ipac.caltech.edu/ticket_monitor"
   ]
  },
  {
   "cell_type": "code",
   "execution_count": null,
   "id": "b9e30169-6afb-48f5-bf81-6a4b65137f81",
   "metadata": {},
   "outputs": [],
   "source": [
    "# Re-import necessary libraries due to code reset\n",
    "import pandas as pd\n",
    "import matplotlib.pyplot as plt\n",
    "import numpy as np\n",
    "from scipy.optimize import curve_fit\n",
    "\n",
    "# Load the data\n",
    "file_path = \"./KapahiData/MyResult_20241226.csv\"\n",
    "data = pd.read_csv(file_path, delimiter=\",\")  # Assuming tab-separated values; adjust if different\n",
    "print(\"Number of Galaxies =\", len(data))\n",
    "# Bin the data by redshift\n",
    "bins = pd.interval_range(start=0, end=1, freq=0.1)  # Adjust the range and bin size as needed\n",
    "data['Redshift_bin'] = pd.cut(data['Redshift'], bins=bins)\n",
    "\n",
    "# Calculate the median PetroRad_r for each bin\n",
    "binned_data = data.groupby('Redshift_bin')['petroRad_r'].median().reset_index()\n",
    "binned_data.columns = ['Redshift_bin', 'Median_petroRad_r']\n",
    "\n",
    "# Define the model function A + Bz\n",
    "def size_model(z, A, B):\n",
    "    return A + B*z\n",
    "\n",
    "# Extract the midpoint of the redshift bins as numeric values\n",
    "x_data = binned_data['Redshift_bin'].apply(lambda x: x.mid).astype(float)\n",
    "y_data = np.log(binned_data['Median_petroRad_r'].values)\n",
    "\n",
    "# Perform the curve fitting\n",
    "params, covariance = curve_fit(size_model, x_data, y_data)\n",
    "A_fit, B_fit = params\n",
    "\n",
    "# Generate a smooth curve for the fit\n",
    "z_fit = np.linspace(min(x_data), max(x_data), 100)\n",
    "petroRad_fit = size_model(z_fit, A_fit, B_fit)\n",
    "\n",
    "# Plot the original data and the fit\n",
    "plt.figure(figsize=(10, 6))\n",
    "plt.plot(x_data, y_data, 'o', label=\"Binned Data (Log of Median PetroRad_r)\", markersize=8)\n",
    "plt.plot(z_fit, petroRad_fit, '-', label=f\"Fit: $A + Bz$ (A = {A_fit:.2f}, B = {B_fit:.2f})\", linewidth=2)\n",
    "plt.xlabel(\"Redshift (z)\", fontsize=14)\n",
    "plt.ylabel(\"Log of Median PetroRad_r (arcseconds)\", fontsize=14)\n",
    "plt.title(\"Fit: Galaxy Size vs. Redshift (Log Space)\", fontsize=16)\n",
    "plt.legend(fontsize=12)\n",
    "plt.grid()\n",
    "plt.savefig(\"./Drawing_For_Publications/Kapahi_SDSSMedian.png\")\n",
    "plt.show()\n"
   ]
  },
  {
   "cell_type": "code",
   "execution_count": null,
   "id": "d66cdef7-d8af-44c9-b46e-ab4ac67c7fad",
   "metadata": {
    "jupyter": {
     "source_hidden": true
    }
   },
   "outputs": [],
   "source": [
    "# Re-import necessary libraries due to code reset\n",
    "import pandas as pd\n",
    "import matplotlib.pyplot as plt\n",
    "import numpy as np\n",
    "from scipy.optimize import curve_fit\n",
    "\n",
    "# Load the data\n",
    "file_path = \"./KapahiData/MyResult_20241226.csv\"\n",
    "data = pd.read_csv(file_path, delimiter=\",\")  # Assuming tab-separated values; adjust if different\n",
    "print(\"Number of Galaxies =\", len(data))\n",
    "# Bin the data by redshift\n",
    "bins = pd.interval_range(start=0, end=1, freq=0.1)  # Adjust the range and bin size as needed\n",
    "data['Redshift_bin'] = pd.cut(data['Redshift'], bins=bins)\n",
    "\n",
    "# Calculate the mean PetroRad_r for each bin\n",
    "binned_data = data.groupby('Redshift_bin')['petroRad_r'].mean().reset_index()\n",
    "binned_data.columns = ['Redshift_bin', 'Mean_petroRad_r']\n",
    "\n",
    "# Define the model function A + Bz\n",
    "def size_model(z, A, B):\n",
    "    return A + B*z\n",
    "\n",
    "# Extract the midpoint of the redshift bins as numeric values\n",
    "x_data = binned_data['Redshift_bin'].apply(lambda x: x.mid).astype(float)\n",
    "y_data = np.log(binned_data['Mean_petroRad_r'].values)\n",
    "\n",
    "# Perform the curve fitting\n",
    "params, covariance = curve_fit(size_model, x_data, y_data)\n",
    "A_fit, B_fit = params\n",
    "\n",
    "# Generate a smooth curve for the fit\n",
    "z_fit = np.linspace(min(x_data), max(x_data), 100)\n",
    "petroRad_fit = size_model(z_fit, A_fit, B_fit)\n",
    "\n",
    "# Plot the original data and the fit\n",
    "plt.figure(figsize=(10, 6))\n",
    "plt.plot(x_data, y_data, 'o', label=\"Binned Data (Log of Mean PetroRad_r)\", markersize=8)\n",
    "plt.plot(z_fit, petroRad_fit, '-', label=f\"Fit: $A + Bz$ (A = {A_fit:.2f}, B = {B_fit:.2f})\", linewidth=2)\n",
    "plt.xlabel(\"Redshift (z)\", fontsize=14)\n",
    "plt.ylabel(\"Log of Mean PetroRad_r (arcseconds)\", fontsize=14)\n",
    "plt.title(\"Fit: Galaxy Size vs. Redshift (Log Space)\", fontsize=16)\n",
    "plt.legend(fontsize=12)\n",
    "plt.grid()\n",
    "plt.savefig(\"./Drawing_For_Publications/Kapahi_SDSSMean.png\")\n",
    "plt.show()\n"
   ]
  },
  {
   "cell_type": "code",
   "execution_count": null,
   "id": "954e459a-d22a-4b2a-a791-0ac442dd5d30",
   "metadata": {},
   "outputs": [],
   "source": []
  }
 ],
 "metadata": {
  "kernelspec": {
   "display_name": "Python [conda env:Cosmos3020]",
   "language": "python",
   "name": "conda-env-Cosmos3020-py"
  },
  "language_info": {
   "codemirror_mode": {
    "name": "ipython",
    "version": 3
   },
   "file_extension": ".py",
   "mimetype": "text/x-python",
   "name": "python",
   "nbconvert_exporter": "python",
   "pygments_lexer": "ipython3",
   "version": "3.11.9"
  }
 },
 "nbformat": 4,
 "nbformat_minor": 5
}
