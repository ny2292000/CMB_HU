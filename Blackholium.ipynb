{
 "cells": [
  {
   "cell_type": "code",
   "execution_count": 1,
   "metadata": {},
   "outputs": [
    {
     "name": "stdout",
     "output_type": "stream",
     "text": [
      "Optimization terminated successfully.\n",
      "         Current function value: 0.008878\n",
      "         Iterations: 146\n",
      "         Function evaluations: 290\n"
     ]
    },
    {
     "data": {
      "text/plain": [
       "(<AxesSubplot:xlabel='density'>,\n",
       " array([9.03083293e-02, 2.51374470e+02, 2.84174970e-01, 1.14265286e-01]))"
      ]
     },
     "execution_count": 1,
     "metadata": {},
     "output_type": "execute_result"
    },
    {
     "data": {
      "image/png": "[encoded data removed]",
      "text/plain": [
       "<Figure size 432x288 with 1 Axes>"
      ]
     },
     "metadata": {
      "needs_background": "light"
     },
     "output_type": "display_data"
    }
   ],
   "source": [
    "%matplotlib inline\n",
    "import matplotlib\n",
    "\n",
    "import pandas as pd\n",
    "import numpy as np\n",
    "import astropy.units as units\n",
    "import astropy.constants as constants\n",
    "from astropy.cosmology import Planck15\n",
    "import math\n",
    "\n",
    "import matplotlib.pyplot as plt\n",
    "import pylab\n",
    "\n",
    "from scipy.optimize import fsolve, curve_fit, minimize\n",
    "from scipy.stats import chisquare\n",
    "from scipy.special import gamma\n",
    "import scipy\n",
    "\n",
    "from parameters import *\n",
    "\n",
    "H0=1\n",
    "c=1\n",
    "R0=1\n",
    "pi4=math.pi/4.0\n",
    "sqrt2=math.sqrt(2)\n",
    "\n",
    "def alphaZ(x):\n",
    "    alpha = math.pi/4 - math.asin(1/math.sqrt(2)/(1+x))\n",
    "    return alpha\n",
    "\n",
    "def z_Out_Of_Alpha(alpha):\n",
    "    z = 1.0/math.sin(pi4-alpha)/sqrt2-1.0\n",
    "    return z\n",
    "\n",
    "def alpha_Out_Of_d_HU(d_HU):\n",
    "    alpha =  pi4-np.asin((1.0-d_HU)/sqrt2)\n",
    "    return alpha\n",
    "    \n",
    "def z_Out_Of_d_HU(d_HU):\n",
    "    alpha= alpha_Out_Of_d_HU(d_HU)\n",
    "    z = z_Out_Of_Alpha(alpha)\n",
    "    return z\n",
    "\n",
    "def d_HU_epoch(R0,z):\n",
    "    alpha = alphaZ(z)\n",
    "    d_HU=R0*(1- math.cos(alpha)+math.sin(alpha))\n",
    "    return d_HU\n",
    "\n",
    "df0=pd.DataFrame(vssquared, columns=[\"density\",\"cs2\"])\n",
    "# df0.plot(x=\"density\", y=\"cs2\")\n",
    "\n",
    "def errorf(x):\n",
    "    error=0\n",
    "    for x0,y0 in vssquared:\n",
    "        error+=(f(x0, x)-y0)**2\n",
    "    return error\n",
    "def f(x0, x):\n",
    "    beta=x[0]\n",
    "    n0=x[1]\n",
    "    vs0=1/3-1.3E-12\n",
    "    alpha=x[2]\n",
    "    return vs0/(1+np.exp(-beta*(x0-n0))**alpha) + 1.3E-12\n",
    "\n",
    "\n",
    "x0=[0.1,200.0,0.3,0.1]\n",
    "results=minimize(errorf, x0, method='nelder-mead', options={'xatol': 1e-8, 'disp': True})\n",
    "\n",
    "x= np.linspace(50,800,200)\n",
    "df = {}\n",
    "for x0 in x[:]:\n",
    "    df[x0]=f(x0, results.x)\n",
    "    \n",
    "df1= pd.DataFrame.from_dict(df, orient=\"index\",columns=[\"cs2\"])\n",
    "df1[\"density\"]=df1.index\n",
    "\n",
    "\n",
    "\n",
    "def vofsound(x):\n",
    "    x0=[9.03083293e-02, 2.51374470e+02, 2.84174970e-01, 1.14265286e-01]\n",
    "    return f(x, x0)\n",
    "\n",
    "df2=pd.DataFrame()\n",
    "df2[\"cs2\"]=vofsound(df1.density)\n",
    "\n",
    "ax=df2.plot()\n",
    "df0.plot(x=\"density\", y=\"cs2\", ax=ax), results.x"
   ]
  },
  {
   "cell_type": "markdown",
   "metadata": {},
   "source": [
    "\n",
    "\n",
    "<h1>The segment below is related to the Baryonic Acoustic Oscillations. I wanted to see how my theory would deal with that. This is work in progress</h1>\n",
    "\n",
    "<br>\n",
    "<br>"
   ]
  },
  {
   "cell_type": "markdown",
   "metadata": {},
   "source": [
    "Current Density is related to the speed of light by Energy Conservation:\n",
    "\n",
    "$$ \\rho=\\frac{c^2}{0.776 *G *2 \\pi^2R_0^2} $$"
   ]
  },
  {
   "cell_type": "code",
   "execution_count": 2,
   "metadata": {},
   "outputs": [],
   "source": [
    "def densityU(t,u):\n",
    "    hydrogenatom=1.66E-24*uu.g\n",
    "    newradius=t*cc.c*u+dbh_radius\n",
    "    dilution=(dbh_radius/newradius)**(3)\n",
    "    density=(dbhMev_fm3*dilution.si)\n",
    "    return density\n",
    "\n",
    "def atmU(t,u): # fraction of standard atmospherica pressure and number of atoms per cubic meter\n",
    "    hydrogenatom=1.66E-24*uu.g\n",
    "    newradius=t*cc.c*u+dbh_radius\n",
    "    dilution=(dbh_radius/newradius)**(3)\n",
    "    density=(dbh*dilution.si).si\n",
    "    # fraction of standard atmospherica pressure\n",
    "    numatm=(density/hydrogenatom/oneATM_atoms).si\n",
    "    # number of atoms per cubic meter\n",
    "    numatm_cubic_meter=(density/hydrogenatom).si\n",
    "    return numatm,numatm_cubic_meter\n",
    "\n",
    "def vofsoundU(t,u):\n",
    "    x=densityU(t,u)\n",
    "    x0=[9.03083293e-02, 2.51374470e+02, 2.84174970e-01, 1.14265286e-01]\n",
    "    return np.sqrt(f(x.value, x0))\n",
    "    "
   ]
  },
  {
   "cell_type": "code",
   "execution_count": 3,
   "metadata": {},
   "outputs": [
    {
     "data": {
      "text/plain": [
       "(<Quantity 133164.43481855 MeV / fm3>,\n",
       " 0.5773502691896257,\n",
       " <Quantity 121.51863331 3.16881e-08 lyr>)"
      ]
     },
     "execution_count": 3,
     "metadata": {},
     "output_type": "execute_result"
    }
   ],
   "source": [
    "# Blackholium 4D Radius = 121.52 light-seconds= 36E6km\n",
    "# density and sound velocity of the Blackholium\n",
    "densityU(0,uu.s), vofsoundU(0,uu.s), BlackholiumRadiusinLightSeconds"
   ]
  },
  {
   "cell_type": "code",
   "execution_count": 4,
   "metadata": {},
   "outputs": [
    {
     "data": {
      "text/plain": [
       "(<Quantity 133164.43481855 MeV / fm3>, <Quantity 133164.43481855 MeV / fm3>)"
      ]
     },
     "execution_count": 4,
     "metadata": {},
     "output_type": "execute_result"
    }
   ],
   "source": [
    "densityU(0,uu.year), (dbh* cc.c**2).to(\"MeV/fm**3\")"
   ]
  },
  {
   "cell_type": "markdown",
   "metadata": {},
   "source": [
    "# Big Bang Radius and Time"
   ]
  },
  {
   "cell_type": "code",
   "execution_count": 5,
   "metadata": {},
   "outputs": [
    {
     "data": {
      "text/plain": [
       "(<Quantity 926.96899517 3.16881e-08 lyr>, <Quantity 805.45036186 s>)"
      ]
     },
     "execution_count": 5,
     "metadata": {},
     "output_type": "execute_result"
    }
   ],
   "source": [
    "densityBigBang=300*uu.MeV/uu.fm**3\n",
    "BigBangDilution=(dbhMev_fm3/densityBigBang)**(1/3)\n",
    "BigBangRadius=BigBangDilution*BlackholiumRadiusinLightSeconds\n",
    "BigBangTime=(((BigBangDilution-1)*BlackholiumRadiusinLightSeconds)/cc.c).to(\"s\")\n",
    "BigBangRadius, BigBangTime"
   ]
  },
  {
   "cell_type": "markdown",
   "metadata": {},
   "source": [
    "##### cc.c.si, uu.lyr.si, np.pi, cc.G.si"
   ]
  },
  {
   "cell_type": "markdown",
   "metadata": {},
   "source": [
    "# Calculation of the energy available for the Many-Bangs"
   ]
  },
  {
   "cell_type": "markdown",
   "metadata": {},
   "source": [
    "$$ volume(n, \\phi) = \\frac{ 2*\\pi^{(\\frac{n-1}{2})}*\\int_{0}^{\\pi}{sin(x)^{(n - 2)}dx}}{\\Gamma(\\frac{n-1}{2})}R^3 $$\n",
    "\n",
    "#  I will consider the volume of the Visible Universe only (1 radian as opposed to pi radians)"
   ]
  },
  {
   "cell_type": "code",
   "execution_count": 6,
   "metadata": {},
   "outputs": [],
   "source": [
    "from scipy.special import gamma\n",
    "import scipy.integrate as integrate\n",
    "\n",
    "def volumeCalc(n,phi,r):\n",
    "    return 2*np.pi**((n-1)/2)*r**3/gamma((n-1)/2)*integrate.quad(lambda x: np.sin(x)**int(n-2), 0,phi)[0]"
   ]
  },
  {
   "cell_type": "code",
   "execution_count": 7,
   "metadata": {},
   "outputs": [
    {
     "data": {
      "text/plain": [
       "(<Quantity 4.16478414e+22>,\n",
       " <Quantity 0.0408138>,\n",
       " <Quantity 4.16478414e+66 J>,\n",
       " <Quantity 4.36387214e+33 N / m2>,\n",
       " <Quantity 9.54378131e+32 m3>,\n",
       " 3.4265431911359228)"
      ]
     },
     "execution_count": 7,
     "metadata": {},
     "output_type": "execute_result"
    }
   ],
   "source": [
    "\n",
    "\n",
    "# I will consider the volume of the Visible Universe only (1 radian as opposed to pi radians)\n",
    "\n",
    "r=dbh_radius\n",
    "#Universe Volume\n",
    "# volume(4,1 radian)= 3.426543192*r**3\n",
    "volume=volumeCalc(4,np.pi,dbh_radius).to('m**3')\n",
    "\n",
    "# Unit cell volume 0.19 femtometer side\n",
    "cell = 4/3*np.pi*(0.19e-15*uu.m)**3\n",
    "# Number of Neutrons  = 2.5e+79\n",
    "NumberOfNeutrons=volume/cell\n",
    "MassOfVisibleUniverse=NumberOfNeutrons*cc.m_n\n",
    "\n",
    "# Energy available\n",
    "energyPerNeutron= 0.78254809*uu.MeV\n",
    "Energy= NumberOfNeutrons*energyPerNeutron # 4.5E78MeV = 7.2E65 Joules\n",
    "EnergyPerSupernova=1E51*uu.erg\n",
    "velocityAvg= np.sqrt(2*Energy.to(uu.joule)/MassOfVisibleUniverse) # 0.04081379 c\n",
    "BigBangVolume=volume\n",
    "densityBigBang=(MassOfVisibleUniverse/BigBangVolume).si\n",
    "BigBang=Energy.to('erg')/EnergyPerSupernova\n",
    "BigBang, (velocityAvg/cc.c).si, Energy.to(\"J\"), (Energy.si/BigBangVolume).si, volume, volumeCalc(4,1,1)"
   ]
  },
  {
   "cell_type": "markdown",
   "metadata": {},
   "source": [
    "# So the Big Bang was like 4.2E22 Supernovae explosions of 1E51 Ergs each\n",
    "# Total Energy 4.2E66 Joules or 9.54E32 Joules/m^3"
   ]
  },
  {
   "cell_type": "code",
   "execution_count": 8,
   "metadata": {},
   "outputs": [
    {
     "data": {
      "text/plain": [
       "(<Quantity 1.87614116e-06>, <Quantity 0.00083288>)"
      ]
     },
     "execution_count": 8,
     "metadata": {},
     "output_type": "execute_result"
    }
   ],
   "source": [
    "# Mass converted into energy per meter\n",
    "m0=(9.83E30*uu.J/cc.c**2).si\n",
    "# total mass in a meter\n",
    "m1=densityBigBang*uu.m**3\n",
    "# Fraction of the total mass into energy\n",
    "fractionToEnergy=m0/m1\n",
    "fractionToEnergy, (energyPerNeutron/(cc.m_n*cc.c**2)).si"
   ]
  },
  {
   "cell_type": "markdown",
   "metadata": {},
   "source": [
    "$$ \\frac{{P\\left( {n,{\\text{ }}x} \\right)}}{{{n_0}{\\text{ }}{T_0}{\\text{ }}}}{\\text{ }} = {\\text{ }}\\frac{x}{{{T_0}}}\\left( {Mp - Mn} \\right){\\left( {\\frac{n}{{{n_0}}}} \\right)^2} + \\frac{2}{5}[{x^{5/3}} + {\\text{ }}{(1 - x)^{5/3}}]{(\\frac{{2n}}{{{n_0}}})^{2/3}} - [(2\\alpha  - 4{\\alpha _L})x(1 - x){\\text{ }} + {\\alpha _L}]{\\left( {\\frac{n}{{{n_0}}}} \\right)^2} + {\\text{ }}\\gamma [(2\\eta  - 4{\\eta _L})x(1 - x){\\text{ }} + {\\eta _L}]{(\\frac{n}{{{n_0}}})^{\\gamma  + 1}} $$\n",
    "\n",
    "$$ \\frac{{\\varepsilon (n,x)}}{{{T_0}}} = \\frac{x}{{{T_0}}}\\left( {Mp - Mn} \\right)\\frac{n}{{{n_0}}} + \\frac{3}{5}[{x^{5/3}} + {\\text{ }}{(1 - x)^{5/3}}]{(\\frac{{2n}}{{{n_0}}})^{2/3}} - [(2\\alpha  - 4{\\alpha _L})x(1 - x){\\text{ }} + {\\alpha _L}]\\frac{n}{{{n_0}}} + {\\text{ }}[(2\\eta  - 4{\\eta _L})x(1 - x){\\text{ }} + {\\eta _L}]{(\\frac{n}{{{n_0}}})^\\gamma } $$\n",
    "\n",
    "$$ \\frac{{\\varepsilon (n,0)}}{{{T_0}}} = \\frac{3}{5}{(\\frac{{2n}}{{{n_0}}})^{2/3}}{\\text{ }} + {\\alpha _L}\\frac{n}{{{n_0}}} + {\\text{ }}{\\eta _L}{(\\frac{n}{{{n_0}}})^\\gamma } $$\n",
    "\n",
    "$$ {T_0}{\\text{ }} = {\\text{ }}{\\left( {\\frac{{3{\\pi ^{\\text{2}}}{n_0}}}{2}} \\right)^{\\frac{2}{3}}}\\frac{{{\\hbar ^2}}}{{2m}} $$"
   ]
  },
  {
   "cell_type": "code",
   "execution_count": 9,
   "metadata": {},
   "outputs": [
    {
     "data": {
      "text/plain": [
       "(0.0, 1.0)"
      ]
     },
     "execution_count": 9,
     "metadata": {},
     "output_type": "execute_result"
    },
    {
     "data": {
      "image/png": "[encoded data removed]",
      "text/plain": [
       "<Figure size 432x288 with 1 Axes>"
      ]
     },
     "metadata": {
      "needs_background": "light"
     },
     "output_type": "display_data"
    }
   ],
   "source": [
    "# α = 5.87, η = 3.81\n",
    "\n",
    "gamma= 4/3\n",
    "d_units=1/uu.fm**3\n",
    "n0= (0.16/uu.fm**3).to(d_units) #  neutrons per uu.fm**3\n",
    "T0=((3*np.pi**2*n0/2)**(2/3)*cc.hbar**2/2/cc.m_p).to(\"MeV\")\n",
    "n0T0=n0*T0\n",
    "# alpha= 4.87\n",
    "# alphaL= 1.4\n",
    "# nL= 0.875\n",
    "# neta=3.81\n",
    "\n",
    "\n",
    "def Pressure(xx, frac,neta, alpha,alphaL,nL,T0, gamma,n0):\n",
    "    y=xx\n",
    "    x=frac\n",
    "    mp=(cc.m_p*cc.c**2).to(\"MeV\")\n",
    "    mn=(cc.m_n*cc.c**2).to(\"MeV\")\n",
    "    A0=x*(mn-mp)/T0*y**2\n",
    "    A=2/5*(x**(5/3)+(1-x)**(5/3))*(2*y)**(5/3)\n",
    "    B=-((2*alpha-4*alphaL)*x*(1-x)+alphaL)*y**2\n",
    "    C=gamma*((2*neta-4*nL)*x*(1-x)+nL)*y**(gamma+1)\n",
    "    return (A0+A+B+C)*n0*T0\n",
    "\n",
    "def KE(xx, frac,neta,alpha,alphaL,nL,T0,gamma):\n",
    "    y=xx\n",
    "    x=frac\n",
    "    mp=(cc.m_p*cc.c**2).to(\"MeV\")\n",
    "    mn=(cc.m_n*cc.c**2).to(\"MeV\")\n",
    "    A0=x*(mn-mp)/T0*y\n",
    "    A=3/5*2**(2/3)*(x**(5/3)+(1-x)**(5/3))*(y)**(2/3)\n",
    "    B=-((2*alpha-4*alphaL)*x*(1-x)+alphaL)*y\n",
    "    C=gamma*((2*neta-4*nL)*x*(1-x)+nL)*y**gamma\n",
    "    return (A0+A+B+C)*neta*T0\n",
    "\n",
    "def dKE(xx, frac,neta,alpha,alphaL,nL,T0,gamma):\n",
    "    y=xx\n",
    "    x=frac\n",
    "    mp=(cc.m_p*cc.c**2).to(\"MeV\")\n",
    "    mn=(cc.m_n*cc.c**2).to(\"MeV\")\n",
    "    A0=x*(mn-mp)/T0\n",
    "    A=3/5*2/3*2**(2/3)*(x**(5/3)+(1-x)**(5/3))*(y)**(-1/3)\n",
    "    B=-((2*alpha-4*alphaL)*x*(1-x)+alphaL)\n",
    "    C=gamma*((2*neta-4*nL)*x*(1-x)+nL)*y**(gamma-1)*gamma\n",
    "    return (A0+A+B+C)*neta*T0\n",
    "\n",
    "def dKEx(y, frac,neta,alpha,alphaL,nL,T0,gamma,n0):\n",
    "    x=frac\n",
    "    mp=(cc.m_p*cc.c**2).to(\"MeV\")\n",
    "    mn=(cc.m_n*cc.c**2).to(\"MeV\")\n",
    "    A0=(mn-mp)/T0\n",
    "    A=2**(2/3)*(x**(2/3)-(1-x)**(2/3))*(y)**(2/3)\n",
    "    B=-(2*alpha-4*alphaL)*(1-2*x)*y\n",
    "    C=gamma*((2*neta-4*nL)*(1-2*x)+nL)*y**gamma\n",
    "    return (A0+A+B+C)*neta*T0\n",
    "\n",
    "\n",
    "def ddKE(xx, frac,neta,alpha,alphaL,nL,T0,gamma):\n",
    "    y=xx\n",
    "    x=frac\n",
    "    mp=(cc.m_p*cc.c**2).to(\"MeV\")\n",
    "    mn=(cc.m_n*cc.c**2).to(\"MeV\")\n",
    "    A=3/5*(x**(5/3)+(1-x)**(5/3))*(2*y)**(-4/3)*2/3*(-1/3)\n",
    "    C=gamma*((2*neta-4*nL)*x*(1-x)+nL)*y**(gamma-2)*gamma*(gamma-1)\n",
    "    return (A+C)*neta*T0\n",
    "\n",
    "\n",
    "def findx(y,frac,neta,alpha,alphaL,nL,T0,gamma,n0):\n",
    "    A=Pressure(y, frac,neta, alpha,alphaL,nL,T0, gamma,n0)/n0/T0\n",
    "    B=y/T0/(5/3)*(2*y*dKE(y, frac,neta,alpha,alphaL,nL,T0,gamma) + \n",
    "                     y**2*ddKE(y, frac,neta,alpha,alphaL,nL,T0,gamma))\n",
    "    return A-B\n",
    "\n",
    "\n",
    "\n",
    "def findy(y,frac,neta,alpha,alphaL,nL,T0,gamma,n0):\n",
    "    mue=15*uu.MeV\n",
    "    mp=(cc.m_p*cc.c**2).to(\"MeV\")\n",
    "    mn=(cc.m_n*cc.c**2).to(\"MeV\")\n",
    "    return dKEx(y, frac,neta, alpha,alphaL,nL,T0, gamma,n0)-mue+(mn-mp)\n",
    "\n",
    "\n",
    "\n",
    "# xx=np.linspace(0., 1, 100)\n",
    "# yy00=findy(y=xx, frac=0.0,neta=neta,alpha=alpha,alphaL=alphaL,nL=nL,T0=T0, gamma=gamma,n0=n0)\n",
    "\n",
    "# plt.plot(xx,yy00) \n",
    "# plt.gca().set_xlim(0,(1-vv)/20)\n",
    "# plt.gca().set_ylim(-2000,0)\n",
    "# plt.plot(xx,yy05)\n",
    "# plt.plot(xx,yy10-yy00)\n",
    "\n",
    "\n",
    "\n",
    "alpha= 5.3\n",
    "alphaL= 1.2\n",
    "nL= 0.875\n",
    "neta=3.81\n",
    "\n",
    "df={}\n",
    "x0=3\n",
    "for frac in np.linspace(0,1,100):\n",
    "    root = scipy.optimize.root(findy,x0=x0, args = (frac,neta,alpha,alphaL,nL,T0,gamma,n0))\n",
    "    x0=root.x[0]\n",
    "    df[frac]=x0\n",
    "    \n",
    "df1=pd.DataFrame.from_dict(df, orient=\"index\")\n",
    "df1[\"Proton Fraction\"]=df1.index\n",
    "df1.columns=[\"Proton Fraction\", \"n/n0\"]\n",
    "ax=df1.plot(x=\"Proton Fraction\", y=\"n/n0\", xlim=[0,1], ylim=[0,1.5], title=\"Neutronium Decay\", legend=False)\n",
    "ax.set_ylabel(\"n/n0\")\n",
    "ax.set_ylim([0,1])"
   ]
  },
  {
   "cell_type": "code",
   "execution_count": 10,
   "metadata": {},
   "outputs": [
    {
     "data": {
      "text/latex": [
       "$[-109943.24,~-130826.31,~-153835.99,~\\dots,~-77116142,~-77982970,~-78855365] \\; \\mathrm{}$"
      ],
      "text/plain": [
       "<Quantity [  -109943.23573429,   -130826.30912694,   -153835.99030011,\n",
       "             -179026.22740534,   -206448.66259482,   -236152.86390286,\n",
       "             -268186.52190614,   -302595.61812866,   -339424.57049216,\n",
       "             -378716.35990809,   -420512.6412193 ,   -464853.84103561,\n",
       "             -511779.24450303,   -561327.07265849,   -613534.55172058,\n",
       "             -668437.97542899,   -726072.76135732,   -786473.50197253,\n",
       "             -849674.01109254,   -915707.36629354,   -984605.94773764,\n",
       "            -1056401.47382351,  -1131125.03400696,  -1208807.11909157,\n",
       "            -1289477.64925003,  -1373166.00000362,  -1459901.026359  ,\n",
       "            -1549711.08527747,  -1642624.05663108,  -1738667.36278234,\n",
       "            -1837867.98690876,  -1940252.49018047,  -2045847.02788717,\n",
       "            -2154677.36460097,  -2266768.88845257,  -2382146.62459053,\n",
       "            -2500835.24788669,  -2622859.09494442,  -2748242.17546147,\n",
       "            -2877008.18299395,  -3009180.50516421,  -3144782.23335124,\n",
       "            -3283836.17189905,  -3426364.84687541,  -3572390.51441055,\n",
       "            -3721935.16864309,  -3875020.54929814,  -4031668.14892065,\n",
       "            -4191899.21978518,  -4355734.78050161,  -4523195.62233506,\n",
       "            -4694302.31525656,  -4869075.21374009,  -5047534.4623204 ,\n",
       "            -5229700.00092495,  -5415591.56999237,  -5605228.7153891 ,\n",
       "            -5798630.79313493,  -5995816.97394749,  -6196806.2476152 ,\n",
       "            -6401617.42720737,  -6610269.15312963,  -6822779.89703254,\n",
       "            -7039167.96558049,  -7259451.50408768,  -7483648.50002755,\n",
       "            -7711776.78642164,  -7943854.04511355,  -8179897.80993316,\n",
       "            -8419925.46975626,  -8663954.27146418,  -8912001.32280792,\n",
       "            -9164083.5951809 ,  -9420217.92630439,  -9680421.02282926,\n",
       "            -9944709.46285763, -10213099.69838782, -10485608.05768568,\n",
       "           -10762250.7475854 , -11043043.8557226 , -11328003.35270241,\n",
       "           -11617145.09420517, -11910484.82303214, -12208038.17109349,\n",
       "           -12509820.66134098, -12815847.70964718, -13126134.62663345,\n",
       "           -13440696.61944841, -13759548.79349888, -14082706.1541349 ,\n",
       "           -14410183.60829055, -14741995.96608213, -15078157.94236526,\n",
       "           -15418684.15825217, -15763589.14259085, -16112887.33340704,\n",
       "           -16466593.07931067, -16824720.64086757, -17187284.19193801,\n",
       "           -17554297.82098283, -17925775.53233844, -18301731.2474616 ,\n",
       "           -18682178.80614504, -19067131.96770469, -19456604.41213971,\n",
       "           -19850609.74126575, -20249161.47982279, -20652273.07655782,\n",
       "           -21059957.90528361, -21472229.26591392, -21889100.38547606,\n",
       "           -22310584.41910146, -22736694.45099481, -23167443.49538259,\n",
       "           -23602844.49744129, -24042910.33420622, -24487653.81546124,\n",
       "           -24937087.68461016, -25391224.61953008, -25850077.23340741,\n",
       "           -26313658.07555689, -26781979.63222416, -27255054.32737242,\n",
       "           -27732894.52345323, -28215512.52216255, -28702920.56518163,\n",
       "           -29195130.83490385, -29692155.45514735, -30194006.4918543 ,\n",
       "           -30700695.95377659, -31212235.79314891, -31728637.90634912,\n",
       "           -32249914.13454623, -32776076.26433682, -33307136.02836921,\n",
       "           -33843105.1059569 , -34383995.12368058, -34929817.65597929,\n",
       "           -35480584.22573132, -36036306.30482458, -36596995.31471699,\n",
       "           -37162662.62698725, -37733319.56387587, -38308977.39881681,\n",
       "           -38889647.35696021, -39475340.61568621, -40066068.30510978,\n",
       "           -40661841.50857754, -41262671.26315576, -41868568.56011073,\n",
       "           -42479544.34538092, -43095609.52004141, -43716774.94076094,\n",
       "           -44343051.42025131, -44974449.7277098 , -45610980.58925418,\n",
       "           -46252654.68835121, -46899482.66623805, -47551475.12233707,\n",
       "           -48208642.61466444, -48870995.660232  , -49538544.73544326,\n",
       "           -50211300.27648304, -50889272.67970133, -51572472.30199133,\n",
       "           -52260909.46116174, -52954594.43630324, -53653537.46815001,\n",
       "           -54357748.75943543, -55067238.47524264, -55782016.74335013,\n",
       "           -56502093.65457203, -57227479.26309368, -57958183.58680215,\n",
       "           -58694216.60761216, -59435588.27178742, -60182308.49025699,\n",
       "           -60934387.13892781, -61691834.05899218, -62454659.05723151,\n",
       "           -63222871.90631524, -63996482.34509638, -64775500.07890223,\n",
       "           -65559934.77982158, -66349796.08698778, -67145093.60685822,\n",
       "           -67945836.91348971, -68752035.54881032, -69563699.02288772,\n",
       "           -70380836.81419373, -71203458.36986557, -72031573.10596333,\n",
       "           -72865190.40772466, -73704319.62981549, -74548970.09657793,\n",
       "           -75399151.10227486, -76254871.9113313 , -77116141.75857279,\n",
       "           -77982969.84946065, -78855365.3603244 ]>"
      ]
     },
     "execution_count": 10,
     "metadata": {},
     "output_type": "execute_result"
    }
   ],
   "source": [
    "frac=0.7\n",
    "findx(x,frac,neta,alpha,alphaL,nL,T0,gamma,n0)"
   ]
  },
  {
   "cell_type": "code",
   "execution_count": 11,
   "metadata": {},
   "outputs": [
    {
     "name": "stdout",
     "output_type": "stream",
     "text": [
      "r0= 121.51863331225826 3.16881e-08 lyr \n",
      " r1= 916.8924471507497 3.16881e-08 lyr \n",
      " r2= 1684.414450040062 3.16881e-08 lyr \n",
      " radiusAtTransparency= 10685830646844.633 3.16881e-08 lyr\n"
     ]
    }
   ],
   "source": [
    "densityPreBigBang=310*uu.MeV/uu.fm**3\n",
    "PreBigBangDilution=(dbhMev_fm3/densityPreBigBang)**(1/3)\n",
    "PreBigBangRadius=PreBigBangDilution*BlackholiumRadiusinLightSeconds\n",
    "PreBigBangTime=(((BigBangDilution-1)*BlackholiumRadiusinLightSeconds)/cc.c).to(\"s\")\n",
    "\n",
    "densityPosBigBang=50*uu.MeV/uu.fm**3\n",
    "PosBigBangDilution=(dbhMev_fm3/densityPosBigBang)**(1/3)\n",
    "PosBigBangRadius=PosBigBangDilution*BlackholiumRadiusinLightSeconds\n",
    "PosBigBangTime=(((PosBigBangDilution-1)*BlackholiumRadiusinLightSeconds)/cc.c).to(\"s\")\n",
    "\n",
    "CMB_Peak=1.168E-3*uu.eV\n",
    "z=13.6*3.5*uu.eV/CMB_Peak\n",
    "\n",
    "radiusAtTransparency=(RR/(z+1)).to(ls)\n",
    "transparencyTime=(radiusAtTransparency/cc.c).to('yr')\n",
    "\n",
    "r0=BlackholiumRadiusinLightSeconds\n",
    "r1=PreBigBangRadius\n",
    "r2=PosBigBangRadius\n",
    "r0,r1,r2, radiusAtTransparency, PreBigBangTime,PosBigBangTime, transparencyTime, z\n",
    "print(\"r0=\",r0,\"\\n\",\"r1=\",r1,\"\\n\",\"r2=\",r2,\"\\n\", \"radiusAtTransparency=\",radiusAtTransparency)"
   ]
  },
  {
   "cell_type": "code",
   "execution_count": 12,
   "metadata": {},
   "outputs": [
    {
     "data": {
      "text/latex": [
       "$1.582959 \\times 10^{30} \\; \\mathrm{}$"
      ],
      "text/plain": [
       "<Quantity 1.58295903e+30>"
      ]
     },
     "execution_count": 12,
     "metadata": {},
     "output_type": "execute_result"
    }
   ],
   "source": [
    "dilutionAtTransparency=(radiusAtTransparency/r1)**3\n",
    "dilutionAtTransparency"
   ]
  },
  {
   "cell_type": "code",
   "execution_count": 13,
   "metadata": {},
   "outputs": [
    {
     "data": {
      "text/plain": [
       "0.7099759466766968"
      ]
     },
     "execution_count": 13,
     "metadata": {},
     "output_type": "execute_result"
    }
   ],
   "source": [
    "5**(1/3)-1\n",
    "\n",
    "\n"
   ]
  },
  {
   "cell_type": "code",
   "execution_count": 14,
   "metadata": {},
   "outputs": [
    {
     "data": {
      "text/plain": [
       "{0.0: 1.3149638543269855,\n",
       " 0.010101010101010102: 1.2821201766387682,\n",
       " 0.020202020202020204: 1.2611016056325508,\n",
       " 0.030303030303030304: 1.2424454579530462,\n",
       " 0.04040404040404041: 1.224924241859107,\n",
       " 0.05050505050505051: 1.208028271329668,\n",
       " 0.06060606060606061: 1.191480729203067,\n",
       " 0.07070707070707072: 1.175107395275868,\n",
       " 0.08080808080808081: 1.1587873141288068,\n",
       " 0.09090909090909091: 1.1424301945214608,\n",
       " 0.10101010101010102: 1.1259646770699003,\n",
       " 0.11111111111111112: 1.1093316728172857,\n",
       " 0.12121212121212122: 1.0924803147172233,\n",
       " 0.13131313131313133: 1.0753653613814662,\n",
       " 0.14141414141414144: 1.057945458194463,\n",
       " 0.15151515151515152: 1.0401819306343816,\n",
       " 0.16161616161616163: 1.0220379228061331,\n",
       " 0.17171717171717174: 1.003477769335845,\n",
       " 0.18181818181818182: 0.9844665318502662,\n",
       " 0.19191919191919193: 0.9649696572057858,\n",
       " 0.20202020202020204: 0.9449527310738954,\n",
       " 0.21212121212121213: 0.9243813115435372,\n",
       " 0.22222222222222224: 0.903220835396561,\n",
       " 0.23232323232323235: 0.881436596050753,\n",
       " 0.24242424242424243: 0.8589937977506797,\n",
       " 0.25252525252525254: 0.8358576960639386,\n",
       " 0.26262626262626265: 0.8119938406261779,\n",
       " 0.27272727272727276: 0.7873684428418684,\n",
       " 0.2828282828282829: 0.7619488993626344,\n",
       " 0.29292929292929293: 0.7357045121375564,\n",
       " 0.30303030303030304: 0.7086074582094231,\n",
       " 0.31313131313131315: 0.6806340777851153,\n",
       " 0.32323232323232326: 0.6517665679403396,\n",
       " 0.33333333333333337: 0.6219951918645814,\n",
       " 0.3434343434343435: 0.5913211393719224,\n",
       " 0.3535353535353536: 0.5597602015352876,\n",
       " 0.36363636363636365: 0.5273474457262525,\n",
       " 0.37373737373737376: 0.4941430861187414,\n",
       " 0.38383838383838387: 0.4602397171034518,\n",
       " 0.393939393939394: 0.42577097269756986,\n",
       " 0.4040404040404041: 0.39092142415147846,\n",
       " 0.4141414141414142: 0.35593702126483345,\n",
       " 0.42424242424242425: 0.3211344768147162,\n",
       " 0.43434343434343436: 0.2869065698946764,\n",
       " 0.4444444444444445: 0.25371850153919445,\n",
       " 0.4545454545454546: 0.22208889020322178,\n",
       " 0.4646464646464647: 0.19254955595162518,\n",
       " 0.4747474747474748: 0.1655835859786029,\n",
       " 0.48484848484848486: 0.1415524410481092,\n",
       " 0.494949494949495: 0.12063527933130172,\n",
       " 0.5050505050505051: 0.10280602364295274,\n",
       " 0.5151515151515152: 0.08785861865797608,\n",
       " 0.5252525252525253: 0.0754673006944203,\n",
       " 0.5353535353535354: 0.06525526948502501,\n",
       " 0.5454545454545455: 0.056849718156682896,\n",
       " 0.5555555555555556: 0.049914865365287,\n",
       " 0.5656565656565657: 0.0441656079608136,\n",
       " 0.5757575757575758: 0.03936857263131508,\n",
       " 0.5858585858585859: 0.0353368078544082,\n",
       " 0.595959595959596: 0.03192225042808948,\n",
       " 0.6060606060606061: 0.02900817362525895,\n",
       " 0.6161616161616162: 0.026502561045296903,\n",
       " 0.6262626262626263: 0.024332666156191212,\n",
       " 0.6363636363636365: 0.022440702996461163,\n",
       " 0.6464646464646465: 0.020780498684769267,\n",
       " 0.6565656565656566: 0.01931491834501019,\n",
       " 0.6666666666666667: 0.018013891633625663,\n",
       " 0.6767676767676768: 0.016852900202858546,\n",
       " 0.686868686868687: 0.01581181549223711,\n",
       " 0.696969696969697: 0.014874002018654513,\n",
       " 0.7070707070707072: 0.014025621963477062,\n",
       " 0.7171717171717172: 0.013255092773061621,\n",
       " 0.7272727272727273: 0.012552661531432396,\n",
       " 0.7373737373737375: 0.011910068879403482,\n",
       " 0.7474747474747475: 0.01132028197167167,\n",
       " 0.7575757575757577: 0.010777280962286934,\n",
       " 0.7676767676767677: 0.010275887233268648,\n",
       " 0.7777777777777778: 0.009811624363297312,\n",
       " 0.787878787878788: 0.009380604919201391,\n",
       " 0.797979797979798: 0.008979437723045035,\n",
       " 0.8080808080808082: 0.008605151434378275,\n",
       " 0.8181818181818182: 0.008255131187476733,\n",
       " 0.8282828282828284: 0.007927065707886843,\n",
       " 0.8383838383838385: 0.007618902852678843,\n",
       " 0.8484848484848485: 0.00732881191124957,\n",
       " 0.8585858585858587: 0.00705515129351505,\n",
       " 0.8686868686868687: 0.006796440435051888,\n",
       " 0.8787878787878789: 0.006551334869055939,\n",
       " 0.888888888888889: 0.006318603444518472,\n",
       " 0.8989898989898991: 0.006097106579199496,\n",
       " 0.9090909090909092: 0.0058857741551580954,\n",
       " 0.9191919191919192: 0.005683581039173478,\n",
       " 0.9292929292929294: 0.0054895168881460964,\n",
       " 0.9393939393939394: 0.005302544024226849,\n",
       " 0.9494949494949496: 0.005121530449508209,\n",
       " 0.9595959595959597: 0.004945127591403416,\n",
       " 0.9696969696969697: 0.004771509219075956,\n",
       " 0.9797979797979799: 0.0045976837569786985,\n",
       " 0.98989898989899: 0.004416911549350291,\n",
       " 1.0: 0.0041775295095754904}"
      ]
     },
     "execution_count": 14,
     "metadata": {},
     "output_type": "execute_result"
    }
   ],
   "source": [
    "df"
   ]
  },
  {
   "cell_type": "code",
   "execution_count": 15,
   "metadata": {},
   "outputs": [
    {
     "data": {
      "text/latex": [
       "$1.6740418 \\times 10^{-27} \\; \\mathrm{kg}$"
      ],
      "text/plain": [
       "<Quantity 1.67404182e-27 kg>"
      ]
     },
     "execution_count": 15,
     "metadata": {},
     "output_type": "execute_result"
    }
   ],
   "source": [
    "T0=36.84*uu.MeV\n",
    "n0=0.16/uu.fm**3\n",
    "((3/2*np.pi**2*n0)**(2/3)*cc.hbar**2/2/T0).si"
   ]
  },
  {
   "cell_type": "code",
   "execution_count": 16,
   "metadata": {},
   "outputs": [
    {
     "data": {
      "text/latex": [
       "$1.6749275 \\times 10^{-27} \\; \\mathrm{kg}$"
      ],
      "text/plain": [
       "<Quantity 1.67492747e-27 kg>"
      ]
     },
     "execution_count": 16,
     "metadata": {},
     "output_type": "execute_result"
    }
   ],
   "source": [
    "1.674927471E-27 * uu.kg"
   ]
  },
  {
   "cell_type": "code",
   "execution_count": 17,
   "metadata": {},
   "outputs": [
    {
     "ename": "FileNotFoundError",
     "evalue": "[Errno 2] No such file or directory: './img1/universemap.npy'",
     "output_type": "error",
     "traceback": [
      "\u001b[0;31m---------------------------------------------------------------------------\u001b[0m",
      "\u001b[0;31mFileNotFoundError\u001b[0m                         Traceback (most recent call last)",
      "\u001b[0;32m<ipython-input-17-f1052282f4d9>\u001b[0m in \u001b[0;36m<module>\u001b[0;34m\u001b[0m\n\u001b[0;32m----> 1\u001b[0;31m \u001b[0mdf\u001b[0m \u001b[0;34m=\u001b[0m\u001b[0mpd\u001b[0m\u001b[0;34m.\u001b[0m\u001b[0mDataFrame\u001b[0m\u001b[0;34m(\u001b[0m\u001b[0mnp\u001b[0m\u001b[0;34m.\u001b[0m\u001b[0mload\u001b[0m\u001b[0;34m(\u001b[0m\u001b[0;34m\"./img1/universemap.npy\"\u001b[0m\u001b[0;34m)\u001b[0m\u001b[0;34m,\u001b[0m \u001b[0mcolumns\u001b[0m\u001b[0;34m=\u001b[0m\u001b[0;34m[\u001b[0m\u001b[0;34m\"x\"\u001b[0m\u001b[0;34m,\u001b[0m\u001b[0;34m\"y\"\u001b[0m\u001b[0;34m,\u001b[0m\u001b[0;34m\"z\"\u001b[0m\u001b[0;34m,\u001b[0m\u001b[0;34m\"density\"\u001b[0m\u001b[0;34m]\u001b[0m\u001b[0;34m)\u001b[0m\u001b[0;34m\u001b[0m\u001b[0;34m\u001b[0m\u001b[0m\n\u001b[0m",
      "\u001b[0;32m~/.local/lib/python3.8/site-packages/numpy/lib/npyio.py\u001b[0m in \u001b[0;36mload\u001b[0;34m(file, mmap_mode, allow_pickle, fix_imports, encoding)\u001b[0m\n\u001b[1;32m    415\u001b[0m             \u001b[0mown_fid\u001b[0m \u001b[0;34m=\u001b[0m \u001b[0;32mFalse\u001b[0m\u001b[0;34m\u001b[0m\u001b[0;34m\u001b[0m\u001b[0m\n\u001b[1;32m    416\u001b[0m         \u001b[0;32melse\u001b[0m\u001b[0;34m:\u001b[0m\u001b[0;34m\u001b[0m\u001b[0;34m\u001b[0m\u001b[0m\n\u001b[0;32m--> 417\u001b[0;31m             \u001b[0mfid\u001b[0m \u001b[0;34m=\u001b[0m \u001b[0mstack\u001b[0m\u001b[0;34m.\u001b[0m\u001b[0menter_context\u001b[0m\u001b[0;34m(\u001b[0m\u001b[0mopen\u001b[0m\u001b[0;34m(\u001b[0m\u001b[0mos_fspath\u001b[0m\u001b[0;34m(\u001b[0m\u001b[0mfile\u001b[0m\u001b[0;34m)\u001b[0m\u001b[0;34m,\u001b[0m \u001b[0;34m\"rb\"\u001b[0m\u001b[0;34m)\u001b[0m\u001b[0;34m)\u001b[0m\u001b[0;34m\u001b[0m\u001b[0;34m\u001b[0m\u001b[0m\n\u001b[0m\u001b[1;32m    418\u001b[0m             \u001b[0mown_fid\u001b[0m \u001b[0;34m=\u001b[0m \u001b[0;32mTrue\u001b[0m\u001b[0;34m\u001b[0m\u001b[0;34m\u001b[0m\u001b[0m\n\u001b[1;32m    419\u001b[0m \u001b[0;34m\u001b[0m\u001b[0m\n",
      "\u001b[0;31mFileNotFoundError\u001b[0m: [Errno 2] No such file or directory: './img1/universemap.npy'"
     ]
    }
   ],
   "source": [
    "df =pd.DataFrame(np.load(\"./img1/universemap.npy\"), columns=[\"x\",\"y\",\"z\",\"density\"])"
   ]
  },
  {
   "cell_type": "code",
   "execution_count": null,
   "metadata": {},
   "outputs": [],
   "source": [
    "df.head()"
   ]
  },
  {
   "cell_type": "code",
   "execution_count": null,
   "metadata": {},
   "outputs": [],
   "source": [
    "import glue"
   ]
  },
  {
   "cell_type": "code",
   "execution_count": null,
   "metadata": {},
   "outputs": [],
   "source": [
    "from mpl_toolkits import mplot3d"
   ]
  },
  {
   "cell_type": "code",
   "execution_count": null,
   "metadata": {},
   "outputs": [],
   "source": [
    "# df.to_csv(\"universemap.cvs\")\n",
    "df0 =pd.DataFrame(np.load(\"./img1/universemap.npy\"), columns=[\"x\",\"y\",\"z\",\"density\"])\n",
    "df0.density=(df.density-df.density.median())/df.density.std()"
   ]
  },
  {
   "cell_type": "code",
   "execution_count": null,
   "metadata": {},
   "outputs": [],
   "source": [
    "df = df0[df0.density<0.1]\n",
    "df = df[df.density>-0.1]\n",
    "ax = plt.axes(projection='3d')\n",
    "ax.scatter3D(df.x, df.y, df.z, c=df.density, cmap='viridis',s=0.1, linewidth=0.5);"
   ]
  },
  {
   "cell_type": "code",
   "execution_count": null,
   "metadata": {},
   "outputs": [],
   "source": [
    "df.to_csv(\"universemap.cvs\")"
   ]
  },
  {
   "cell_type": "code",
   "execution_count": null,
   "metadata": {},
   "outputs": [],
   "source": []
  }
 ],
 "metadata": {
  "anaconda-cloud": {},
  "kernelspec": {
   "display_name": "Python [conda env:Cosmo38] *",
   "language": "python",
   "name": "conda-env-Cosmo38-py"
  },
  "language_info": {
   "codemirror_mode": {
    "name": "ipython",
    "version": 3
   },
   "file_extension": ".py",
   "mimetype": "text/x-python",
   "name": "python",
   "nbconvert_exporter": "python",
   "pygments_lexer": "ipython3",
   "version": "3.8.11"
  }
 },
 "nbformat": 4,
 "nbformat_minor": 1
}
