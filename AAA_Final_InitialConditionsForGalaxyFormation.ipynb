{
 "cells": [
  {
   "cell_type": "code",
   "execution_count": null,
   "id": "b00ad5ed-1550-4028-93fc-673e871d5c21",
   "metadata": {},
   "outputs": [],
   "source": [
    "# Initial Galaxy Formation Conditions\n",
    "\n",
    "\n",
    "import numpy as np\n",
    "import pandas as pd\n",
    "import astropy.constants as cc\n",
    "import astropy.units as uu\n",
    "\n",
    "# Constants\n",
    "c = 3e8  # Speed of light in m/s\n",
    "ly_to_m = 9.461e15  # Light year to meters\n",
    "k_B = 1.380649e-23  # Boltzmann constant (J/K)\n",
    "sigma_h = 2e-20  # Approximate cross-section for hydrogen atom (m^2)\n",
    "year = 365*24*3600\n",
    "m_h = (cc.m_p+cc.m_e).si.value\n",
    "\n",
    "# Parameters\n",
    "current_4D_radius_ly = 14.04e9  # Current 4D radius in light years\n",
    "cmb_4D_radius_ly = 11.1e6  # 4D radius at CMB in light years\n",
    "galaxy_form_radius_ly = 200e6  # 4D radius at galaxy formation in light years\n",
    "current_density = 7.25  # Approximate atom density in atoms per m^3\n",
    "initial_temperature = 3443  # Temperature at the CMB in Kelvin\n",
    "\n",
    "# Converting radii to meters\n",
    "current_4D_radius_m = current_4D_radius_ly * ly_to_m\n",
    "cmb_4D_radius_m = cmb_4D_radius_ly * ly_to_m\n",
    "galaxy_form_radius_m = galaxy_form_radius_ly * ly_to_m\n",
    "\n",
    "# Volume changes\n",
    "volume_change_galaxy_to_current = (current_4D_radius_m / galaxy_form_radius_m)**3\n",
    "volume_change_cmb_to_galaxy = (galaxy_form_radius_m / cmb_4D_radius_m)**3\n",
    "\n",
    "# Adiabatic expansion: T ∝ 1/volume^(1/3)\n",
    "temperature_galaxy_form = initial_temperature / volume_change_cmb_to_galaxy**(2/3)\n",
    "v_mean = np.sqrt(3*k_B*temperature_galaxy_form/m_h)\n",
    "# Density changes due to volume expansion\n",
    "density_galaxy_form = current_density * volume_change_galaxy_to_current\n",
    "\n",
    "# Collision rate\n",
    "# Mean free path: lambda = 1 / (n * sigma)\n",
    "mean_free_path = 1 / (density_galaxy_form * sigma_h)\n",
    "collision_rate = v_mean / mean_free_path  # Rate of collisions per second\n",
    "time_between_collisions = 1/collision_rate #(seconds)\n",
    "\n",
    "# Results\n",
    "results = {\n",
    "    \"Temperature at Galaxy Formation (K)\": temperature_galaxy_form,\n",
    "    \"Density at Galaxy Formation (atoms/m^3)\": density_galaxy_form,\n",
    "    \"Mean Free Path (lyr)\": mean_free_path/ly_to_m,\n",
    "    \"Time between collision  (million year)\": time_between_collisions/year/1E6,\n",
    "    \"Mean Absolute Velocity as fraction of c\": v_mean/c,\n",
    "}\n",
    "df = pd.DataFrame.from_dict(results, orient=\"index\", columns=[\"value\"] )\n",
    "print(df)\n"
   ]
  }
 ],
 "metadata": {
  "kernelspec": {
   "display_name": "Python [conda env:Cosmos3020]",
   "language": "python",
   "name": "conda-env-Cosmos3020-py"
  },
  "language_info": {
   "codemirror_mode": {
    "name": "ipython",
    "version": 3
   },
   "file_extension": ".py",
   "mimetype": "text/x-python",
   "name": "python",
   "nbconvert_exporter": "python",
   "pygments_lexer": "ipython3",
   "version": "3.11.9"
  }
 },
 "nbformat": 4,
 "nbformat_minor": 5
}
