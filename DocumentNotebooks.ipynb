{
 "cells": [
  {
   "cell_type": "code",
   "execution_count": null,
   "id": "0fe9d6da",
   "metadata": {},
   "outputs": [],
   "source": [
    "import os\n",
    "import nbformat\n",
    "from nbconvert.preprocessors import ClearOutputPreprocessor\n",
    "\n",
    "# Define the directory containing the notebooks\n",
    "notebooks_dir = \"/mnt/sda1/Dropbox/AAA_Papers_2022_Folder/AAA_CMB_HU_latest_to_git\"\n",
    "\n",
    "# Process each notebook in the directory\n",
    "for filename in os.listdir(notebooks_dir):\n",
    "    if filename.startswith(\"AAA_Final\") and filename.endswith(\".ipynb\"):\n",
    "        filepath = os.path.join(notebooks_dir, filename)\n",
    "        \n",
    "        # Load the notebook\n",
    "        with open(filepath, \"r\", encoding=\"utf-8\") as f:\n",
    "            nb = nbformat.read(f, as_version=4)\n",
    "        \n",
    "        # Clear output cells\n",
    "        ClearOutputPreprocessor().preprocess(nb, {'metadata': {'path': notebooks_dir}})\n",
    "        \n",
    "        # Save the cleared notebook\n",
    "        with open(filepath, \"w\", encoding=\"utf-8\") as f:\n",
    "            nbformat.write(nb, f)\n",
    "            \n",
    "        print(f\"Cleared outputs for {filename}\")\n"
   ]
  },
  {
   "cell_type": "code",
   "execution_count": null,
   "id": "28230280",
   "metadata": {},
   "outputs": [],
   "source": []
  },
  {
   "cell_type": "code",
   "execution_count": null,
   "id": "7878d409",
   "metadata": {},
   "outputs": [],
   "source": []
  },
  {
   "cell_type": "code",
   "execution_count": null,
   "id": "f2e1c16b",
   "metadata": {},
   "outputs": [],
   "source": []
  },
  {
   "cell_type": "code",
   "execution_count": null,
   "id": "80dc44b7",
   "metadata": {},
   "outputs": [],
   "source": []
  }
 ],
 "metadata": {
  "kernelspec": {
   "display_name": "Python [conda env:Cosmos3020]",
   "language": "python",
   "name": "conda-env-Cosmos3020-py"
  },
  "language_info": {
   "codemirror_mode": {
    "name": "ipython",
    "version": 3
   },
   "file_extension": ".py",
   "mimetype": "text/x-python",
   "name": "python",
   "nbconvert_exporter": "python",
   "pygments_lexer": "ipython3",
   "version": "3.11.9"
  }
 },
 "nbformat": 4,
 "nbformat_minor": 5
}
